{
  "nbformat": 4,
  "nbformat_minor": 0,
  "metadata": {
    "colab": {
      "provenance": []
    },
    "kernelspec": {
      "name": "python3",
      "display_name": "Python 3"
    },
    "language_info": {
      "name": "python"
    }
  },
  "cells": [
    {
      "cell_type": "markdown",
      "source": [
        "# **2.0 Data Cleaning**"
      ],
      "metadata": {
        "id": "TqqqcRiODAUv"
      }
    },
    {
      "cell_type": "code",
      "execution_count": 3,
      "metadata": {
        "id": "18-9BQNDDVvw"
      },
      "outputs": [],
      "source": [
        "# Import libraries\n",
        "import pandas as pd\n",
        "import numpy as np\n",
        "import matplotlib.pyplot as plt"
      ]
    },
    {
      "cell_type": "code",
      "source": [
        "# Load the healthcare dataset into a Pandas DataFrame\n",
        "DATA_DIR_1 = \"/content/healthcare data2.csv\"\n",
        "df = pd.read_csv(DATA_DIR_1, header = 0)\n",
        "ori_df = pd.read_csv(DATA_DIR_1, header = 0)"
      ],
      "metadata": {
        "colab": {
          "base_uri": "https://localhost:8080/",
          "height": 17
        },
        "id": "0O-cHoe7GfOQ",
        "outputId": "6bfd95ab-aad2-4fcb-8795-39ae10616e2e"
      },
      "execution_count": 120,
      "outputs": [
        {
          "output_type": "display_data",
          "data": {
            "text/plain": [
              "<IPython.core.display.HTML object>"
            ],
            "text/html": [
              "\n",
              "  <Style>\n",
              "    pre{\n",
              "      white-space: pre-wrapped;\n",
              "    }\n",
              "  </Style>\n",
              "  "
            ]
          },
          "metadata": {}
        },
        {
          "output_type": "display_data",
          "data": {
            "text/plain": [
              "<IPython.core.display.HTML object>"
            ],
            "text/html": [
              "\n",
              "  <Style>\n",
              "    pre{\n",
              "      white-space: pre-wrapped;\n",
              "    }\n",
              "  </Style>\n",
              "  "
            ]
          },
          "metadata": {}
        }
      ]
    },
    {
      "cell_type": "code",
      "source": [
        "# Implement line wrapping\n",
        "from IPython.display import HTML, display\n",
        "def set_css():\n",
        "  display(HTML('''\n",
        "  <Style>\n",
        "    pre{\n",
        "      white-space: pre-wrapped;\n",
        "    }\n",
        "  </Style>\n",
        "  '''))\n",
        "get_ipython().events.register('pre_run_cell', set_css)"
      ],
      "metadata": {
        "id": "llbVqFw0GLs2",
        "colab": {
          "base_uri": "https://localhost:8080/",
          "height": 17
        },
        "outputId": "89d4d5f5-a05a-4c15-8904-60af9b3d31c6"
      },
      "execution_count": 48,
      "outputs": [
        {
          "output_type": "display_data",
          "data": {
            "text/plain": [
              "<IPython.core.display.HTML object>"
            ],
            "text/html": [
              "\n",
              "  <Style>\n",
              "    pre{\n",
              "      white-space: pre-wrapped;\n",
              "    }\n",
              "  </Style>\n",
              "  "
            ]
          },
          "metadata": {}
        }
      ]
    },
    {
      "cell_type": "code",
      "source": [
        "df.head()"
      ],
      "metadata": {
        "colab": {
          "base_uri": "https://localhost:8080/",
          "height": 409
        },
        "id": "uQ-PzaBkG_Lt",
        "outputId": "790e4b63-0d02-46ec-eae3-b61ba620c4eb"
      },
      "execution_count": 49,
      "outputs": [
        {
          "output_type": "display_data",
          "data": {
            "text/plain": [
              "<IPython.core.display.HTML object>"
            ],
            "text/html": [
              "\n",
              "  <Style>\n",
              "    pre{\n",
              "      white-space: pre-wrapped;\n",
              "    }\n",
              "  </Style>\n",
              "  "
            ]
          },
          "metadata": {}
        },
        {
          "output_type": "display_data",
          "data": {
            "text/plain": [
              "<IPython.core.display.HTML object>"
            ],
            "text/html": [
              "\n",
              "  <Style>\n",
              "    pre{\n",
              "      white-space: pre-wrapped;\n",
              "    }\n",
              "  </Style>\n",
              "  "
            ]
          },
          "metadata": {}
        },
        {
          "output_type": "execute_result",
          "data": {
            "text/plain": [
              "   case_id  Hospital_code Hospital_type_code  City_Code_Hospital  \\\n",
              "0        1              8                  c                   3   \n",
              "1        2              2                  c                   5   \n",
              "2        3             10                  e                   1   \n",
              "3        4             26                  b                   2   \n",
              "4        5             26                  b                   2   \n",
              "\n",
              "  Hospital_region_code  Available Extra Rooms in Hospital    Department  \\\n",
              "0                    Z                                  3  radiotherapy   \n",
              "1                    Z                                  2  radiotherapy   \n",
              "2                    X                                  2    anesthesia   \n",
              "3                    Y                                  2  radiotherapy   \n",
              "4                    Y                                  2  radiotherapy   \n",
              "\n",
              "  Ward_Type Ward_Facility_Code  Bed Grade  patientid  City_Code_Patient  \\\n",
              "0         R                  F        2.0      31397                7.0   \n",
              "1         S                  F        2.0      31397                7.0   \n",
              "2         S                  E        2.0      31397                7.0   \n",
              "3         R                  D        2.0      31397                7.0   \n",
              "4         S                  D        2.0      31397                7.0   \n",
              "\n",
              "  Type of Admission Severity of Illness  Visitors with Patient    Age  \\\n",
              "0         Emergency             Extreme                      2  51-60   \n",
              "1            Trauma             Extreme                      2  51-60   \n",
              "2            Trauma             Extreme                      2  51-60   \n",
              "3            Trauma             Extreme                      2  51-60   \n",
              "4            Trauma             Extreme                      2  51-60   \n",
              "\n",
              "   Admission_Deposit   Stay  \n",
              "0             4911.0   0-10  \n",
              "1             5954.0  41-50  \n",
              "2             4745.0  31-40  \n",
              "3             7272.0  41-50  \n",
              "4             5558.0  41-50  "
            ],
            "text/html": [
              "\n",
              "\n",
              "  <div id=\"df-b0b2e4c7-49ea-44f0-bf55-dda05fa3c0ce\">\n",
              "    <div class=\"colab-df-container\">\n",
              "      <div>\n",
              "<style scoped>\n",
              "    .dataframe tbody tr th:only-of-type {\n",
              "        vertical-align: middle;\n",
              "    }\n",
              "\n",
              "    .dataframe tbody tr th {\n",
              "        vertical-align: top;\n",
              "    }\n",
              "\n",
              "    .dataframe thead th {\n",
              "        text-align: right;\n",
              "    }\n",
              "</style>\n",
              "<table border=\"1\" class=\"dataframe\">\n",
              "  <thead>\n",
              "    <tr style=\"text-align: right;\">\n",
              "      <th></th>\n",
              "      <th>case_id</th>\n",
              "      <th>Hospital_code</th>\n",
              "      <th>Hospital_type_code</th>\n",
              "      <th>City_Code_Hospital</th>\n",
              "      <th>Hospital_region_code</th>\n",
              "      <th>Available Extra Rooms in Hospital</th>\n",
              "      <th>Department</th>\n",
              "      <th>Ward_Type</th>\n",
              "      <th>Ward_Facility_Code</th>\n",
              "      <th>Bed Grade</th>\n",
              "      <th>patientid</th>\n",
              "      <th>City_Code_Patient</th>\n",
              "      <th>Type of Admission</th>\n",
              "      <th>Severity of Illness</th>\n",
              "      <th>Visitors with Patient</th>\n",
              "      <th>Age</th>\n",
              "      <th>Admission_Deposit</th>\n",
              "      <th>Stay</th>\n",
              "    </tr>\n",
              "  </thead>\n",
              "  <tbody>\n",
              "    <tr>\n",
              "      <th>0</th>\n",
              "      <td>1</td>\n",
              "      <td>8</td>\n",
              "      <td>c</td>\n",
              "      <td>3</td>\n",
              "      <td>Z</td>\n",
              "      <td>3</td>\n",
              "      <td>radiotherapy</td>\n",
              "      <td>R</td>\n",
              "      <td>F</td>\n",
              "      <td>2.0</td>\n",
              "      <td>31397</td>\n",
              "      <td>7.0</td>\n",
              "      <td>Emergency</td>\n",
              "      <td>Extreme</td>\n",
              "      <td>2</td>\n",
              "      <td>51-60</td>\n",
              "      <td>4911.0</td>\n",
              "      <td>0-10</td>\n",
              "    </tr>\n",
              "    <tr>\n",
              "      <th>1</th>\n",
              "      <td>2</td>\n",
              "      <td>2</td>\n",
              "      <td>c</td>\n",
              "      <td>5</td>\n",
              "      <td>Z</td>\n",
              "      <td>2</td>\n",
              "      <td>radiotherapy</td>\n",
              "      <td>S</td>\n",
              "      <td>F</td>\n",
              "      <td>2.0</td>\n",
              "      <td>31397</td>\n",
              "      <td>7.0</td>\n",
              "      <td>Trauma</td>\n",
              "      <td>Extreme</td>\n",
              "      <td>2</td>\n",
              "      <td>51-60</td>\n",
              "      <td>5954.0</td>\n",
              "      <td>41-50</td>\n",
              "    </tr>\n",
              "    <tr>\n",
              "      <th>2</th>\n",
              "      <td>3</td>\n",
              "      <td>10</td>\n",
              "      <td>e</td>\n",
              "      <td>1</td>\n",
              "      <td>X</td>\n",
              "      <td>2</td>\n",
              "      <td>anesthesia</td>\n",
              "      <td>S</td>\n",
              "      <td>E</td>\n",
              "      <td>2.0</td>\n",
              "      <td>31397</td>\n",
              "      <td>7.0</td>\n",
              "      <td>Trauma</td>\n",
              "      <td>Extreme</td>\n",
              "      <td>2</td>\n",
              "      <td>51-60</td>\n",
              "      <td>4745.0</td>\n",
              "      <td>31-40</td>\n",
              "    </tr>\n",
              "    <tr>\n",
              "      <th>3</th>\n",
              "      <td>4</td>\n",
              "      <td>26</td>\n",
              "      <td>b</td>\n",
              "      <td>2</td>\n",
              "      <td>Y</td>\n",
              "      <td>2</td>\n",
              "      <td>radiotherapy</td>\n",
              "      <td>R</td>\n",
              "      <td>D</td>\n",
              "      <td>2.0</td>\n",
              "      <td>31397</td>\n",
              "      <td>7.0</td>\n",
              "      <td>Trauma</td>\n",
              "      <td>Extreme</td>\n",
              "      <td>2</td>\n",
              "      <td>51-60</td>\n",
              "      <td>7272.0</td>\n",
              "      <td>41-50</td>\n",
              "    </tr>\n",
              "    <tr>\n",
              "      <th>4</th>\n",
              "      <td>5</td>\n",
              "      <td>26</td>\n",
              "      <td>b</td>\n",
              "      <td>2</td>\n",
              "      <td>Y</td>\n",
              "      <td>2</td>\n",
              "      <td>radiotherapy</td>\n",
              "      <td>S</td>\n",
              "      <td>D</td>\n",
              "      <td>2.0</td>\n",
              "      <td>31397</td>\n",
              "      <td>7.0</td>\n",
              "      <td>Trauma</td>\n",
              "      <td>Extreme</td>\n",
              "      <td>2</td>\n",
              "      <td>51-60</td>\n",
              "      <td>5558.0</td>\n",
              "      <td>41-50</td>\n",
              "    </tr>\n",
              "  </tbody>\n",
              "</table>\n",
              "</div>\n",
              "      <button class=\"colab-df-convert\" onclick=\"convertToInteractive('df-b0b2e4c7-49ea-44f0-bf55-dda05fa3c0ce')\"\n",
              "              title=\"Convert this dataframe to an interactive table.\"\n",
              "              style=\"display:none;\">\n",
              "\n",
              "  <svg xmlns=\"http://www.w3.org/2000/svg\" height=\"24px\"viewBox=\"0 0 24 24\"\n",
              "       width=\"24px\">\n",
              "    <path d=\"M0 0h24v24H0V0z\" fill=\"none\"/>\n",
              "    <path d=\"M18.56 5.44l.94 2.06.94-2.06 2.06-.94-2.06-.94-.94-2.06-.94 2.06-2.06.94zm-11 1L8.5 8.5l.94-2.06 2.06-.94-2.06-.94L8.5 2.5l-.94 2.06-2.06.94zm10 10l.94 2.06.94-2.06 2.06-.94-2.06-.94-.94-2.06-.94 2.06-2.06.94z\"/><path d=\"M17.41 7.96l-1.37-1.37c-.4-.4-.92-.59-1.43-.59-.52 0-1.04.2-1.43.59L10.3 9.45l-7.72 7.72c-.78.78-.78 2.05 0 2.83L4 21.41c.39.39.9.59 1.41.59.51 0 1.02-.2 1.41-.59l7.78-7.78 2.81-2.81c.8-.78.8-2.07 0-2.86zM5.41 20L4 18.59l7.72-7.72 1.47 1.35L5.41 20z\"/>\n",
              "  </svg>\n",
              "      </button>\n",
              "\n",
              "\n",
              "\n",
              "    <div id=\"df-5e9cd5ee-d7b6-41f4-8c22-d6f1780da7e1\">\n",
              "      <button class=\"colab-df-quickchart\" onclick=\"quickchart('df-5e9cd5ee-d7b6-41f4-8c22-d6f1780da7e1')\"\n",
              "              title=\"Suggest charts.\"\n",
              "              style=\"display:none;\">\n",
              "\n",
              "<svg xmlns=\"http://www.w3.org/2000/svg\" height=\"24px\"viewBox=\"0 0 24 24\"\n",
              "     width=\"24px\">\n",
              "    <g>\n",
              "        <path d=\"M19 3H5c-1.1 0-2 .9-2 2v14c0 1.1.9 2 2 2h14c1.1 0 2-.9 2-2V5c0-1.1-.9-2-2-2zM9 17H7v-7h2v7zm4 0h-2V7h2v10zm4 0h-2v-4h2v4z\"/>\n",
              "    </g>\n",
              "</svg>\n",
              "      </button>\n",
              "    </div>\n",
              "\n",
              "<style>\n",
              "  .colab-df-quickchart {\n",
              "    background-color: #E8F0FE;\n",
              "    border: none;\n",
              "    border-radius: 50%;\n",
              "    cursor: pointer;\n",
              "    display: none;\n",
              "    fill: #1967D2;\n",
              "    height: 32px;\n",
              "    padding: 0 0 0 0;\n",
              "    width: 32px;\n",
              "  }\n",
              "\n",
              "  .colab-df-quickchart:hover {\n",
              "    background-color: #E2EBFA;\n",
              "    box-shadow: 0px 1px 2px rgba(60, 64, 67, 0.3), 0px 1px 3px 1px rgba(60, 64, 67, 0.15);\n",
              "    fill: #174EA6;\n",
              "  }\n",
              "\n",
              "  [theme=dark] .colab-df-quickchart {\n",
              "    background-color: #3B4455;\n",
              "    fill: #D2E3FC;\n",
              "  }\n",
              "\n",
              "  [theme=dark] .colab-df-quickchart:hover {\n",
              "    background-color: #434B5C;\n",
              "    box-shadow: 0px 1px 3px 1px rgba(0, 0, 0, 0.15);\n",
              "    filter: drop-shadow(0px 1px 2px rgba(0, 0, 0, 0.3));\n",
              "    fill: #FFFFFF;\n",
              "  }\n",
              "</style>\n",
              "\n",
              "    <script>\n",
              "      async function quickchart(key) {\n",
              "        const containerElement = document.querySelector('#' + key);\n",
              "        const charts = await google.colab.kernel.invokeFunction(\n",
              "            'suggestCharts', [key], {});\n",
              "      }\n",
              "    </script>\n",
              "\n",
              "      <script>\n",
              "\n",
              "function displayQuickchartButton(domScope) {\n",
              "  let quickchartButtonEl =\n",
              "    domScope.querySelector('#df-5e9cd5ee-d7b6-41f4-8c22-d6f1780da7e1 button.colab-df-quickchart');\n",
              "  quickchartButtonEl.style.display =\n",
              "    google.colab.kernel.accessAllowed ? 'block' : 'none';\n",
              "}\n",
              "\n",
              "        displayQuickchartButton(document);\n",
              "      </script>\n",
              "      <style>\n",
              "    .colab-df-container {\n",
              "      display:flex;\n",
              "      flex-wrap:wrap;\n",
              "      gap: 12px;\n",
              "    }\n",
              "\n",
              "    .colab-df-convert {\n",
              "      background-color: #E8F0FE;\n",
              "      border: none;\n",
              "      border-radius: 50%;\n",
              "      cursor: pointer;\n",
              "      display: none;\n",
              "      fill: #1967D2;\n",
              "      height: 32px;\n",
              "      padding: 0 0 0 0;\n",
              "      width: 32px;\n",
              "    }\n",
              "\n",
              "    .colab-df-convert:hover {\n",
              "      background-color: #E2EBFA;\n",
              "      box-shadow: 0px 1px 2px rgba(60, 64, 67, 0.3), 0px 1px 3px 1px rgba(60, 64, 67, 0.15);\n",
              "      fill: #174EA6;\n",
              "    }\n",
              "\n",
              "    [theme=dark] .colab-df-convert {\n",
              "      background-color: #3B4455;\n",
              "      fill: #D2E3FC;\n",
              "    }\n",
              "\n",
              "    [theme=dark] .colab-df-convert:hover {\n",
              "      background-color: #434B5C;\n",
              "      box-shadow: 0px 1px 3px 1px rgba(0, 0, 0, 0.15);\n",
              "      filter: drop-shadow(0px 1px 2px rgba(0, 0, 0, 0.3));\n",
              "      fill: #FFFFFF;\n",
              "    }\n",
              "  </style>\n",
              "\n",
              "      <script>\n",
              "        const buttonEl =\n",
              "          document.querySelector('#df-b0b2e4c7-49ea-44f0-bf55-dda05fa3c0ce button.colab-df-convert');\n",
              "        buttonEl.style.display =\n",
              "          google.colab.kernel.accessAllowed ? 'block' : 'none';\n",
              "\n",
              "        async function convertToInteractive(key) {\n",
              "          const element = document.querySelector('#df-b0b2e4c7-49ea-44f0-bf55-dda05fa3c0ce');\n",
              "          const dataTable =\n",
              "            await google.colab.kernel.invokeFunction('convertToInteractive',\n",
              "                                                     [key], {});\n",
              "          if (!dataTable) return;\n",
              "\n",
              "          const docLinkHtml = 'Like what you see? Visit the ' +\n",
              "            '<a target=\"_blank\" href=https://colab.research.google.com/notebooks/data_table.ipynb>data table notebook</a>'\n",
              "            + ' to learn more about interactive tables.';\n",
              "          element.innerHTML = '';\n",
              "          dataTable['output_type'] = 'display_data';\n",
              "          await google.colab.output.renderOutput(dataTable, element);\n",
              "          const docLink = document.createElement('div');\n",
              "          docLink.innerHTML = docLinkHtml;\n",
              "          element.appendChild(docLink);\n",
              "        }\n",
              "      </script>\n",
              "    </div>\n",
              "  </div>\n"
            ]
          },
          "metadata": {},
          "execution_count": 49
        }
      ]
    },
    {
      "cell_type": "code",
      "source": [
        "df.shape"
      ],
      "metadata": {
        "colab": {
          "base_uri": "https://localhost:8080/",
          "height": 34
        },
        "id": "bUlj4Rh9L6GC",
        "outputId": "cabb31f0-98a4-42f8-c424-295e577ad7ef"
      },
      "execution_count": 50,
      "outputs": [
        {
          "output_type": "display_data",
          "data": {
            "text/plain": [
              "<IPython.core.display.HTML object>"
            ],
            "text/html": [
              "\n",
              "  <Style>\n",
              "    pre{\n",
              "      white-space: pre-wrapped;\n",
              "    }\n",
              "  </Style>\n",
              "  "
            ]
          },
          "metadata": {}
        },
        {
          "output_type": "display_data",
          "data": {
            "text/plain": [
              "<IPython.core.display.HTML object>"
            ],
            "text/html": [
              "\n",
              "  <Style>\n",
              "    pre{\n",
              "      white-space: pre-wrapped;\n",
              "    }\n",
              "  </Style>\n",
              "  "
            ]
          },
          "metadata": {}
        },
        {
          "output_type": "execute_result",
          "data": {
            "text/plain": [
              "(318438, 18)"
            ]
          },
          "metadata": {},
          "execution_count": 50
        }
      ]
    },
    {
      "cell_type": "markdown",
      "source": [
        "## **2.1 Remove Data Points Irrelevent to the Research Questions**"
      ],
      "metadata": {
        "id": "XIS1sHVCN_WF"
      }
    },
    {
      "cell_type": "code",
      "source": [
        "# Remove unwanted data points that is irrelevant to the analysis\n",
        "df = df.drop(['case_id', \"City_Code_Hospital\", \"Available Extra Rooms in Hospital\",\n",
        "              \"Bed Grade\", \"Admission_Deposit\",\n",
        "              \"Hospital_region_code\", \"Department\", \"Ward_Facility_Code\",\n",
        "              \"patientid\", \"City_Code_Patient\"], axis=1)\n",
        "df.columns"
      ],
      "metadata": {
        "colab": {
          "base_uri": "https://localhost:8080/",
          "height": 69
        },
        "outputId": "07abeca3-4560-4601-dc48-fa16c653c983",
        "id": "S05huBNqA1qE"
      },
      "execution_count": 121,
      "outputs": [
        {
          "output_type": "display_data",
          "data": {
            "text/plain": [
              "<IPython.core.display.HTML object>"
            ],
            "text/html": [
              "\n",
              "  <Style>\n",
              "    pre{\n",
              "      white-space: pre-wrapped;\n",
              "    }\n",
              "  </Style>\n",
              "  "
            ]
          },
          "metadata": {}
        },
        {
          "output_type": "display_data",
          "data": {
            "text/plain": [
              "<IPython.core.display.HTML object>"
            ],
            "text/html": [
              "\n",
              "  <Style>\n",
              "    pre{\n",
              "      white-space: pre-wrapped;\n",
              "    }\n",
              "  </Style>\n",
              "  "
            ]
          },
          "metadata": {}
        },
        {
          "output_type": "execute_result",
          "data": {
            "text/plain": [
              "Index(['Hospital_code', 'Hospital_type_code', 'Ward_Type', 'Type of Admission',\n",
              "       'Severity of Illness', 'Visitors with Patient', 'Age', 'Stay'],\n",
              "      dtype='object')"
            ]
          },
          "metadata": {},
          "execution_count": 121
        }
      ]
    },
    {
      "cell_type": "markdown",
      "source": [
        "## **2.2 Handling Duplicates.**"
      ],
      "metadata": {
        "id": "dr1AfRNJgRuP"
      }
    },
    {
      "cell_type": "code",
      "source": [
        "# Remove duplicates\n",
        "df = df.drop_duplicates()"
      ],
      "metadata": {
        "colab": {
          "base_uri": "https://localhost:8080/",
          "height": 17
        },
        "id": "Ng4F4jaxG1_z",
        "outputId": "b292026b-b714-4afa-9c9b-25931330900b"
      },
      "execution_count": 52,
      "outputs": [
        {
          "output_type": "display_data",
          "data": {
            "text/plain": [
              "<IPython.core.display.HTML object>"
            ],
            "text/html": [
              "\n",
              "  <Style>\n",
              "    pre{\n",
              "      white-space: pre-wrapped;\n",
              "    }\n",
              "  </Style>\n",
              "  "
            ]
          },
          "metadata": {}
        },
        {
          "output_type": "display_data",
          "data": {
            "text/plain": [
              "<IPython.core.display.HTML object>"
            ],
            "text/html": [
              "\n",
              "  <Style>\n",
              "    pre{\n",
              "      white-space: pre-wrapped;\n",
              "    }\n",
              "  </Style>\n",
              "  "
            ]
          },
          "metadata": {}
        }
      ]
    },
    {
      "cell_type": "markdown",
      "source": [
        "Any present duplicate row is fropped using the pandas drop_duplicates() function, as shown in the code above."
      ],
      "metadata": {
        "id": "ntEgoOMDMj-_"
      }
    },
    {
      "cell_type": "code",
      "source": [
        "df.shape"
      ],
      "metadata": {
        "colab": {
          "base_uri": "https://localhost:8080/",
          "height": 34
        },
        "id": "8cHoCiFAzb7H",
        "outputId": "df6aca8a-75c4-4d19-e08f-7ea61be35c9c"
      },
      "execution_count": 53,
      "outputs": [
        {
          "output_type": "display_data",
          "data": {
            "text/plain": [
              "<IPython.core.display.HTML object>"
            ],
            "text/html": [
              "\n",
              "  <Style>\n",
              "    pre{\n",
              "      white-space: pre-wrapped;\n",
              "    }\n",
              "  </Style>\n",
              "  "
            ]
          },
          "metadata": {}
        },
        {
          "output_type": "display_data",
          "data": {
            "text/plain": [
              "<IPython.core.display.HTML object>"
            ],
            "text/html": [
              "\n",
              "  <Style>\n",
              "    pre{\n",
              "      white-space: pre-wrapped;\n",
              "    }\n",
              "  </Style>\n",
              "  "
            ]
          },
          "metadata": {}
        },
        {
          "output_type": "execute_result",
          "data": {
            "text/plain": [
              "(81574, 8)"
            ]
          },
          "metadata": {},
          "execution_count": 53
        }
      ]
    },
    {
      "cell_type": "markdown",
      "source": [
        "As shown from the shape output above, the number of rows has significantly decreased from 318438 to 81574 after duplicate rows have been dropped."
      ],
      "metadata": {
        "id": "KbCw7qS4MzSn"
      }
    },
    {
      "cell_type": "markdown",
      "source": [
        "## **2.3 Handling Outliers**"
      ],
      "metadata": {
        "id": "ag3Tn3jRgeXF"
      }
    },
    {
      "cell_type": "code",
      "source": [
        "# Select the numerical columns\n",
        "num_cols = df.select_dtypes(include=['int64', 'float64'])\n",
        "# Plot boxplots for the numerical columns\n",
        "num_cols.boxplot()\n",
        "plt.show()\n"
      ],
      "metadata": {
        "colab": {
          "base_uri": "https://localhost:8080/",
          "height": 430
        },
        "outputId": "fbee7ed9-3750-4723-9240-39b7cd4f1506",
        "id": "68ZEPOKOA1pS"
      },
      "execution_count": 54,
      "outputs": [
        {
          "output_type": "display_data",
          "data": {
            "text/plain": [
              "<IPython.core.display.HTML object>"
            ],
            "text/html": [
              "\n",
              "  <Style>\n",
              "    pre{\n",
              "      white-space: pre-wrapped;\n",
              "    }\n",
              "  </Style>\n",
              "  "
            ]
          },
          "metadata": {}
        },
        {
          "output_type": "display_data",
          "data": {
            "text/plain": [
              "<IPython.core.display.HTML object>"
            ],
            "text/html": [
              "\n",
              "  <Style>\n",
              "    pre{\n",
              "      white-space: pre-wrapped;\n",
              "    }\n",
              "  </Style>\n",
              "  "
            ]
          },
          "metadata": {}
        },
        {
          "output_type": "display_data",
          "data": {
            "text/plain": [
              "<Figure size 640x480 with 1 Axes>"
            ],
            "image/png": "[encoded data removed]"
          },
          "metadata": {}
        }
      ]
    },
    {
      "cell_type": "markdown",
      "source": [
        "By visualizing the numerical columns as a box plot using the matplotlib boxplot() function, it can be observed that outliers are present in the visitors with patient column."
      ],
      "metadata": {
        "id": "ZyTTypvNNDwF"
      }
    },
    {
      "cell_type": "code",
      "source": [
        "# Initializing list to store initial medians and STDs\n",
        "old_median = 0\n",
        "old_std = 0"
      ],
      "metadata": {
        "colab": {
          "base_uri": "https://localhost:8080/",
          "height": 17
        },
        "outputId": "01542d2d-851b-44fd-f7b1-88fa8ca33992",
        "id": "HjuWXUUYA1p4"
      },
      "execution_count": 55,
      "outputs": [
        {
          "output_type": "display_data",
          "data": {
            "text/plain": [
              "<IPython.core.display.HTML object>"
            ],
            "text/html": [
              "\n",
              "  <Style>\n",
              "    pre{\n",
              "      white-space: pre-wrapped;\n",
              "    }\n",
              "  </Style>\n",
              "  "
            ]
          },
          "metadata": {}
        },
        {
          "output_type": "display_data",
          "data": {
            "text/plain": [
              "<IPython.core.display.HTML object>"
            ],
            "text/html": [
              "\n",
              "  <Style>\n",
              "    pre{\n",
              "      white-space: pre-wrapped;\n",
              "    }\n",
              "  </Style>\n",
              "  "
            ]
          },
          "metadata": {}
        }
      ]
    },
    {
      "cell_type": "code",
      "source": [
        "# Checking for outliers\n",
        "stats = num_cols.describe()\n",
        "outliers = {}\n",
        "for c in num_cols.columns:\n",
        "  median = df[c].median()\n",
        "  std = df[c].std()\n",
        "  old_median = median\n",
        "  old_std = std\n",
        "  outliers = (df[c] < (median - 3*std)) | (df[c] > (median + 3*std))\n",
        "  print(outliers.value_counts())"
      ],
      "metadata": {
        "colab": {
          "base_uri": "https://localhost:8080/",
          "height": 104
        },
        "id": "DXljE0R49MUu",
        "outputId": "e887cc30-e3c6-4dd2-abbb-6cb03e1b8120"
      },
      "execution_count": 56,
      "outputs": [
        {
          "output_type": "display_data",
          "data": {
            "text/plain": [
              "<IPython.core.display.HTML object>"
            ],
            "text/html": [
              "\n",
              "  <Style>\n",
              "    pre{\n",
              "      white-space: pre-wrapped;\n",
              "    }\n",
              "  </Style>\n",
              "  "
            ]
          },
          "metadata": {}
        },
        {
          "output_type": "display_data",
          "data": {
            "text/plain": [
              "<IPython.core.display.HTML object>"
            ],
            "text/html": [
              "\n",
              "  <Style>\n",
              "    pre{\n",
              "      white-space: pre-wrapped;\n",
              "    }\n",
              "  </Style>\n",
              "  "
            ]
          },
          "metadata": {}
        },
        {
          "output_type": "stream",
          "name": "stdout",
          "text": [
            "False    81574\n",
            "Name: Hospital_code, dtype: int64\n",
            "False    80124\n",
            "True      1450\n",
            "Name: Visitors with Patient, dtype: int64\n"
          ]
        }
      ]
    },
    {
      "cell_type": "markdown",
      "source": [
        "By considering values that are 3 standard deviations away from the median as outliers, it can be observed in the output above that the \"Visitors with Patient\" column contains 1450 outliers."
      ],
      "metadata": {
        "id": "m_aFUoJHXTVr"
      }
    },
    {
      "cell_type": "code",
      "source": [
        "# Replacing outlier values with median\n",
        "median = df[\"Visitors with Patient\"].median()\n",
        "std = df[\"Visitors with Patient\"].std()\n",
        "lower = median - 3 * std\n",
        "upper = median + 3 * std\n",
        "df[c] = df[c].mask((df[c] < lower) | (df[c] > upper), median)\n"
      ],
      "metadata": {
        "colab": {
          "base_uri": "https://localhost:8080/",
          "height": 17
        },
        "outputId": "580ed1c6-e68a-49a3-8500-0c348b0232ba",
        "id": "h_-pgoh9A1p_"
      },
      "execution_count": 57,
      "outputs": [
        {
          "output_type": "display_data",
          "data": {
            "text/plain": [
              "<IPython.core.display.HTML object>"
            ],
            "text/html": [
              "\n",
              "  <Style>\n",
              "    pre{\n",
              "      white-space: pre-wrapped;\n",
              "    }\n",
              "  </Style>\n",
              "  "
            ]
          },
          "metadata": {}
        },
        {
          "output_type": "display_data",
          "data": {
            "text/plain": [
              "<IPython.core.display.HTML object>"
            ],
            "text/html": [
              "\n",
              "  <Style>\n",
              "    pre{\n",
              "      white-space: pre-wrapped;\n",
              "    }\n",
              "  </Style>\n",
              "  "
            ]
          },
          "metadata": {}
        }
      ]
    },
    {
      "cell_type": "markdown",
      "source": [
        "To handle the outliers, they can be replaced with the column's median suing the pandas mask() function so as to not affect the sample size."
      ],
      "metadata": {
        "id": "iTwClQkzXrOQ"
      }
    },
    {
      "cell_type": "code",
      "source": [
        "# Checking if all outliers have been replaced\n",
        "lower = old_median - 3 * old_std\n",
        "upper = old_median + 3 * old_std\n",
        "outliers = (df[c] < lower) | (df[c] > upper)\n",
        "print(outliers.value_counts())\n",
        "print(\"Number of rows in dataset:\", df.shape[0])"
      ],
      "metadata": {
        "colab": {
          "base_uri": "https://localhost:8080/",
          "height": 69
        },
        "outputId": "fd2fbda6-fb21-400c-90a2-a377a2dd77c3",
        "id": "e9J5Xll8Abec"
      },
      "execution_count": 58,
      "outputs": [
        {
          "output_type": "display_data",
          "data": {
            "text/plain": [
              "<IPython.core.display.HTML object>"
            ],
            "text/html": [
              "\n",
              "  <Style>\n",
              "    pre{\n",
              "      white-space: pre-wrapped;\n",
              "    }\n",
              "  </Style>\n",
              "  "
            ]
          },
          "metadata": {}
        },
        {
          "output_type": "display_data",
          "data": {
            "text/plain": [
              "<IPython.core.display.HTML object>"
            ],
            "text/html": [
              "\n",
              "  <Style>\n",
              "    pre{\n",
              "      white-space: pre-wrapped;\n",
              "    }\n",
              "  </Style>\n",
              "  "
            ]
          },
          "metadata": {}
        },
        {
          "output_type": "stream",
          "name": "stdout",
          "text": [
            "False    81574\n",
            "Name: Visitors with Patient, dtype: int64\n",
            "Number of rows in dataset: 81574\n"
          ]
        }
      ]
    },
    {
      "cell_type": "markdown",
      "source": [
        "The old median and standard deviation values are used to check if all outliers have been replaced because if the new values are used, new outliers might be detected due to the change in the distribution.\n",
        "\n",
        "From the output above, it can be observed by the absence of \"True\" values that all outliers have been handled."
      ],
      "metadata": {
        "id": "yCYIFWhOX_SS"
      }
    },
    {
      "cell_type": "markdown",
      "source": [
        "## **2.4 Handling Missing Values**"
      ],
      "metadata": {
        "id": "zb8XTHyIA1qH"
      }
    },
    {
      "cell_type": "code",
      "source": [
        "# Check missing values for each column\n",
        "print(df.isna().sum())"
      ],
      "metadata": {
        "colab": {
          "base_uri": "https://localhost:8080/",
          "height": 173
        },
        "outputId": "461c60c0-9809-4154-ae62-2b0c2b414b92",
        "id": "fp0Ov94WA1qI"
      },
      "execution_count": 62,
      "outputs": [
        {
          "output_type": "display_data",
          "data": {
            "text/plain": [
              "<IPython.core.display.HTML object>"
            ],
            "text/html": [
              "\n",
              "  <Style>\n",
              "    pre{\n",
              "      white-space: pre-wrapped;\n",
              "    }\n",
              "  </Style>\n",
              "  "
            ]
          },
          "metadata": {}
        },
        {
          "output_type": "display_data",
          "data": {
            "text/plain": [
              "<IPython.core.display.HTML object>"
            ],
            "text/html": [
              "\n",
              "  <Style>\n",
              "    pre{\n",
              "      white-space: pre-wrapped;\n",
              "    }\n",
              "  </Style>\n",
              "  "
            ]
          },
          "metadata": {}
        },
        {
          "output_type": "stream",
          "name": "stdout",
          "text": [
            "Hospital_code            0\n",
            "Hospital_type_code       0\n",
            "Ward_Type                0\n",
            "Type of Admission        0\n",
            "Severity of Illness      0\n",
            "Visitors with Patient    0\n",
            "Age                      0\n",
            "Stay                     0\n",
            "dtype: int64\n"
          ]
        }
      ]
    },
    {
      "cell_type": "markdown",
      "source": [
        "Since no missing value is present in the dataset, there is no need to fill in the missing values."
      ],
      "metadata": {
        "id": "kF7PVmtNA1qL"
      }
    },
    {
      "cell_type": "markdown",
      "source": [
        "## **2.5 Balancing Distribution using Over-sampling**"
      ],
      "metadata": {
        "id": "9SIyEDu1A1qS"
      }
    },
    {
      "cell_type": "markdown",
      "source": [
        "To balance a dataset using over-sampling, the distribution of the target variable must first be investigated and since this assignment requires binary classification, a target variable based on the stay value can be created, namely \"Stay_Type\", which will detail whether a patient stayed for a short duration or long duration.\n",
        "\n",
        "But in order to do so, the unique values of the \"Stay\" column must first be investigated."
      ],
      "metadata": {
        "id": "avd7IP7sIRxZ"
      }
    },
    {
      "cell_type": "code",
      "source": [
        "df[\"Stay\"].value_counts()"
      ],
      "metadata": {
        "colab": {
          "base_uri": "https://localhost:8080/",
          "height": 225
        },
        "outputId": "e392a529-9d6e-44d1-ad6b-8ee5ece8d5c0",
        "id": "LAJ6V9tCA1qT"
      },
      "execution_count": 63,
      "outputs": [
        {
          "output_type": "display_data",
          "data": {
            "text/plain": [
              "<IPython.core.display.HTML object>"
            ],
            "text/html": [
              "\n",
              "  <Style>\n",
              "    pre{\n",
              "      white-space: pre-wrapped;\n",
              "    }\n",
              "  </Style>\n",
              "  "
            ]
          },
          "metadata": {}
        },
        {
          "output_type": "display_data",
          "data": {
            "text/plain": [
              "<IPython.core.display.HTML object>"
            ],
            "text/html": [
              "\n",
              "  <Style>\n",
              "    pre{\n",
              "      white-space: pre-wrapped;\n",
              "    }\n",
              "  </Style>\n",
              "  "
            ]
          },
          "metadata": {}
        },
        {
          "output_type": "execute_result",
          "data": {
            "text/plain": [
              "31-40                 14527\n",
              "11-20                 13017\n",
              "51-60                 12295\n",
              "21-30                 12136\n",
              "0-10                   6817\n",
              "71-80                  5729\n",
              "41-50                  5590\n",
              "More than 100 Days     4214\n",
              "81-90                  3207\n",
              "61-70                  2045\n",
              "91-100                 1997\n",
              "Name: Stay, dtype: int64"
            ]
          },
          "metadata": {},
          "execution_count": 63
        }
      ]
    },
    {
      "cell_type": "markdown",
      "source": [
        "The value_counts() output above shows the distribution of each unique Stay value."
      ],
      "metadata": {
        "id": "C1AfzxRfJHTU"
      }
    },
    {
      "cell_type": "code",
      "source": [
        "# Define the mapping dictionary\n",
        "mapping = {'0-10': 0, '11-20': 1, '21-30': 2, '31-40': 3,\n",
        "           '41-50': 4, '51-60':5, '61-70':6, '71-80':7, '81-90':8,\n",
        "           '91-100':9, 'More than 100 Days':10}\n",
        "\n",
        "# Label Encoding\n",
        "# Replace the categorical values with numerical values\n",
        "df['Stay'] = df['Stay'].replace(mapping)"
      ],
      "metadata": {
        "colab": {
          "base_uri": "https://localhost:8080/",
          "height": 17
        },
        "outputId": "b8e5b488-2968-4182-ec8e-027ce646ff7f",
        "id": "hd5j4nnOA1qT"
      },
      "execution_count": 64,
      "outputs": [
        {
          "output_type": "display_data",
          "data": {
            "text/plain": [
              "<IPython.core.display.HTML object>"
            ],
            "text/html": [
              "\n",
              "  <Style>\n",
              "    pre{\n",
              "      white-space: pre-wrapped;\n",
              "    }\n",
              "  </Style>\n",
              "  "
            ]
          },
          "metadata": {}
        },
        {
          "output_type": "display_data",
          "data": {
            "text/plain": [
              "<IPython.core.display.HTML object>"
            ],
            "text/html": [
              "\n",
              "  <Style>\n",
              "    pre{\n",
              "      white-space: pre-wrapped;\n",
              "    }\n",
              "  </Style>\n",
              "  "
            ]
          },
          "metadata": {}
        }
      ]
    },
    {
      "cell_type": "markdown",
      "source": [
        "In order to facilitate the creation of the target, the Stay column is first label encoded using the replace() function to apply the mapping shown above."
      ],
      "metadata": {
        "id": "GAwmp3aOJSIt"
      }
    },
    {
      "cell_type": "code",
      "source": [
        "# Creating a binary target variable due to assignment requirements\n",
        "# for the keras neural network\n",
        "df['Stay_Type'] = df['Stay'].apply(lambda x: 1 if x >=5 else 0)\n",
        "df[\"Stay_Type\"].value_counts()"
      ],
      "metadata": {
        "colab": {
          "base_uri": "https://localhost:8080/",
          "height": 69
        },
        "id": "lyJGyEOkJ_S0",
        "outputId": "df7bfbc8-7f56-457f-e636-cad5dab48371"
      },
      "execution_count": 65,
      "outputs": [
        {
          "output_type": "display_data",
          "data": {
            "text/plain": [
              "<IPython.core.display.HTML object>"
            ],
            "text/html": [
              "\n",
              "  <Style>\n",
              "    pre{\n",
              "      white-space: pre-wrapped;\n",
              "    }\n",
              "  </Style>\n",
              "  "
            ]
          },
          "metadata": {}
        },
        {
          "output_type": "display_data",
          "data": {
            "text/plain": [
              "<IPython.core.display.HTML object>"
            ],
            "text/html": [
              "\n",
              "  <Style>\n",
              "    pre{\n",
              "      white-space: pre-wrapped;\n",
              "    }\n",
              "  </Style>\n",
              "  "
            ]
          },
          "metadata": {}
        },
        {
          "output_type": "execute_result",
          "data": {
            "text/plain": [
              "0    52087\n",
              "1    29487\n",
              "Name: Stay_Type, dtype: int64"
            ]
          },
          "metadata": {},
          "execution_count": 65
        }
      ]
    },
    {
      "cell_type": "markdown",
      "source": [
        "The target variable Stay_Type is then created based on the respective Stay column value, where a stay value lower than 5 will result in a 0 and higher or equal to 5 will result in a 1.\n",
        "\n",
        "From the value_counts() output above, it can be observed that the value 0 makes up for a majority of the Stay_Type distribution."
      ],
      "metadata": {
        "id": "jyhE9ltAKBZF"
      }
    },
    {
      "cell_type": "code",
      "source": [
        "# Define the majority and minority class\n",
        "majority_class = df[df[\"Stay_Type\"] == 0]\n",
        "minority_class = df[df[\"Stay_Type\"] == 1]"
      ],
      "metadata": {
        "colab": {
          "base_uri": "https://localhost:8080/",
          "height": 17
        },
        "id": "I4bAPBwnKbLR",
        "outputId": "efbf4719-b4c4-4e97-c576-a2f80672cd9f"
      },
      "execution_count": 66,
      "outputs": [
        {
          "output_type": "display_data",
          "data": {
            "text/plain": [
              "<IPython.core.display.HTML object>"
            ],
            "text/html": [
              "\n",
              "  <Style>\n",
              "    pre{\n",
              "      white-space: pre-wrapped;\n",
              "    }\n",
              "  </Style>\n",
              "  "
            ]
          },
          "metadata": {}
        },
        {
          "output_type": "display_data",
          "data": {
            "text/plain": [
              "<IPython.core.display.HTML object>"
            ],
            "text/html": [
              "\n",
              "  <Style>\n",
              "    pre{\n",
              "      white-space: pre-wrapped;\n",
              "    }\n",
              "  </Style>\n",
              "  "
            ]
          },
          "metadata": {}
        }
      ]
    },
    {
      "cell_type": "markdown",
      "source": [
        "The majority and minority class subsets are created based on the \"df[\"Stay_Type\"].value_counts()\" output."
      ],
      "metadata": {
        "id": "mAWAOIiJMRRZ"
      }
    },
    {
      "cell_type": "code",
      "source": [
        "from sklearn.utils import resample\n",
        "# Define the number of samples to generate for each minority class\n",
        "n_samples = len(majority_class)\n",
        "# Define the random state for reproducibility\n",
        "random_state = 42\n",
        "# Create an empty list to store the oversampled data\n",
        "oversampled_data = []\n",
        "# Loop over the minority classes and apply oversampling\n",
        "oversampled_minority = resample(minority_class,\n",
        "                                replace = True,\n",
        "                                n_samples=n_samples,\n",
        "                                random_state=random_state)\n",
        "\n",
        "\n",
        "# Concatenate the oversampled data with the majority data\n",
        "oversampled_data = pd.concat([majority_class, oversampled_minority])\n",
        "oversampled_data = oversampled_data.sample(frac=1, random_state=42)\n",
        "oversampled_data[\"Stay_Type\"].value_counts()"
      ],
      "metadata": {
        "colab": {
          "base_uri": "https://localhost:8080/",
          "height": 69
        },
        "id": "I7aO3ZK6LD9r",
        "outputId": "e3aff608-5f8f-47e5-a9fb-7e84315fb4c9"
      },
      "execution_count": 67,
      "outputs": [
        {
          "output_type": "display_data",
          "data": {
            "text/plain": [
              "<IPython.core.display.HTML object>"
            ],
            "text/html": [
              "\n",
              "  <Style>\n",
              "    pre{\n",
              "      white-space: pre-wrapped;\n",
              "    }\n",
              "  </Style>\n",
              "  "
            ]
          },
          "metadata": {}
        },
        {
          "output_type": "display_data",
          "data": {
            "text/plain": [
              "<IPython.core.display.HTML object>"
            ],
            "text/html": [
              "\n",
              "  <Style>\n",
              "    pre{\n",
              "      white-space: pre-wrapped;\n",
              "    }\n",
              "  </Style>\n",
              "  "
            ]
          },
          "metadata": {}
        },
        {
          "output_type": "execute_result",
          "data": {
            "text/plain": [
              "1    52087\n",
              "0    52087\n",
              "Name: Stay_Type, dtype: int64"
            ]
          },
          "metadata": {},
          "execution_count": 67
        }
      ]
    },
    {
      "cell_type": "markdown",
      "source": [
        "By using the resample() function from the sci-kit learn library, additional data rows of the minority class is created to match the number of rows in the majority class. The over-sampled minority class subset is then concatenated with the majority class subset using the concat() function to create the balanced dataset."
      ],
      "metadata": {
        "id": "9yQx9-RCMkpd"
      }
    },
    {
      "cell_type": "code",
      "source": [
        "print(\"Before over-sampling\", df.shape)\n",
        "print(\"Number of rows in majority class:\", majority_class.shape[0])\n",
        "print(\"After over-sampling\", oversampled_data.shape)"
      ],
      "metadata": {
        "colab": {
          "base_uri": "https://localhost:8080/",
          "height": 69
        },
        "id": "_sIllt21Lsa4",
        "outputId": "24d3e739-cb32-43e9-90fa-916f9e798362"
      },
      "execution_count": 68,
      "outputs": [
        {
          "output_type": "display_data",
          "data": {
            "text/plain": [
              "<IPython.core.display.HTML object>"
            ],
            "text/html": [
              "\n",
              "  <Style>\n",
              "    pre{\n",
              "      white-space: pre-wrapped;\n",
              "    }\n",
              "  </Style>\n",
              "  "
            ]
          },
          "metadata": {}
        },
        {
          "output_type": "display_data",
          "data": {
            "text/plain": [
              "<IPython.core.display.HTML object>"
            ],
            "text/html": [
              "\n",
              "  <Style>\n",
              "    pre{\n",
              "      white-space: pre-wrapped;\n",
              "    }\n",
              "  </Style>\n",
              "  "
            ]
          },
          "metadata": {}
        },
        {
          "output_type": "stream",
          "name": "stdout",
          "text": [
            "Before over-sampling (81574, 9)\n",
            "Number of rows in majority class: 52087\n",
            "After over-sampling (104174, 9)\n"
          ]
        }
      ]
    },
    {
      "cell_type": "markdown",
      "source": [
        "As shown in the output above, the dataset row count has increased due to the minority class column count increasing to match the majority class, where the dataset row count is now double the number of rows in the majority class."
      ],
      "metadata": {
        "id": "z44T0vzSM_8R"
      }
    },
    {
      "cell_type": "markdown",
      "source": [
        "# **3.0 Data Exploration**"
      ],
      "metadata": {
        "id": "S9KI0-jgYABt"
      }
    },
    {
      "cell_type": "code",
      "source": [
        "# Import data visualization libraries\n",
        "import matplotlib.pyplot as plt\n",
        "import seaborn as sb"
      ],
      "metadata": {
        "colab": {
          "base_uri": "https://localhost:8080/",
          "height": 17
        },
        "id": "t5hT6XNFYHR2",
        "outputId": "f4f28b47-a303-4a6b-94fb-36f9aebcd22f"
      },
      "execution_count": 34,
      "outputs": [
        {
          "output_type": "display_data",
          "data": {
            "text/plain": [
              "<IPython.core.display.HTML object>"
            ],
            "text/html": [
              "\n",
              "  <Style>\n",
              "    pre{\n",
              "      white-space: pre-wrapped;\n",
              "    }\n",
              "  </Style>\n",
              "  "
            ]
          },
          "metadata": {}
        }
      ]
    },
    {
      "cell_type": "markdown",
      "source": [
        "## **3.1 Investigating shape of dataset**"
      ],
      "metadata": {
        "id": "1YPlsRvgDemb"
      }
    },
    {
      "cell_type": "code",
      "source": [
        "# Comparing the distribution of original and cleaned dataset\n",
        "print(\"Original Dataset Shape:\", ori_df.shape)\n",
        "print(\"Dataset shape after cleaning:\", oversampled_data.shape)"
      ],
      "metadata": {
        "colab": {
          "base_uri": "https://localhost:8080/",
          "height": 52
        },
        "id": "a5P7GWORDjXd",
        "outputId": "aa7558a6-b712-4474-9816-77b75592bbbc"
      },
      "execution_count": 69,
      "outputs": [
        {
          "output_type": "display_data",
          "data": {
            "text/plain": [
              "<IPython.core.display.HTML object>"
            ],
            "text/html": [
              "\n",
              "  <Style>\n",
              "    pre{\n",
              "      white-space: pre-wrapped;\n",
              "    }\n",
              "  </Style>\n",
              "  "
            ]
          },
          "metadata": {}
        },
        {
          "output_type": "display_data",
          "data": {
            "text/plain": [
              "<IPython.core.display.HTML object>"
            ],
            "text/html": [
              "\n",
              "  <Style>\n",
              "    pre{\n",
              "      white-space: pre-wrapped;\n",
              "    }\n",
              "  </Style>\n",
              "  "
            ]
          },
          "metadata": {}
        },
        {
          "output_type": "stream",
          "name": "stdout",
          "text": [
            "Original Dataset Shape: (318438, 18)\n",
            "Dataset shape after cleaning: (104174, 9)\n"
          ]
        }
      ]
    },
    {
      "cell_type": "markdown",
      "source": [
        "As shown in the output above, the dataset originally has 318438 rows and 18 columns but after cleaning the dataset where irrelevant data points were dropped and over-sampling was carried out, the dataset set now has 9 columns with 104174 rows."
      ],
      "metadata": {
        "id": "ie43Sf9tOs24"
      }
    },
    {
      "cell_type": "markdown",
      "source": [
        "## **3.2 Exploring the distribution of variables**"
      ],
      "metadata": {
        "id": "s0NbJTOXPLUt"
      }
    },
    {
      "cell_type": "code",
      "source": [
        "# Getting the distribution of each variable\n",
        "for col in oversampled_data.columns:\n",
        "  print(\"Distribution of\", col, \"column:\")\n",
        "  print(oversampled_data[col].value_counts())\n",
        "  print()"
      ],
      "metadata": {
        "colab": {
          "base_uri": "https://localhost:8080/",
          "height": 1000
        },
        "id": "nbUcEGpMPY8a",
        "outputId": "3b5f3818-bfbd-4489-fa27-6200892391e5"
      },
      "execution_count": 70,
      "outputs": [
        {
          "output_type": "display_data",
          "data": {
            "text/plain": [
              "<IPython.core.display.HTML object>"
            ],
            "text/html": [
              "\n",
              "  <Style>\n",
              "    pre{\n",
              "      white-space: pre-wrapped;\n",
              "    }\n",
              "  </Style>\n",
              "  "
            ]
          },
          "metadata": {}
        },
        {
          "output_type": "display_data",
          "data": {
            "text/plain": [
              "<IPython.core.display.HTML object>"
            ],
            "text/html": [
              "\n",
              "  <Style>\n",
              "    pre{\n",
              "      white-space: pre-wrapped;\n",
              "    }\n",
              "  </Style>\n",
              "  "
            ]
          },
          "metadata": {}
        },
        {
          "output_type": "stream",
          "name": "stdout",
          "text": [
            "Distribution of Hospital_code column:\n",
            "26    9542\n",
            "23    7038\n",
            "14    5678\n",
            "6     5096\n",
            "9     4818\n",
            "12    4627\n",
            "27    4501\n",
            "29    4174\n",
            "11    4155\n",
            "25    4050\n",
            "15    3983\n",
            "28    3418\n",
            "21    3409\n",
            "10    3268\n",
            "3     3055\n",
            "1     2900\n",
            "19    2844\n",
            "18    2387\n",
            "5     2362\n",
            "32    2358\n",
            "30    2317\n",
            "16    2282\n",
            "24    2271\n",
            "31    2270\n",
            "22    2243\n",
            "2     2082\n",
            "8     1851\n",
            "13    1594\n",
            "17    1551\n",
            "20     871\n",
            "7      619\n",
            "4      560\n",
            "Name: Hospital_code, dtype: int64\n",
            "\n",
            "Distribution of Hospital_type_code column:\n",
            "a    41364\n",
            "c    21249\n",
            "b    17986\n",
            "d    10105\n",
            "e     8869\n",
            "f     2358\n",
            "g     2243\n",
            "Name: Hospital_type_code, dtype: int64\n",
            "\n",
            "Distribution of Ward_Type column:\n",
            "R    40115\n",
            "Q    30158\n",
            "S    29285\n",
            "P     3430\n",
            "T     1177\n",
            "U        9\n",
            "Name: Ward_Type, dtype: int64\n",
            "\n",
            "Distribution of Type of Admission column:\n",
            "Trauma       43814\n",
            "Emergency    38962\n",
            "Urgent       21398\n",
            "Name: Type of Admission, dtype: int64\n",
            "\n",
            "Distribution of Severity of Illness column:\n",
            "Moderate    47118\n",
            "Minor       30347\n",
            "Extreme     26709\n",
            "Name: Severity of Illness, dtype: int64\n",
            "\n",
            "Distribution of Visitors with Patient column:\n",
            "2     26796\n",
            "4     26319\n",
            "3     17433\n",
            "6     13273\n",
            "5      7813\n",
            "8      4762\n",
            "7      2967\n",
            "9      1714\n",
            "10     1501\n",
            "1      1115\n",
            "11      459\n",
            "0        22\n",
            "Name: Visitors with Patient, dtype: int64\n",
            "\n",
            "Distribution of Age column:\n",
            "41-50     17254\n",
            "31-40     16158\n",
            "51-60     15396\n",
            "71-80     12863\n",
            "61-70     12420\n",
            "21-30     12188\n",
            "11-20      7171\n",
            "81-90      5425\n",
            "0-10       4016\n",
            "91-100     1283\n",
            "Name: Age, dtype: int64\n",
            "\n",
            "Distribution of Stay column:\n",
            "5     21677\n",
            "3     14527\n",
            "1     13017\n",
            "2     12136\n",
            "7     10168\n",
            "10     7361\n",
            "0      6817\n",
            "8      5594\n",
            "4      5590\n",
            "6      3695\n",
            "9      3592\n",
            "Name: Stay, dtype: int64\n",
            "\n",
            "Distribution of Stay_Type column:\n",
            "1    52087\n",
            "0    52087\n",
            "Name: Stay_Type, dtype: int64\n",
            "\n"
          ]
        }
      ]
    },
    {
      "cell_type": "markdown",
      "source": [
        "From the output above, the following inferences can be made:\n",
        "\n",
        "\n",
        "*   In the Hospital_Code column, code 4 and 7 make up the minority of the distribution with a count of 560 and 619 respectively, where there is a small disparity between them when compared with other codes.\n",
        "*   In the Hospital_type_code column, type f and g make up the minority of the distribution with a count of 2243 and 2358 respectively, where there is a small disparity between them when compared with other types.\n",
        "*   In the ward_type column, the type U can be considered an outlier as it only has 9 instances while the other types are in the thousands.\n",
        "*   In Type of admission column, the urgent type seems to be the minority, with the majority type having almost twice the amount of instances.\n",
        "*   The same as the previous point can be said about the Extreme severity in the severity of illness column\n",
        "*   The 0 number of visitors in the visitor with patient column and the 91-100 age range seem to be the obvious minority in their respective columns.\n",
        "*   In the stay column, most platients seem to be staying between 51 and 60 days while the minority of patients seem to be staying between 91 to 100 days.\n",
        "\n",
        "\n"
      ],
      "metadata": {
        "id": "PGRptwt3aNhZ"
      }
    },
    {
      "cell_type": "code",
      "source": [
        "# Extracting numerical columns\n",
        "numerical_cols = oversampled_data.select_dtypes(include=[\"float\", \"int\"]).columns\n",
        "numerical_cols"
      ],
      "metadata": {
        "colab": {
          "base_uri": "https://localhost:8080/",
          "height": 34
        },
        "id": "wXpyQve6Tnhy",
        "outputId": "a7655820-d734-4ba9-ca5b-5e49a2bbdab6"
      },
      "execution_count": 71,
      "outputs": [
        {
          "output_type": "display_data",
          "data": {
            "text/plain": [
              "<IPython.core.display.HTML object>"
            ],
            "text/html": [
              "\n",
              "  <Style>\n",
              "    pre{\n",
              "      white-space: pre-wrapped;\n",
              "    }\n",
              "  </Style>\n",
              "  "
            ]
          },
          "metadata": {}
        },
        {
          "output_type": "display_data",
          "data": {
            "text/plain": [
              "<IPython.core.display.HTML object>"
            ],
            "text/html": [
              "\n",
              "  <Style>\n",
              "    pre{\n",
              "      white-space: pre-wrapped;\n",
              "    }\n",
              "  </Style>\n",
              "  "
            ]
          },
          "metadata": {}
        },
        {
          "output_type": "execute_result",
          "data": {
            "text/plain": [
              "Index(['Hospital_code', 'Visitors with Patient', 'Stay', 'Stay_Type'], dtype='object')"
            ]
          },
          "metadata": {},
          "execution_count": 71
        }
      ]
    },
    {
      "cell_type": "code",
      "source": [
        "# Visualizing numerical columns as histograms\n",
        "fig, axs = plt.subplots(nrows=1, ncols=4, figsize=(10, 5))\n",
        "axs = axs.flatten() # Make a single axis to facilitate plotting using for loop\n",
        "for i in range(len(numerical_cols)):\n",
        "  ax = axs[i]\n",
        "  ax.hist(oversampled_data[numerical_cols[i]], bins = 20, color=\"blue\",\n",
        "          edgecolor=\"black\")\n",
        "  ax.set_title(numerical_cols[i] + \" \\nHistogram\")\n",
        "  ax.set_ylabel(\"Frequency\")\n",
        "  ax.set_xlabel(numerical_cols[i])\n",
        "\n",
        "for j in range(len(numerical_cols), len(axs)):\n",
        "  fig.delaxes(axs[j])\n",
        "\n",
        "fig.tight_layout()\n",
        "plt.suptitle(\"Distribution of Numerical Columns.\", y = 0)\n",
        "plt.show()\n"
      ],
      "metadata": {
        "colab": {
          "base_uri": "https://localhost:8080/",
          "height": 540
        },
        "id": "c9aglOrxVeyJ",
        "outputId": "e6a5c784-d8c6-4e42-ca97-1f86983d61e8"
      },
      "execution_count": 124,
      "outputs": [
        {
          "output_type": "display_data",
          "data": {
            "text/plain": [
              "<IPython.core.display.HTML object>"
            ],
            "text/html": [
              "\n",
              "  <Style>\n",
              "    pre{\n",
              "      white-space: pre-wrapped;\n",
              "    }\n",
              "  </Style>\n",
              "  "
            ]
          },
          "metadata": {}
        },
        {
          "output_type": "display_data",
          "data": {
            "text/plain": [
              "<IPython.core.display.HTML object>"
            ],
            "text/html": [
              "\n",
              "  <Style>\n",
              "    pre{\n",
              "      white-space: pre-wrapped;\n",
              "    }\n",
              "  </Style>\n",
              "  "
            ]
          },
          "metadata": {}
        },
        {
          "output_type": "display_data",
          "data": {
            "text/plain": [
              "<Figure size 1000x500 with 4 Axes>"
            ],
            "image/png": "[encoded data removed]"
          },
          "metadata": {}
        }
      ]
    },
    {
      "cell_type": "markdown",
      "source": [
        "By visualizing the numerical columns as histograms, it can be observed that both the stay and visitors with patient colummns have a right skewed distribution while the hospital_code column has a left skewed distribution.\n",
        "\n",
        "As expected, the stay_type column has a balanced distribution due to the oversampling carried out."
      ],
      "metadata": {
        "id": "cj0SH3BteiAj"
      }
    },
    {
      "cell_type": "markdown",
      "source": [
        "## **3.3 Exploring the relationship between the variables.**"
      ],
      "metadata": {
        "id": "FFbURYeRbdao"
      }
    },
    {
      "cell_type": "code",
      "source": [
        "# Visualizing the relationship between age and stay duration as a scatter plot\n",
        "plt.scatter(oversampled_data[\"Age\"], oversampled_data[\"Stay\"], marker = \"o\")\n",
        "plt.title(\"Patient Age vs Stay Duration Scatter plot\")\n",
        "plt.xlabel(\"Age\")\n",
        "plt.ylabel(\"Stay Duration\")\n",
        "plt.show()"
      ],
      "metadata": {
        "id": "5M8-yVBdboq7",
        "colab": {
          "base_uri": "https://localhost:8080/",
          "height": 472
        },
        "outputId": "d5c739fb-4b2e-4b59-a333-5aad2678519d"
      },
      "execution_count": 100,
      "outputs": [
        {
          "output_type": "display_data",
          "data": {
            "text/plain": [
              "<IPython.core.display.HTML object>"
            ],
            "text/html": [
              "\n",
              "  <Style>\n",
              "    pre{\n",
              "      white-space: pre-wrapped;\n",
              "    }\n",
              "  </Style>\n",
              "  "
            ]
          },
          "metadata": {}
        },
        {
          "output_type": "display_data",
          "data": {
            "text/plain": [
              "<IPython.core.display.HTML object>"
            ],
            "text/html": [
              "\n",
              "  <Style>\n",
              "    pre{\n",
              "      white-space: pre-wrapped;\n",
              "    }\n",
              "  </Style>\n",
              "  "
            ]
          },
          "metadata": {}
        },
        {
          "output_type": "display_data",
          "data": {
            "text/plain": [
              "<Figure size 640x480 with 1 Axes>"
            ],
            "image/png": "[encoded data removed]"
          },
          "metadata": {}
        }
      ]
    },
    {
      "cell_type": "markdown",
      "source": [
        "From the scatter plot above, it can be observed that there is a total absence of linearity between the patient's age and their stay durstion due to the lack of any pattern resembling a straight line formed by the points.\n",
        "\n",
        "Henced it can be determined that the patient's age does not affect their stay duration in a linear way."
      ],
      "metadata": {
        "id": "KjLl1zeFfHg3"
      }
    },
    {
      "cell_type": "code",
      "source": [
        "# Initialize category and value list\n",
        "categories = []\n",
        "values_list = []"
      ],
      "metadata": {
        "colab": {
          "base_uri": "https://localhost:8080/",
          "height": 17
        },
        "id": "WLtEApOrgyV_",
        "outputId": "e49852f7-eb68-45a3-e7a5-1956ba91f139"
      },
      "execution_count": 101,
      "outputs": [
        {
          "output_type": "display_data",
          "data": {
            "text/plain": [
              "<IPython.core.display.HTML object>"
            ],
            "text/html": [
              "\n",
              "  <Style>\n",
              "    pre{\n",
              "      white-space: pre-wrapped;\n",
              "    }\n",
              "  </Style>\n",
              "  "
            ]
          },
          "metadata": {}
        },
        {
          "output_type": "display_data",
          "data": {
            "text/plain": [
              "<IPython.core.display.HTML object>"
            ],
            "text/html": [
              "\n",
              "  <Style>\n",
              "    pre{\n",
              "      white-space: pre-wrapped;\n",
              "    }\n",
              "  </Style>\n",
              "  "
            ]
          },
          "metadata": {}
        }
      ]
    },
    {
      "cell_type": "code",
      "source": [
        "# Preparing the values and categories to plot barcharts\n",
        "for cat in np.sort(oversampled_data[\"Severity of Illness\"].unique().astype(str)):\n",
        "  categories.append(cat)\n",
        "  s0 = oversampled_data[(oversampled_data[\"Stay\"] == 0) &\n",
        "                             (oversampled_data[\"Severity of Illness\"] == cat)]\n",
        "  s1 = oversampled_data[(oversampled_data[\"Stay\"] == 1) &\n",
        "                             (oversampled_data[\"Severity of Illness\"] == cat)]\n",
        "  s2 = oversampled_data[(oversampled_data[\"Stay\"] == 2) &\n",
        "                             (oversampled_data[\"Severity of Illness\"] == cat)]\n",
        "  s3 = oversampled_data[(oversampled_data[\"Stay\"] == 3) &\n",
        "                             (oversampled_data[\"Severity of Illness\"] == cat)]\n",
        "  s4 = oversampled_data[(oversampled_data[\"Stay\"] == 4) &\n",
        "                             (oversampled_data[\"Severity of Illness\"] == cat)]\n",
        "  s5 = oversampled_data[(oversampled_data[\"Stay\"] == 5) &\n",
        "                             (oversampled_data[\"Severity of Illness\"] == cat)]\n",
        "  s6 = oversampled_data[(oversampled_data[\"Stay\"] == 6) &\n",
        "                             (oversampled_data[\"Severity of Illness\"] == cat)]\n",
        "  s7 = oversampled_data[(oversampled_data[\"Stay\"] == 7) &\n",
        "                             (oversampled_data[\"Severity of Illness\"] == cat)]\n",
        "  s8 = oversampled_data[(oversampled_data[\"Stay\"] == 8) &\n",
        "                             (oversampled_data[\"Severity of Illness\"] == cat)]\n",
        "  s9 = oversampled_data[(oversampled_data[\"Stay\"] == 9) &\n",
        "                             (oversampled_data[\"Severity of Illness\"] == cat)]\n",
        "  s10 = oversampled_data[(oversampled_data[\"Stay\"] == 10) &\n",
        "                             (oversampled_data[\"Severity of Illness\"] == cat)]\n",
        "  value = [len(s0), len(s1), len(s2), len(s3), len(s4), len(s5), len(s6), len(s7), len(s8), len(s9), len(s10)]\n",
        "  values_list.append(value)"
      ],
      "metadata": {
        "colab": {
          "base_uri": "https://localhost:8080/",
          "height": 17
        },
        "id": "mw0inU6mf5K5",
        "outputId": "ee393e34-a9d6-4c99-b7bf-9bcfe5c617e8"
      },
      "execution_count": 102,
      "outputs": [
        {
          "output_type": "display_data",
          "data": {
            "text/plain": [
              "<IPython.core.display.HTML object>"
            ],
            "text/html": [
              "\n",
              "  <Style>\n",
              "    pre{\n",
              "      white-space: pre-wrapped;\n",
              "    }\n",
              "  </Style>\n",
              "  "
            ]
          },
          "metadata": {}
        },
        {
          "output_type": "display_data",
          "data": {
            "text/plain": [
              "<IPython.core.display.HTML object>"
            ],
            "text/html": [
              "\n",
              "  <Style>\n",
              "    pre{\n",
              "      white-space: pre-wrapped;\n",
              "    }\n",
              "  </Style>\n",
              "  "
            ]
          },
          "metadata": {}
        }
      ]
    },
    {
      "cell_type": "code",
      "source": [
        "# Visualizing the relationship between the severity of illness and stay duration\n",
        "# as bar charts\n",
        "stay_cat = ['0-10', '11-20', '21-30', '31-40',\n",
        "           '41-50', '51-60', '61-70', '71-80', '81-90',\n",
        "           '91-100', 'More than 100 Days']\n",
        "color_map = plt.get_cmap(\"inferno\", 11)\n",
        "fig, axs = plt.subplots(nrows = 1, ncols = 3, figsize=(10,9))\n",
        "axs = axs.flatten()\n",
        "\n",
        "for i in range(len(categories)):\n",
        "  ax = axs[i]\n",
        "  ax.bar(stay_cat, values_list[i], color=color_map(i+3))\n",
        "  ax.set_title(categories[i] + \" Severity\\nStay Duration Distribution\")\n",
        "  ax.set_ylabel(\"Frequency\")\n",
        "  ax.set_xlabel(\"Stay Duration (Days)\")\n",
        "  ax.set_xticklabels(stay_cat, rotation = \"vertical\")\n",
        "\n",
        "fig.tight_layout()\n",
        "plt.suptitle(\"Distribution of Stay Duration based on Severity of Illness\", y = 0)\n",
        "plt.show()"
      ],
      "metadata": {
        "colab": {
          "base_uri": "https://localhost:8080/",
          "height": 974
        },
        "id": "Wb6_CDzClr4d",
        "outputId": "00225815-1ae7-44c7-fedf-3a27c4fcd5fe"
      },
      "execution_count": 110,
      "outputs": [
        {
          "output_type": "display_data",
          "data": {
            "text/plain": [
              "<IPython.core.display.HTML object>"
            ],
            "text/html": [
              "\n",
              "  <Style>\n",
              "    pre{\n",
              "      white-space: pre-wrapped;\n",
              "    }\n",
              "  </Style>\n",
              "  "
            ]
          },
          "metadata": {}
        },
        {
          "output_type": "display_data",
          "data": {
            "text/plain": [
              "<IPython.core.display.HTML object>"
            ],
            "text/html": [
              "\n",
              "  <Style>\n",
              "    pre{\n",
              "      white-space: pre-wrapped;\n",
              "    }\n",
              "  </Style>\n",
              "  "
            ]
          },
          "metadata": {}
        },
        {
          "output_type": "stream",
          "name": "stderr",
          "text": [
            "<ipython-input-110-345b7513e6ec>:15: UserWarning: FixedFormatter should only be used together with FixedLocator\n",
            "  ax.set_xticklabels(stay_cat, rotation = \"vertical\")\n"
          ]
        },
        {
          "output_type": "display_data",
          "data": {
            "text/plain": [
              "<Figure size 1000x900 with 3 Axes>"
            ],
            "image/png": "[encoded data removed]"
          },
          "metadata": {}
        }
      ]
    },
    {
      "cell_type": "markdown",
      "source": [
        "From the bar charts above, it can be observed no matter the severity of illness, the distribution of the stay duration stays more or less the same, which infers that the severity of illness has close to no correlation to the stay duration."
      ],
      "metadata": {
        "id": "esXFHqIOqnsK"
      }
    },
    {
      "cell_type": "code",
      "source": [
        "# Visualizing number of visitors and stay duration as a scatter plot\n",
        "plt.scatter(oversampled_data[\"Visitors with Patient\"], oversampled_data[\"Stay\"],\n",
        "            marker = \"o\")\n",
        "plt.title(\"Visitors with Patient vs Stay Duration Scatter plot\")\n",
        "plt.xlabel(\"Number of Visitors with Patient\")\n",
        "plt.ylabel(\"Stay Duration\")\n",
        "plt.show()"
      ],
      "metadata": {
        "colab": {
          "base_uri": "https://localhost:8080/",
          "height": 472
        },
        "id": "tZk9f2LWrCF7",
        "outputId": "15ddaefa-afc6-4dd3-cc3b-e747c09530ec"
      },
      "execution_count": 111,
      "outputs": [
        {
          "output_type": "display_data",
          "data": {
            "text/plain": [
              "<IPython.core.display.HTML object>"
            ],
            "text/html": [
              "\n",
              "  <Style>\n",
              "    pre{\n",
              "      white-space: pre-wrapped;\n",
              "    }\n",
              "  </Style>\n",
              "  "
            ]
          },
          "metadata": {}
        },
        {
          "output_type": "display_data",
          "data": {
            "text/plain": [
              "<IPython.core.display.HTML object>"
            ],
            "text/html": [
              "\n",
              "  <Style>\n",
              "    pre{\n",
              "      white-space: pre-wrapped;\n",
              "    }\n",
              "  </Style>\n",
              "  "
            ]
          },
          "metadata": {}
        },
        {
          "output_type": "display_data",
          "data": {
            "text/plain": [
              "<Figure size 640x480 with 1 Axes>"
            ],
            "image/png": "[encoded data removed]"
          },
          "metadata": {}
        }
      ]
    },
    {
      "cell_type": "markdown",
      "source": [
        "Similarly to the scatter plot of Age vs Stay Duration, it can be observed that there is a lack of linearity between the number of vistors and the stay duration, hence it can be concluded that the number of visitors with a patient barely affects the patient's stay duration."
      ],
      "metadata": {
        "id": "qujDQgYMsVgD"
      }
    },
    {
      "cell_type": "code",
      "source": [
        "# Get Categorical columns\n",
        "cat_cols = oversampled_data.select_dtypes(include=\"object\").columns\n",
        "cat_cols"
      ],
      "metadata": {
        "colab": {
          "base_uri": "https://localhost:8080/",
          "height": 69
        },
        "id": "wnj3SrNjsh5n",
        "outputId": "217bffd2-0d67-48f6-c0f1-e96b5736bfea"
      },
      "execution_count": 77,
      "outputs": [
        {
          "output_type": "display_data",
          "data": {
            "text/plain": [
              "<IPython.core.display.HTML object>"
            ],
            "text/html": [
              "\n",
              "  <Style>\n",
              "    pre{\n",
              "      white-space: pre-wrapped;\n",
              "    }\n",
              "  </Style>\n",
              "  "
            ]
          },
          "metadata": {}
        },
        {
          "output_type": "display_data",
          "data": {
            "text/plain": [
              "<IPython.core.display.HTML object>"
            ],
            "text/html": [
              "\n",
              "  <Style>\n",
              "    pre{\n",
              "      white-space: pre-wrapped;\n",
              "    }\n",
              "  </Style>\n",
              "  "
            ]
          },
          "metadata": {}
        },
        {
          "output_type": "execute_result",
          "data": {
            "text/plain": [
              "Index(['Hospital_type_code', 'Ward_Type', 'Type of Admission',\n",
              "       'Severity of Illness', 'Age'],\n",
              "      dtype='object')"
            ]
          },
          "metadata": {},
          "execution_count": 77
        }
      ]
    },
    {
      "cell_type": "code",
      "source": [
        "# Label Encoding data to visualize at a heatmap\n",
        "from sklearn.preprocessing import LabelEncoder\n",
        "le = LabelEncoder()\n",
        "encoded_df = oversampled_data.copy()\n",
        "for col in cat_cols:\n",
        "  encoded_df[col] = le.fit_transform(oversampled_data[col])\n",
        "encoded_df"
      ],
      "metadata": {
        "colab": {
          "base_uri": "https://localhost:8080/",
          "height": 485
        },
        "id": "qvuV9OjcrGJc",
        "outputId": "9b925c12-838f-4092-c78e-40ff1da3d6d3"
      },
      "execution_count": 78,
      "outputs": [
        {
          "output_type": "display_data",
          "data": {
            "text/plain": [
              "<IPython.core.display.HTML object>"
            ],
            "text/html": [
              "\n",
              "  <Style>\n",
              "    pre{\n",
              "      white-space: pre-wrapped;\n",
              "    }\n",
              "  </Style>\n",
              "  "
            ]
          },
          "metadata": {}
        },
        {
          "output_type": "display_data",
          "data": {
            "text/plain": [
              "<IPython.core.display.HTML object>"
            ],
            "text/html": [
              "\n",
              "  <Style>\n",
              "    pre{\n",
              "      white-space: pre-wrapped;\n",
              "    }\n",
              "  </Style>\n",
              "  "
            ]
          },
          "metadata": {}
        },
        {
          "output_type": "execute_result",
          "data": {
            "text/plain": [
              "        Hospital_code  Hospital_type_code  Ward_Type  Type of Admission  \\\n",
              "147507             23                   0          2                  0   \n",
              "8992               23                   0          1                  0   \n",
              "91680              23                   0          1                  1   \n",
              "248851             28                   1          2                  1   \n",
              "190537             25                   4          3                  0   \n",
              "...               ...                 ...        ...                ...   \n",
              "205304             27                   0          3                  1   \n",
              "33635              10                   4          1                  0   \n",
              "216965             27                   0          3                  1   \n",
              "1192               15                   2          1                  2   \n",
              "39791              11                   1          3                  1   \n",
              "\n",
              "        Severity of Illness  Visitors with Patient  Age  Stay  Stay_Type  \n",
              "147507                    1                      7    8    10          1  \n",
              "8992                      1                      4    1     2          0  \n",
              "91680                     1                      7    6     7          1  \n",
              "248851                    1                      4    2     9          1  \n",
              "190537                    1                      2    2     6          1  \n",
              "...                     ...                    ...  ...   ...        ...  \n",
              "205304                    0                      4    5     9          1  \n",
              "33635                     2                      5    7     7          1  \n",
              "216965                    0                      6    0     5          1  \n",
              "1192                      0                      4    5     1          0  \n",
              "39791                     0                      2    6     0          0  \n",
              "\n",
              "[104174 rows x 9 columns]"
            ],
            "text/html": [
              "\n",
              "\n",
              "  <div id=\"df-8a766200-f2ae-4360-9665-a9aedfb124a5\">\n",
              "    <div class=\"colab-df-container\">\n",
              "      <div>\n",
              "<style scoped>\n",
              "    .dataframe tbody tr th:only-of-type {\n",
              "        vertical-align: middle;\n",
              "    }\n",
              "\n",
              "    .dataframe tbody tr th {\n",
              "        vertical-align: top;\n",
              "    }\n",
              "\n",
              "    .dataframe thead th {\n",
              "        text-align: right;\n",
              "    }\n",
              "</style>\n",
              "<table border=\"1\" class=\"dataframe\">\n",
              "  <thead>\n",
              "    <tr style=\"text-align: right;\">\n",
              "      <th></th>\n",
              "      <th>Hospital_code</th>\n",
              "      <th>Hospital_type_code</th>\n",
              "      <th>Ward_Type</th>\n",
              "      <th>Type of Admission</th>\n",
              "      <th>Severity of Illness</th>\n",
              "      <th>Visitors with Patient</th>\n",
              "      <th>Age</th>\n",
              "      <th>Stay</th>\n",
              "      <th>Stay_Type</th>\n",
              "    </tr>\n",
              "  </thead>\n",
              "  <tbody>\n",
              "    <tr>\n",
              "      <th>147507</th>\n",
              "      <td>23</td>\n",
              "      <td>0</td>\n",
              "      <td>2</td>\n",
              "      <td>0</td>\n",
              "      <td>1</td>\n",
              "      <td>7</td>\n",
              "      <td>8</td>\n",
              "      <td>10</td>\n",
              "      <td>1</td>\n",
              "    </tr>\n",
              "    <tr>\n",
              "      <th>8992</th>\n",
              "      <td>23</td>\n",
              "      <td>0</td>\n",
              "      <td>1</td>\n",
              "      <td>0</td>\n",
              "      <td>1</td>\n",
              "      <td>4</td>\n",
              "      <td>1</td>\n",
              "      <td>2</td>\n",
              "      <td>0</td>\n",
              "    </tr>\n",
              "    <tr>\n",
              "      <th>91680</th>\n",
              "      <td>23</td>\n",
              "      <td>0</td>\n",
              "      <td>1</td>\n",
              "      <td>1</td>\n",
              "      <td>1</td>\n",
              "      <td>7</td>\n",
              "      <td>6</td>\n",
              "      <td>7</td>\n",
              "      <td>1</td>\n",
              "    </tr>\n",
              "    <tr>\n",
              "      <th>248851</th>\n",
              "      <td>28</td>\n",
              "      <td>1</td>\n",
              "      <td>2</td>\n",
              "      <td>1</td>\n",
              "      <td>1</td>\n",
              "      <td>4</td>\n",
              "      <td>2</td>\n",
              "      <td>9</td>\n",
              "      <td>1</td>\n",
              "    </tr>\n",
              "    <tr>\n",
              "      <th>190537</th>\n",
              "      <td>25</td>\n",
              "      <td>4</td>\n",
              "      <td>3</td>\n",
              "      <td>0</td>\n",
              "      <td>1</td>\n",
              "      <td>2</td>\n",
              "      <td>2</td>\n",
              "      <td>6</td>\n",
              "      <td>1</td>\n",
              "    </tr>\n",
              "    <tr>\n",
              "      <th>...</th>\n",
              "      <td>...</td>\n",
              "      <td>...</td>\n",
              "      <td>...</td>\n",
              "      <td>...</td>\n",
              "      <td>...</td>\n",
              "      <td>...</td>\n",
              "      <td>...</td>\n",
              "      <td>...</td>\n",
              "      <td>...</td>\n",
              "    </tr>\n",
              "    <tr>\n",
              "      <th>205304</th>\n",
              "      <td>27</td>\n",
              "      <td>0</td>\n",
              "      <td>3</td>\n",
              "      <td>1</td>\n",
              "      <td>0</td>\n",
              "      <td>4</td>\n",
              "      <td>5</td>\n",
              "      <td>9</td>\n",
              "      <td>1</td>\n",
              "    </tr>\n",
              "    <tr>\n",
              "      <th>33635</th>\n",
              "      <td>10</td>\n",
              "      <td>4</td>\n",
              "      <td>1</td>\n",
              "      <td>0</td>\n",
              "      <td>2</td>\n",
              "      <td>5</td>\n",
              "      <td>7</td>\n",
              "      <td>7</td>\n",
              "      <td>1</td>\n",
              "    </tr>\n",
              "    <tr>\n",
              "      <th>216965</th>\n",
              "      <td>27</td>\n",
              "      <td>0</td>\n",
              "      <td>3</td>\n",
              "      <td>1</td>\n",
              "      <td>0</td>\n",
              "      <td>6</td>\n",
              "      <td>0</td>\n",
              "      <td>5</td>\n",
              "      <td>1</td>\n",
              "    </tr>\n",
              "    <tr>\n",
              "      <th>1192</th>\n",
              "      <td>15</td>\n",
              "      <td>2</td>\n",
              "      <td>1</td>\n",
              "      <td>2</td>\n",
              "      <td>0</td>\n",
              "      <td>4</td>\n",
              "      <td>5</td>\n",
              "      <td>1</td>\n",
              "      <td>0</td>\n",
              "    </tr>\n",
              "    <tr>\n",
              "      <th>39791</th>\n",
              "      <td>11</td>\n",
              "      <td>1</td>\n",
              "      <td>3</td>\n",
              "      <td>1</td>\n",
              "      <td>0</td>\n",
              "      <td>2</td>\n",
              "      <td>6</td>\n",
              "      <td>0</td>\n",
              "      <td>0</td>\n",
              "    </tr>\n",
              "  </tbody>\n",
              "</table>\n",
              "<p>104174 rows × 9 columns</p>\n",
              "</div>\n",
              "      <button class=\"colab-df-convert\" onclick=\"convertToInteractive('df-8a766200-f2ae-4360-9665-a9aedfb124a5')\"\n",
              "              title=\"Convert this dataframe to an interactive table.\"\n",
              "              style=\"display:none;\">\n",
              "\n",
              "  <svg xmlns=\"http://www.w3.org/2000/svg\" height=\"24px\"viewBox=\"0 0 24 24\"\n",
              "       width=\"24px\">\n",
              "    <path d=\"M0 0h24v24H0V0z\" fill=\"none\"/>\n",
              "    <path d=\"M18.56 5.44l.94 2.06.94-2.06 2.06-.94-2.06-.94-.94-2.06-.94 2.06-2.06.94zm-11 1L8.5 8.5l.94-2.06 2.06-.94-2.06-.94L8.5 2.5l-.94 2.06-2.06.94zm10 10l.94 2.06.94-2.06 2.06-.94-2.06-.94-.94-2.06-.94 2.06-2.06.94z\"/><path d=\"M17.41 7.96l-1.37-1.37c-.4-.4-.92-.59-1.43-.59-.52 0-1.04.2-1.43.59L10.3 9.45l-7.72 7.72c-.78.78-.78 2.05 0 2.83L4 21.41c.39.39.9.59 1.41.59.51 0 1.02-.2 1.41-.59l7.78-7.78 2.81-2.81c.8-.78.8-2.07 0-2.86zM5.41 20L4 18.59l7.72-7.72 1.47 1.35L5.41 20z\"/>\n",
              "  </svg>\n",
              "      </button>\n",
              "\n",
              "\n",
              "\n",
              "    <div id=\"df-d145ff9b-5b08-46a0-a98e-2eb2dadd3ec0\">\n",
              "      <button class=\"colab-df-quickchart\" onclick=\"quickchart('df-d145ff9b-5b08-46a0-a98e-2eb2dadd3ec0')\"\n",
              "              title=\"Suggest charts.\"\n",
              "              style=\"display:none;\">\n",
              "\n",
              "<svg xmlns=\"http://www.w3.org/2000/svg\" height=\"24px\"viewBox=\"0 0 24 24\"\n",
              "     width=\"24px\">\n",
              "    <g>\n",
              "        <path d=\"M19 3H5c-1.1 0-2 .9-2 2v14c0 1.1.9 2 2 2h14c1.1 0 2-.9 2-2V5c0-1.1-.9-2-2-2zM9 17H7v-7h2v7zm4 0h-2V7h2v10zm4 0h-2v-4h2v4z\"/>\n",
              "    </g>\n",
              "</svg>\n",
              "      </button>\n",
              "    </div>\n",
              "\n",
              "<style>\n",
              "  .colab-df-quickchart {\n",
              "    background-color: #E8F0FE;\n",
              "    border: none;\n",
              "    border-radius: 50%;\n",
              "    cursor: pointer;\n",
              "    display: none;\n",
              "    fill: #1967D2;\n",
              "    height: 32px;\n",
              "    padding: 0 0 0 0;\n",
              "    width: 32px;\n",
              "  }\n",
              "\n",
              "  .colab-df-quickchart:hover {\n",
              "    background-color: #E2EBFA;\n",
              "    box-shadow: 0px 1px 2px rgba(60, 64, 67, 0.3), 0px 1px 3px 1px rgba(60, 64, 67, 0.15);\n",
              "    fill: #174EA6;\n",
              "  }\n",
              "\n",
              "  [theme=dark] .colab-df-quickchart {\n",
              "    background-color: #3B4455;\n",
              "    fill: #D2E3FC;\n",
              "  }\n",
              "\n",
              "  [theme=dark] .colab-df-quickchart:hover {\n",
              "    background-color: #434B5C;\n",
              "    box-shadow: 0px 1px 3px 1px rgba(0, 0, 0, 0.15);\n",
              "    filter: drop-shadow(0px 1px 2px rgba(0, 0, 0, 0.3));\n",
              "    fill: #FFFFFF;\n",
              "  }\n",
              "</style>\n",
              "\n",
              "    <script>\n",
              "      async function quickchart(key) {\n",
              "        const containerElement = document.querySelector('#' + key);\n",
              "        const charts = await google.colab.kernel.invokeFunction(\n",
              "            'suggestCharts', [key], {});\n",
              "      }\n",
              "    </script>\n",
              "\n",
              "      <script>\n",
              "\n",
              "function displayQuickchartButton(domScope) {\n",
              "  let quickchartButtonEl =\n",
              "    domScope.querySelector('#df-d145ff9b-5b08-46a0-a98e-2eb2dadd3ec0 button.colab-df-quickchart');\n",
              "  quickchartButtonEl.style.display =\n",
              "    google.colab.kernel.accessAllowed ? 'block' : 'none';\n",
              "}\n",
              "\n",
              "        displayQuickchartButton(document);\n",
              "      </script>\n",
              "      <style>\n",
              "    .colab-df-container {\n",
              "      display:flex;\n",
              "      flex-wrap:wrap;\n",
              "      gap: 12px;\n",
              "    }\n",
              "\n",
              "    .colab-df-convert {\n",
              "      background-color: #E8F0FE;\n",
              "      border: none;\n",
              "      border-radius: 50%;\n",
              "      cursor: pointer;\n",
              "      display: none;\n",
              "      fill: #1967D2;\n",
              "      height: 32px;\n",
              "      padding: 0 0 0 0;\n",
              "      width: 32px;\n",
              "    }\n",
              "\n",
              "    .colab-df-convert:hover {\n",
              "      background-color: #E2EBFA;\n",
              "      box-shadow: 0px 1px 2px rgba(60, 64, 67, 0.3), 0px 1px 3px 1px rgba(60, 64, 67, 0.15);\n",
              "      fill: #174EA6;\n",
              "    }\n",
              "\n",
              "    [theme=dark] .colab-df-convert {\n",
              "      background-color: #3B4455;\n",
              "      fill: #D2E3FC;\n",
              "    }\n",
              "\n",
              "    [theme=dark] .colab-df-convert:hover {\n",
              "      background-color: #434B5C;\n",
              "      box-shadow: 0px 1px 3px 1px rgba(0, 0, 0, 0.15);\n",
              "      filter: drop-shadow(0px 1px 2px rgba(0, 0, 0, 0.3));\n",
              "      fill: #FFFFFF;\n",
              "    }\n",
              "  </style>\n",
              "\n",
              "      <script>\n",
              "        const buttonEl =\n",
              "          document.querySelector('#df-8a766200-f2ae-4360-9665-a9aedfb124a5 button.colab-df-convert');\n",
              "        buttonEl.style.display =\n",
              "          google.colab.kernel.accessAllowed ? 'block' : 'none';\n",
              "\n",
              "        async function convertToInteractive(key) {\n",
              "          const element = document.querySelector('#df-8a766200-f2ae-4360-9665-a9aedfb124a5');\n",
              "          const dataTable =\n",
              "            await google.colab.kernel.invokeFunction('convertToInteractive',\n",
              "                                                     [key], {});\n",
              "          if (!dataTable) return;\n",
              "\n",
              "          const docLinkHtml = 'Like what you see? Visit the ' +\n",
              "            '<a target=\"_blank\" href=https://colab.research.google.com/notebooks/data_table.ipynb>data table notebook</a>'\n",
              "            + ' to learn more about interactive tables.';\n",
              "          element.innerHTML = '';\n",
              "          dataTable['output_type'] = 'display_data';\n",
              "          await google.colab.output.renderOutput(dataTable, element);\n",
              "          const docLink = document.createElement('div');\n",
              "          docLink.innerHTML = docLinkHtml;\n",
              "          element.appendChild(docLink);\n",
              "        }\n",
              "      </script>\n",
              "    </div>\n",
              "  </div>\n"
            ]
          },
          "metadata": {},
          "execution_count": 78
        }
      ]
    },
    {
      "cell_type": "markdown",
      "source": [
        "In order to visualize all variables on a heatmap as well as use them for machine learning, they must be converted to numerical values, which can be done using label encoding as demonstrated above."
      ],
      "metadata": {
        "id": "lQP0ZF7RAXwt"
      }
    },
    {
      "cell_type": "code",
      "source": [
        "# Correlation of variables with heatmap\n",
        "correlation_matrix = encoded_df.corr()\n",
        "sb.heatmap(correlation_matrix, annot=True, cmap=\"coolwarm\", fmt=\".1f\")\n",
        "plt.title(\"Numerical columns Correlation Heatmap\")\n",
        "plt.show()"
      ],
      "metadata": {
        "colab": {
          "base_uri": "https://localhost:8080/",
          "height": 576
        },
        "id": "O8_yFdLPZVEn",
        "outputId": "5ddc4c6f-721e-49d5-a671-2655bcf8c379"
      },
      "execution_count": 79,
      "outputs": [
        {
          "output_type": "display_data",
          "data": {
            "text/plain": [
              "<IPython.core.display.HTML object>"
            ],
            "text/html": [
              "\n",
              "  <Style>\n",
              "    pre{\n",
              "      white-space: pre-wrapped;\n",
              "    }\n",
              "  </Style>\n",
              "  "
            ]
          },
          "metadata": {}
        },
        {
          "output_type": "display_data",
          "data": {
            "text/plain": [
              "<IPython.core.display.HTML object>"
            ],
            "text/html": [
              "\n",
              "  <Style>\n",
              "    pre{\n",
              "      white-space: pre-wrapped;\n",
              "    }\n",
              "  </Style>\n",
              "  "
            ]
          },
          "metadata": {}
        },
        {
          "output_type": "display_data",
          "data": {
            "text/plain": [
              "<Figure size 640x480 with 2 Axes>"
            ],
            "image/png": "[encoded data removed]"
          },
          "metadata": {}
        }
      ]
    },
    {
      "cell_type": "markdown",
      "source": [
        "As shown in the heatmap above, the variables are truly independent from each other but they also have a very low correlation score with the target variable \"Stay_Type\", except for \"Stay\" since \"Stay_type\" was created based on it. This indicates that within the dataset used, the stay duration is also independent from all the other variables relevant to this research."
      ],
      "metadata": {
        "id": "6ewEBMy7s8nP"
      }
    },
    {
      "cell_type": "markdown",
      "source": [
        "# **4.0 Developing ML and DL Prediction Model.**"
      ],
      "metadata": {
        "id": "HeV5dKASoBfh"
      }
    },
    {
      "cell_type": "markdown",
      "source": [
        "## **4.1 Data Pre-processing**"
      ],
      "metadata": {
        "id": "k9ZFofy96Vcb"
      }
    },
    {
      "cell_type": "code",
      "source": [
        "# Copying cleaned data\n",
        "copy_df = oversampled_data.copy()\n",
        "copy_df"
      ],
      "metadata": {
        "colab": {
          "base_uri": "https://localhost:8080/",
          "height": 641
        },
        "id": "80aIkiM4qyri",
        "outputId": "7520b9c3-cf56-46cb-dafd-b43743f42b22"
      },
      "execution_count": 80,
      "outputs": [
        {
          "output_type": "display_data",
          "data": {
            "text/plain": [
              "<IPython.core.display.HTML object>"
            ],
            "text/html": [
              "\n",
              "  <Style>\n",
              "    pre{\n",
              "      white-space: pre-wrapped;\n",
              "    }\n",
              "  </Style>\n",
              "  "
            ]
          },
          "metadata": {}
        },
        {
          "output_type": "display_data",
          "data": {
            "text/plain": [
              "<IPython.core.display.HTML object>"
            ],
            "text/html": [
              "\n",
              "  <Style>\n",
              "    pre{\n",
              "      white-space: pre-wrapped;\n",
              "    }\n",
              "  </Style>\n",
              "  "
            ]
          },
          "metadata": {}
        },
        {
          "output_type": "execute_result",
          "data": {
            "text/plain": [
              "        Hospital_code Hospital_type_code Ward_Type Type of Admission  \\\n",
              "147507             23                  a         R         Emergency   \n",
              "8992               23                  a         Q         Emergency   \n",
              "91680              23                  a         Q            Trauma   \n",
              "248851             28                  b         R            Trauma   \n",
              "190537             25                  e         S         Emergency   \n",
              "...               ...                ...       ...               ...   \n",
              "205304             27                  a         S            Trauma   \n",
              "33635              10                  e         Q         Emergency   \n",
              "216965             27                  a         S            Trauma   \n",
              "1192               15                  c         Q            Urgent   \n",
              "39791              11                  b         S            Trauma   \n",
              "\n",
              "       Severity of Illness  Visitors with Patient    Age  Stay  Stay_Type  \n",
              "147507               Minor                      7  81-90    10          1  \n",
              "8992                 Minor                      4  11-20     2          0  \n",
              "91680                Minor                      7  61-70     7          1  \n",
              "248851               Minor                      4  21-30     9          1  \n",
              "190537               Minor                      2  21-30     6          1  \n",
              "...                    ...                    ...    ...   ...        ...  \n",
              "205304             Extreme                      4  51-60     9          1  \n",
              "33635             Moderate                      5  71-80     7          1  \n",
              "216965             Extreme                      6   0-10     5          1  \n",
              "1192               Extreme                      4  51-60     1          0  \n",
              "39791              Extreme                      2  61-70     0          0  \n",
              "\n",
              "[104174 rows x 9 columns]"
            ],
            "text/html": [
              "\n",
              "\n",
              "  <div id=\"df-b031b341-6433-4ef0-b283-c3f7c5be74b5\">\n",
              "    <div class=\"colab-df-container\">\n",
              "      <div>\n",
              "<style scoped>\n",
              "    .dataframe tbody tr th:only-of-type {\n",
              "        vertical-align: middle;\n",
              "    }\n",
              "\n",
              "    .dataframe tbody tr th {\n",
              "        vertical-align: top;\n",
              "    }\n",
              "\n",
              "    .dataframe thead th {\n",
              "        text-align: right;\n",
              "    }\n",
              "</style>\n",
              "<table border=\"1\" class=\"dataframe\">\n",
              "  <thead>\n",
              "    <tr style=\"text-align: right;\">\n",
              "      <th></th>\n",
              "      <th>Hospital_code</th>\n",
              "      <th>Hospital_type_code</th>\n",
              "      <th>Ward_Type</th>\n",
              "      <th>Type of Admission</th>\n",
              "      <th>Severity of Illness</th>\n",
              "      <th>Visitors with Patient</th>\n",
              "      <th>Age</th>\n",
              "      <th>Stay</th>\n",
              "      <th>Stay_Type</th>\n",
              "    </tr>\n",
              "  </thead>\n",
              "  <tbody>\n",
              "    <tr>\n",
              "      <th>147507</th>\n",
              "      <td>23</td>\n",
              "      <td>a</td>\n",
              "      <td>R</td>\n",
              "      <td>Emergency</td>\n",
              "      <td>Minor</td>\n",
              "      <td>7</td>\n",
              "      <td>81-90</td>\n",
              "      <td>10</td>\n",
              "      <td>1</td>\n",
              "    </tr>\n",
              "    <tr>\n",
              "      <th>8992</th>\n",
              "      <td>23</td>\n",
              "      <td>a</td>\n",
              "      <td>Q</td>\n",
              "      <td>Emergency</td>\n",
              "      <td>Minor</td>\n",
              "      <td>4</td>\n",
              "      <td>11-20</td>\n",
              "      <td>2</td>\n",
              "      <td>0</td>\n",
              "    </tr>\n",
              "    <tr>\n",
              "      <th>91680</th>\n",
              "      <td>23</td>\n",
              "      <td>a</td>\n",
              "      <td>Q</td>\n",
              "      <td>Trauma</td>\n",
              "      <td>Minor</td>\n",
              "      <td>7</td>\n",
              "      <td>61-70</td>\n",
              "      <td>7</td>\n",
              "      <td>1</td>\n",
              "    </tr>\n",
              "    <tr>\n",
              "      <th>248851</th>\n",
              "      <td>28</td>\n",
              "      <td>b</td>\n",
              "      <td>R</td>\n",
              "      <td>Trauma</td>\n",
              "      <td>Minor</td>\n",
              "      <td>4</td>\n",
              "      <td>21-30</td>\n",
              "      <td>9</td>\n",
              "      <td>1</td>\n",
              "    </tr>\n",
              "    <tr>\n",
              "      <th>190537</th>\n",
              "      <td>25</td>\n",
              "      <td>e</td>\n",
              "      <td>S</td>\n",
              "      <td>Emergency</td>\n",
              "      <td>Minor</td>\n",
              "      <td>2</td>\n",
              "      <td>21-30</td>\n",
              "      <td>6</td>\n",
              "      <td>1</td>\n",
              "    </tr>\n",
              "    <tr>\n",
              "      <th>...</th>\n",
              "      <td>...</td>\n",
              "      <td>...</td>\n",
              "      <td>...</td>\n",
              "      <td>...</td>\n",
              "      <td>...</td>\n",
              "      <td>...</td>\n",
              "      <td>...</td>\n",
              "      <td>...</td>\n",
              "      <td>...</td>\n",
              "    </tr>\n",
              "    <tr>\n",
              "      <th>205304</th>\n",
              "      <td>27</td>\n",
              "      <td>a</td>\n",
              "      <td>S</td>\n",
              "      <td>Trauma</td>\n",
              "      <td>Extreme</td>\n",
              "      <td>4</td>\n",
              "      <td>51-60</td>\n",
              "      <td>9</td>\n",
              "      <td>1</td>\n",
              "    </tr>\n",
              "    <tr>\n",
              "      <th>33635</th>\n",
              "      <td>10</td>\n",
              "      <td>e</td>\n",
              "      <td>Q</td>\n",
              "      <td>Emergency</td>\n",
              "      <td>Moderate</td>\n",
              "      <td>5</td>\n",
              "      <td>71-80</td>\n",
              "      <td>7</td>\n",
              "      <td>1</td>\n",
              "    </tr>\n",
              "    <tr>\n",
              "      <th>216965</th>\n",
              "      <td>27</td>\n",
              "      <td>a</td>\n",
              "      <td>S</td>\n",
              "      <td>Trauma</td>\n",
              "      <td>Extreme</td>\n",
              "      <td>6</td>\n",
              "      <td>0-10</td>\n",
              "      <td>5</td>\n",
              "      <td>1</td>\n",
              "    </tr>\n",
              "    <tr>\n",
              "      <th>1192</th>\n",
              "      <td>15</td>\n",
              "      <td>c</td>\n",
              "      <td>Q</td>\n",
              "      <td>Urgent</td>\n",
              "      <td>Extreme</td>\n",
              "      <td>4</td>\n",
              "      <td>51-60</td>\n",
              "      <td>1</td>\n",
              "      <td>0</td>\n",
              "    </tr>\n",
              "    <tr>\n",
              "      <th>39791</th>\n",
              "      <td>11</td>\n",
              "      <td>b</td>\n",
              "      <td>S</td>\n",
              "      <td>Trauma</td>\n",
              "      <td>Extreme</td>\n",
              "      <td>2</td>\n",
              "      <td>61-70</td>\n",
              "      <td>0</td>\n",
              "      <td>0</td>\n",
              "    </tr>\n",
              "  </tbody>\n",
              "</table>\n",
              "<p>104174 rows × 9 columns</p>\n",
              "</div>\n",
              "      <button class=\"colab-df-convert\" onclick=\"convertToInteractive('df-b031b341-6433-4ef0-b283-c3f7c5be74b5')\"\n",
              "              title=\"Convert this dataframe to an interactive table.\"\n",
              "              style=\"display:none;\">\n",
              "\n",
              "  <svg xmlns=\"http://www.w3.org/2000/svg\" height=\"24px\"viewBox=\"0 0 24 24\"\n",
              "       width=\"24px\">\n",
              "    <path d=\"M0 0h24v24H0V0z\" fill=\"none\"/>\n",
              "    <path d=\"M18.56 5.44l.94 2.06.94-2.06 2.06-.94-2.06-.94-.94-2.06-.94 2.06-2.06.94zm-11 1L8.5 8.5l.94-2.06 2.06-.94-2.06-.94L8.5 2.5l-.94 2.06-2.06.94zm10 10l.94 2.06.94-2.06 2.06-.94-2.06-.94-.94-2.06-.94 2.06-2.06.94z\"/><path d=\"M17.41 7.96l-1.37-1.37c-.4-.4-.92-.59-1.43-.59-.52 0-1.04.2-1.43.59L10.3 9.45l-7.72 7.72c-.78.78-.78 2.05 0 2.83L4 21.41c.39.39.9.59 1.41.59.51 0 1.02-.2 1.41-.59l7.78-7.78 2.81-2.81c.8-.78.8-2.07 0-2.86zM5.41 20L4 18.59l7.72-7.72 1.47 1.35L5.41 20z\"/>\n",
              "  </svg>\n",
              "      </button>\n",
              "\n",
              "\n",
              "\n",
              "    <div id=\"df-b3b32f3a-3308-4595-bca5-87355f199476\">\n",
              "      <button class=\"colab-df-quickchart\" onclick=\"quickchart('df-b3b32f3a-3308-4595-bca5-87355f199476')\"\n",
              "              title=\"Suggest charts.\"\n",
              "              style=\"display:none;\">\n",
              "\n",
              "<svg xmlns=\"http://www.w3.org/2000/svg\" height=\"24px\"viewBox=\"0 0 24 24\"\n",
              "     width=\"24px\">\n",
              "    <g>\n",
              "        <path d=\"M19 3H5c-1.1 0-2 .9-2 2v14c0 1.1.9 2 2 2h14c1.1 0 2-.9 2-2V5c0-1.1-.9-2-2-2zM9 17H7v-7h2v7zm4 0h-2V7h2v10zm4 0h-2v-4h2v4z\"/>\n",
              "    </g>\n",
              "</svg>\n",
              "      </button>\n",
              "    </div>\n",
              "\n",
              "<style>\n",
              "  .colab-df-quickchart {\n",
              "    background-color: #E8F0FE;\n",
              "    border: none;\n",
              "    border-radius: 50%;\n",
              "    cursor: pointer;\n",
              "    display: none;\n",
              "    fill: #1967D2;\n",
              "    height: 32px;\n",
              "    padding: 0 0 0 0;\n",
              "    width: 32px;\n",
              "  }\n",
              "\n",
              "  .colab-df-quickchart:hover {\n",
              "    background-color: #E2EBFA;\n",
              "    box-shadow: 0px 1px 2px rgba(60, 64, 67, 0.3), 0px 1px 3px 1px rgba(60, 64, 67, 0.15);\n",
              "    fill: #174EA6;\n",
              "  }\n",
              "\n",
              "  [theme=dark] .colab-df-quickchart {\n",
              "    background-color: #3B4455;\n",
              "    fill: #D2E3FC;\n",
              "  }\n",
              "\n",
              "  [theme=dark] .colab-df-quickchart:hover {\n",
              "    background-color: #434B5C;\n",
              "    box-shadow: 0px 1px 3px 1px rgba(0, 0, 0, 0.15);\n",
              "    filter: drop-shadow(0px 1px 2px rgba(0, 0, 0, 0.3));\n",
              "    fill: #FFFFFF;\n",
              "  }\n",
              "</style>\n",
              "\n",
              "    <script>\n",
              "      async function quickchart(key) {\n",
              "        const containerElement = document.querySelector('#' + key);\n",
              "        const charts = await google.colab.kernel.invokeFunction(\n",
              "            'suggestCharts', [key], {});\n",
              "      }\n",
              "    </script>\n",
              "\n",
              "      <script>\n",
              "\n",
              "function displayQuickchartButton(domScope) {\n",
              "  let quickchartButtonEl =\n",
              "    domScope.querySelector('#df-b3b32f3a-3308-4595-bca5-87355f199476 button.colab-df-quickchart');\n",
              "  quickchartButtonEl.style.display =\n",
              "    google.colab.kernel.accessAllowed ? 'block' : 'none';\n",
              "}\n",
              "\n",
              "        displayQuickchartButton(document);\n",
              "      </script>\n",
              "      <style>\n",
              "    .colab-df-container {\n",
              "      display:flex;\n",
              "      flex-wrap:wrap;\n",
              "      gap: 12px;\n",
              "    }\n",
              "\n",
              "    .colab-df-convert {\n",
              "      background-color: #E8F0FE;\n",
              "      border: none;\n",
              "      border-radius: 50%;\n",
              "      cursor: pointer;\n",
              "      display: none;\n",
              "      fill: #1967D2;\n",
              "      height: 32px;\n",
              "      padding: 0 0 0 0;\n",
              "      width: 32px;\n",
              "    }\n",
              "\n",
              "    .colab-df-convert:hover {\n",
              "      background-color: #E2EBFA;\n",
              "      box-shadow: 0px 1px 2px rgba(60, 64, 67, 0.3), 0px 1px 3px 1px rgba(60, 64, 67, 0.15);\n",
              "      fill: #174EA6;\n",
              "    }\n",
              "\n",
              "    [theme=dark] .colab-df-convert {\n",
              "      background-color: #3B4455;\n",
              "      fill: #D2E3FC;\n",
              "    }\n",
              "\n",
              "    [theme=dark] .colab-df-convert:hover {\n",
              "      background-color: #434B5C;\n",
              "      box-shadow: 0px 1px 3px 1px rgba(0, 0, 0, 0.15);\n",
              "      filter: drop-shadow(0px 1px 2px rgba(0, 0, 0, 0.3));\n",
              "      fill: #FFFFFF;\n",
              "    }\n",
              "  </style>\n",
              "\n",
              "      <script>\n",
              "        const buttonEl =\n",
              "          document.querySelector('#df-b031b341-6433-4ef0-b283-c3f7c5be74b5 button.colab-df-convert');\n",
              "        buttonEl.style.display =\n",
              "          google.colab.kernel.accessAllowed ? 'block' : 'none';\n",
              "\n",
              "        async function convertToInteractive(key) {\n",
              "          const element = document.querySelector('#df-b031b341-6433-4ef0-b283-c3f7c5be74b5');\n",
              "          const dataTable =\n",
              "            await google.colab.kernel.invokeFunction('convertToInteractive',\n",
              "                                                     [key], {});\n",
              "          if (!dataTable) return;\n",
              "\n",
              "          const docLinkHtml = 'Like what you see? Visit the ' +\n",
              "            '<a target=\"_blank\" href=https://colab.research.google.com/notebooks/data_table.ipynb>data table notebook</a>'\n",
              "            + ' to learn more about interactive tables.';\n",
              "          element.innerHTML = '';\n",
              "          dataTable['output_type'] = 'display_data';\n",
              "          await google.colab.output.renderOutput(dataTable, element);\n",
              "          const docLink = document.createElement('div');\n",
              "          docLink.innerHTML = docLinkHtml;\n",
              "          element.appendChild(docLink);\n",
              "        }\n",
              "      </script>\n",
              "    </div>\n",
              "  </div>\n"
            ]
          },
          "metadata": {},
          "execution_count": 80
        }
      ]
    },
    {
      "cell_type": "code",
      "source": [
        "# Feature scaling\n",
        "from sklearn.preprocessing import MinMaxScaler\n",
        "scaler = MinMaxScaler()\n",
        "scaled_data = scaler.fit_transform(encoded_df)\n",
        "scaled_df = pd.DataFrame(scaled_data, columns= encoded_df.columns)"
      ],
      "metadata": {
        "id": "ex7wtLxx_2w_",
        "colab": {
          "base_uri": "https://localhost:8080/",
          "height": 17
        },
        "outputId": "e70638c2-8309-4091-a6ba-7e82cf20ea44"
      },
      "execution_count": 112,
      "outputs": [
        {
          "output_type": "display_data",
          "data": {
            "text/plain": [
              "<IPython.core.display.HTML object>"
            ],
            "text/html": [
              "\n",
              "  <Style>\n",
              "    pre{\n",
              "      white-space: pre-wrapped;\n",
              "    }\n",
              "  </Style>\n",
              "  "
            ]
          },
          "metadata": {}
        },
        {
          "output_type": "display_data",
          "data": {
            "text/plain": [
              "<IPython.core.display.HTML object>"
            ],
            "text/html": [
              "\n",
              "  <Style>\n",
              "    pre{\n",
              "      white-space: pre-wrapped;\n",
              "    }\n",
              "  </Style>\n",
              "  "
            ]
          },
          "metadata": {}
        }
      ]
    },
    {
      "cell_type": "markdown",
      "source": [
        "The dataset is scaled using a MinMaxScaler so as to convert the values to corresponding values in the range of 0 to 1. This is done in order to avoid feature dominance, thus improving the model's performance."
      ],
      "metadata": {
        "id": "BmSJn-tHtsur"
      }
    },
    {
      "cell_type": "code",
      "source": [
        "# Extracting target variable and Exploratory variables\n",
        "x = scaled_df.loc[:, ~scaled_df.columns.isin([\"Stay\", \"Stay_Type\"])]\n",
        "y = scaled_df[\"Stay_Type\"]\n",
        "print(\"Independent variable set shape:\", x.shape)\n",
        "print(\"Target variable set shape:\", y.shape)"
      ],
      "metadata": {
        "colab": {
          "base_uri": "https://localhost:8080/",
          "height": 52
        },
        "id": "qJPoiwFkv0o8",
        "outputId": "7a98ddd6-1be1-4bc9-ad41-e1458cd3a075"
      },
      "execution_count": 83,
      "outputs": [
        {
          "output_type": "display_data",
          "data": {
            "text/plain": [
              "<IPython.core.display.HTML object>"
            ],
            "text/html": [
              "\n",
              "  <Style>\n",
              "    pre{\n",
              "      white-space: pre-wrapped;\n",
              "    }\n",
              "  </Style>\n",
              "  "
            ]
          },
          "metadata": {}
        },
        {
          "output_type": "display_data",
          "data": {
            "text/plain": [
              "<IPython.core.display.HTML object>"
            ],
            "text/html": [
              "\n",
              "  <Style>\n",
              "    pre{\n",
              "      white-space: pre-wrapped;\n",
              "    }\n",
              "  </Style>\n",
              "  "
            ]
          },
          "metadata": {}
        },
        {
          "output_type": "stream",
          "name": "stdout",
          "text": [
            "Independent variable set shape: (104174, 7)\n",
            "Target variable set shape: (104174,)\n"
          ]
        }
      ]
    },
    {
      "cell_type": "markdown",
      "source": [
        "The independant variables and target variables are extracted using the pandas loc function. It can be observed that the code and output above that the independent variables (x) comprise of 7 variables, excluding \"Stay\" since it is but a more detailed form of \"Stay_type\" and that the target variable (y) is only one variable."
      ],
      "metadata": {
        "id": "i2DRMKiiuG5k"
      }
    },
    {
      "cell_type": "code",
      "source": [
        "# Converting to numpy array\n",
        "y_arr = np.array(y)\n",
        "x_arr = np.array(x)"
      ],
      "metadata": {
        "colab": {
          "base_uri": "https://localhost:8080/",
          "height": 17
        },
        "id": "ED3NRlUz5ScW",
        "outputId": "8ea533d2-db65-4f76-915e-345c9feb3957"
      },
      "execution_count": 85,
      "outputs": [
        {
          "output_type": "display_data",
          "data": {
            "text/plain": [
              "<IPython.core.display.HTML object>"
            ],
            "text/html": [
              "\n",
              "  <Style>\n",
              "    pre{\n",
              "      white-space: pre-wrapped;\n",
              "    }\n",
              "  </Style>\n",
              "  "
            ]
          },
          "metadata": {}
        },
        {
          "output_type": "display_data",
          "data": {
            "text/plain": [
              "<IPython.core.display.HTML object>"
            ],
            "text/html": [
              "\n",
              "  <Style>\n",
              "    pre{\n",
              "      white-space: pre-wrapped;\n",
              "    }\n",
              "  </Style>\n",
              "  "
            ]
          },
          "metadata": {}
        }
      ]
    },
    {
      "cell_type": "markdown",
      "source": [
        "The numpy array() fucntion is used to convert the variables into numpy arrays."
      ],
      "metadata": {
        "id": "JtuY84dxuwWo"
      }
    },
    {
      "cell_type": "code",
      "source": [
        "# Splitting Dataset\n",
        "from sklearn.model_selection import train_test_split\n",
        "x_train, x_test, y_train, y_test = train_test_split(x_arr, y_arr, test_size = 0.2, random_state = 42)"
      ],
      "metadata": {
        "colab": {
          "base_uri": "https://localhost:8080/",
          "height": 17
        },
        "id": "Oe47EZQE1ZHk",
        "outputId": "ba01debe-891d-40c5-847f-b1583614b159"
      },
      "execution_count": 86,
      "outputs": [
        {
          "output_type": "display_data",
          "data": {
            "text/plain": [
              "<IPython.core.display.HTML object>"
            ],
            "text/html": [
              "\n",
              "  <Style>\n",
              "    pre{\n",
              "      white-space: pre-wrapped;\n",
              "    }\n",
              "  </Style>\n",
              "  "
            ]
          },
          "metadata": {}
        },
        {
          "output_type": "display_data",
          "data": {
            "text/plain": [
              "<IPython.core.display.HTML object>"
            ],
            "text/html": [
              "\n",
              "  <Style>\n",
              "    pre{\n",
              "      white-space: pre-wrapped;\n",
              "    }\n",
              "  </Style>\n",
              "  "
            ]
          },
          "metadata": {}
        }
      ]
    },
    {
      "cell_type": "markdown",
      "source": [
        "The dataset is then split in an 80:20 ratio for training and testing sets respectively using the sci-kit learn train_test_split() function."
      ],
      "metadata": {
        "id": "TCqKk3R3u5v2"
      }
    },
    {
      "cell_type": "code",
      "source": [
        "print(x_train.shape)\n",
        "print(y_train.shape)\n",
        "print(x_test.shape)\n",
        "print(y_test.shape)"
      ],
      "metadata": {
        "id": "EMEw6u_c2XPY",
        "colab": {
          "base_uri": "https://localhost:8080/",
          "height": 86
        },
        "outputId": "f021b5a4-d440-46f4-8da5-7ab5eacd0ce6"
      },
      "execution_count": 87,
      "outputs": [
        {
          "output_type": "display_data",
          "data": {
            "text/plain": [
              "<IPython.core.display.HTML object>"
            ],
            "text/html": [
              "\n",
              "  <Style>\n",
              "    pre{\n",
              "      white-space: pre-wrapped;\n",
              "    }\n",
              "  </Style>\n",
              "  "
            ]
          },
          "metadata": {}
        },
        {
          "output_type": "display_data",
          "data": {
            "text/plain": [
              "<IPython.core.display.HTML object>"
            ],
            "text/html": [
              "\n",
              "  <Style>\n",
              "    pre{\n",
              "      white-space: pre-wrapped;\n",
              "    }\n",
              "  </Style>\n",
              "  "
            ]
          },
          "metadata": {}
        },
        {
          "output_type": "stream",
          "name": "stdout",
          "text": [
            "(83339, 7)\n",
            "(83339,)\n",
            "(20835, 7)\n",
            "(20835,)\n"
          ]
        }
      ]
    },
    {
      "cell_type": "markdown",
      "source": [
        "As shown in the shape outputs above, the training sets contain 83339 rows while the training sets contain 20835 rows, thus confirming the that the split was performed correctly."
      ],
      "metadata": {
        "id": "NwzadfM3vHpc"
      }
    },
    {
      "cell_type": "markdown",
      "source": [
        "## **4.2 Decision Tree Classifier.**"
      ],
      "metadata": {
        "id": "cXroSHmZwWkS"
      }
    },
    {
      "cell_type": "code",
      "source": [
        "# Decision Tree Model\n",
        "from sklearn.tree import DecisionTreeClassifier\n",
        "from sklearn.metrics import accuracy_score, precision_score\n",
        "dt = DecisionTreeClassifier()\n",
        "# Train Model\n",
        "dt.fit(x_train, y_train)\n",
        "# Evaluate model\n",
        "dt_y_pred = dt.predict(x_test)\n",
        "dt_accuracy = accuracy_score(y_test, dt_y_pred)\n",
        "print(\"Decision Tree Classifier Accuracy: %.2f\" %(dt_accuracy*100), \"%\")"
      ],
      "metadata": {
        "colab": {
          "base_uri": "https://localhost:8080/",
          "height": 34
        },
        "id": "Ur72M92Qw1Yr",
        "outputId": "9f806efd-a571-42b0-e282-a8a8e489c5a5"
      },
      "execution_count": 88,
      "outputs": [
        {
          "output_type": "display_data",
          "data": {
            "text/plain": [
              "<IPython.core.display.HTML object>"
            ],
            "text/html": [
              "\n",
              "  <Style>\n",
              "    pre{\n",
              "      white-space: pre-wrapped;\n",
              "    }\n",
              "  </Style>\n",
              "  "
            ]
          },
          "metadata": {}
        },
        {
          "output_type": "display_data",
          "data": {
            "text/plain": [
              "<IPython.core.display.HTML object>"
            ],
            "text/html": [
              "\n",
              "  <Style>\n",
              "    pre{\n",
              "      white-space: pre-wrapped;\n",
              "    }\n",
              "  </Style>\n",
              "  "
            ]
          },
          "metadata": {}
        },
        {
          "output_type": "stream",
          "name": "stdout",
          "text": [
            "Decision Tree Classifier Accuracy: 69.92 %\n"
          ]
        }
      ]
    },
    {
      "cell_type": "markdown",
      "source": [
        "## **4.3 Random Forest Classifier.**"
      ],
      "metadata": {
        "id": "mYiFGYrsxmU8"
      }
    },
    {
      "cell_type": "code",
      "source": [
        "# Model for research question 1\n",
        "from sklearn.ensemble import RandomForestClassifier\n",
        "rf = RandomForestClassifier()\n",
        "# Train Model\n",
        "rf.fit(x_train, y_train)\n",
        "# Evaluate Model\n",
        "rf_y_pred = rf.predict(x_test)\n",
        "rf_accuracy = accuracy_score(y_test, rf_y_pred)\n",
        "print(\"Random Forest Classifier Accuracy: %.2f\" %(rf_accuracy*100), \"%\")"
      ],
      "metadata": {
        "colab": {
          "base_uri": "https://localhost:8080/",
          "height": 34
        },
        "id": "8kmXMZ7_xyQT",
        "outputId": "0ec097c5-141d-4c14-add0-d975412b82e8"
      },
      "execution_count": 89,
      "outputs": [
        {
          "output_type": "display_data",
          "data": {
            "text/plain": [
              "<IPython.core.display.HTML object>"
            ],
            "text/html": [
              "\n",
              "  <Style>\n",
              "    pre{\n",
              "      white-space: pre-wrapped;\n",
              "    }\n",
              "  </Style>\n",
              "  "
            ]
          },
          "metadata": {}
        },
        {
          "output_type": "display_data",
          "data": {
            "text/plain": [
              "<IPython.core.display.HTML object>"
            ],
            "text/html": [
              "\n",
              "  <Style>\n",
              "    pre{\n",
              "      white-space: pre-wrapped;\n",
              "    }\n",
              "  </Style>\n",
              "  "
            ]
          },
          "metadata": {}
        },
        {
          "output_type": "stream",
          "name": "stdout",
          "text": [
            "Random Forest Classifier Accuracy: 71.08 %\n"
          ]
        }
      ]
    },
    {
      "cell_type": "markdown",
      "source": [
        "## **4.4 KNN Model**"
      ],
      "metadata": {
        "id": "bOhDLNcKy-rc"
      }
    },
    {
      "cell_type": "code",
      "source": [
        "from sklearn.metrics import mean_squared_error\n",
        "from sklearn.neighbors import KNeighborsClassifier\n",
        "# Initialize the KNN model and specify the number of neighbors\n",
        "knn_model = KNeighborsClassifier(n_neighbors=5)\n",
        "# Train the KNN model\n",
        "knn_model.fit(x_train, y_train)\n",
        "# Make predictions on the test set\n",
        "knn_predictions = knn_model.predict(x_test)\n",
        "# Evaluate the KNN model\n",
        "knn_accuracy = accuracy_score(y_test, knn_predictions)\n",
        "print(\"KNN Accuracy with 5 neighbours: %.2f\" %(knn_accuracy*100), \"%\")"
      ],
      "metadata": {
        "colab": {
          "base_uri": "https://localhost:8080/",
          "height": 34
        },
        "id": "GttKmaKFzgS8",
        "outputId": "6ee1db75-5028-4855-ec13-751a90a183ee"
      },
      "execution_count": 115,
      "outputs": [
        {
          "output_type": "display_data",
          "data": {
            "text/plain": [
              "<IPython.core.display.HTML object>"
            ],
            "text/html": [
              "\n",
              "  <Style>\n",
              "    pre{\n",
              "      white-space: pre-wrapped;\n",
              "    }\n",
              "  </Style>\n",
              "  "
            ]
          },
          "metadata": {}
        },
        {
          "output_type": "display_data",
          "data": {
            "text/plain": [
              "<IPython.core.display.HTML object>"
            ],
            "text/html": [
              "\n",
              "  <Style>\n",
              "    pre{\n",
              "      white-space: pre-wrapped;\n",
              "    }\n",
              "  </Style>\n",
              "  "
            ]
          },
          "metadata": {}
        },
        {
          "output_type": "stream",
          "name": "stdout",
          "text": [
            "KNN Accuracy: 70.27 %\n"
          ]
        }
      ]
    },
    {
      "cell_type": "code",
      "source": [
        "# Finding the best k value\n",
        "best_k = 0\n",
        "best_accuracy = 0\n",
        "\n",
        "# Running KNN for K values from 1 to 50\n",
        "for k in range(1, 51):\n",
        "    knn = KNeighborsClassifier(n_neighbors=k)\n",
        "    knn.fit(x_train, y_train)\n",
        "    y_pred = knn.predict(x_test)\n",
        "    accuracy = accuracy_score(y_test, y_pred)\n",
        "    # Updating the best performance\n",
        "    if accuracy > best_accuracy:\n",
        "        best_accuracy = accuracy\n",
        "        best_k = k\n",
        "\n",
        "print(f\"Best Performance: Accuracy = {best_accuracy*100}, K = {best_k}\")"
      ],
      "metadata": {
        "colab": {
          "base_uri": "https://localhost:8080/",
          "height": 34
        },
        "id": "lM69BTMz2SVb",
        "outputId": "542e0b8f-3622-45a4-be96-4cc9ddc05c8c"
      },
      "execution_count": 117,
      "outputs": [
        {
          "output_type": "display_data",
          "data": {
            "text/plain": [
              "<IPython.core.display.HTML object>"
            ],
            "text/html": [
              "\n",
              "  <Style>\n",
              "    pre{\n",
              "      white-space: pre-wrapped;\n",
              "    }\n",
              "  </Style>\n",
              "  "
            ]
          },
          "metadata": {}
        },
        {
          "output_type": "display_data",
          "data": {
            "text/plain": [
              "<IPython.core.display.HTML object>"
            ],
            "text/html": [
              "\n",
              "  <Style>\n",
              "    pre{\n",
              "      white-space: pre-wrapped;\n",
              "    }\n",
              "  </Style>\n",
              "  "
            ]
          },
          "metadata": {}
        },
        {
          "output_type": "stream",
          "name": "stdout",
          "text": [
            "Best Performance: Accuracy = 72.37820974322055, K = 41\n"
          ]
        }
      ]
    },
    {
      "cell_type": "markdown",
      "source": [
        "Using a loop of evaluating the accuracy, each k value from 1 to 50 was tested for best accuracy and as show in the above output, the best K value was determined to be 41, which yielded an accuracy score of 72.38%, about 2% higher than the accuracy score obtained using a K value of 5."
      ],
      "metadata": {
        "id": "o81dFAxQz34E"
      }
    },
    {
      "cell_type": "markdown",
      "source": [
        "## **4.5 SVM Model**"
      ],
      "metadata": {
        "id": "z0X7Xtty6d9I"
      }
    },
    {
      "cell_type": "code",
      "source": [
        "from sklearn.svm import SVC\n",
        "# Initialize the SVM model with a linear kernel\n",
        "svm_model = SVC(kernel='linear')\n",
        "\n",
        "# Train the SVM model\n",
        "svm_model.fit(x_train, y_train)\n",
        "\n",
        "# Make predictions on the test set\n",
        "svm_predictions = svm_model.predict(x_test)\n",
        "\n",
        "# Evaluate the SVM model using mean squared error\n",
        "svm_mse = mean_squared_error(y_test, svm_predictions)\n",
        "print(\"SVM Model Mean Squared Error:\", svm_mse)\n",
        "\n",
        "svm_accuracy = accuracy_score(y_test, svm_predictions)\n",
        "print(\"SVM Model Accuracy: %.2f\" %(svm_accuracy*100), \"%\")"
      ],
      "metadata": {
        "colab": {
          "base_uri": "https://localhost:8080/",
          "height": 52
        },
        "id": "A3Lw08oi2PlT",
        "outputId": "5705d535-45cd-41b4-d5bb-b9b5d07bce09"
      },
      "execution_count": 91,
      "outputs": [
        {
          "output_type": "display_data",
          "data": {
            "text/plain": [
              "<IPython.core.display.HTML object>"
            ],
            "text/html": [
              "\n",
              "  <Style>\n",
              "    pre{\n",
              "      white-space: pre-wrapped;\n",
              "    }\n",
              "  </Style>\n",
              "  "
            ]
          },
          "metadata": {}
        },
        {
          "output_type": "display_data",
          "data": {
            "text/plain": [
              "<IPython.core.display.HTML object>"
            ],
            "text/html": [
              "\n",
              "  <Style>\n",
              "    pre{\n",
              "      white-space: pre-wrapped;\n",
              "    }\n",
              "  </Style>\n",
              "  "
            ]
          },
          "metadata": {}
        },
        {
          "output_type": "stream",
          "name": "stdout",
          "text": [
            "SVM Model Mean Squared Error: 0.28860091192704584\n",
            "SVM Model Accuracy: 71.14 %\n"
          ]
        }
      ]
    },
    {
      "cell_type": "markdown",
      "source": [
        "## **4.6 keras neural network**"
      ],
      "metadata": {
        "id": "oDqxv1TL3Eok"
      }
    },
    {
      "cell_type": "code",
      "source": [
        "from keras.models import Sequential\n",
        "from keras.layers import Dense\n",
        "# create neural network model\n",
        "model = Sequential()\n",
        "model.add(Dense(units=64, activation='relu', input_dim=x_train.shape[1]))\n",
        "model.add(Dense(units=32, activation='relu'))\n",
        "model.add(Dense(1, activation='sigmoid'))\n",
        "# Compile model\n",
        "model.compile(loss='binary_crossentropy', optimizer='adam', metrics=[\"accuracy\"])\n",
        "# train the model\n",
        "model.fit(x_train, y_train, epochs=10, batch_size=32)\n",
        "# Evaluating the model\n",
        "keras_accuracy = model.evaluate(x_test, y_test)[1]\n",
        "print(\"Keras Neural Network Accuracy: %.2f\" %(keras_accuracy*100), \"%\")\n"
      ],
      "metadata": {
        "colab": {
          "base_uri": "https://localhost:8080/",
          "height": 399
        },
        "id": "nAmaDLKpT5U_",
        "outputId": "98e8f6d5-fb80-43b7-f047-3f6e45600fcc"
      },
      "execution_count": 92,
      "outputs": [
        {
          "output_type": "display_data",
          "data": {
            "text/plain": [
              "<IPython.core.display.HTML object>"
            ],
            "text/html": [
              "\n",
              "  <Style>\n",
              "    pre{\n",
              "      white-space: pre-wrapped;\n",
              "    }\n",
              "  </Style>\n",
              "  "
            ]
          },
          "metadata": {}
        },
        {
          "output_type": "display_data",
          "data": {
            "text/plain": [
              "<IPython.core.display.HTML object>"
            ],
            "text/html": [
              "\n",
              "  <Style>\n",
              "    pre{\n",
              "      white-space: pre-wrapped;\n",
              "    }\n",
              "  </Style>\n",
              "  "
            ]
          },
          "metadata": {}
        },
        {
          "output_type": "stream",
          "name": "stdout",
          "text": [
            "Epoch 1/10\n",
            "2605/2605 [==============================] - 7s 2ms/step - loss: 0.5752 - accuracy: 0.7104\n",
            "Epoch 2/10\n",
            "2605/2605 [==============================] - 5s 2ms/step - loss: 0.5589 - accuracy: 0.7244\n",
            "Epoch 3/10\n",
            "2605/2605 [==============================] - 6s 2ms/step - loss: 0.5567 - accuracy: 0.7249\n",
            "Epoch 4/10\n",
            "2605/2605 [==============================] - 5s 2ms/step - loss: 0.5549 - accuracy: 0.7266\n",
            "Epoch 5/10\n",
            "2605/2605 [==============================] - 6s 2ms/step - loss: 0.5539 - accuracy: 0.7274\n",
            "Epoch 6/10\n",
            "2605/2605 [==============================] - 6s 2ms/step - loss: 0.5528 - accuracy: 0.7293\n",
            "Epoch 7/10\n",
            "2605/2605 [==============================] - 7s 3ms/step - loss: 0.5519 - accuracy: 0.7293\n",
            "Epoch 8/10\n",
            "2605/2605 [==============================] - 7s 3ms/step - loss: 0.5509 - accuracy: 0.7297\n",
            "Epoch 9/10\n",
            "2605/2605 [==============================] - 5s 2ms/step - loss: 0.5498 - accuracy: 0.7320\n",
            "Epoch 10/10\n",
            "2605/2605 [==============================] - 6s 2ms/step - loss: 0.5487 - accuracy: 0.7310\n",
            "652/652 [==============================] - 1s 2ms/step - loss: 0.5435 - accuracy: 0.7380\n",
            "Keras Neural Network Accuracy: 73.80 %\n"
          ]
        }
      ]
    },
    {
      "cell_type": "code",
      "source": [
        "from keras.layers import Dropout\n",
        "# Keras neural network with 2 hidden layers\n",
        "model = Sequential()\n",
        "model.add(Dense(units=64, activation='relu', input_dim= x_train.shape[1]))\n",
        "model.add(Dense(units=32, activation='relu'))\n",
        "model.add(Dropout(0.2))  # Add Dropout layer to prevent overfitting\n",
        "model.add(Dense(units=16, activation='relu'))\n",
        "model.add(Dropout(0.2))\n",
        "model.add(Dense(units=1, activation='sigmoid')) # Set the activation function of the output layer to 'sigmoid'\n",
        "\n",
        "model.compile(loss='binary_crossentropy', optimizer='adam', metrics = [\"accuracy\"])\n",
        "\n",
        "model.fit(x_train, y_train, epochs=10, batch_size=32)\n",
        "\n",
        "keras_accuracy1= model.evaluate(x_test,y_test)[1]\n",
        "print(\"Keras Neural Network with 2 hidden layers Accuracy:%.2f\"%(keras_accuracy1*100),\"%\")\n",
        "\n",
        "\n",
        "\n"
      ],
      "metadata": {
        "colab": {
          "base_uri": "https://localhost:8080/",
          "height": 399
        },
        "id": "f5H3nENJHRUw",
        "outputId": "0cf0648d-9e3a-49ea-98d8-610a2a04ce73"
      },
      "execution_count": 113,
      "outputs": [
        {
          "output_type": "display_data",
          "data": {
            "text/plain": [
              "<IPython.core.display.HTML object>"
            ],
            "text/html": [
              "\n",
              "  <Style>\n",
              "    pre{\n",
              "      white-space: pre-wrapped;\n",
              "    }\n",
              "  </Style>\n",
              "  "
            ]
          },
          "metadata": {}
        },
        {
          "output_type": "display_data",
          "data": {
            "text/plain": [
              "<IPython.core.display.HTML object>"
            ],
            "text/html": [
              "\n",
              "  <Style>\n",
              "    pre{\n",
              "      white-space: pre-wrapped;\n",
              "    }\n",
              "  </Style>\n",
              "  "
            ]
          },
          "metadata": {}
        },
        {
          "output_type": "stream",
          "name": "stdout",
          "text": [
            "Epoch 1/10\n",
            "2605/2605 [==============================] - 10s 3ms/step - loss: 0.5847 - accuracy: 0.7057\n",
            "Epoch 2/10\n",
            "2605/2605 [==============================] - 10s 4ms/step - loss: 0.5635 - accuracy: 0.7257\n",
            "Epoch 3/10\n",
            "2605/2605 [==============================] - 10s 4ms/step - loss: 0.5602 - accuracy: 0.7283\n",
            "Epoch 4/10\n",
            "2605/2605 [==============================] - 7s 3ms/step - loss: 0.5586 - accuracy: 0.7298\n",
            "Epoch 5/10\n",
            "2605/2605 [==============================] - 11s 4ms/step - loss: 0.5564 - accuracy: 0.7300\n",
            "Epoch 6/10\n",
            "2605/2605 [==============================] - 7s 3ms/step - loss: 0.5557 - accuracy: 0.7323\n",
            "Epoch 7/10\n",
            "2605/2605 [==============================] - 7s 3ms/step - loss: 0.5549 - accuracy: 0.7320\n",
            "Epoch 8/10\n",
            "2605/2605 [==============================] - 9s 4ms/step - loss: 0.5535 - accuracy: 0.7313\n",
            "Epoch 9/10\n",
            "2605/2605 [==============================] - 9s 3ms/step - loss: 0.5526 - accuracy: 0.7321\n",
            "Epoch 10/10\n",
            "2605/2605 [==============================] - 12s 5ms/step - loss: 0.5515 - accuracy: 0.7331\n",
            "652/652 [==============================] - 2s 2ms/step - loss: 0.5407 - accuracy: 0.7394\n",
            "Keras Neural Network with 2 hidden layers Accuracy:73.94 %\n"
          ]
        }
      ]
    },
    {
      "cell_type": "code",
      "source": [
        "# Keras neural network with 4 hidden layers\n",
        "model = Sequential()\n",
        "model.add(Dense(units=64, activation='relu', input_dim= x_train.shape[1]))\n",
        "model.add(Dense(units=32, activation='relu'))\n",
        "model.add(Dropout(0.2))  # Add Dropout layer to prevent overfitting\n",
        "model.add(Dense(units=16, activation='relu'))\n",
        "model.add(Dropout(0.2))\n",
        "model.add(Dense(units=8, activation='relu'))\n",
        "model.add(Dropout(0.2))\n",
        "model.add(Dense(units=4, activation='relu'))\n",
        "model.add(Dropout(0.2))\n",
        "model.add(Dense(units=1, activation='sigmoid')) # Set the activation function of the output layer to 'sigmoid'\n",
        "\n",
        "model.compile(loss='binary_crossentropy', optimizer='adam', metrics = [\"accuracy\"])\n",
        "\n",
        "model.fit(x_train, y_train, epochs=10, batch_size=32)\n",
        "\n",
        "keras_accuracy2= model.evaluate(x_test,y_test)[1]\n",
        "print(\"Keras Neural Network with 4 hidden layers Accuracy:%.2f\"%(keras_accuracy2*100),\"%\")"
      ],
      "metadata": {
        "colab": {
          "base_uri": "https://localhost:8080/",
          "height": 399
        },
        "id": "Ika_Fk8SZmvw",
        "outputId": "edd39271-c2ea-42e3-bca6-6f2cc25318d9"
      },
      "execution_count": 96,
      "outputs": [
        {
          "output_type": "display_data",
          "data": {
            "text/plain": [
              "<IPython.core.display.HTML object>"
            ],
            "text/html": [
              "\n",
              "  <Style>\n",
              "    pre{\n",
              "      white-space: pre-wrapped;\n",
              "    }\n",
              "  </Style>\n",
              "  "
            ]
          },
          "metadata": {}
        },
        {
          "output_type": "display_data",
          "data": {
            "text/plain": [
              "<IPython.core.display.HTML object>"
            ],
            "text/html": [
              "\n",
              "  <Style>\n",
              "    pre{\n",
              "      white-space: pre-wrapped;\n",
              "    }\n",
              "  </Style>\n",
              "  "
            ]
          },
          "metadata": {}
        },
        {
          "output_type": "stream",
          "name": "stdout",
          "text": [
            "Epoch 1/10\n",
            "2605/2605 [==============================] - 9s 3ms/step - loss: 0.6144 - accuracy: 0.6773\n",
            "Epoch 2/10\n",
            "2605/2605 [==============================] - 7s 3ms/step - loss: 0.5892 - accuracy: 0.7118\n",
            "Epoch 3/10\n",
            "2605/2605 [==============================] - 8s 3ms/step - loss: 0.5854 - accuracy: 0.7155\n",
            "Epoch 4/10\n",
            "2605/2605 [==============================] - 9s 3ms/step - loss: 0.5801 - accuracy: 0.7180\n",
            "Epoch 5/10\n",
            "2605/2605 [==============================] - 11s 4ms/step - loss: 0.5799 - accuracy: 0.7181\n",
            "Epoch 6/10\n",
            "2605/2605 [==============================] - 11s 4ms/step - loss: 0.5780 - accuracy: 0.7192\n",
            "Epoch 7/10\n",
            "2605/2605 [==============================] - 11s 4ms/step - loss: 0.5770 - accuracy: 0.7206\n",
            "Epoch 8/10\n",
            "2605/2605 [==============================] - 9s 3ms/step - loss: 0.5755 - accuracy: 0.7211\n",
            "Epoch 9/10\n",
            "2605/2605 [==============================] - 7s 3ms/step - loss: 0.5753 - accuracy: 0.7220\n",
            "Epoch 10/10\n",
            "2605/2605 [==============================] - 8s 3ms/step - loss: 0.5743 - accuracy: 0.7224\n",
            "652/652 [==============================] - 1s 2ms/step - loss: 0.5492 - accuracy: 0.7363\n",
            "Keras Neural Network with 4 hidden layers Accuracy:73.63 %\n"
          ]
        }
      ]
    },
    {
      "cell_type": "markdown",
      "source": [
        "## **4.7 Model Comparison**"
      ],
      "metadata": {
        "id": "zKO7gmZlxfSS"
      }
    },
    {
      "cell_type": "code",
      "source": [
        "print(\"Decision Tree Classifier Accuracy: %.2f\" %(dt_accuracy*100), \"%\")\n",
        "print(\"Random Forest Classifier Accuracy: %.2f\" %(rf_accuracy*100), \"%\")\n",
        "print(\"KNN Accuracy: %.2f\" %(best_accuracy*100), \"%\")\n",
        "print(\"SVM Model Accuracy: %.2f\" %(svm_accuracy*100), \"%\")\n",
        "print(\"Keras Neural Network Accuracy: %.2f\" %(keras_accuracy*100), \"%\")\n",
        "print(\"Keras Neural Network with 2 hidden layers Accuracy:%.2f\"%(keras_accuracy1*100),\"%\")\n",
        "print(\"Keras Neural Network with 4 hidden layers Accuracy:%.2f\"%(keras_accuracy2*100),\"%\")"
      ],
      "metadata": {
        "colab": {
          "base_uri": "https://localhost:8080/",
          "height": 139
        },
        "id": "sNbxO6oHx1yy",
        "outputId": "f1bd8165-e39f-4290-8797-56650833c277"
      },
      "execution_count": 118,
      "outputs": [
        {
          "output_type": "display_data",
          "data": {
            "text/plain": [
              "<IPython.core.display.HTML object>"
            ],
            "text/html": [
              "\n",
              "  <Style>\n",
              "    pre{\n",
              "      white-space: pre-wrapped;\n",
              "    }\n",
              "  </Style>\n",
              "  "
            ]
          },
          "metadata": {}
        },
        {
          "output_type": "display_data",
          "data": {
            "text/plain": [
              "<IPython.core.display.HTML object>"
            ],
            "text/html": [
              "\n",
              "  <Style>\n",
              "    pre{\n",
              "      white-space: pre-wrapped;\n",
              "    }\n",
              "  </Style>\n",
              "  "
            ]
          },
          "metadata": {}
        },
        {
          "output_type": "stream",
          "name": "stdout",
          "text": [
            "Decision Tree Classifier Accuracy: 69.92 %\n",
            "Random Forest Classifier Accuracy: 71.08 %\n",
            "KNN Accuracy: 72.38 %\n",
            "SVM Model Accuracy: 71.14 %\n",
            "Keras Neural Network Accuracy: 73.80 %\n",
            "Keras Neural Network with 2 hidden layers Accuracy:73.94 %\n",
            "Keras Neural Network with 4 hidden layers Accuracy:73.32 %\n"
          ]
        }
      ]
    },
    {
      "cell_type": "markdown",
      "source": [
        "From the output above, it can be observed that the Keras neural network model with 2 hidden layers using the \"relu\" activation function yielded the highest accuracy with an accuracy score of 73.94%. Thus it can be concluded that a keras neural network using 2 hidden layers with the relu activation function is the best model among the rest for predicting whether a patient will be staying for a short or long duration based on their number of visitors, age, admission type, ward type, hospital code, hospital type and severity of illness.\n",
        "\n"
      ],
      "metadata": {
        "id": "zlXJdKxJyR3T"
      }
    }
  ]
}
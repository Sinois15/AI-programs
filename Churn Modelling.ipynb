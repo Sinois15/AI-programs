{
  "nbformat": 4,
  "nbformat_minor": 0,
  "metadata": {
    "colab": {
      "provenance": []
    },
    "kernelspec": {
      "name": "python3",
      "display_name": "Python 3"
    },
    "language_info": {
      "name": "python"
    }
  },
  "cells": [
    {
      "cell_type": "markdown",
      "source": [
        "# **Question 1: Loading the dataset (Churn_Modelling.csv) into a Pandas DataFrame.**"
      ],
      "metadata": {
        "id": "rNb_OXJt8CI9"
      }
    },
    {
      "cell_type": "markdown",
      "source": [
        "## **1.1 Implenting line wrapping for results**"
      ],
      "metadata": {
        "id": "P2LOHJpsv66m"
      }
    },
    {
      "cell_type": "code",
      "execution_count": null,
      "metadata": {
        "id": "puZO3AAnvl28"
      },
      "outputs": [],
      "source": [
        "from IPython.display import HTML, display\n",
        "\n",
        "def set_css():\n",
        "  display(HTML('''\n",
        "  <style>\n",
        "    pre{\n",
        "      white-space: pre-wrapped;\n",
        "    }\n",
        "  </style>\n",
        "  '''))\n",
        "get_ipython().events.register('pre_run_cell', set_css)"
      ]
    },
    {
      "cell_type": "markdown",
      "source": [
        "## **1.2 Importing dataset from device memory and loading into a Pandas DataFrame** "
      ],
      "metadata": {
        "id": "Kt1WJc0lywUC"
      }
    },
    {
      "cell_type": "code",
      "source": [
        "# Import dataset\n",
        "import pandas as pd\n",
        "DATA_DIR_1 = \"/content/Churn_Modelling.csv\"\n",
        "churn_df = pd.read_csv (DATA_DIR_1, header=0)"
      ],
      "metadata": {
        "id": "DmUJciruy516"
      },
      "execution_count": null,
      "outputs": []
    },
    {
      "cell_type": "markdown",
      "source": [
        "The directory path of the dataset is stored in variable \"DATA_DIR_1\" and then stored in \"churn_df\" as a dataframe using the Pandas function \"read_csv()\""
      ],
      "metadata": {
        "id": "j3PPeLzRyaRb"
      }
    },
    {
      "cell_type": "markdown",
      "source": [
        "# **Question 2: Show what kind of libraries need to be imported to pre-process this dataset. Explain the function for those libraries.**"
      ],
      "metadata": {
        "id": "M6-9ZkRZ1PVh"
      }
    },
    {
      "cell_type": "code",
      "source": [
        "# Importing required libraries \n",
        "import numpy as np\n",
        "import matplotlib as mpl"
      ],
      "metadata": {
        "id": "QsKu5I3j1dJh"
      },
      "execution_count": null,
      "outputs": []
    },
    {
      "cell_type": "markdown",
      "source": [
        "In order to pre-process the churn_modelling dataset, 3 librairies are needed for the follwing reasons respectively.\n",
        "- **Pandas**: To store the dataset in a data structure that allows us to manipulate and analyse said dataset.\n",
        "- **NumPy**: To perform scientific calculations on our data.\n",
        "- **Matplotlib**: To visually represent the data as 2D charts."
      ],
      "metadata": {
        "id": "cBjWLKNl3d_7"
      }
    },
    {
      "cell_type": "markdown",
      "source": [
        "# **Question 3**"
      ],
      "metadata": {
        "id": "xH9cClg05Agk"
      }
    },
    {
      "cell_type": "markdown",
      "source": [
        "Using Data Pre-processing and Data Cleansing technique, find the following information"
      ],
      "metadata": {
        "id": "AQ7FE8oe5PQI"
      }
    },
    {
      "cell_type": "markdown",
      "source": [
        "## **3a) Number of customers (use python function)**"
      ],
      "metadata": {
        "id": "cd79t5wJ5TK4"
      }
    },
    {
      "cell_type": "code",
      "source": [
        "# Find the number of customers\n",
        "len(churn_df)"
      ],
      "metadata": {
        "colab": {
          "base_uri": "https://localhost:8080/"
        },
        "id": "Rvn-k7Dx5OfF",
        "outputId": "badf092e-eb30-4534-fdf3-9377bb68eb0c"
      },
      "execution_count": null,
      "outputs": [
        {
          "output_type": "execute_result",
          "data": {
            "text/plain": [
              "10000"
            ]
          },
          "metadata": {},
          "execution_count": 5
        }
      ]
    },
    {
      "cell_type": "markdown",
      "source": [
        "Using the Pandas' len() function, we can find that there are 10000 rows in the dataset, hence 10000 customers."
      ],
      "metadata": {
        "id": "HGaddHS_7lYv"
      }
    },
    {
      "cell_type": "markdown",
      "source": [
        "## **3b) Number of variables/attributes**"
      ],
      "metadata": {
        "id": "Dz8MMLQ176Zf"
      }
    },
    {
      "cell_type": "code",
      "source": [
        "# Find the number of attributes \n",
        "len(churn_df.columns)"
      ],
      "metadata": {
        "colab": {
          "base_uri": "https://localhost:8080/"
        },
        "id": "4v24dNyH8EVy",
        "outputId": "495fe399-9a57-4b51-e1b1-27d04e8f3525"
      },
      "execution_count": null,
      "outputs": [
        {
          "output_type": "execute_result",
          "data": {
            "text/plain": [
              "14"
            ]
          },
          "metadata": {},
          "execution_count": 6
        }
      ]
    },
    {
      "cell_type": "markdown",
      "source": [
        "Using the Pandas' len() function with churn_df.columns as parameter, we can find that there are 14 columns in the dataset, hence 14 attributes/variables."
      ],
      "metadata": {
        "id": "IpUbQad48Qsh"
      }
    },
    {
      "cell_type": "markdown",
      "source": [
        "## **3c) Number of rows and columns**"
      ],
      "metadata": {
        "id": "f4lQpkZp8jm6"
      }
    },
    {
      "cell_type": "code",
      "source": [
        "# Finding the number of rows and columns in the dataset\n",
        "churn_df.shape "
      ],
      "metadata": {
        "colab": {
          "base_uri": "https://localhost:8080/"
        },
        "id": "Y21Cgg-c8i40",
        "outputId": "7fc70ff3-3481-441d-e74f-6016e2f3ab43"
      },
      "execution_count": null,
      "outputs": [
        {
          "output_type": "execute_result",
          "data": {
            "text/plain": [
              "(10000, 14)"
            ]
          },
          "metadata": {},
          "execution_count": 7
        }
      ]
    },
    {
      "cell_type": "markdown",
      "source": [
        "Using the shape attribute of the dataframe, we can determine that there are **10000 rows** and **14 columns** from the output as the **rows** are given on the **left** and **columns** on the **right**."
      ],
      "metadata": {
        "id": "IAttkaYq9kcJ"
      }
    },
    {
      "cell_type": "markdown",
      "source": [
        "## **3d) Determine the datatype of each column**"
      ],
      "metadata": {
        "id": "5M-symL0-cb-"
      }
    },
    {
      "cell_type": "code",
      "source": [
        "# Finding the datatype of each column\n",
        "print(churn_df.dtypes)"
      ],
      "metadata": {
        "colab": {
          "base_uri": "https://localhost:8080/"
        },
        "id": "M8utA80R-xnu",
        "outputId": "3343c5b1-dd84-4a9a-d92d-f445f9fff010"
      },
      "execution_count": null,
      "outputs": [
        {
          "output_type": "stream",
          "name": "stdout",
          "text": [
            "RowNumber            int64\n",
            "CustomerId           int64\n",
            "Surname             object\n",
            "CreditScore          int64\n",
            "Geography           object\n",
            "Gender              object\n",
            "Age                  int64\n",
            "Tenure               int64\n",
            "Balance            float64\n",
            "NumOfProducts        int64\n",
            "HasCrCard            int64\n",
            "IsActiveMember       int64\n",
            "EstimatedSalary    float64\n",
            "Exited               int64\n",
            "dtype: object\n"
          ]
        }
      ]
    },
    {
      "cell_type": "markdown",
      "source": [
        "Using the dtypes attribue of the dataframe, we can output the data type of each column as shown above."
      ],
      "metadata": {
        "id": "tUUVHMXb_ZNM"
      }
    },
    {
      "cell_type": "markdown",
      "source": [
        "## **3e) Display basic statistic of all columns**"
      ],
      "metadata": {
        "id": "sClAYZHK_6nq"
      }
    },
    {
      "cell_type": "code",
      "source": [
        "churn_df.describe()"
      ],
      "metadata": {
        "colab": {
          "base_uri": "https://localhost:8080/",
          "height": 364
        },
        "id": "mZHd6yfOBaAT",
        "outputId": "3a2f8432-ff7f-4dd5-fa71-fc04e0b54c99"
      },
      "execution_count": null,
      "outputs": [
        {
          "output_type": "execute_result",
          "data": {
            "text/plain": [
              "         RowNumber    CustomerId   CreditScore           Age        Tenure  \\\n",
              "count  10000.00000  1.000000e+04  10000.000000  10000.000000  10000.000000   \n",
              "mean    5000.50000  1.569094e+07    650.528800     38.921800      5.012800   \n",
              "std     2886.89568  7.193619e+04     96.653299     10.487806      2.892174   \n",
              "min        1.00000  1.556570e+07    350.000000     18.000000      0.000000   \n",
              "25%     2500.75000  1.562853e+07    584.000000     32.000000      3.000000   \n",
              "50%     5000.50000  1.569074e+07    652.000000     37.000000      5.000000   \n",
              "75%     7500.25000  1.575323e+07    718.000000     44.000000      7.000000   \n",
              "max    10000.00000  1.581569e+07    850.000000     92.000000     10.000000   \n",
              "\n",
              "             Balance  NumOfProducts    HasCrCard  IsActiveMember  \\\n",
              "count    6383.000000   10000.000000  10000.00000    10000.000000   \n",
              "mean    75345.698833       1.530200      0.70550        0.515100   \n",
              "std     59818.076920       0.581654      0.45584        0.499797   \n",
              "min        12.170000       1.000000      0.00000        0.000000   \n",
              "25%     12964.305000       1.000000      0.00000        0.000000   \n",
              "50%     85225.210000       1.000000      1.00000        1.000000   \n",
              "75%    128357.590000       2.000000      1.00000        1.000000   \n",
              "max    238387.560000       4.000000      1.00000        1.000000   \n",
              "\n",
              "       EstimatedSalary        Exited  \n",
              "count     10000.000000  10000.000000  \n",
              "mean     100090.239881      0.203700  \n",
              "std       57510.492818      0.402769  \n",
              "min          11.580000      0.000000  \n",
              "25%       51002.110000      0.000000  \n",
              "50%      100193.915000      0.000000  \n",
              "75%      149388.247500      0.000000  \n",
              "max      199992.480000      1.000000  "
            ],
            "text/html": [
              "\n",
              "  <div id=\"df-a5008892-9c3d-4faf-9fce-23765df14b1f\">\n",
              "    <div class=\"colab-df-container\">\n",
              "      <div>\n",
              "<style scoped>\n",
              "    .dataframe tbody tr th:only-of-type {\n",
              "        vertical-align: middle;\n",
              "    }\n",
              "\n",
              "    .dataframe tbody tr th {\n",
              "        vertical-align: top;\n",
              "    }\n",
              "\n",
              "    .dataframe thead th {\n",
              "        text-align: right;\n",
              "    }\n",
              "</style>\n",
              "<table border=\"1\" class=\"dataframe\">\n",
              "  <thead>\n",
              "    <tr style=\"text-align: right;\">\n",
              "      <th></th>\n",
              "      <th>RowNumber</th>\n",
              "      <th>CustomerId</th>\n",
              "      <th>CreditScore</th>\n",
              "      <th>Age</th>\n",
              "      <th>Tenure</th>\n",
              "      <th>Balance</th>\n",
              "      <th>NumOfProducts</th>\n",
              "      <th>HasCrCard</th>\n",
              "      <th>IsActiveMember</th>\n",
              "      <th>EstimatedSalary</th>\n",
              "      <th>Exited</th>\n",
              "    </tr>\n",
              "  </thead>\n",
              "  <tbody>\n",
              "    <tr>\n",
              "      <th>count</th>\n",
              "      <td>10000.00000</td>\n",
              "      <td>1.000000e+04</td>\n",
              "      <td>10000.000000</td>\n",
              "      <td>10000.000000</td>\n",
              "      <td>10000.000000</td>\n",
              "      <td>6383.000000</td>\n",
              "      <td>10000.000000</td>\n",
              "      <td>10000.00000</td>\n",
              "      <td>10000.000000</td>\n",
              "      <td>10000.000000</td>\n",
              "      <td>10000.000000</td>\n",
              "    </tr>\n",
              "    <tr>\n",
              "      <th>mean</th>\n",
              "      <td>5000.50000</td>\n",
              "      <td>1.569094e+07</td>\n",
              "      <td>650.528800</td>\n",
              "      <td>38.921800</td>\n",
              "      <td>5.012800</td>\n",
              "      <td>75345.698833</td>\n",
              "      <td>1.530200</td>\n",
              "      <td>0.70550</td>\n",
              "      <td>0.515100</td>\n",
              "      <td>100090.239881</td>\n",
              "      <td>0.203700</td>\n",
              "    </tr>\n",
              "    <tr>\n",
              "      <th>std</th>\n",
              "      <td>2886.89568</td>\n",
              "      <td>7.193619e+04</td>\n",
              "      <td>96.653299</td>\n",
              "      <td>10.487806</td>\n",
              "      <td>2.892174</td>\n",
              "      <td>59818.076920</td>\n",
              "      <td>0.581654</td>\n",
              "      <td>0.45584</td>\n",
              "      <td>0.499797</td>\n",
              "      <td>57510.492818</td>\n",
              "      <td>0.402769</td>\n",
              "    </tr>\n",
              "    <tr>\n",
              "      <th>min</th>\n",
              "      <td>1.00000</td>\n",
              "      <td>1.556570e+07</td>\n",
              "      <td>350.000000</td>\n",
              "      <td>18.000000</td>\n",
              "      <td>0.000000</td>\n",
              "      <td>12.170000</td>\n",
              "      <td>1.000000</td>\n",
              "      <td>0.00000</td>\n",
              "      <td>0.000000</td>\n",
              "      <td>11.580000</td>\n",
              "      <td>0.000000</td>\n",
              "    </tr>\n",
              "    <tr>\n",
              "      <th>25%</th>\n",
              "      <td>2500.75000</td>\n",
              "      <td>1.562853e+07</td>\n",
              "      <td>584.000000</td>\n",
              "      <td>32.000000</td>\n",
              "      <td>3.000000</td>\n",
              "      <td>12964.305000</td>\n",
              "      <td>1.000000</td>\n",
              "      <td>0.00000</td>\n",
              "      <td>0.000000</td>\n",
              "      <td>51002.110000</td>\n",
              "      <td>0.000000</td>\n",
              "    </tr>\n",
              "    <tr>\n",
              "      <th>50%</th>\n",
              "      <td>5000.50000</td>\n",
              "      <td>1.569074e+07</td>\n",
              "      <td>652.000000</td>\n",
              "      <td>37.000000</td>\n",
              "      <td>5.000000</td>\n",
              "      <td>85225.210000</td>\n",
              "      <td>1.000000</td>\n",
              "      <td>1.00000</td>\n",
              "      <td>1.000000</td>\n",
              "      <td>100193.915000</td>\n",
              "      <td>0.000000</td>\n",
              "    </tr>\n",
              "    <tr>\n",
              "      <th>75%</th>\n",
              "      <td>7500.25000</td>\n",
              "      <td>1.575323e+07</td>\n",
              "      <td>718.000000</td>\n",
              "      <td>44.000000</td>\n",
              "      <td>7.000000</td>\n",
              "      <td>128357.590000</td>\n",
              "      <td>2.000000</td>\n",
              "      <td>1.00000</td>\n",
              "      <td>1.000000</td>\n",
              "      <td>149388.247500</td>\n",
              "      <td>0.000000</td>\n",
              "    </tr>\n",
              "    <tr>\n",
              "      <th>max</th>\n",
              "      <td>10000.00000</td>\n",
              "      <td>1.581569e+07</td>\n",
              "      <td>850.000000</td>\n",
              "      <td>92.000000</td>\n",
              "      <td>10.000000</td>\n",
              "      <td>238387.560000</td>\n",
              "      <td>4.000000</td>\n",
              "      <td>1.00000</td>\n",
              "      <td>1.000000</td>\n",
              "      <td>199992.480000</td>\n",
              "      <td>1.000000</td>\n",
              "    </tr>\n",
              "  </tbody>\n",
              "</table>\n",
              "</div>\n",
              "      <button class=\"colab-df-convert\" onclick=\"convertToInteractive('df-a5008892-9c3d-4faf-9fce-23765df14b1f')\"\n",
              "              title=\"Convert this dataframe to an interactive table.\"\n",
              "              style=\"display:none;\">\n",
              "        \n",
              "  <svg xmlns=\"http://www.w3.org/2000/svg\" height=\"24px\"viewBox=\"0 0 24 24\"\n",
              "       width=\"24px\">\n",
              "    <path d=\"M0 0h24v24H0V0z\" fill=\"none\"/>\n",
              "    <path d=\"M18.56 5.44l.94 2.06.94-2.06 2.06-.94-2.06-.94-.94-2.06-.94 2.06-2.06.94zm-11 1L8.5 8.5l.94-2.06 2.06-.94-2.06-.94L8.5 2.5l-.94 2.06-2.06.94zm10 10l.94 2.06.94-2.06 2.06-.94-2.06-.94-.94-2.06-.94 2.06-2.06.94z\"/><path d=\"M17.41 7.96l-1.37-1.37c-.4-.4-.92-.59-1.43-.59-.52 0-1.04.2-1.43.59L10.3 9.45l-7.72 7.72c-.78.78-.78 2.05 0 2.83L4 21.41c.39.39.9.59 1.41.59.51 0 1.02-.2 1.41-.59l7.78-7.78 2.81-2.81c.8-.78.8-2.07 0-2.86zM5.41 20L4 18.59l7.72-7.72 1.47 1.35L5.41 20z\"/>\n",
              "  </svg>\n",
              "      </button>\n",
              "      \n",
              "  <style>\n",
              "    .colab-df-container {\n",
              "      display:flex;\n",
              "      flex-wrap:wrap;\n",
              "      gap: 12px;\n",
              "    }\n",
              "\n",
              "    .colab-df-convert {\n",
              "      background-color: #E8F0FE;\n",
              "      border: none;\n",
              "      border-radius: 50%;\n",
              "      cursor: pointer;\n",
              "      display: none;\n",
              "      fill: #1967D2;\n",
              "      height: 32px;\n",
              "      padding: 0 0 0 0;\n",
              "      width: 32px;\n",
              "    }\n",
              "\n",
              "    .colab-df-convert:hover {\n",
              "      background-color: #E2EBFA;\n",
              "      box-shadow: 0px 1px 2px rgba(60, 64, 67, 0.3), 0px 1px 3px 1px rgba(60, 64, 67, 0.15);\n",
              "      fill: #174EA6;\n",
              "    }\n",
              "\n",
              "    [theme=dark] .colab-df-convert {\n",
              "      background-color: #3B4455;\n",
              "      fill: #D2E3FC;\n",
              "    }\n",
              "\n",
              "    [theme=dark] .colab-df-convert:hover {\n",
              "      background-color: #434B5C;\n",
              "      box-shadow: 0px 1px 3px 1px rgba(0, 0, 0, 0.15);\n",
              "      filter: drop-shadow(0px 1px 2px rgba(0, 0, 0, 0.3));\n",
              "      fill: #FFFFFF;\n",
              "    }\n",
              "  </style>\n",
              "\n",
              "      <script>\n",
              "        const buttonEl =\n",
              "          document.querySelector('#df-a5008892-9c3d-4faf-9fce-23765df14b1f button.colab-df-convert');\n",
              "        buttonEl.style.display =\n",
              "          google.colab.kernel.accessAllowed ? 'block' : 'none';\n",
              "\n",
              "        async function convertToInteractive(key) {\n",
              "          const element = document.querySelector('#df-a5008892-9c3d-4faf-9fce-23765df14b1f');\n",
              "          const dataTable =\n",
              "            await google.colab.kernel.invokeFunction('convertToInteractive',\n",
              "                                                     [key], {});\n",
              "          if (!dataTable) return;\n",
              "\n",
              "          const docLinkHtml = 'Like what you see? Visit the ' +\n",
              "            '<a target=\"_blank\" href=https://colab.research.google.com/notebooks/data_table.ipynb>data table notebook</a>'\n",
              "            + ' to learn more about interactive tables.';\n",
              "          element.innerHTML = '';\n",
              "          dataTable['output_type'] = 'display_data';\n",
              "          await google.colab.output.renderOutput(dataTable, element);\n",
              "          const docLink = document.createElement('div');\n",
              "          docLink.innerHTML = docLinkHtml;\n",
              "          element.appendChild(docLink);\n",
              "        }\n",
              "      </script>\n",
              "    </div>\n",
              "  </div>\n",
              "  "
            ]
          },
          "metadata": {},
          "execution_count": 19
        }
      ]
    },
    {
      "cell_type": "markdown",
      "source": [
        "As shown above, the describe() function is used to output the count, mean, standard deviation, minimum value, quartiles and maximum value of each column."
      ],
      "metadata": {
        "id": "ZFlp0gchPB63"
      }
    },
    {
      "cell_type": "markdown",
      "source": [
        "## **3f) Balance attribute has many missing values. How do you propose to solve this problem? Show your steps.**"
      ],
      "metadata": {
        "id": "y8Gz7HWjPvGb"
      }
    },
    {
      "cell_type": "markdown",
      "source": [
        "**Step 1:** Find the number of missing values in Balance column"
      ],
      "metadata": {
        "id": "zDzkayZov4N-"
      }
    },
    {
      "cell_type": "code",
      "source": [
        "# Output the number of missing values in Balance column\n",
        "print(\"Number of missing values in Balance column: %d\" %churn_df['Balance'].isna().sum())"
      ],
      "metadata": {
        "colab": {
          "base_uri": "https://localhost:8080/"
        },
        "id": "sfSHqK7nv3pn",
        "outputId": "f8be4f4f-b5c7-4312-84e2-89a05daea63a"
      },
      "execution_count": null,
      "outputs": [
        {
          "output_type": "stream",
          "name": "stdout",
          "text": [
            "Number of missing values in Balance column: 3617\n"
          ]
        }
      ]
    },
    {
      "cell_type": "markdown",
      "source": [
        "Using the isna() and sum() functions, we are able to determine that there is a total number of 3617 missing values in the Balance column."
      ],
      "metadata": {
        "id": "qfnJ2XHG1UU_"
      }
    },
    {
      "cell_type": "markdown",
      "source": [
        "**Step 2:** Calculate the mean of Balance Column"
      ],
      "metadata": {
        "id": "H49GrOxy1vEf"
      }
    },
    {
      "cell_type": "code",
      "source": [
        "# Calculate mean of balance column\n",
        "mean_balance = churn_df.Balance.mean()\n",
        "print(\"Mean Balance: %.2f\" %mean_balance)"
      ],
      "metadata": {
        "colab": {
          "base_uri": "https://localhost:8080/"
        },
        "id": "TmzxqpOJ2ekd",
        "outputId": "a4155845-3eb6-4c85-933c-00329cb11eb9"
      },
      "execution_count": null,
      "outputs": [
        {
          "output_type": "stream",
          "name": "stdout",
          "text": [
            "Mean Balance: 75345.70\n"
          ]
        }
      ]
    },
    {
      "cell_type": "markdown",
      "source": [
        "Due to the high number of missing values, using the mean() function, we can calculate the mean balance, i.e. 75345.70 and use this value to replace the missing values."
      ],
      "metadata": {
        "id": "E8ECVPrM32Ur"
      }
    },
    {
      "cell_type": "markdown",
      "source": [
        "**Step 3:** Replace the missing values with the mean balance value using the fillna() function."
      ],
      "metadata": {
        "id": "_BrAnESf4q11"
      }
    },
    {
      "cell_type": "code",
      "source": [
        "# Replace missing values with mean value\n",
        "churn_df.Balance.fillna(mean_balance, inplace = True)\n",
        "print(\"Number of missing values in Balance column: %d\" %churn_df['Balance'].isna().sum())"
      ],
      "metadata": {
        "colab": {
          "base_uri": "https://localhost:8080/"
        },
        "id": "3mOA3L0f5Dmn",
        "outputId": "daa2f5b4-6328-4782-ded6-b89e745d4ad8"
      },
      "execution_count": null,
      "outputs": [
        {
          "output_type": "stream",
          "name": "stdout",
          "text": [
            "Number of missing values in Balance column: 0\n"
          ]
        }
      ]
    },
    {
      "cell_type": "markdown",
      "source": [
        "As shown in the output above, the number of missing values in the Balance column is zero after imputing it with its mean value."
      ],
      "metadata": {
        "id": "WFMMNufL55uZ"
      }
    },
    {
      "cell_type": "markdown",
      "source": [
        "## **3g) Can you use Mode to solve this problem with Balance attribute? Why?**"
      ],
      "metadata": {
        "id": "FGHMZvt1qSGA"
      }
    },
    {
      "cell_type": "code",
      "source": [
        "# Calculating mode of Balance column\n",
        "mode_balance = churn_df.Balance.mode()[0]\n",
        "print(\"Balance mode: %.2f\" %mode_balance)"
      ],
      "metadata": {
        "colab": {
          "base_uri": "https://localhost:8080/"
        },
        "id": "KS_y94Hvq5Bg",
        "outputId": "6399b9f9-7e22-4989-d7c7-bb799d21758a"
      },
      "execution_count": null,
      "outputs": [
        {
          "output_type": "stream",
          "name": "stdout",
          "text": [
            "Balance mode: 1317.82\n"
          ]
        }
      ]
    },
    {
      "cell_type": "markdown",
      "source": [
        "Yes, the mode can be used in the case of the Balance column as mode, mean and median values can be used for data imputation for columns with numerical data, as long the the imputed value is not an outlier."
      ],
      "metadata": {
        "id": "3ZaTrEy2uhbK"
      }
    },
    {
      "cell_type": "markdown",
      "source": [
        "## **3h)Calculate how many customers has Credit Score below 650?**"
      ],
      "metadata": {
        "id": "IRhaf-lWu0xh"
      }
    },
    {
      "cell_type": "code",
      "source": [
        "# Calculate number of customers with credit score less that 650\n",
        "print(\"Number of customers with a credit score of less than 650: %d\" %len(churn_df[churn_df.CreditScore < 650]))"
      ],
      "metadata": {
        "colab": {
          "base_uri": "https://localhost:8080/"
        },
        "id": "Ewb7YZ3vwOnq",
        "outputId": "2d6a4ae2-984e-4d84-c57a-c8dbb3503519"
      },
      "execution_count": null,
      "outputs": [
        {
          "output_type": "stream",
          "name": "stdout",
          "text": [
            "Number of customers with a credit score of less than 650: 4900\n"
          ]
        }
      ]
    },
    {
      "cell_type": "markdown",
      "source": [
        "As shown in the output above, by using the len() method, we can determine that there are 4900 customers with a credit score lower than 650."
      ],
      "metadata": {
        "id": "wfVOF1A6xGAB"
      }
    },
    {
      "cell_type": "markdown",
      "source": [
        "## **3i) Calculate how many have exited the bank?**"
      ],
      "metadata": {
        "id": "wJX82PGKxUYf"
      }
    },
    {
      "cell_type": "code",
      "source": [
        "# Calculate how many customers have exited\n",
        "print(\"Number who have exited: %d\" %len(churn_df[(churn_df.Exited == 1) & (churn_df.IsActiveMember == 0)]))"
      ],
      "metadata": {
        "colab": {
          "base_uri": "https://localhost:8080/"
        },
        "id": "ZKCjt6iPzmEC",
        "outputId": "e0bb64b2-5a6b-4b7e-b865-958b31d891cb"
      },
      "execution_count": null,
      "outputs": [
        {
          "output_type": "stream",
          "name": "stdout",
          "text": [
            "Number who have exited: 1302\n"
          ]
        }
      ]
    },
    {
      "cell_type": "markdown",
      "source": [
        "According to the meta data provided, it can be assumed that a customer is considered to have left only when both inactive (0) and when they have closed account with the bank (1). \n",
        "On that assumption, the number of customers who have exited calculated using the len() function is 1302."
      ],
      "metadata": {
        "id": "ZTx0SH4IL4TU"
      }
    }
  ]
}
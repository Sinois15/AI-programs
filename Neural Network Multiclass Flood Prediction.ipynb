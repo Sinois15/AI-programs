{
  "nbformat": 4,
  "nbformat_minor": 0,
  "metadata": {
    "colab": {
      "provenance": []
    },
    "kernelspec": {
      "name": "python3",
      "display_name": "Python 3"
    },
    "language_info": {
      "name": "python"
    }
  },
  "cells": [
    {
      "cell_type": "markdown",
      "source": [
        "# **Question 1**"
      ],
      "metadata": {
        "id": "lrqrCiXrpu8b"
      }
    },
    {
      "cell_type": "markdown",
      "source": [
        "## **1a) Importing Dataset and Librairies.**"
      ],
      "metadata": {
        "id": "9hCXfWH0qXun"
      }
    },
    {
      "cell_type": "code",
      "execution_count": 4,
      "metadata": {
        "id": "DovQgP6haER2"
      },
      "outputs": [],
      "source": [
        "# Implement line wrapping\n",
        "from IPython.display import HTML, display\n",
        "def set_css():\n",
        "  display(HTML('''\n",
        "  <Style>\n",
        "    pre{\n",
        "      white-space: pre-wrapped;\n",
        "    }\n",
        "  </Style>\n",
        "  '''))\n",
        "get_ipython().events.register('pre_run_cell', set_css)"
      ]
    },
    {
      "cell_type": "code",
      "source": [
        "# Importing relevant libraries\n",
        "import pandas as pd\n",
        "import numpy as np\n",
        "import matplotlib.pyplot as plt"
      ],
      "metadata": {
        "colab": {
          "base_uri": "https://localhost:8080/",
          "height": 17
        },
        "id": "dsjfciP2rJwN",
        "outputId": "644170c2-ee4e-4b93-babe-fc93da667612"
      },
      "execution_count": 11,
      "outputs": [
        {
          "output_type": "display_data",
          "data": {
            "text/plain": [
              "<IPython.core.display.HTML object>"
            ],
            "text/html": [
              "\n",
              "  <Style>\n",
              "    pre{\n",
              "      white-space: pre-wrapped;\n",
              "    }\n",
              "  </Style>\n",
              "  "
            ]
          },
          "metadata": {}
        }
      ]
    },
    {
      "cell_type": "markdown",
      "source": [
        "Above is the code for importing the relevant libraries for data-preprocessing. The purpose of each is described as follows:\n",
        "\n",
        "\n",
        "*   **Pandas**: For dataset storage. analysis and manipulation.\n",
        "*   **Numpy**: For the execution of scientific mathematical operations.\n",
        "*   **Matplotlib**: For data visualization as charts.\n",
        "\n"
      ],
      "metadata": {
        "id": "O3ILBYv0rJMa"
      }
    },
    {
      "cell_type": "code",
      "execution_count": 14,
      "metadata": {
        "colab": {
          "base_uri": "https://localhost:8080/",
          "height": 17
        },
        "id": "Pf21D3Nypksz",
        "outputId": "7bcc793e-d0fa-4c3a-d270-b0d8b7667cb8"
      },
      "outputs": [
        {
          "output_type": "display_data",
          "data": {
            "text/plain": [
              "<IPython.core.display.HTML object>"
            ],
            "text/html": [
              "\n",
              "  <Style>\n",
              "    pre{\n",
              "      white-space: pre-wrapped;\n",
              "    }\n",
              "  </Style>\n",
              "  "
            ]
          },
          "metadata": {}
        }
      ],
      "source": [
        "# Load dataset\n",
        "DATA_DIR_1 = \"/content/flood_detection.csv\"\n",
        "flood_df = pd.read_csv(DATA_DIR_1, header = 0)\n",
        "flood_copy_df = pd.read_csv(DATA_DIR_1, header = 0)"
      ]
    },
    {
      "cell_type": "markdown",
      "source": [
        "The flood_detection dataset was loaded and stored as a data frame in the variable \"flood_df\" using the read_csv() function from the pandas library."
      ],
      "metadata": {
        "id": "orDA4chGqybj"
      }
    },
    {
      "cell_type": "markdown",
      "source": [
        "## **1b) Finding the number of rows and columns.**"
      ],
      "metadata": {
        "id": "W7NQawwysuKV"
      }
    },
    {
      "cell_type": "code",
      "source": [
        "# Outputting number of rows and columns\n",
        "print(\"Number of rows:\", flood_df.shape[0])\n",
        "print(\"Number of columns\", flood_df.shape[1])"
      ],
      "metadata": {
        "colab": {
          "base_uri": "https://localhost:8080/",
          "height": 69
        },
        "id": "j-78_lJbs5Uc",
        "outputId": "92715cf7-7542-4788-b649-467546df57a7"
      },
      "execution_count": null,
      "outputs": [
        {
          "output_type": "display_data",
          "data": {
            "text/plain": [
              "<IPython.core.display.HTML object>"
            ],
            "text/html": [
              "\n",
              "  <Style>\n",
              "    pre{\n",
              "      white-space: pre-wrapped;\n",
              "    }\n",
              "  </Style>\n",
              "  "
            ]
          },
          "metadata": {}
        },
        {
          "output_type": "stream",
          "name": "stdout",
          "text": [
            "(1452, 10)\n",
            "Number of rows: 1452\n",
            "Number of columns 10\n"
          ]
        }
      ]
    },
    {
      "cell_type": "markdown",
      "source": [
        "As shown in the output above, the number of rows (**1452**) and columns (**10**) were determined using the **shape** attribute of the data frame. The shape attribute returns a list with the number of rows in the 1st index and the number of columns in the 2nd index."
      ],
      "metadata": {
        "id": "U9ey9u8JtZxx"
      }
    },
    {
      "cell_type": "markdown",
      "source": [
        "## **1c) Find the listing of all columns.**"
      ],
      "metadata": {
        "id": "Ivcz_bH2t9ir"
      }
    },
    {
      "cell_type": "code",
      "source": [
        "# Find listing of all columns\n",
        "print(\"Flood_Detection.csv Column Listing: \\n\")\n",
        "for c in flood_df.columns:\n",
        "  print(c)"
      ],
      "metadata": {
        "colab": {
          "base_uri": "https://localhost:8080/",
          "height": 225
        },
        "id": "UOM6_CQou2uh",
        "outputId": "06a7c326-c9c2-4719-8d5e-72057f0ca2b0"
      },
      "execution_count": null,
      "outputs": [
        {
          "output_type": "display_data",
          "data": {
            "text/plain": [
              "<IPython.core.display.HTML object>"
            ],
            "text/html": [
              "\n",
              "  <Style>\n",
              "    pre{\n",
              "      white-space: pre-wrapped;\n",
              "    }\n",
              "  </Style>\n",
              "  "
            ]
          },
          "metadata": {}
        },
        {
          "output_type": "stream",
          "name": "stdout",
          "text": [
            "Flood_Detection.csv Column Listing: \n",
            "\n",
            "obsID\n",
            "CountyID\n",
            "impactLevel\n",
            "FloodSource\n",
            "countyName\n",
            "EARegion\n",
            "AltCountyName\n",
            "ObservationDate\n",
            "ImpactLevelDescription\n",
            "FloodSourceDescription\n"
          ]
        }
      ]
    },
    {
      "cell_type": "markdown",
      "source": [
        "As shown in the above code and output, flood_detection.csv's columns' names have been access using flood_df's **columns** attribute."
      ],
      "metadata": {
        "id": "wRLZj0G4v5-W"
      }
    },
    {
      "cell_type": "markdown",
      "source": [
        "# **1d) Find the basic information of each column.**"
      ],
      "metadata": {
        "id": "jP4RxCo9wdeT"
      }
    },
    {
      "cell_type": "code",
      "source": [
        "# get basic statistics of numerical columns\n",
        "flood_df.describe()"
      ],
      "metadata": {
        "colab": {
          "base_uri": "https://localhost:8080/",
          "height": 300
        },
        "id": "h6yx6wcVw0y6",
        "outputId": "eea7fce4-510c-478e-ebf1-00f44514abef"
      },
      "execution_count": null,
      "outputs": [
        {
          "output_type": "display_data",
          "data": {
            "text/plain": [
              "<IPython.core.display.HTML object>"
            ],
            "text/html": [
              "\n",
              "  <Style>\n",
              "    pre{\n",
              "      white-space: pre-wrapped;\n",
              "    }\n",
              "  </Style>\n",
              "  "
            ]
          },
          "metadata": {}
        },
        {
          "output_type": "execute_result",
          "data": {
            "text/plain": [
              "             obsID     CountyID  impactLevel\n",
              "count  1452.000000  1452.000000  1369.000000\n",
              "mean   2571.321625    38.251377     2.822498\n",
              "std     600.723760    29.546926     0.432478\n",
              "min    1571.000000     1.000000     1.000000\n",
              "25%    1784.000000    15.000000     3.000000\n",
              "50%    2914.500000    30.000000     3.000000\n",
              "75%    3022.250000    55.000000     3.000000\n",
              "max    3128.000000   109.000000     3.000000"
            ],
            "text/html": [
              "\n",
              "  <div id=\"df-2ea64444-bb09-4a2a-a7b2-b655346269a7\">\n",
              "    <div class=\"colab-df-container\">\n",
              "      <div>\n",
              "<style scoped>\n",
              "    .dataframe tbody tr th:only-of-type {\n",
              "        vertical-align: middle;\n",
              "    }\n",
              "\n",
              "    .dataframe tbody tr th {\n",
              "        vertical-align: top;\n",
              "    }\n",
              "\n",
              "    .dataframe thead th {\n",
              "        text-align: right;\n",
              "    }\n",
              "</style>\n",
              "<table border=\"1\" class=\"dataframe\">\n",
              "  <thead>\n",
              "    <tr style=\"text-align: right;\">\n",
              "      <th></th>\n",
              "      <th>obsID</th>\n",
              "      <th>CountyID</th>\n",
              "      <th>impactLevel</th>\n",
              "    </tr>\n",
              "  </thead>\n",
              "  <tbody>\n",
              "    <tr>\n",
              "      <th>count</th>\n",
              "      <td>1452.000000</td>\n",
              "      <td>1452.000000</td>\n",
              "      <td>1369.000000</td>\n",
              "    </tr>\n",
              "    <tr>\n",
              "      <th>mean</th>\n",
              "      <td>2571.321625</td>\n",
              "      <td>38.251377</td>\n",
              "      <td>2.822498</td>\n",
              "    </tr>\n",
              "    <tr>\n",
              "      <th>std</th>\n",
              "      <td>600.723760</td>\n",
              "      <td>29.546926</td>\n",
              "      <td>0.432478</td>\n",
              "    </tr>\n",
              "    <tr>\n",
              "      <th>min</th>\n",
              "      <td>1571.000000</td>\n",
              "      <td>1.000000</td>\n",
              "      <td>1.000000</td>\n",
              "    </tr>\n",
              "    <tr>\n",
              "      <th>25%</th>\n",
              "      <td>1784.000000</td>\n",
              "      <td>15.000000</td>\n",
              "      <td>3.000000</td>\n",
              "    </tr>\n",
              "    <tr>\n",
              "      <th>50%</th>\n",
              "      <td>2914.500000</td>\n",
              "      <td>30.000000</td>\n",
              "      <td>3.000000</td>\n",
              "    </tr>\n",
              "    <tr>\n",
              "      <th>75%</th>\n",
              "      <td>3022.250000</td>\n",
              "      <td>55.000000</td>\n",
              "      <td>3.000000</td>\n",
              "    </tr>\n",
              "    <tr>\n",
              "      <th>max</th>\n",
              "      <td>3128.000000</td>\n",
              "      <td>109.000000</td>\n",
              "      <td>3.000000</td>\n",
              "    </tr>\n",
              "  </tbody>\n",
              "</table>\n",
              "</div>\n",
              "      <button class=\"colab-df-convert\" onclick=\"convertToInteractive('df-2ea64444-bb09-4a2a-a7b2-b655346269a7')\"\n",
              "              title=\"Convert this dataframe to an interactive table.\"\n",
              "              style=\"display:none;\">\n",
              "        \n",
              "  <svg xmlns=\"http://www.w3.org/2000/svg\" height=\"24px\"viewBox=\"0 0 24 24\"\n",
              "       width=\"24px\">\n",
              "    <path d=\"M0 0h24v24H0V0z\" fill=\"none\"/>\n",
              "    <path d=\"M18.56 5.44l.94 2.06.94-2.06 2.06-.94-2.06-.94-.94-2.06-.94 2.06-2.06.94zm-11 1L8.5 8.5l.94-2.06 2.06-.94-2.06-.94L8.5 2.5l-.94 2.06-2.06.94zm10 10l.94 2.06.94-2.06 2.06-.94-2.06-.94-.94-2.06-.94 2.06-2.06.94z\"/><path d=\"M17.41 7.96l-1.37-1.37c-.4-.4-.92-.59-1.43-.59-.52 0-1.04.2-1.43.59L10.3 9.45l-7.72 7.72c-.78.78-.78 2.05 0 2.83L4 21.41c.39.39.9.59 1.41.59.51 0 1.02-.2 1.41-.59l7.78-7.78 2.81-2.81c.8-.78.8-2.07 0-2.86zM5.41 20L4 18.59l7.72-7.72 1.47 1.35L5.41 20z\"/>\n",
              "  </svg>\n",
              "      </button>\n",
              "      \n",
              "  <style>\n",
              "    .colab-df-container {\n",
              "      display:flex;\n",
              "      flex-wrap:wrap;\n",
              "      gap: 12px;\n",
              "    }\n",
              "\n",
              "    .colab-df-convert {\n",
              "      background-color: #E8F0FE;\n",
              "      border: none;\n",
              "      border-radius: 50%;\n",
              "      cursor: pointer;\n",
              "      display: none;\n",
              "      fill: #1967D2;\n",
              "      height: 32px;\n",
              "      padding: 0 0 0 0;\n",
              "      width: 32px;\n",
              "    }\n",
              "\n",
              "    .colab-df-convert:hover {\n",
              "      background-color: #E2EBFA;\n",
              "      box-shadow: 0px 1px 2px rgba(60, 64, 67, 0.3), 0px 1px 3px 1px rgba(60, 64, 67, 0.15);\n",
              "      fill: #174EA6;\n",
              "    }\n",
              "\n",
              "    [theme=dark] .colab-df-convert {\n",
              "      background-color: #3B4455;\n",
              "      fill: #D2E3FC;\n",
              "    }\n",
              "\n",
              "    [theme=dark] .colab-df-convert:hover {\n",
              "      background-color: #434B5C;\n",
              "      box-shadow: 0px 1px 3px 1px rgba(0, 0, 0, 0.15);\n",
              "      filter: drop-shadow(0px 1px 2px rgba(0, 0, 0, 0.3));\n",
              "      fill: #FFFFFF;\n",
              "    }\n",
              "  </style>\n",
              "\n",
              "      <script>\n",
              "        const buttonEl =\n",
              "          document.querySelector('#df-2ea64444-bb09-4a2a-a7b2-b655346269a7 button.colab-df-convert');\n",
              "        buttonEl.style.display =\n",
              "          google.colab.kernel.accessAllowed ? 'block' : 'none';\n",
              "\n",
              "        async function convertToInteractive(key) {\n",
              "          const element = document.querySelector('#df-2ea64444-bb09-4a2a-a7b2-b655346269a7');\n",
              "          const dataTable =\n",
              "            await google.colab.kernel.invokeFunction('convertToInteractive',\n",
              "                                                     [key], {});\n",
              "          if (!dataTable) return;\n",
              "\n",
              "          const docLinkHtml = 'Like what you see? Visit the ' +\n",
              "            '<a target=\"_blank\" href=https://colab.research.google.com/notebooks/data_table.ipynb>data table notebook</a>'\n",
              "            + ' to learn more about interactive tables.';\n",
              "          element.innerHTML = '';\n",
              "          dataTable['output_type'] = 'display_data';\n",
              "          await google.colab.output.renderOutput(dataTable, element);\n",
              "          const docLink = document.createElement('div');\n",
              "          docLink.innerHTML = docLinkHtml;\n",
              "          element.appendChild(docLink);\n",
              "        }\n",
              "      </script>\n",
              "    </div>\n",
              "  </div>\n",
              "  "
            ]
          },
          "metadata": {},
          "execution_count": 13
        }
      ]
    },
    {
      "cell_type": "code",
      "source": [
        "# Get count of categorical columns\n",
        "num_columns = [\"obsID\", \"CountyID\", \"impactLevel\"]\n",
        "for c in flood_df.columns:\n",
        "  if (c not in num_columns):\n",
        "    print(c, \"count\", flood_df[c].count())"
      ],
      "metadata": {
        "colab": {
          "base_uri": "https://localhost:8080/",
          "height": 139
        },
        "id": "mby8NRKaCwKk",
        "outputId": "c6540e56-8ae9-4389-f17b-6dcf49c60976"
      },
      "execution_count": 15,
      "outputs": [
        {
          "output_type": "display_data",
          "data": {
            "text/plain": [
              "<IPython.core.display.HTML object>"
            ],
            "text/html": [
              "\n",
              "  <Style>\n",
              "    pre{\n",
              "      white-space: pre-wrapped;\n",
              "    }\n",
              "  </Style>\n",
              "  "
            ]
          },
          "metadata": {}
        },
        {
          "output_type": "stream",
          "name": "stdout",
          "text": [
            "FloodSource count 1369\n",
            "countyName count 1452\n",
            "EARegion count 1452\n",
            "AltCountyName count 1452\n",
            "ObservationDate count 1452\n",
            "ImpactLevelDescription count 1369\n",
            "FloodSourceDescription count 1369\n"
          ]
        }
      ]
    },
    {
      "cell_type": "markdown",
      "source": [
        "As shown above, using the pandas' function describe() we can output count, mean, standard deviation, min value, max value and quartiles of the numerical columns. Additionally since the describe() function does not consider categorical columns by default, their count values need to be individually accessed using the pandas count() function."
      ],
      "metadata": {
        "id": "LP3p6ed3yKcA"
      }
    },
    {
      "cell_type": "code",
      "source": [
        "# get mode of all columns\n",
        "for c in flood_df.columns:\n",
        "  print(c, \"mode:\", flood_df[c].mode()[0])"
      ],
      "metadata": {
        "colab": {
          "base_uri": "https://localhost:8080/",
          "height": 191
        },
        "id": "kAB4sEqoyBq1",
        "outputId": "60f01b8a-36db-424c-87c8-58e1ec91f20f"
      },
      "execution_count": null,
      "outputs": [
        {
          "output_type": "display_data",
          "data": {
            "text/plain": [
              "<IPython.core.display.HTML object>"
            ],
            "text/html": [
              "\n",
              "  <Style>\n",
              "    pre{\n",
              "      white-space: pre-wrapped;\n",
              "    }\n",
              "  </Style>\n",
              "  "
            ]
          },
          "metadata": {}
        },
        {
          "output_type": "stream",
          "name": "stdout",
          "text": [
            "obsID mode: 2967\n",
            "CountyID mode: 30\n",
            "impactLevel mode: 3.0\n",
            "FloodSource mode: S\n",
            "countyName mode: North Yorkshire\n",
            "EARegion mode: Midlands - Solihull\n",
            "AltCountyName mode: N Yorkshire\n",
            "ObservationDate mode: 27/08/2016\n",
            "ImpactLevelDescription mode: Minor\n",
            "FloodSourceDescription mode: Surface water\n"
          ]
        }
      ]
    },
    {
      "cell_type": "markdown",
      "source": [
        "However since such statistics does not apply to categorical columns (except count), we can find their mode using the pandas function mode() and since this function returns a list, we only get the first index value, which contains the actual mode of the column."
      ],
      "metadata": {
        "id": "ojKmwj5hw0i4"
      }
    },
    {
      "cell_type": "markdown",
      "source": [
        "# **1e) Determining the data type of each column.**"
      ],
      "metadata": {
        "id": "gp9xrmHey5jU"
      }
    },
    {
      "cell_type": "code",
      "source": [
        "# Get data type of each column\n",
        "flood_df.dtypes"
      ],
      "metadata": {
        "colab": {
          "base_uri": "https://localhost:8080/",
          "height": 208
        },
        "id": "WRESFhuezDEr",
        "outputId": "9185a87b-d442-4bd0-d67e-06892e79890a"
      },
      "execution_count": null,
      "outputs": [
        {
          "output_type": "display_data",
          "data": {
            "text/plain": [
              "<IPython.core.display.HTML object>"
            ],
            "text/html": [
              "\n",
              "  <Style>\n",
              "    pre{\n",
              "      white-space: pre-wrapped;\n",
              "    }\n",
              "  </Style>\n",
              "  "
            ]
          },
          "metadata": {}
        },
        {
          "output_type": "execute_result",
          "data": {
            "text/plain": [
              "obsID                       int64\n",
              "CountyID                    int64\n",
              "impactLevel               float64\n",
              "FloodSource                object\n",
              "countyName                 object\n",
              "EARegion                   object\n",
              "AltCountyName              object\n",
              "ObservationDate            object\n",
              "ImpactLevelDescription     object\n",
              "FloodSourceDescription     object\n",
              "dtype: object"
            ]
          },
          "metadata": {},
          "execution_count": 16
        }
      ]
    },
    {
      "cell_type": "markdown",
      "source": [
        "From the output above, we can determine the data type of each column using the data frame's \"**dtypes**\" attribute."
      ],
      "metadata": {
        "id": "em7wCpVlz5IL"
      }
    },
    {
      "cell_type": "markdown",
      "source": [
        "## **1f) Finding the total number of counties studied in this dataset**"
      ],
      "metadata": {
        "id": "7mOvbRv-0EhT"
      }
    },
    {
      "cell_type": "code",
      "source": [
        "# Get number of unique values in CountyID column\n",
        "print(\"Number of counties studied: %d\" %flood_df[\"CountyID\"].nunique())"
      ],
      "metadata": {
        "colab": {
          "base_uri": "https://localhost:8080/",
          "height": 34
        },
        "id": "TpcK4_dj0RGA",
        "outputId": "a4521932-f697-4d93-af61-63f6d25b0f81"
      },
      "execution_count": null,
      "outputs": [
        {
          "output_type": "display_data",
          "data": {
            "text/plain": [
              "<IPython.core.display.HTML object>"
            ],
            "text/html": [
              "\n",
              "  <Style>\n",
              "    pre{\n",
              "      white-space: pre-wrapped;\n",
              "    }\n",
              "  </Style>\n",
              "  "
            ]
          },
          "metadata": {}
        },
        {
          "output_type": "stream",
          "name": "stdout",
          "text": [
            "Number of counties studied: 107\n"
          ]
        }
      ]
    },
    {
      "cell_type": "markdown",
      "source": [
        "By counting the number of unique values from the CountyID column, which is used to uniquely identify each county, we can determine the number of counties studied in this dataset, which in this case is **107 counties**."
      ],
      "metadata": {
        "id": "rJIHEnvj1B-n"
      }
    },
    {
      "cell_type": "markdown",
      "source": [
        "# **Question 2**"
      ],
      "metadata": {
        "id": "jzUX63ur1j_O"
      }
    },
    {
      "cell_type": "markdown",
      "source": [
        "## **2a) Finding the number of missing values in each column.**"
      ],
      "metadata": {
        "id": "HhZHxtOU1tkF"
      }
    },
    {
      "cell_type": "code",
      "source": [
        "# Finding number of missing values in each column\n",
        "print(\"Number of missing values in each column: \\n\")\n",
        "print(flood_df.isna().sum())"
      ],
      "metadata": {
        "colab": {
          "base_uri": "https://localhost:8080/",
          "height": 243
        },
        "id": "HQSxxv7s11SG",
        "outputId": "556348c7-c23e-41dc-a421-aeede5863159"
      },
      "execution_count": 16,
      "outputs": [
        {
          "output_type": "display_data",
          "data": {
            "text/plain": [
              "<IPython.core.display.HTML object>"
            ],
            "text/html": [
              "\n",
              "  <Style>\n",
              "    pre{\n",
              "      white-space: pre-wrapped;\n",
              "    }\n",
              "  </Style>\n",
              "  "
            ]
          },
          "metadata": {}
        },
        {
          "output_type": "stream",
          "name": "stdout",
          "text": [
            "Number of missing values in each column: \n",
            "\n",
            "obsID                      0\n",
            "CountyID                   0\n",
            "impactLevel               83\n",
            "FloodSource               83\n",
            "countyName                 0\n",
            "EARegion                   0\n",
            "AltCountyName              0\n",
            "ObservationDate            0\n",
            "ImpactLevelDescription    83\n",
            "FloodSourceDescription    83\n",
            "dtype: int64\n"
          ]
        }
      ]
    },
    {
      "cell_type": "markdown",
      "source": [
        "Using the **isna()** function to identify an empty cell in each column and the **sum()** function to aggregate the number of those empty cells, we can determine the number of missing values in each column, as shown in theh output above."
      ],
      "metadata": {
        "id": "axHNbCB72Nos"
      }
    },
    {
      "cell_type": "markdown",
      "source": [
        "## **2b) Perform Data Cleansing and data set pre-processing**"
      ],
      "metadata": {
        "id": "FXn6CyOj3A22"
      }
    },
    {
      "cell_type": "markdown",
      "source": [
        "### **Data Imputation**"
      ],
      "metadata": {
        "id": "W3cIMjNDE6V9"
      }
    },
    {
      "cell_type": "code",
      "source": [
        "# imputing values\n",
        "mv_columns = [\"impactLevel\", \"FloodSource\", \"ImpactLevelDescription\", \n",
        "              \"FloodSourceDescription\"]\n",
        "for c in mv_columns:\n",
        "  mode = flood_df[c].mode()[0]\n",
        "  print(c, \"mode:\", mode)\n",
        "  print(\"Imputing rows containing missing values with\", mode)\n",
        "  flood_df[c].fillna(mode, inplace= True)\n",
        "  flood_copy_df[c].fillna(mode, inplace= True)\n",
        "  print(\"\")\n",
        "print(\"Missing values per column after data imputation:\")\n",
        "print(flood_df.isna().sum())\n"
      ],
      "metadata": {
        "colab": {
          "base_uri": "https://localhost:8080/",
          "height": 434
        },
        "id": "rn5QcoENBUYW",
        "outputId": "0c07f144-2ed5-4c69-f7f4-0c7f217bab5e"
      },
      "execution_count": 25,
      "outputs": [
        {
          "output_type": "display_data",
          "data": {
            "text/plain": [
              "<IPython.core.display.HTML object>"
            ],
            "text/html": [
              "\n",
              "  <Style>\n",
              "    pre{\n",
              "      white-space: pre-wrapped;\n",
              "    }\n",
              "  </Style>\n",
              "  "
            ]
          },
          "metadata": {}
        },
        {
          "output_type": "stream",
          "name": "stdout",
          "text": [
            "impactLevel mode: 3.0\n",
            "Imputing rows containing missing values with 3.0\n",
            "\n",
            "FloodSource mode: S\n",
            "Imputing rows containing missing values with S\n",
            "\n",
            "ImpactLevelDescription mode: Minor\n",
            "Imputing rows containing missing values with Minor\n",
            "\n",
            "FloodSourceDescription mode: Surface water\n",
            "Imputing rows containing missing values with Surface water\n",
            "\n",
            "Missing values per column after data imputation:\n",
            "obsID                     0\n",
            "CountyID                  0\n",
            "impactLevel               0\n",
            "FloodSource               0\n",
            "countyName                0\n",
            "EARegion                  0\n",
            "AltCountyName             0\n",
            "ObservationDate           0\n",
            "ImpactLevelDescription    0\n",
            "FloodSourceDescription    0\n",
            "dtype: int64\n"
          ]
        }
      ]
    },
    {
      "cell_type": "markdown",
      "source": [
        "To handle handle the missing values, a value can be inputed in the empty cells so as not to affect the dataset's sample size. Since all concerned columns in this case are categorical columns, onnly the mode can be used for data imputation, which can be performed using the fillna() method as shown in the code above. \n",
        "\n",
        "As seen in the output above, there are no missing values left after the data imputation."
      ],
      "metadata": {
        "id": "PmFTRlCzGBpJ"
      }
    },
    {
      "cell_type": "markdown",
      "source": [
        "### **Encoding**"
      ],
      "metadata": {
        "id": "DlkSkBNRHlLT"
      }
    },
    {
      "cell_type": "code",
      "source": [
        "# import labelEncoder class\n",
        "from sklearn.preprocessing import LabelEncoder\n",
        "le = LabelEncoder()\n",
        "encoded_df = flood_copy_df\n",
        "for c in encoded_df.columns:\n",
        "  if (c not in num_columns):\n",
        "    encoded_df[c] = le.fit_transform(encoded_df[c])\n",
        "    print(encoded_df[c].head(5))\n",
        "    print(\"\")"
      ],
      "metadata": {
        "colab": {
          "base_uri": "https://localhost:8080/",
          "height": 868
        },
        "id": "ch6QmB4k1lWM",
        "outputId": "b08fbe80-9c03-4238-b75e-c65f57f82142"
      },
      "execution_count": 23,
      "outputs": [
        {
          "output_type": "display_data",
          "data": {
            "text/plain": [
              "<IPython.core.display.HTML object>"
            ],
            "text/html": [
              "\n",
              "  <Style>\n",
              "    pre{\n",
              "      white-space: pre-wrapped;\n",
              "    }\n",
              "  </Style>\n",
              "  "
            ]
          },
          "metadata": {}
        },
        {
          "output_type": "stream",
          "name": "stdout",
          "text": [
            "0    2\n",
            "1    3\n",
            "2    2\n",
            "3    3\n",
            "4    2\n",
            "Name: FloodSource, dtype: int64\n",
            "\n",
            "0    18\n",
            "1    32\n",
            "2    59\n",
            "3    91\n",
            "4    27\n",
            "Name: countyName, dtype: int64\n",
            "\n",
            "0    3\n",
            "1    3\n",
            "2    2\n",
            "3    0\n",
            "4    5\n",
            "Name: EARegion, dtype: int64\n",
            "\n",
            "0    18\n",
            "1    32\n",
            "2    55\n",
            "3    90\n",
            "4    27\n",
            "Name: AltCountyName, dtype: int64\n",
            "\n",
            "0     0\n",
            "1     0\n",
            "2    33\n",
            "3    41\n",
            "4    41\n",
            "Name: ObservationDate, dtype: int64\n",
            "\n",
            "0    0\n",
            "1    0\n",
            "2    0\n",
            "3    0\n",
            "4    0\n",
            "Name: ImpactLevelDescription, dtype: int64\n",
            "\n",
            "0    2\n",
            "1    3\n",
            "2    2\n",
            "3    3\n",
            "4    2\n",
            "Name: FloodSourceDescription, dtype: int64\n",
            "\n"
          ]
        }
      ]
    },
    {
      "cell_type": "markdown",
      "source": [
        "In order for the machine learning algorithm to be able to process this dataset, all categorical data needs to be converted to numerical data using the LabelEncoder and its fit_transform() function.\n",
        "\n",
        "As shown in the head() output above, all categorical columns has had their data endoded."
      ],
      "metadata": {
        "id": "RG99wbdUI6jC"
      }
    },
    {
      "cell_type": "markdown",
      "source": [
        "### **Feature Scaling**"
      ],
      "metadata": {
        "id": "2Wh47z3tJYed"
      }
    },
    {
      "cell_type": "code",
      "source": [
        "flood_df.head()"
      ],
      "metadata": {
        "colab": {
          "base_uri": "https://localhost:8080/",
          "height": 374
        },
        "id": "QmpiA973HUZ8",
        "outputId": "b3132ea5-96e8-4ad3-c29a-9f94462dfe76"
      },
      "execution_count": 19,
      "outputs": [
        {
          "output_type": "display_data",
          "data": {
            "text/plain": [
              "<IPython.core.display.HTML object>"
            ],
            "text/html": [
              "\n",
              "  <Style>\n",
              "    pre{\n",
              "      white-space: pre-wrapped;\n",
              "    }\n",
              "  </Style>\n",
              "  "
            ]
          },
          "metadata": {}
        },
        {
          "output_type": "execute_result",
          "data": {
            "text/plain": [
              "   obsID  CountyID  impactLevel FloodSource          countyName  \\\n",
              "0   1571        13          3.0           R             Cumbria   \n",
              "1   1571         7          3.0           S  Greater Manchester   \n",
              "2   1572        30          3.0           R     North Yorkshire   \n",
              "3   1573        75          3.0           S            Thurrock   \n",
              "4   1573        18          3.0           R         East Sussex   \n",
              "\n",
              "                     EARegion   AltCountyName ObservationDate  \\\n",
              "0      Northwest - Warrington         Cumbria      01/01/2015   \n",
              "1      Northwest - Warrington  Gtr Manchester      01/01/2015   \n",
              "2           Northeast - Leeds     N Yorkshire      07/01/2015   \n",
              "3      Anglian - Peterborough        Thurrock      08/01/2015   \n",
              "4  Southeast South - Worthing        E Sussex      08/01/2015   \n",
              "\n",
              "  ImpactLevelDescription FloodSourceDescription  \n",
              "0                  Minor                  River  \n",
              "1                  Minor          Surface water  \n",
              "2                  Minor                  River  \n",
              "3                  Minor          Surface water  \n",
              "4                  Minor                  River  "
            ],
            "text/html": [
              "\n",
              "  <div id=\"df-74c61f6d-825e-4586-aafb-876c68f1b1a9\">\n",
              "    <div class=\"colab-df-container\">\n",
              "      <div>\n",
              "<style scoped>\n",
              "    .dataframe tbody tr th:only-of-type {\n",
              "        vertical-align: middle;\n",
              "    }\n",
              "\n",
              "    .dataframe tbody tr th {\n",
              "        vertical-align: top;\n",
              "    }\n",
              "\n",
              "    .dataframe thead th {\n",
              "        text-align: right;\n",
              "    }\n",
              "</style>\n",
              "<table border=\"1\" class=\"dataframe\">\n",
              "  <thead>\n",
              "    <tr style=\"text-align: right;\">\n",
              "      <th></th>\n",
              "      <th>obsID</th>\n",
              "      <th>CountyID</th>\n",
              "      <th>impactLevel</th>\n",
              "      <th>FloodSource</th>\n",
              "      <th>countyName</th>\n",
              "      <th>EARegion</th>\n",
              "      <th>AltCountyName</th>\n",
              "      <th>ObservationDate</th>\n",
              "      <th>ImpactLevelDescription</th>\n",
              "      <th>FloodSourceDescription</th>\n",
              "    </tr>\n",
              "  </thead>\n",
              "  <tbody>\n",
              "    <tr>\n",
              "      <th>0</th>\n",
              "      <td>1571</td>\n",
              "      <td>13</td>\n",
              "      <td>3.0</td>\n",
              "      <td>R</td>\n",
              "      <td>Cumbria</td>\n",
              "      <td>Northwest - Warrington</td>\n",
              "      <td>Cumbria</td>\n",
              "      <td>01/01/2015</td>\n",
              "      <td>Minor</td>\n",
              "      <td>River</td>\n",
              "    </tr>\n",
              "    <tr>\n",
              "      <th>1</th>\n",
              "      <td>1571</td>\n",
              "      <td>7</td>\n",
              "      <td>3.0</td>\n",
              "      <td>S</td>\n",
              "      <td>Greater Manchester</td>\n",
              "      <td>Northwest - Warrington</td>\n",
              "      <td>Gtr Manchester</td>\n",
              "      <td>01/01/2015</td>\n",
              "      <td>Minor</td>\n",
              "      <td>Surface water</td>\n",
              "    </tr>\n",
              "    <tr>\n",
              "      <th>2</th>\n",
              "      <td>1572</td>\n",
              "      <td>30</td>\n",
              "      <td>3.0</td>\n",
              "      <td>R</td>\n",
              "      <td>North Yorkshire</td>\n",
              "      <td>Northeast - Leeds</td>\n",
              "      <td>N Yorkshire</td>\n",
              "      <td>07/01/2015</td>\n",
              "      <td>Minor</td>\n",
              "      <td>River</td>\n",
              "    </tr>\n",
              "    <tr>\n",
              "      <th>3</th>\n",
              "      <td>1573</td>\n",
              "      <td>75</td>\n",
              "      <td>3.0</td>\n",
              "      <td>S</td>\n",
              "      <td>Thurrock</td>\n",
              "      <td>Anglian - Peterborough</td>\n",
              "      <td>Thurrock</td>\n",
              "      <td>08/01/2015</td>\n",
              "      <td>Minor</td>\n",
              "      <td>Surface water</td>\n",
              "    </tr>\n",
              "    <tr>\n",
              "      <th>4</th>\n",
              "      <td>1573</td>\n",
              "      <td>18</td>\n",
              "      <td>3.0</td>\n",
              "      <td>R</td>\n",
              "      <td>East Sussex</td>\n",
              "      <td>Southeast South - Worthing</td>\n",
              "      <td>E Sussex</td>\n",
              "      <td>08/01/2015</td>\n",
              "      <td>Minor</td>\n",
              "      <td>River</td>\n",
              "    </tr>\n",
              "  </tbody>\n",
              "</table>\n",
              "</div>\n",
              "      <button class=\"colab-df-convert\" onclick=\"convertToInteractive('df-74c61f6d-825e-4586-aafb-876c68f1b1a9')\"\n",
              "              title=\"Convert this dataframe to an interactive table.\"\n",
              "              style=\"display:none;\">\n",
              "        \n",
              "  <svg xmlns=\"http://www.w3.org/2000/svg\" height=\"24px\"viewBox=\"0 0 24 24\"\n",
              "       width=\"24px\">\n",
              "    <path d=\"M0 0h24v24H0V0z\" fill=\"none\"/>\n",
              "    <path d=\"M18.56 5.44l.94 2.06.94-2.06 2.06-.94-2.06-.94-.94-2.06-.94 2.06-2.06.94zm-11 1L8.5 8.5l.94-2.06 2.06-.94-2.06-.94L8.5 2.5l-.94 2.06-2.06.94zm10 10l.94 2.06.94-2.06 2.06-.94-2.06-.94-.94-2.06-.94 2.06-2.06.94z\"/><path d=\"M17.41 7.96l-1.37-1.37c-.4-.4-.92-.59-1.43-.59-.52 0-1.04.2-1.43.59L10.3 9.45l-7.72 7.72c-.78.78-.78 2.05 0 2.83L4 21.41c.39.39.9.59 1.41.59.51 0 1.02-.2 1.41-.59l7.78-7.78 2.81-2.81c.8-.78.8-2.07 0-2.86zM5.41 20L4 18.59l7.72-7.72 1.47 1.35L5.41 20z\"/>\n",
              "  </svg>\n",
              "      </button>\n",
              "      \n",
              "  <style>\n",
              "    .colab-df-container {\n",
              "      display:flex;\n",
              "      flex-wrap:wrap;\n",
              "      gap: 12px;\n",
              "    }\n",
              "\n",
              "    .colab-df-convert {\n",
              "      background-color: #E8F0FE;\n",
              "      border: none;\n",
              "      border-radius: 50%;\n",
              "      cursor: pointer;\n",
              "      display: none;\n",
              "      fill: #1967D2;\n",
              "      height: 32px;\n",
              "      padding: 0 0 0 0;\n",
              "      width: 32px;\n",
              "    }\n",
              "\n",
              "    .colab-df-convert:hover {\n",
              "      background-color: #E2EBFA;\n",
              "      box-shadow: 0px 1px 2px rgba(60, 64, 67, 0.3), 0px 1px 3px 1px rgba(60, 64, 67, 0.15);\n",
              "      fill: #174EA6;\n",
              "    }\n",
              "\n",
              "    [theme=dark] .colab-df-convert {\n",
              "      background-color: #3B4455;\n",
              "      fill: #D2E3FC;\n",
              "    }\n",
              "\n",
              "    [theme=dark] .colab-df-convert:hover {\n",
              "      background-color: #434B5C;\n",
              "      box-shadow: 0px 1px 3px 1px rgba(0, 0, 0, 0.15);\n",
              "      filter: drop-shadow(0px 1px 2px rgba(0, 0, 0, 0.3));\n",
              "      fill: #FFFFFF;\n",
              "    }\n",
              "  </style>\n",
              "\n",
              "      <script>\n",
              "        const buttonEl =\n",
              "          document.querySelector('#df-74c61f6d-825e-4586-aafb-876c68f1b1a9 button.colab-df-convert');\n",
              "        buttonEl.style.display =\n",
              "          google.colab.kernel.accessAllowed ? 'block' : 'none';\n",
              "\n",
              "        async function convertToInteractive(key) {\n",
              "          const element = document.querySelector('#df-74c61f6d-825e-4586-aafb-876c68f1b1a9');\n",
              "          const dataTable =\n",
              "            await google.colab.kernel.invokeFunction('convertToInteractive',\n",
              "                                                     [key], {});\n",
              "          if (!dataTable) return;\n",
              "\n",
              "          const docLinkHtml = 'Like what you see? Visit the ' +\n",
              "            '<a target=\"_blank\" href=https://colab.research.google.com/notebooks/data_table.ipynb>data table notebook</a>'\n",
              "            + ' to learn more about interactive tables.';\n",
              "          element.innerHTML = '';\n",
              "          dataTable['output_type'] = 'display_data';\n",
              "          await google.colab.output.renderOutput(dataTable, element);\n",
              "          const docLink = document.createElement('div');\n",
              "          docLink.innerHTML = docLinkHtml;\n",
              "          element.appendChild(docLink);\n",
              "        }\n",
              "      </script>\n",
              "    </div>\n",
              "  </div>\n",
              "  "
            ]
          },
          "metadata": {},
          "execution_count": 19
        }
      ]
    },
    {
      "cell_type": "code",
      "source": [
        "encoded_df.isna().sum()"
      ],
      "metadata": {
        "colab": {
          "base_uri": "https://localhost:8080/",
          "height": 208
        },
        "id": "ESB4z-yzPc-e",
        "outputId": "502cb4a3-c798-4ccf-abbf-8cc57bd0bc03"
      },
      "execution_count": 26,
      "outputs": [
        {
          "output_type": "display_data",
          "data": {
            "text/plain": [
              "<IPython.core.display.HTML object>"
            ],
            "text/html": [
              "\n",
              "  <Style>\n",
              "    pre{\n",
              "      white-space: pre-wrapped;\n",
              "    }\n",
              "  </Style>\n",
              "  "
            ]
          },
          "metadata": {}
        },
        {
          "output_type": "execute_result",
          "data": {
            "text/plain": [
              "obsID                     0\n",
              "CountyID                  0\n",
              "impactLevel               0\n",
              "FloodSource               0\n",
              "countyName                0\n",
              "EARegion                  0\n",
              "AltCountyName             0\n",
              "ObservationDate           0\n",
              "ImpactLevelDescription    0\n",
              "FloodSourceDescription    0\n",
              "dtype: int64"
            ]
          },
          "metadata": {},
          "execution_count": 26
        }
      ]
    },
    {
      "cell_type": "code",
      "source": [
        "# Scaling the dataset using Standard Scaler\n",
        "from sklearn import preprocessing\n",
        "std_scale = preprocessing.StandardScaler().fit_transform(encoded_df)\n",
        "scaled_df = pd.DataFrame(std_scale, columns = encoded_df.columns)"
      ],
      "metadata": {
        "colab": {
          "base_uri": "https://localhost:8080/",
          "height": 17
        },
        "id": "xU3XK00dK-Q1",
        "outputId": "09eb5cbe-e389-4062-a599-0dbd9d4e50fd"
      },
      "execution_count": 27,
      "outputs": [
        {
          "output_type": "display_data",
          "data": {
            "text/plain": [
              "<IPython.core.display.HTML object>"
            ],
            "text/html": [
              "\n",
              "  <Style>\n",
              "    pre{\n",
              "      white-space: pre-wrapped;\n",
              "    }\n",
              "  </Style>\n",
              "  "
            ]
          },
          "metadata": {}
        }
      ]
    },
    {
      "cell_type": "code",
      "source": [
        "print(scaled_df.head())"
      ],
      "metadata": {
        "colab": {
          "base_uri": "https://localhost:8080/",
          "height": 364
        },
        "id": "JYqAZ1_CLIiE",
        "outputId": "5b8ce85c-292f-4e33-aee9-be0e6f3583f7"
      },
      "execution_count": 28,
      "outputs": [
        {
          "output_type": "display_data",
          "data": {
            "text/plain": [
              "<IPython.core.display.HTML object>"
            ],
            "text/html": [
              "\n",
              "  <Style>\n",
              "    pre{\n",
              "      white-space: pre-wrapped;\n",
              "    }\n",
              "  </Style>\n",
              "  "
            ]
          },
          "metadata": {}
        },
        {
          "output_type": "stream",
          "name": "stdout",
          "text": [
            "      obsID  CountyID  impactLevel  FloodSource  countyName  EARegion  \\\n",
            "0 -1.665768 -0.854914     0.396765    -0.773682   -1.101484 -0.110282   \n",
            "1 -1.665768 -1.058051     0.396765     0.535626   -0.645828 -0.110282   \n",
            "2 -1.664103 -0.279360     0.396765    -0.773682    0.232939 -0.545414   \n",
            "3 -1.662437  1.244166     0.396765     0.535626    1.274440 -1.415679   \n",
            "4 -1.662437 -0.685633     0.396765    -0.773682   -0.808562  0.759983   \n",
            "\n",
            "   AltCountyName  ObservationDate  ImpactLevelDescription  \\\n",
            "0      -1.100042        -1.649237               -0.486907   \n",
            "1      -0.643337        -1.649237               -0.486907   \n",
            "2       0.106964        -1.091782               -0.486907   \n",
            "3       1.248727        -0.956641               -0.486907   \n",
            "4      -0.806445        -0.956641               -0.486907   \n",
            "\n",
            "   FloodSourceDescription  \n",
            "0               -0.773682  \n",
            "1                0.535626  \n",
            "2               -0.773682  \n",
            "3                0.535626  \n",
            "4               -0.773682  \n"
          ]
        }
      ]
    },
    {
      "cell_type": "markdown",
      "source": [
        "Feature scaling is executed using the standard scaler method. This method is performed using the StandardScaler class from the sci-kit learn preprocessing library and its respective fit_transform() function."
      ],
      "metadata": {
        "id": "jM9gCmjOLUCj"
      }
    },
    {
      "cell_type": "markdown",
      "source": [
        "## **2c) Checking the number of levels in ImpactLevel column.**"
      ],
      "metadata": {
        "id": "e-ZpQ9oGL9-8"
      }
    },
    {
      "cell_type": "code",
      "source": [
        "# Checking number of levels in immpactLevel column\n",
        "print(\"Number of levels in ImpactLevel column:\", flood_df[\"impactLevel\"].nunique())"
      ],
      "metadata": {
        "colab": {
          "base_uri": "https://localhost:8080/",
          "height": 34
        },
        "id": "UIUz0v-mMIA0",
        "outputId": "210cadaa-0521-4f9f-f0d4-3676a93300fb"
      },
      "execution_count": 29,
      "outputs": [
        {
          "output_type": "display_data",
          "data": {
            "text/plain": [
              "<IPython.core.display.HTML object>"
            ],
            "text/html": [
              "\n",
              "  <Style>\n",
              "    pre{\n",
              "      white-space: pre-wrapped;\n",
              "    }\n",
              "  </Style>\n",
              "  "
            ]
          },
          "metadata": {}
        },
        {
          "output_type": "stream",
          "name": "stdout",
          "text": [
            "Number of levels in ImpactLevel column: 3\n"
          ]
        }
      ]
    },
    {
      "cell_type": "markdown",
      "source": [
        "Using the pandas nuniques() function, the number of unique values in the impactLevel column can be counted, hence a total number of **3 levels**."
      ],
      "metadata": {
        "id": "0OadWiwiNP2q"
      }
    },
    {
      "cell_type": "markdown",
      "source": [
        "## **2d) Finding the mode from ImpactLevelDescription column.**"
      ],
      "metadata": {
        "id": "X9QnQ5njNpH-"
      }
    },
    {
      "cell_type": "code",
      "source": [
        "# Getting ImpactLevelDescription mode\n",
        "print(\"ImpactLevelDescription mode:\", flood_df[\"ImpactLevelDescription\"].mode()[0])"
      ],
      "metadata": {
        "colab": {
          "base_uri": "https://localhost:8080/",
          "height": 34
        },
        "id": "yzGy0lRXNyuk",
        "outputId": "788f0a17-a2e0-4b78-a628-591176fbe3c3"
      },
      "execution_count": null,
      "outputs": [
        {
          "output_type": "display_data",
          "data": {
            "text/plain": [
              "<IPython.core.display.HTML object>"
            ],
            "text/html": [
              "\n",
              "  <Style>\n",
              "    pre{\n",
              "      white-space: pre-wrapped;\n",
              "    }\n",
              "  </Style>\n",
              "  "
            ]
          },
          "metadata": {}
        },
        {
          "output_type": "stream",
          "name": "stdout",
          "text": [
            "ImpactLevelDescription mode: Minor\n"
          ]
        }
      ]
    },
    {
      "cell_type": "markdown",
      "source": [
        "By using the pandas mode() function, the mode of the ImpactLevelDescription column can be determined to be \"**Minor**\"."
      ],
      "metadata": {
        "id": "VyYWqBGNOWVn"
      }
    },
    {
      "cell_type": "markdown",
      "source": [
        "## **2e) Finding the mode from the FloodSourceDescription column**"
      ],
      "metadata": {
        "id": "58t7aMRDOmRD"
      }
    },
    {
      "cell_type": "code",
      "source": [
        "# Getting FloodSourceDescription mode\n",
        "print(\"FloodSourceDescription mode:\", flood_df[\"FloodSourceDescription\"].mode()[0])"
      ],
      "metadata": {
        "colab": {
          "base_uri": "https://localhost:8080/",
          "height": 34
        },
        "id": "IbJ3pFpKOyO5",
        "outputId": "d9680eed-9666-448a-cc41-970187237b82"
      },
      "execution_count": null,
      "outputs": [
        {
          "output_type": "display_data",
          "data": {
            "text/plain": [
              "<IPython.core.display.HTML object>"
            ],
            "text/html": [
              "\n",
              "  <Style>\n",
              "    pre{\n",
              "      white-space: pre-wrapped;\n",
              "    }\n",
              "  </Style>\n",
              "  "
            ]
          },
          "metadata": {}
        },
        {
          "output_type": "stream",
          "name": "stdout",
          "text": [
            "FloodSourceDescription mode: Surface water\n"
          ]
        }
      ]
    },
    {
      "cell_type": "markdown",
      "source": [
        "By using the pandas mode() function, the mode of the FloodSourceDescription column can be determined to be \"**Surface Water**\"."
      ],
      "metadata": {
        "id": "eSEXdlYKO8j5"
      }
    },
    {
      "cell_type": "markdown",
      "source": [
        "## **2f) Impute missing values with ImpactLevelDescription mode value.**"
      ],
      "metadata": {
        "id": "SKjA73lXPDEM"
      }
    },
    {
      "cell_type": "code",
      "source": [
        "# Impute mmissing values in ImpactLevelDescription column with its mode\n",
        "flood_df[\"ImpactLevelDescription\"].fillna(flood_df[\"ImpactLevelDescription\"].mode()[0], inplace = True)\n",
        "print(\"Number of missing values after imputation: \", flood_df[\"ImpactLevelDescription\"].isna().sum())"
      ],
      "metadata": {
        "colab": {
          "base_uri": "https://localhost:8080/",
          "height": 34
        },
        "id": "Hb8k5tRJPwBW",
        "outputId": "7ea0b240-4e08-48e9-dd43-4520e80a4460"
      },
      "execution_count": null,
      "outputs": [
        {
          "output_type": "display_data",
          "data": {
            "text/plain": [
              "<IPython.core.display.HTML object>"
            ],
            "text/html": [
              "\n",
              "  <Style>\n",
              "    pre{\n",
              "      white-space: pre-wrapped;\n",
              "    }\n",
              "  </Style>\n",
              "  "
            ]
          },
          "metadata": {}
        },
        {
          "output_type": "stream",
          "name": "stdout",
          "text": [
            "Number of missing values after imputation:  0\n"
          ]
        }
      ]
    },
    {
      "cell_type": "markdown",
      "source": [
        "As shown in the code above, the mode data imputation is carried out using the pandas fillna() function and we can see from the isna().sum() output that all missing values have been dealt with."
      ],
      "metadata": {
        "id": "KhDZGPPbaYBa"
      }
    },
    {
      "cell_type": "markdown",
      "source": [
        "## **2g) Impute missing values with FloodSourceDescription mode value.**"
      ],
      "metadata": {
        "id": "EelZQLK7atKR"
      }
    },
    {
      "cell_type": "code",
      "source": [
        "# Impute mmissing values in FloodSourceDescription column with its mode\n",
        "flood_df[\"FloodSourceDescription\"].fillna(flood_df[\"FloodSourceDescription\"].mode()[0], inplace = True)\n",
        "print(\"Number of missing values after imputation: \", flood_df[\"FloodSourceDescription\"].isna().sum())"
      ],
      "metadata": {
        "colab": {
          "base_uri": "https://localhost:8080/",
          "height": 34
        },
        "id": "NRSb3UuhassW",
        "outputId": "d2d49dc3-cdaa-41f9-c485-c4d01235c736"
      },
      "execution_count": null,
      "outputs": [
        {
          "output_type": "display_data",
          "data": {
            "text/plain": [
              "<IPython.core.display.HTML object>"
            ],
            "text/html": [
              "\n",
              "  <Style>\n",
              "    pre{\n",
              "      white-space: pre-wrapped;\n",
              "    }\n",
              "  </Style>\n",
              "  "
            ]
          },
          "metadata": {}
        },
        {
          "output_type": "stream",
          "name": "stdout",
          "text": [
            "Number of missing values after imputation:  0\n"
          ]
        }
      ]
    },
    {
      "cell_type": "markdown",
      "source": [
        "As shown in the code above, the mode data imputation is carried out using the pandas fillna() function and we can see from the isna().sum() output that all missing values have been dealt with."
      ],
      "metadata": {
        "id": "0PTieZJObCBJ"
      }
    },
    {
      "cell_type": "markdown",
      "source": [
        "## **2h) Give your opinion whether this kind of repetition is appropriate in a dataset? Justify your answer.**"
      ],
      "metadata": {
        "id": "YrQNt-UObFFj"
      }
    },
    {
      "cell_type": "markdown",
      "source": [
        "Having this kind of repetition allows for easier multiclass classification coding since the ImpactLevelDescription and FloodSourceDescription can be directly one-hot encoded in order to format them into the proper shape were they to be used as dependent variables. Additonally, having the presence of impactLevel column allows for this data to be directly used as feature without the need of encoding but the same cannot be said for FloodSource as it still contains categorical data. Hence, this kind of reprtition is appropriate for this dataset as it simplifies the data pre-processing for multi-class classification."
      ],
      "metadata": {
        "id": "_PtwVAnAhsAc"
      }
    },
    {
      "cell_type": "markdown",
      "source": [
        "## **2i) Printing the frequent distribution of countyName column.**"
      ],
      "metadata": {
        "id": "0eeViOMJjhv9"
      }
    },
    {
      "cell_type": "code",
      "source": [
        "# Print the frequent distribution of the countyName column.\n",
        "print(\"Frequency distribution of \")\n",
        "print(flood_df[\"countyName\"].value_counts())\n",
        "# visualize frequency distribution of countyName column\n",
        "flood_df[\"countyName\"].value_counts().plot(kind='bar') \n",
        "plt.xticks(rotation = 90)\n",
        "plt.show()"
      ],
      "metadata": {
        "colab": {
          "base_uri": "https://localhost:8080/",
          "height": 827
        },
        "id": "4VlBEol2jtNd",
        "outputId": "c5885a98-d321-4b7c-b3be-d44b5432c529"
      },
      "execution_count": null,
      "outputs": [
        {
          "output_type": "display_data",
          "data": {
            "text/plain": [
              "<IPython.core.display.HTML object>"
            ],
            "text/html": [
              "\n",
              "  <Style>\n",
              "    pre{\n",
              "      white-space: pre-wrapped;\n",
              "    }\n",
              "  </Style>\n",
              "  "
            ]
          },
          "metadata": {}
        },
        {
          "output_type": "stream",
          "name": "stdout",
          "text": [
            "Frequency distribution of \n",
            "North Yorkshire            72\n",
            "Cumbria                    53\n",
            "Devon                      53\n",
            "Worcestershire             52\n",
            "Gloucestershire            50\n",
            "                           ..\n",
            "North East Lincolnshire     1\n",
            "Torbay                      1\n",
            "Stockton-on-Tees            1\n",
            "North Lincolnshire          1\n",
            "Blackpool                   1\n",
            "Name: countyName, Length: 107, dtype: int64\n"
          ]
        },
        {
          "output_type": "display_data",
          "data": {
            "text/plain": [
              "<Figure size 640x480 with 1 Axes>"
            ],
            "image/png": "[encoded data removed]"
          },
          "metadata": {}
        }
      ]
    },
    {
      "cell_type": "markdown",
      "source": [
        "The frequency distribution of the countyName Column was displayed as text using the pandas unique() function and visualized as a barplot using the matplotlib plot() function,"
      ],
      "metadata": {
        "id": "qL-wnUHM5YQ7"
      }
    },
    {
      "cell_type": "markdown",
      "source": [
        "# **Question 3**"
      ],
      "metadata": {
        "id": "tM2NEKbb54nk"
      }
    },
    {
      "cell_type": "markdown",
      "source": [
        "## **3a) Split dataset into train and test sets.**"
      ],
      "metadata": {
        "id": "y8ssEodN57M0"
      }
    },
    {
      "cell_type": "code",
      "source": [
        "from sklearn.utils import shuffle # Method to shuffle dataset\n",
        "from sklearn.model_selection import train_test_split # Method to split dataset\n",
        "# Shuffle dataset\n",
        "shuffled_df = shuffle(scaled_df, random_state = 42)\n",
        "shuffled_df.head()\n",
        "# Set the ImpactLevelDescription as the dependent variable\n",
        "DV = \"ImpactLevelDescription\"\n",
        "x = shuffled_df.drop(DV, axis = 1)\n",
        "y = flood_df[DV]\n",
        "# One-hot encode the dependent variable\n",
        "shuffled_y = shuffle(y, random_state = 42)\n",
        "encoded_y = pd.get_dummies(shuffled_y, drop_first=False)\n",
        "print ('There are {} columns in df_dummies'.format (encoded_y.shape[1]))\n",
        "print(encoded_y.head())"
      ],
      "metadata": {
        "colab": {
          "base_uri": "https://localhost:8080/",
          "height": 139
        },
        "id": "uq55NqHF6Fqm",
        "outputId": "ffe19c7d-a38c-44c9-e3c1-719fb8951c5e"
      },
      "execution_count": 30,
      "outputs": [
        {
          "output_type": "display_data",
          "data": {
            "text/plain": [
              "<IPython.core.display.HTML object>"
            ],
            "text/html": [
              "\n",
              "  <Style>\n",
              "    pre{\n",
              "      white-space: pre-wrapped;\n",
              "    }\n",
              "  </Style>\n",
              "  "
            ]
          },
          "metadata": {}
        },
        {
          "output_type": "stream",
          "name": "stdout",
          "text": [
            "There are 3 columns in df_dummies\n",
            "      Minor  Severe  Significant\n",
            "1036      1       0            0\n",
            "1124      0       0            1\n",
            "997       1       0            0\n",
            "1316      1       0            0\n",
            "529       1       0            0\n"
          ]
        }
      ]
    },
    {
      "cell_type": "markdown",
      "source": [
        "The scaled dataset is shuffled to avoid order-based biasness using the **shuffle()** function and and the **ImpactLevelDescription column** is set as the **dependent variable** as it is the impact level of the flood which needs to be predicted. The dependent variable is then one-hot encoded using the **get_dummies()** function to format it suitably for a multiclass classification."
      ],
      "metadata": {
        "id": "wbIxSJXwh0oy"
      }
    },
    {
      "cell_type": "code",
      "source": [
        "# Split dataset in a 80:20 train:test proportion\n",
        "x_train, x_test, y_train, y_test = train_test_split (x, encoded_y, test_size=0.20, random_state=42)\n",
        "print(\"Training set shape:\")\n",
        "print(x_train.shape, y_train.shape, \"\\n\")\n",
        "print(\"Testing set shape:\")\n",
        "print(x_test.shape, y_test.shape)"
      ],
      "metadata": {
        "colab": {
          "base_uri": "https://localhost:8080/",
          "height": 104
        },
        "id": "DibLcMqLJ8yC",
        "outputId": "132899c1-6fb4-4f8d-ac11-ad7a74b397b5"
      },
      "execution_count": 31,
      "outputs": [
        {
          "output_type": "display_data",
          "data": {
            "text/plain": [
              "<IPython.core.display.HTML object>"
            ],
            "text/html": [
              "\n",
              "  <Style>\n",
              "    pre{\n",
              "      white-space: pre-wrapped;\n",
              "    }\n",
              "  </Style>\n",
              "  "
            ]
          },
          "metadata": {}
        },
        {
          "output_type": "stream",
          "name": "stdout",
          "text": [
            "Training set shape:\n",
            "(1161, 9) (1161, 3) \n",
            "\n",
            "Testing set shape:\n",
            "(291, 9) (291, 3)\n"
          ]
        }
      ]
    },
    {
      "cell_type": "markdown",
      "source": [
        "As shown above, the dataset is split using the train_test_split() method in a 80:20 train to test proportion following the Pareto theorem. 80% of the data is allocated to training in order to provide the most data possible to the machine learning algorithm to learn the patterns in the data and the remaining 20% is used to validate the data."
      ],
      "metadata": {
        "id": "wDebP9XqEAyq"
      }
    },
    {
      "cell_type": "code",
      "source": [
        "x_train.head()"
      ],
      "metadata": {
        "colab": {
          "base_uri": "https://localhost:8080/",
          "height": 270
        },
        "id": "GYUIQceZ7YlF",
        "outputId": "5acd8655-2ba1-42c6-9f89-54f8f6586d21"
      },
      "execution_count": 32,
      "outputs": [
        {
          "output_type": "display_data",
          "data": {
            "text/plain": [
              "<IPython.core.display.HTML object>"
            ],
            "text/html": [
              "\n",
              "  <Style>\n",
              "    pre{\n",
              "      white-space: pre-wrapped;\n",
              "    }\n",
              "  </Style>\n",
              "  "
            ]
          },
          "metadata": {}
        },
        {
          "output_type": "execute_result",
          "data": {
            "text/plain": [
              "         obsID  CountyID  impactLevel  FloodSource  countyName  EARegion  \\\n",
              "1153  0.817093 -1.091907     0.396765     0.535626   -0.678375  0.324851   \n",
              "1278  0.848733 -0.211647     0.396765     0.535626    0.395674  0.324851   \n",
              "177  -1.454283 -1.261187     0.396765     0.535626   -0.125077 -0.110282   \n",
              "805   0.630587  1.921289     0.396765    -3.392296   -1.231672  1.630248   \n",
              "1277  0.848733 -0.245504     0.396765     0.535626    0.363127 -0.980546   \n",
              "\n",
              "      AltCountyName  ObservationDate  FloodSourceDescription  \n",
              "1153      -0.675958        -1.294493                0.535626  \n",
              "1278       0.400560         1.323857                0.535626  \n",
              "177       -0.121388         0.783294                0.535626  \n",
              "805       -1.230529        -0.922856               -3.392296  \n",
              "1277       0.367939         1.323857                0.535626  "
            ],
            "text/html": [
              "\n",
              "  <div id=\"df-2a06a965-0eba-4bf5-aef1-4438634085b6\">\n",
              "    <div class=\"colab-df-container\">\n",
              "      <div>\n",
              "<style scoped>\n",
              "    .dataframe tbody tr th:only-of-type {\n",
              "        vertical-align: middle;\n",
              "    }\n",
              "\n",
              "    .dataframe tbody tr th {\n",
              "        vertical-align: top;\n",
              "    }\n",
              "\n",
              "    .dataframe thead th {\n",
              "        text-align: right;\n",
              "    }\n",
              "</style>\n",
              "<table border=\"1\" class=\"dataframe\">\n",
              "  <thead>\n",
              "    <tr style=\"text-align: right;\">\n",
              "      <th></th>\n",
              "      <th>obsID</th>\n",
              "      <th>CountyID</th>\n",
              "      <th>impactLevel</th>\n",
              "      <th>FloodSource</th>\n",
              "      <th>countyName</th>\n",
              "      <th>EARegion</th>\n",
              "      <th>AltCountyName</th>\n",
              "      <th>ObservationDate</th>\n",
              "      <th>FloodSourceDescription</th>\n",
              "    </tr>\n",
              "  </thead>\n",
              "  <tbody>\n",
              "    <tr>\n",
              "      <th>1153</th>\n",
              "      <td>0.817093</td>\n",
              "      <td>-1.091907</td>\n",
              "      <td>0.396765</td>\n",
              "      <td>0.535626</td>\n",
              "      <td>-0.678375</td>\n",
              "      <td>0.324851</td>\n",
              "      <td>-0.675958</td>\n",
              "      <td>-1.294493</td>\n",
              "      <td>0.535626</td>\n",
              "    </tr>\n",
              "    <tr>\n",
              "      <th>1278</th>\n",
              "      <td>0.848733</td>\n",
              "      <td>-0.211647</td>\n",
              "      <td>0.396765</td>\n",
              "      <td>0.535626</td>\n",
              "      <td>0.395674</td>\n",
              "      <td>0.324851</td>\n",
              "      <td>0.400560</td>\n",
              "      <td>1.323857</td>\n",
              "      <td>0.535626</td>\n",
              "    </tr>\n",
              "    <tr>\n",
              "      <th>177</th>\n",
              "      <td>-1.454283</td>\n",
              "      <td>-1.261187</td>\n",
              "      <td>0.396765</td>\n",
              "      <td>0.535626</td>\n",
              "      <td>-0.125077</td>\n",
              "      <td>-0.110282</td>\n",
              "      <td>-0.121388</td>\n",
              "      <td>0.783294</td>\n",
              "      <td>0.535626</td>\n",
              "    </tr>\n",
              "    <tr>\n",
              "      <th>805</th>\n",
              "      <td>0.630587</td>\n",
              "      <td>1.921289</td>\n",
              "      <td>0.396765</td>\n",
              "      <td>-3.392296</td>\n",
              "      <td>-1.231672</td>\n",
              "      <td>1.630248</td>\n",
              "      <td>-1.230529</td>\n",
              "      <td>-0.922856</td>\n",
              "      <td>-3.392296</td>\n",
              "    </tr>\n",
              "    <tr>\n",
              "      <th>1277</th>\n",
              "      <td>0.848733</td>\n",
              "      <td>-0.245504</td>\n",
              "      <td>0.396765</td>\n",
              "      <td>0.535626</td>\n",
              "      <td>0.363127</td>\n",
              "      <td>-0.980546</td>\n",
              "      <td>0.367939</td>\n",
              "      <td>1.323857</td>\n",
              "      <td>0.535626</td>\n",
              "    </tr>\n",
              "  </tbody>\n",
              "</table>\n",
              "</div>\n",
              "      <button class=\"colab-df-convert\" onclick=\"convertToInteractive('df-2a06a965-0eba-4bf5-aef1-4438634085b6')\"\n",
              "              title=\"Convert this dataframe to an interactive table.\"\n",
              "              style=\"display:none;\">\n",
              "        \n",
              "  <svg xmlns=\"http://www.w3.org/2000/svg\" height=\"24px\"viewBox=\"0 0 24 24\"\n",
              "       width=\"24px\">\n",
              "    <path d=\"M0 0h24v24H0V0z\" fill=\"none\"/>\n",
              "    <path d=\"M18.56 5.44l.94 2.06.94-2.06 2.06-.94-2.06-.94-.94-2.06-.94 2.06-2.06.94zm-11 1L8.5 8.5l.94-2.06 2.06-.94-2.06-.94L8.5 2.5l-.94 2.06-2.06.94zm10 10l.94 2.06.94-2.06 2.06-.94-2.06-.94-.94-2.06-.94 2.06-2.06.94z\"/><path d=\"M17.41 7.96l-1.37-1.37c-.4-.4-.92-.59-1.43-.59-.52 0-1.04.2-1.43.59L10.3 9.45l-7.72 7.72c-.78.78-.78 2.05 0 2.83L4 21.41c.39.39.9.59 1.41.59.51 0 1.02-.2 1.41-.59l7.78-7.78 2.81-2.81c.8-.78.8-2.07 0-2.86zM5.41 20L4 18.59l7.72-7.72 1.47 1.35L5.41 20z\"/>\n",
              "  </svg>\n",
              "      </button>\n",
              "      \n",
              "  <style>\n",
              "    .colab-df-container {\n",
              "      display:flex;\n",
              "      flex-wrap:wrap;\n",
              "      gap: 12px;\n",
              "    }\n",
              "\n",
              "    .colab-df-convert {\n",
              "      background-color: #E8F0FE;\n",
              "      border: none;\n",
              "      border-radius: 50%;\n",
              "      cursor: pointer;\n",
              "      display: none;\n",
              "      fill: #1967D2;\n",
              "      height: 32px;\n",
              "      padding: 0 0 0 0;\n",
              "      width: 32px;\n",
              "    }\n",
              "\n",
              "    .colab-df-convert:hover {\n",
              "      background-color: #E2EBFA;\n",
              "      box-shadow: 0px 1px 2px rgba(60, 64, 67, 0.3), 0px 1px 3px 1px rgba(60, 64, 67, 0.15);\n",
              "      fill: #174EA6;\n",
              "    }\n",
              "\n",
              "    [theme=dark] .colab-df-convert {\n",
              "      background-color: #3B4455;\n",
              "      fill: #D2E3FC;\n",
              "    }\n",
              "\n",
              "    [theme=dark] .colab-df-convert:hover {\n",
              "      background-color: #434B5C;\n",
              "      box-shadow: 0px 1px 3px 1px rgba(0, 0, 0, 0.15);\n",
              "      filter: drop-shadow(0px 1px 2px rgba(0, 0, 0, 0.3));\n",
              "      fill: #FFFFFF;\n",
              "    }\n",
              "  </style>\n",
              "\n",
              "      <script>\n",
              "        const buttonEl =\n",
              "          document.querySelector('#df-2a06a965-0eba-4bf5-aef1-4438634085b6 button.colab-df-convert');\n",
              "        buttonEl.style.display =\n",
              "          google.colab.kernel.accessAllowed ? 'block' : 'none';\n",
              "\n",
              "        async function convertToInteractive(key) {\n",
              "          const element = document.querySelector('#df-2a06a965-0eba-4bf5-aef1-4438634085b6');\n",
              "          const dataTable =\n",
              "            await google.colab.kernel.invokeFunction('convertToInteractive',\n",
              "                                                     [key], {});\n",
              "          if (!dataTable) return;\n",
              "\n",
              "          const docLinkHtml = 'Like what you see? Visit the ' +\n",
              "            '<a target=\"_blank\" href=https://colab.research.google.com/notebooks/data_table.ipynb>data table notebook</a>'\n",
              "            + ' to learn more about interactive tables.';\n",
              "          element.innerHTML = '';\n",
              "          dataTable['output_type'] = 'display_data';\n",
              "          await google.colab.output.renderOutput(dataTable, element);\n",
              "          const docLink = document.createElement('div');\n",
              "          docLink.innerHTML = docLinkHtml;\n",
              "          element.appendChild(docLink);\n",
              "        }\n",
              "      </script>\n",
              "    </div>\n",
              "  </div>\n",
              "  "
            ]
          },
          "metadata": {},
          "execution_count": 32
        }
      ]
    },
    {
      "cell_type": "markdown",
      "source": [
        "## **3b) Build the Neural Network model with Keras**"
      ],
      "metadata": {
        "id": "Mhw6H-EFLiCT"
      }
    },
    {
      "cell_type": "code",
      "source": [
        "from keras.models import Sequential\n",
        "from keras.layers import Flatten\n",
        "from keras.layers import Dense\n",
        "# Define the model architecture\n",
        "model = Sequential()\n",
        "model.add(Dense(9, activation='relu', input_dim=9))\n",
        "model.add(Dense(5, activation='relu'))\n",
        "model.add(Dense(3, activation='softmax'))\n",
        "y_train.shape\n",
        "\n"
      ],
      "metadata": {
        "colab": {
          "base_uri": "https://localhost:8080/",
          "height": 34
        },
        "id": "CEhgJqpRLvO3",
        "outputId": "c1b1438a-ab18-4a87-8508-35d595804ddd"
      },
      "execution_count": 34,
      "outputs": [
        {
          "output_type": "display_data",
          "data": {
            "text/plain": [
              "<IPython.core.display.HTML object>"
            ],
            "text/html": [
              "\n",
              "  <Style>\n",
              "    pre{\n",
              "      white-space: pre-wrapped;\n",
              "    }\n",
              "  </Style>\n",
              "  "
            ]
          },
          "metadata": {}
        },
        {
          "output_type": "execute_result",
          "data": {
            "text/plain": [
              "(1161, 3)"
            ]
          },
          "metadata": {},
          "execution_count": 34
        }
      ]
    },
    {
      "cell_type": "markdown",
      "source": [
        "The neural network is first built using by instantiating the **Sequential()** object from the keras.models library. The input layer is then added with **9 neurons**, one for each input feature and the activation function set for the input and hidden layer is **ReLu**. The number of neuron set for the output layer is **3**, one for each possible label and the activation function set is **softmax** due to the multiclass nature of the dependent variable."
      ],
      "metadata": {
        "id": "AVwAjJU-fRzu"
      }
    },
    {
      "cell_type": "code",
      "source": [
        "# Compile the model\n",
        "model.compile(optimizer='adam', loss='categorical_crossentropy', metrics=['accuracy'])\n",
        "# Train the model\n",
        "model.fit(x_train, y_train, epochs=50, batch_size=100)\n",
        "accuracy = model.evaluate(x_test, y_test)[1]\n",
        "print(\"Accuracy: %.2f\" %(accuracy*100), \"%\")"
      ],
      "metadata": {
        "colab": {
          "base_uri": "https://localhost:8080/",
          "height": 1000
        },
        "id": "_bph0PIvK-g3",
        "outputId": "caaab4db-1c9e-457d-f490-2fa94bb39332"
      },
      "execution_count": 35,
      "outputs": [
        {
          "output_type": "display_data",
          "data": {
            "text/plain": [
              "<IPython.core.display.HTML object>"
            ],
            "text/html": [
              "\n",
              "  <Style>\n",
              "    pre{\n",
              "      white-space: pre-wrapped;\n",
              "    }\n",
              "  </Style>\n",
              "  "
            ]
          },
          "metadata": {}
        },
        {
          "output_type": "stream",
          "name": "stdout",
          "text": [
            "Epoch 1/50\n",
            "12/12 [==============================] - 1s 2ms/step - loss: 1.5398 - accuracy: 0.1964\n",
            "Epoch 2/50\n",
            "12/12 [==============================] - 0s 2ms/step - loss: 1.4108 - accuracy: 0.3084\n",
            "Epoch 3/50\n",
            "12/12 [==============================] - 0s 2ms/step - loss: 1.3039 - accuracy: 0.4264\n",
            "Epoch 4/50\n",
            "12/12 [==============================] - 0s 2ms/step - loss: 1.2137 - accuracy: 0.5289\n",
            "Epoch 5/50\n",
            "12/12 [==============================] - 0s 2ms/step - loss: 1.1364 - accuracy: 0.6012\n",
            "Epoch 6/50\n",
            "12/12 [==============================] - 0s 2ms/step - loss: 1.0698 - accuracy: 0.6718\n",
            "Epoch 7/50\n",
            "12/12 [==============================] - 0s 2ms/step - loss: 1.0111 - accuracy: 0.7235\n",
            "Epoch 8/50\n",
            "12/12 [==============================] - 0s 2ms/step - loss: 0.9564 - accuracy: 0.7373\n",
            "Epoch 9/50\n",
            "12/12 [==============================] - 0s 2ms/step - loss: 0.9065 - accuracy: 0.7752\n",
            "Epoch 10/50\n",
            "12/12 [==============================] - 0s 2ms/step - loss: 0.8572 - accuracy: 0.8226\n",
            "Epoch 11/50\n",
            "12/12 [==============================] - 0s 2ms/step - loss: 0.8076 - accuracy: 0.8424\n",
            "Epoch 12/50\n",
            "12/12 [==============================] - 0s 2ms/step - loss: 0.7594 - accuracy: 0.8527\n",
            "Epoch 13/50\n",
            "12/12 [==============================] - 0s 2ms/step - loss: 0.7105 - accuracy: 0.8630\n",
            "Epoch 14/50\n",
            "12/12 [==============================] - 0s 2ms/step - loss: 0.6618 - accuracy: 0.8656\n",
            "Epoch 15/50\n",
            "12/12 [==============================] - 0s 2ms/step - loss: 0.6155 - accuracy: 0.8648\n",
            "Epoch 16/50\n",
            "12/12 [==============================] - 0s 2ms/step - loss: 0.5710 - accuracy: 0.8605\n",
            "Epoch 17/50\n",
            "12/12 [==============================] - 0s 2ms/step - loss: 0.5304 - accuracy: 0.8587\n",
            "Epoch 18/50\n",
            "12/12 [==============================] - 0s 2ms/step - loss: 0.4933 - accuracy: 0.8579\n",
            "Epoch 19/50\n",
            "12/12 [==============================] - 0s 2ms/step - loss: 0.4594 - accuracy: 0.8596\n",
            "Epoch 20/50\n",
            "12/12 [==============================] - 0s 2ms/step - loss: 0.4283 - accuracy: 0.8613\n",
            "Epoch 21/50\n",
            "12/12 [==============================] - 0s 2ms/step - loss: 0.3999 - accuracy: 0.8648\n",
            "Epoch 22/50\n",
            "12/12 [==============================] - 0s 2ms/step - loss: 0.3734 - accuracy: 0.8699\n",
            "Epoch 23/50\n",
            "12/12 [==============================] - 0s 2ms/step - loss: 0.3495 - accuracy: 0.8717\n",
            "Epoch 24/50\n",
            "12/12 [==============================] - 0s 2ms/step - loss: 0.3274 - accuracy: 0.8786\n",
            "Epoch 25/50\n",
            "12/12 [==============================] - 0s 2ms/step - loss: 0.3075 - accuracy: 0.8794\n",
            "Epoch 26/50\n",
            "12/12 [==============================] - 0s 3ms/step - loss: 0.2890 - accuracy: 0.8829\n",
            "Epoch 27/50\n",
            "12/12 [==============================] - 0s 2ms/step - loss: 0.2719 - accuracy: 0.8854\n",
            "Epoch 28/50\n",
            "12/12 [==============================] - 0s 2ms/step - loss: 0.2558 - accuracy: 0.8915\n",
            "Epoch 29/50\n",
            "12/12 [==============================] - 0s 2ms/step - loss: 0.2411 - accuracy: 0.9035\n",
            "Epoch 30/50\n",
            "12/12 [==============================] - 0s 2ms/step - loss: 0.2276 - accuracy: 0.9104\n",
            "Epoch 31/50\n",
            "12/12 [==============================] - 0s 2ms/step - loss: 0.2150 - accuracy: 0.9233\n",
            "Epoch 32/50\n",
            "12/12 [==============================] - 0s 2ms/step - loss: 0.2036 - accuracy: 0.9311\n",
            "Epoch 33/50\n",
            "12/12 [==============================] - 0s 2ms/step - loss: 0.1933 - accuracy: 0.9380\n",
            "Epoch 34/50\n",
            "12/12 [==============================] - 0s 2ms/step - loss: 0.1837 - accuracy: 0.9440\n",
            "Epoch 35/50\n",
            "12/12 [==============================] - 0s 3ms/step - loss: 0.1749 - accuracy: 0.9535\n",
            "Epoch 36/50\n",
            "12/12 [==============================] - 0s 3ms/step - loss: 0.1669 - accuracy: 0.9587\n",
            "Epoch 37/50\n",
            "12/12 [==============================] - 0s 3ms/step - loss: 0.1596 - accuracy: 0.9638\n",
            "Epoch 38/50\n",
            "12/12 [==============================] - 0s 3ms/step - loss: 0.1531 - accuracy: 0.9673\n",
            "Epoch 39/50\n",
            "12/12 [==============================] - 0s 3ms/step - loss: 0.1470 - accuracy: 0.9681\n",
            "Epoch 40/50\n",
            "12/12 [==============================] - 0s 4ms/step - loss: 0.1418 - accuracy: 0.9707\n",
            "Epoch 41/50\n",
            "12/12 [==============================] - 0s 3ms/step - loss: 0.1370 - accuracy: 0.9707\n",
            "Epoch 42/50\n",
            "12/12 [==============================] - 0s 3ms/step - loss: 0.1326 - accuracy: 0.9742\n",
            "Epoch 43/50\n",
            "12/12 [==============================] - 0s 4ms/step - loss: 0.1288 - accuracy: 0.9759\n",
            "Epoch 44/50\n",
            "12/12 [==============================] - 0s 3ms/step - loss: 0.1253 - accuracy: 0.9759\n",
            "Epoch 45/50\n",
            "12/12 [==============================] - 0s 3ms/step - loss: 0.1222 - accuracy: 0.9759\n",
            "Epoch 46/50\n",
            "12/12 [==============================] - 0s 3ms/step - loss: 0.1192 - accuracy: 0.9767\n",
            "Epoch 47/50\n",
            "12/12 [==============================] - 0s 3ms/step - loss: 0.1166 - accuracy: 0.9793\n",
            "Epoch 48/50\n",
            "12/12 [==============================] - 0s 3ms/step - loss: 0.1141 - accuracy: 0.9793\n",
            "Epoch 49/50\n",
            "12/12 [==============================] - 0s 3ms/step - loss: 0.1119 - accuracy: 0.9793\n",
            "Epoch 50/50\n",
            "12/12 [==============================] - 0s 3ms/step - loss: 0.1099 - accuracy: 0.9793\n",
            "10/10 [==============================] - 0s 2ms/step - loss: 0.0952 - accuracy: 0.9863\n",
            "Accuracy: 98.63 %\n"
          ]
        }
      ]
    },
    {
      "cell_type": "markdown",
      "source": [
        "As shown above, the loss parameter is set to **\"categorical_crossentropy\"** due to the multiclass nature of the dependent variable and the **accuracy of the training is 98.63%**, as shown in the output above."
      ],
      "metadata": {
        "id": "WSk7g-p3hBmV"
      }
    },
    {
      "cell_type": "markdown",
      "source": [
        "## **3c) Evaluate the model using Accuracy, Precision, Recall, ROC and AUC.**"
      ],
      "metadata": {
        "id": "bfnjyEwLjAAT"
      }
    },
    {
      "cell_type": "code",
      "source": [
        "from sklearn.metrics import accuracy_score, precision_score\n",
        "from sklearn.metrics import recall_score, roc_curve, auc\n",
        "# Get predictions\n",
        "train_set_preds =  model.predict(x_train)\n",
        "test_set_preds =  model.predict(x_test)\n",
        "train_set_preds =  np.round(train_set_preds, decimals=2)\n",
        "test_set_preds =  np.round(test_set_preds, decimals=2)"
      ],
      "metadata": {
        "colab": {
          "base_uri": "https://localhost:8080/",
          "height": 52
        },
        "id": "olSJBIbnLhRJ",
        "outputId": "02bbda6d-3e18-42e9-8986-e7aaa3bddf25"
      },
      "execution_count": 74,
      "outputs": [
        {
          "output_type": "display_data",
          "data": {
            "text/plain": [
              "<IPython.core.display.HTML object>"
            ],
            "text/html": [
              "\n",
              "  <Style>\n",
              "    pre{\n",
              "      white-space: pre-wrapped;\n",
              "    }\n",
              "  </Style>\n",
              "  "
            ]
          },
          "metadata": {}
        },
        {
          "output_type": "stream",
          "name": "stdout",
          "text": [
            "37/37 [==============================] - 0s 1ms/step\n",
            "10/10 [==============================] - 0s 2ms/step\n"
          ]
        }
      ]
    },
    {
      "cell_type": "markdown",
      "source": [
        "The training and test predicctions are produced using the predict() function and those predictions are then rounded to 2 decimal points using the numpy function round()."
      ],
      "metadata": {
        "id": "vir8BsrljS6L"
      }
    },
    {
      "cell_type": "code",
      "source": [
        "print(\"Training predictions: \\n\")\n",
        "print(train_set_preds)"
      ],
      "metadata": {
        "colab": {
          "base_uri": "https://localhost:8080/",
          "height": 173
        },
        "id": "wbw1wefnbg4T",
        "outputId": "d0591d2b-1517-4e55-c206-95f83157cce5"
      },
      "execution_count": 75,
      "outputs": [
        {
          "output_type": "display_data",
          "data": {
            "text/plain": [
              "<IPython.core.display.HTML object>"
            ],
            "text/html": [
              "\n",
              "  <Style>\n",
              "    pre{\n",
              "      white-space: pre-wrapped;\n",
              "    }\n",
              "  </Style>\n",
              "  "
            ]
          },
          "metadata": {}
        },
        {
          "output_type": "stream",
          "name": "stdout",
          "text": [
            "Training predictions: \n",
            "\n",
            "[[0.99 0.01 0.01]\n",
            " [0.98 0.01 0.01]\n",
            " [0.97 0.02 0.02]\n",
            " ...\n",
            " [0.99 0.01 0.  ]\n",
            " [0.99 0.   0.  ]\n",
            " [0.99 0.   0.  ]]\n"
          ]
        }
      ]
    },
    {
      "cell_type": "code",
      "source": [
        "print(\"Testing predictions: \\n\")\n",
        "print(test_set_preds)"
      ],
      "metadata": {
        "colab": {
          "base_uri": "https://localhost:8080/",
          "height": 1000
        },
        "id": "sEOyhyJuR_Nt",
        "outputId": "c78f2b16-0d3e-4ccc-c692-b698202e0e6e"
      },
      "execution_count": 76,
      "outputs": [
        {
          "output_type": "display_data",
          "data": {
            "text/plain": [
              "<IPython.core.display.HTML object>"
            ],
            "text/html": [
              "\n",
              "  <Style>\n",
              "    pre{\n",
              "      white-space: pre-wrapped;\n",
              "    }\n",
              "  </Style>\n",
              "  "
            ]
          },
          "metadata": {}
        },
        {
          "output_type": "stream",
          "name": "stdout",
          "text": [
            "Testing predictions: \n",
            "\n",
            "[[0.99 0.   0.  ]\n",
            " [0.   0.05 0.94]\n",
            " [0.1  0.17 0.74]\n",
            " [0.99 0.   0.01]\n",
            " [0.98 0.01 0.01]\n",
            " [0.99 0.   0.  ]\n",
            " [0.47 0.06 0.47]\n",
            " [1.   0.   0.  ]\n",
            " [0.99 0.   0.  ]\n",
            " [0.14 0.19 0.67]\n",
            " [0.99 0.   0.  ]\n",
            " [0.99 0.   0.  ]\n",
            " [0.99 0.01 0.01]\n",
            " [1.   0.   0.  ]\n",
            " [0.99 0.   0.01]\n",
            " [0.15 0.22 0.64]\n",
            " [0.99 0.   0.  ]\n",
            " [1.   0.   0.  ]\n",
            " [0.99 0.01 0.01]\n",
            " [0.99 0.01 0.  ]\n",
            " [0.99 0.01 0.  ]\n",
            " [0.99 0.01 0.01]\n",
            " [1.   0.   0.  ]\n",
            " [0.99 0.   0.  ]\n",
            " [0.98 0.01 0.01]\n",
            " [0.99 0.01 0.  ]\n",
            " [1.   0.   0.  ]\n",
            " [0.98 0.01 0.01]\n",
            " [0.99 0.01 0.  ]\n",
            " [0.98 0.01 0.01]\n",
            " [0.99 0.01 0.01]\n",
            " [0.99 0.01 0.01]\n",
            " [0.97 0.02 0.01]\n",
            " [0.97 0.01 0.02]\n",
            " [0.98 0.   0.01]\n",
            " [1.   0.   0.  ]\n",
            " [1.   0.   0.  ]\n",
            " [0.98 0.01 0.01]\n",
            " [0.98 0.01 0.01]\n",
            " [0.99 0.01 0.  ]\n",
            " [1.   0.   0.  ]\n",
            " [0.99 0.   0.  ]\n",
            " [1.   0.   0.  ]\n",
            " [0.98 0.01 0.01]\n",
            " [0.98 0.01 0.01]\n",
            " [0.98 0.01 0.01]\n",
            " [0.97 0.01 0.02]\n",
            " [0.98 0.01 0.01]\n",
            " [0.99 0.   0.  ]\n",
            " [0.99 0.   0.  ]\n",
            " [0.1  0.11 0.79]\n",
            " [0.99 0.   0.  ]\n",
            " [0.98 0.01 0.01]\n",
            " [0.99 0.01 0.01]\n",
            " [1.   0.   0.  ]\n",
            " [0.99 0.01 0.  ]\n",
            " [0.98 0.01 0.02]\n",
            " [0.99 0.01 0.01]\n",
            " [0.18 0.17 0.65]\n",
            " [0.12 0.13 0.75]\n",
            " [1.   0.   0.  ]\n",
            " [0.97 0.01 0.02]\n",
            " [0.12 0.18 0.7 ]\n",
            " [0.01 0.07 0.93]\n",
            " [0.99 0.   0.  ]\n",
            " [0.99 0.   0.01]\n",
            " [0.99 0.01 0.  ]\n",
            " [0.99 0.01 0.01]\n",
            " [0.98 0.01 0.01]\n",
            " [0.99 0.01 0.  ]\n",
            " [1.   0.   0.  ]\n",
            " [0.1  0.14 0.76]\n",
            " [0.95 0.03 0.02]\n",
            " [1.   0.   0.  ]\n",
            " [1.   0.   0.  ]\n",
            " [0.98 0.01 0.01]\n",
            " [0.97 0.02 0.02]\n",
            " [0.99 0.01 0.  ]\n",
            " [0.99 0.   0.01]\n",
            " [0.99 0.   0.  ]\n",
            " [0.4  0.05 0.54]\n",
            " [0.97 0.01 0.02]\n",
            " [0.2  0.21 0.59]\n",
            " [0.99 0.01 0.01]\n",
            " [0.99 0.01 0.  ]\n",
            " [0.98 0.01 0.01]\n",
            " [0.99 0.01 0.  ]\n",
            " [0.96 0.01 0.02]\n",
            " [0.2  0.16 0.65]\n",
            " [0.99 0.   0.  ]\n",
            " [0.97 0.02 0.02]\n",
            " [0.99 0.   0.  ]\n",
            " [0.99 0.01 0.01]\n",
            " [0.99 0.01 0.  ]\n",
            " [1.   0.   0.  ]\n",
            " [0.09 0.16 0.75]\n",
            " [0.99 0.01 0.  ]\n",
            " [0.99 0.   0.  ]\n",
            " [0.98 0.01 0.01]\n",
            " [0.03 0.11 0.86]\n",
            " [1.   0.   0.  ]\n",
            " [0.98 0.01 0.01]\n",
            " [0.98 0.01 0.01]\n",
            " [0.99 0.   0.01]\n",
            " [0.09 0.17 0.75]\n",
            " [0.99 0.01 0.  ]\n",
            " [0.99 0.01 0.  ]\n",
            " [0.96 0.02 0.02]\n",
            " [0.99 0.01 0.01]\n",
            " [0.99 0.01 0.01]\n",
            " [0.99 0.01 0.01]\n",
            " [0.98 0.01 0.01]\n",
            " [0.21 0.12 0.67]\n",
            " [0.98 0.01 0.01]\n",
            " [0.04 0.11 0.85]\n",
            " [1.   0.   0.  ]\n",
            " [0.99 0.   0.  ]\n",
            " [0.05 0.13 0.82]\n",
            " [0.99 0.   0.  ]\n",
            " [0.99 0.01 0.01]\n",
            " [1.   0.   0.  ]\n",
            " [0.11 0.16 0.73]\n",
            " [0.99 0.01 0.01]\n",
            " [0.23 0.23 0.54]\n",
            " [1.   0.   0.  ]\n",
            " [1.   0.   0.  ]\n",
            " [0.99 0.   0.  ]\n",
            " [0.99 0.   0.01]\n",
            " [0.99 0.01 0.  ]\n",
            " [0.99 0.01 0.  ]\n",
            " [1.   0.   0.  ]\n",
            " [0.98 0.01 0.01]\n",
            " [0.99 0.   0.  ]\n",
            " [0.99 0.   0.  ]\n",
            " [0.99 0.   0.  ]\n",
            " [0.87 0.04 0.1 ]\n",
            " [1.   0.   0.  ]\n",
            " [0.99 0.01 0.  ]\n",
            " [0.99 0.01 0.01]\n",
            " [0.97 0.02 0.01]\n",
            " [0.99 0.01 0.  ]\n",
            " [1.   0.   0.  ]\n",
            " [0.99 0.   0.  ]\n",
            " [1.   0.   0.  ]\n",
            " [0.98 0.01 0.01]\n",
            " [0.1  0.16 0.74]\n",
            " [1.   0.   0.  ]\n",
            " [1.   0.   0.  ]\n",
            " [0.99 0.   0.  ]\n",
            " [0.99 0.01 0.  ]\n",
            " [0.99 0.   0.01]\n",
            " [1.   0.   0.  ]\n",
            " [0.97 0.01 0.01]\n",
            " [1.   0.   0.  ]\n",
            " [0.98 0.01 0.01]\n",
            " [0.99 0.   0.01]\n",
            " [0.13 0.11 0.76]\n",
            " [0.97 0.01 0.02]\n",
            " [0.98 0.01 0.01]\n",
            " [0.97 0.01 0.01]\n",
            " [1.   0.   0.  ]\n",
            " [0.99 0.   0.01]\n",
            " [1.   0.   0.  ]\n",
            " [0.99 0.   0.  ]\n",
            " [0.98 0.01 0.01]\n",
            " [0.99 0.01 0.  ]\n",
            " [1.   0.   0.  ]\n",
            " [0.97 0.01 0.01]\n",
            " [0.99 0.   0.01]\n",
            " [0.21 0.12 0.67]\n",
            " [0.95 0.01 0.03]\n",
            " [0.98 0.01 0.01]\n",
            " [0.99 0.   0.  ]\n",
            " [0.97 0.02 0.02]\n",
            " [1.   0.   0.  ]\n",
            " [0.99 0.   0.  ]\n",
            " [1.   0.   0.  ]\n",
            " [0.99 0.01 0.  ]\n",
            " [0.99 0.01 0.  ]\n",
            " [0.89 0.04 0.07]\n",
            " [0.98 0.01 0.01]\n",
            " [0.99 0.01 0.  ]\n",
            " [1.   0.   0.  ]\n",
            " [0.99 0.01 0.01]\n",
            " [0.98 0.01 0.01]\n",
            " [0.99 0.   0.01]\n",
            " [0.98 0.01 0.01]\n",
            " [0.96 0.02 0.02]\n",
            " [0.99 0.   0.01]\n",
            " [0.99 0.01 0.  ]\n",
            " [0.98 0.01 0.01]\n",
            " [0.99 0.   0.  ]\n",
            " [0.99 0.   0.  ]\n",
            " [1.   0.   0.  ]\n",
            " [0.03 0.1  0.87]\n",
            " [0.98 0.01 0.01]\n",
            " [0.99 0.01 0.01]\n",
            " [0.15 0.22 0.63]\n",
            " [0.98 0.01 0.01]\n",
            " [0.99 0.   0.  ]\n",
            " [0.96 0.02 0.02]\n",
            " [0.99 0.   0.  ]\n",
            " [0.99 0.01 0.  ]\n",
            " [0.08 0.18 0.74]\n",
            " [0.99 0.01 0.01]\n",
            " [0.99 0.01 0.01]\n",
            " [1.   0.   0.  ]\n",
            " [0.99 0.   0.01]\n",
            " [0.99 0.01 0.  ]\n",
            " [0.06 0.16 0.78]\n",
            " [0.21 0.12 0.67]\n",
            " [0.13 0.15 0.72]\n",
            " [1.   0.   0.  ]\n",
            " [0.09 0.1  0.82]\n",
            " [0.99 0.01 0.01]\n",
            " [1.   0.   0.  ]\n",
            " [0.99 0.   0.01]\n",
            " [0.12 0.21 0.67]\n",
            " [0.99 0.01 0.01]\n",
            " [1.   0.   0.  ]\n",
            " [1.   0.   0.  ]\n",
            " [0.98 0.01 0.01]\n",
            " [0.99 0.01 0.01]\n",
            " [0.2  0.21 0.58]\n",
            " [0.99 0.   0.  ]\n",
            " [1.   0.   0.  ]\n",
            " [0.98 0.01 0.01]\n",
            " [0.98 0.01 0.01]\n",
            " [0.99 0.   0.  ]\n",
            " [0.99 0.01 0.01]\n",
            " [0.99 0.   0.  ]\n",
            " [1.   0.   0.  ]\n",
            " [1.   0.   0.  ]\n",
            " [0.99 0.01 0.  ]\n",
            " [0.99 0.   0.  ]\n",
            " [0.1  0.08 0.81]\n",
            " [0.95 0.01 0.04]\n",
            " [0.99 0.   0.01]\n",
            " [0.16 0.21 0.63]\n",
            " [1.   0.   0.  ]\n",
            " [0.97 0.01 0.02]\n",
            " [0.99 0.   0.  ]\n",
            " [0.97 0.01 0.01]\n",
            " [0.99 0.01 0.01]\n",
            " [1.   0.   0.  ]\n",
            " [0.99 0.   0.01]\n",
            " [0.99 0.   0.  ]\n",
            " [0.99 0.   0.  ]\n",
            " [0.99 0.01 0.  ]\n",
            " [0.98 0.01 0.01]\n",
            " [0.99 0.   0.  ]\n",
            " [1.   0.   0.  ]\n",
            " [0.99 0.01 0.01]\n",
            " [1.   0.   0.  ]\n",
            " [0.99 0.01 0.01]\n",
            " [0.99 0.   0.  ]\n",
            " [0.98 0.01 0.01]\n",
            " [0.98 0.01 0.01]\n",
            " [0.07 0.14 0.79]\n",
            " [0.99 0.01 0.  ]\n",
            " [0.99 0.   0.  ]\n",
            " [0.99 0.01 0.  ]\n",
            " [0.99 0.01 0.  ]\n",
            " [1.   0.   0.  ]\n",
            " [0.18 0.17 0.65]\n",
            " [0.11 0.16 0.73]\n",
            " [0.95 0.02 0.02]\n",
            " [0.99 0.01 0.01]\n",
            " [0.98 0.01 0.01]\n",
            " [1.   0.   0.  ]\n",
            " [0.98 0.01 0.01]\n",
            " [0.9  0.03 0.07]\n",
            " [0.97 0.01 0.01]\n",
            " [1.   0.   0.  ]\n",
            " [0.17 0.14 0.69]\n",
            " [0.99 0.   0.  ]\n",
            " [0.99 0.   0.01]\n",
            " [0.98 0.01 0.01]\n",
            " [0.22 0.15 0.62]\n",
            " [1.   0.   0.  ]\n",
            " [1.   0.   0.  ]\n",
            " [0.04 0.09 0.87]\n",
            " [1.   0.   0.  ]\n",
            " [1.   0.   0.  ]\n",
            " [0.98 0.01 0.01]\n",
            " [0.99 0.   0.01]\n",
            " [0.08 0.13 0.78]\n",
            " [0.98 0.01 0.01]\n",
            " [0.99 0.   0.  ]\n",
            " [0.99 0.01 0.01]\n",
            " [0.98 0.01 0.01]]\n"
          ]
        }
      ]
    },
    {
      "cell_type": "code",
      "source": [
        "#format true test values\n",
        "y_test_arr = np.array(y_test)\n",
        "formatted_y_test = np.argmax(y_test_arr, axis=1)\n",
        "print(\"Formatted true test values: \\n\")\n",
        "print(formatted_y_test)"
      ],
      "metadata": {
        "colab": {
          "base_uri": "https://localhost:8080/",
          "height": 191
        },
        "id": "hndY2lQRYvUP",
        "outputId": "3737da6e-f383-4dd8-f213-8a1e14294034"
      },
      "execution_count": 78,
      "outputs": [
        {
          "output_type": "display_data",
          "data": {
            "text/plain": [
              "<IPython.core.display.HTML object>"
            ],
            "text/html": [
              "\n",
              "  <Style>\n",
              "    pre{\n",
              "      white-space: pre-wrapped;\n",
              "    }\n",
              "  </Style>\n",
              "  "
            ]
          },
          "metadata": {}
        },
        {
          "output_type": "stream",
          "name": "stdout",
          "text": [
            "Formatted true test values: \n",
            "\n",
            "[0 1 2 0 0 0 2 0 0 2 0 0 0 0 0 2 0 0 0 0 0 0 0 0 0 0 0 0 0 0 0 0 0 0 0 0 0\n",
            " 0 0 0 0 0 0 0 0 0 0 0 0 0 2 0 0 0 0 0 0 0 2 2 0 0 2 1 0 0 0 0 0 0 0 2 0 0\n",
            " 0 0 0 0 0 0 2 0 2 0 0 0 0 0 2 0 0 0 0 0 0 2 0 0 0 1 0 0 0 0 2 0 0 0 0 0 0\n",
            " 0 2 0 2 0 0 2 0 0 0 2 0 2 0 0 0 0 0 0 0 0 0 0 0 0 0 0 0 0 0 0 0 0 0 2 0 0\n",
            " 0 0 0 0 0 0 0 0 2 0 0 0 0 0 0 0 0 0 0 0 0 2 0 0 0 0 0 0 0 0 0 0 0 0 0 0 0\n",
            " 0 0 0 0 0 0 0 0 0 1 0 0 2 0 0 0 0 0 2 0 0 0 0 0 2 2 2 0 2 0 0 0 2 0 0 0 0\n",
            " 0 2 0 0 0 0 0 0 0 0 0 0 0 2 0 0 2 0 0 0 0 0 0 0 0 0 0 0 0 0 0 0 0 0 0 0 2\n",
            " 0 0 0 0 0 2 2 0 0 0 0 0 0 0 0 2 0 0 0 2 0 0 2 0 0 0 0 2 0 0 0 0]\n"
          ]
        }
      ]
    },
    {
      "cell_type": "code",
      "source": [
        "#format true training values\n",
        "y_train_arr = np.array(y_train)\n",
        "formatted_y_train = np.argmax(y_train_arr, axis=1)\n",
        "print(\"Formatted true training values: \\n\")\n",
        "print(formatted_y_train)"
      ],
      "metadata": {
        "colab": {
          "base_uri": "https://localhost:8080/",
          "height": 69
        },
        "id": "3amNqMv-cwAZ",
        "outputId": "8ac118f2-6e12-4e1e-d14a-303f10a5bbda"
      },
      "execution_count": 79,
      "outputs": [
        {
          "output_type": "display_data",
          "data": {
            "text/plain": [
              "<IPython.core.display.HTML object>"
            ],
            "text/html": [
              "\n",
              "  <Style>\n",
              "    pre{\n",
              "      white-space: pre-wrapped;\n",
              "    }\n",
              "  </Style>\n",
              "  "
            ]
          },
          "metadata": {}
        },
        {
          "output_type": "stream",
          "name": "stdout",
          "text": [
            "Formatted true training values: \n",
            "\n",
            "[0 0 0 ... 0 0 0]\n"
          ]
        }
      ]
    },
    {
      "cell_type": "code",
      "source": [
        "#format test pred values\n",
        "formatted_test_set_preds = np.argmax(test_set_preds, axis=1)\n",
        "print(\"Formatted testing prediction values: \\n\")\n",
        "print(formatted_test_set_preds)"
      ],
      "metadata": {
        "colab": {
          "base_uri": "https://localhost:8080/",
          "height": 191
        },
        "id": "HOYkKDc9ZMeK",
        "outputId": "9e0cd8df-9564-4dc9-88ab-f2386f0d4a32"
      },
      "execution_count": 80,
      "outputs": [
        {
          "output_type": "display_data",
          "data": {
            "text/plain": [
              "<IPython.core.display.HTML object>"
            ],
            "text/html": [
              "\n",
              "  <Style>\n",
              "    pre{\n",
              "      white-space: pre-wrapped;\n",
              "    }\n",
              "  </Style>\n",
              "  "
            ]
          },
          "metadata": {}
        },
        {
          "output_type": "stream",
          "name": "stdout",
          "text": [
            "Formatted testing prediction values: \n",
            "\n",
            "[0 2 2 0 0 0 0 0 0 2 0 0 0 0 0 2 0 0 0 0 0 0 0 0 0 0 0 0 0 0 0 0 0 0 0 0 0\n",
            " 0 0 0 0 0 0 0 0 0 0 0 0 0 2 0 0 0 0 0 0 0 2 2 0 0 2 2 0 0 0 0 0 0 0 2 0 0\n",
            " 0 0 0 0 0 0 2 0 2 0 0 0 0 0 2 0 0 0 0 0 0 2 0 0 0 2 0 0 0 0 2 0 0 0 0 0 0\n",
            " 0 2 0 2 0 0 2 0 0 0 2 0 2 0 0 0 0 0 0 0 0 0 0 0 0 0 0 0 0 0 0 0 0 0 2 0 0\n",
            " 0 0 0 0 0 0 0 0 2 0 0 0 0 0 0 0 0 0 0 0 0 2 0 0 0 0 0 0 0 0 0 0 0 0 0 0 0\n",
            " 0 0 0 0 0 0 0 0 0 2 0 0 2 0 0 0 0 0 2 0 0 0 0 0 2 2 2 0 2 0 0 0 2 0 0 0 0\n",
            " 0 2 0 0 0 0 0 0 0 0 0 0 0 2 0 0 2 0 0 0 0 0 0 0 0 0 0 0 0 0 0 0 0 0 0 0 2\n",
            " 0 0 0 0 0 2 2 0 0 0 0 0 0 0 0 2 0 0 0 2 0 0 2 0 0 0 0 2 0 0 0 0]\n"
          ]
        }
      ]
    },
    {
      "cell_type": "code",
      "source": [
        "#format training pred values\n",
        "formatted_train_set_preds = np.argmax(train_set_preds, axis=1)\n",
        "print(\"Formatted training prediction values: \\n\")\n",
        "print(formatted_train_set_preds)"
      ],
      "metadata": {
        "colab": {
          "base_uri": "https://localhost:8080/",
          "height": 69
        },
        "outputId": "140010c2-16d7-4f1f-dea5-91e1e06f9aad",
        "id": "G31x3eJadYq8"
      },
      "execution_count": 81,
      "outputs": [
        {
          "output_type": "display_data",
          "data": {
            "text/plain": [
              "<IPython.core.display.HTML object>"
            ],
            "text/html": [
              "\n",
              "  <Style>\n",
              "    pre{\n",
              "      white-space: pre-wrapped;\n",
              "    }\n",
              "  </Style>\n",
              "  "
            ]
          },
          "metadata": {}
        },
        {
          "output_type": "stream",
          "name": "stdout",
          "text": [
            "Formatted training prediction values: \n",
            "\n",
            "[0 0 0 ... 0 0 0]\n"
          ]
        }
      ]
    },
    {
      "cell_type": "markdown",
      "source": [
        "The true training and testing values are formatted into numpy arrays using the numpy function **array()** and both the true and predicted training and testing values are further formated to a 1D array using the numpy function **argmax()**, where each prediction takes form of 0,1 or 2 such that each digit corresponds to minor, severe or significant respectively, to calculate the performance metrics."
      ],
      "metadata": {
        "id": "2m6Pkg0Pjq-C"
      }
    },
    {
      "cell_type": "code",
      "source": [
        "# Calculate Accuracy, precision and Recall metrics\n",
        "print('Accuracy for test set: %0.4f' % accuracy_score(formatted_y_test, formatted_test_set_preds))\n",
        "print('Accuracy for train set: %0.4f' % accuracy_score(formatted_y_train, formatted_train_set_preds))\n",
        "\n",
        "print('\\n')\n",
        "\n",
        "print('Precision for test set: %0.4f' % precision_score(formatted_y_test, formatted_test_set_preds, average = \"weighted\", zero_division=0))\n",
        "print('Precision for train set: %0.4f' % precision_score(formatted_y_test, formatted_test_set_preds, average = \"weighted\", zero_division=0))\n",
        "\n",
        "print('\\n')\n",
        "\n",
        "print('Recall for test set: %0.4f' % recall_score(formatted_y_test, formatted_test_set_preds, average = \"weighted\"))\n",
        "print('Recall for train set: %0.4f' % recall_score(formatted_y_test, formatted_test_set_preds, average = \"weighted\"))"
      ],
      "metadata": {
        "colab": {
          "base_uri": "https://localhost:8080/",
          "height": 191
        },
        "id": "uRqghcUuLy8p",
        "outputId": "48f55d88-aed7-475e-eb0f-6cf78a06802a"
      },
      "execution_count": 88,
      "outputs": [
        {
          "output_type": "display_data",
          "data": {
            "text/plain": [
              "<IPython.core.display.HTML object>"
            ],
            "text/html": [
              "\n",
              "  <Style>\n",
              "    pre{\n",
              "      white-space: pre-wrapped;\n",
              "    }\n",
              "  </Style>\n",
              "  "
            ]
          },
          "metadata": {}
        },
        {
          "output_type": "stream",
          "name": "stdout",
          "text": [
            "Accuracy for test set: 0.9828\n",
            "Accuracy for train set: 0.9793\n",
            "\n",
            "\n",
            "Precision for test set: 0.9701\n",
            "Precision for train set: 0.9701\n",
            "\n",
            "\n",
            "Recall for test set: 0.9828\n",
            "Recall for train set: 0.9828\n"
          ]
        }
      ]
    },
    {
      "cell_type": "markdown",
      "source": [
        "As shown above, the accurary, precision and recall metrics were calculated for both the training and testing sets by using the accuracy_score(), precision_score() and recall_score() functions respectively. Additionally, the average parameter for the precision and recall functions was set to \"weighted\" so as to account for class imbalance."
      ],
      "metadata": {
        "id": "9XezNuBLkbQ0"
      }
    },
    {
      "cell_type": "code",
      "source": [
        "# Calculate AUC\n",
        "# Get size of labels array\n",
        "n_classes = len(np.unique(formatted_y_train))\n",
        "test_fpr = dict()\n",
        "test_tpr = dict()\n",
        "test_thresholds = dict()\n",
        "train_fpr = dict()\n",
        "train_tpr = dict()\n",
        "train_thresholds = dict()\n",
        "# Calculate the training FPR, TPR, and thresholds for each label\n",
        "for i in range(n_classes):\n",
        "    y_true_train = np.array(formatted_y_train== i, dtype=int)\n",
        "    train_fpr[i], train_tpr[i], train_thresholds[i] = roc_curve(y_true_train, formatted_train_set_preds)\n",
        "# Calculate the training weighted-average ROC curve and AUC\n",
        "train_fpr[\"weighted\"], train_tpr[\"weighted\"], _ = roc_curve(y_true_train.ravel(), \n",
        "                                                            formatted_train_set_preds.ravel())\n",
        "auc_score_train = auc(train_fpr[\"weighted\"], train_tpr[\"weighted\"])\n",
        "\n",
        "# Calculate the testing FPR, TPR, and thresholds for each class\n",
        "for i in range(n_classes):\n",
        "    y_true_test = np.array(formatted_y_test== i, dtype=int)\n",
        "    test_fpr[i], test_tpr[i], test_thresholds[i] = roc_curve(y_true_test, formatted_test_set_preds)\n",
        "# Calculate the testing weighted-average ROC curve and AUC\n",
        "test_fpr[\"weighted\"], test_tpr[\"weighted\"], _ = roc_curve(y_true_test.ravel(), \n",
        "                                                          formatted_test_set_preds.ravel())\n",
        "auc_score_test = auc(test_fpr[\"weighted\"], test_tpr[\"weighted\"])\n",
        "\n",
        "print('AUC for train set: %0.4f' % auc_score_train)\n",
        "print('AUC for test set: %0.4f' % auc_score_test)"
      ],
      "metadata": {
        "colab": {
          "base_uri": "https://localhost:8080/",
          "height": 52
        },
        "id": "ftREPebksKoB",
        "outputId": "07519143-2ff8-4a91-a6f3-ca9a93979d0c"
      },
      "execution_count": 101,
      "outputs": [
        {
          "output_type": "display_data",
          "data": {
            "text/plain": [
              "<IPython.core.display.HTML object>"
            ],
            "text/html": [
              "\n",
              "  <Style>\n",
              "    pre{\n",
              "      white-space: pre-wrapped;\n",
              "    }\n",
              "  </Style>\n",
              "  "
            ]
          },
          "metadata": {}
        },
        {
          "output_type": "stream",
          "name": "stdout",
          "text": [
            "AUC for train set: 0.9882\n",
            "AUC for test set: 0.9792\n"
          ]
        }
      ]
    },
    {
      "cell_type": "markdown",
      "source": [
        "Due to the presence of multiple labels, the training and testing FPR, TPR, and threshold need to be calculated for each said label using the roc_curve() function.\n",
        "The AUC score of the training and testing set is then calculated using the auc() function."
      ],
      "metadata": {
        "id": "-u-yi7A8wels"
      }
    },
    {
      "cell_type": "markdown",
      "source": [
        "## **3d) Visualize the ROC curve**"
      ],
      "metadata": {
        "id": "PfzwHDzPxAjK"
      }
    },
    {
      "cell_type": "code",
      "source": [
        "# Visualize ROC curve\n",
        "plt.figure(figsize=(7, 5), dpi=80)\n",
        "test_colors = [\"tomato\", \"green\", \"red\"]\n",
        "train_colors = [\"dodgerblue\", \"purple\", \"blue\"]\n",
        "for i in range(n_classes):\n",
        "  plt.plot(test_fpr[i],\n",
        "          test_tpr[i],\n",
        "          color=test_colors[i],\n",
        "          lw = 2,\n",
        "          label='ROC curve for test set %d (area = %0.4f)' %(i, auc_score_test))\n",
        "  plt.plot(train_fpr[i],\n",
        "          train_tpr[i],\n",
        "          lw = 2,\n",
        "          color=train_colors[i],\n",
        "          label='ROC curve for train set %d (area = %0.4f)' %(i, auc_score_train))\n",
        "\n",
        "plt.plot([0, 1], [0, 1], color='gray', lw=1, linestyle='--')\n",
        "plt.xlim([0.0, 1.0])\n",
        "plt.ylim([0.0, 1.05])\n",
        "plt.xlabel('False Positive Rate', fontsize=14)\n",
        "plt.ylabel('True Positive Rate', fontsize=14)\n",
        "plt.title('ROC Curve', fontsize=16)\n",
        "plt.legend(loc=\"center\")\n",
        "\n",
        "plt.show()"
      ],
      "metadata": {
        "colab": {
          "base_uri": "https://localhost:8080/",
          "height": 398
        },
        "id": "UpHhjYazw-7R",
        "outputId": "939ef3b9-0590-4eb0-ba65-ebbc5c128b48"
      },
      "execution_count": 109,
      "outputs": [
        {
          "output_type": "display_data",
          "data": {
            "text/plain": [
              "<IPython.core.display.HTML object>"
            ],
            "text/html": [
              "\n",
              "  <Style>\n",
              "    pre{\n",
              "      white-space: pre-wrapped;\n",
              "    }\n",
              "  </Style>\n",
              "  "
            ]
          },
          "metadata": {}
        },
        {
          "output_type": "display_data",
          "data": {
            "text/plain": [
              "<Figure size 560x400 with 1 Axes>"
            ],
            "image/png": "[encoded data removed]"
          },
          "metadata": {}
        }
      ]
    },
    {
      "cell_type": "markdown",
      "source": [
        "Again due to the presence of mulitple labels, the ROC curve for each of the labels need to plotted indiviually and are then displayed onn the same axes using the matplotlib function **plot()**."
      ],
      "metadata": {
        "id": "rGcOR5gyy-rQ"
      }
    },
    {
      "cell_type": "markdown",
      "source": [
        "## **3e) onclusion about using neural network for flood detection.**"
      ],
      "metadata": {
        "id": "F8qUhyGc0Ymf"
      }
    },
    {
      "cell_type": "markdown",
      "source": [
        "With an accuracy, precision, recall, AUC and ROC value of all above 95% for both training and testing sets, the neural network model is indeed a very good model for flood prediction."
      ],
      "metadata": {
        "id": "NieqReyR0hhk"
      }
    },
    {
      "cell_type": "markdown",
      "source": [
        "# **Question 4**"
      ],
      "metadata": {
        "id": "xxhQ1wQv04V_"
      }
    },
    {
      "cell_type": "markdown",
      "source": [
        "# **4a) Define and build the logistic regression model.**"
      ],
      "metadata": {
        "id": "TRHpEmY407Fu"
      }
    },
    {
      "cell_type": "code",
      "source": [
        "from sklearn.linear_model import LogisticRegression\n",
        "# Defining the logistic regression model\n",
        "r_model = LogisticRegression(multi_class='ovr')"
      ],
      "metadata": {
        "colab": {
          "base_uri": "https://localhost:8080/",
          "height": 17
        },
        "id": "Q_UhuHEj1UMp",
        "outputId": "8deeb4c6-08c4-45e9-bd79-956e40d60dc7"
      },
      "execution_count": 110,
      "outputs": [
        {
          "output_type": "display_data",
          "data": {
            "text/plain": [
              "<IPython.core.display.HTML object>"
            ],
            "text/html": [
              "\n",
              "  <Style>\n",
              "    pre{\n",
              "      white-space: pre-wrapped;\n",
              "    }\n",
              "  </Style>\n",
              "  "
            ]
          },
          "metadata": {}
        }
      ]
    },
    {
      "cell_type": "markdown",
      "source": [
        "The regression model is instantiated from the LogisticRegression() class of the scikit-learn library and its multi_class parameter is set to **\"ovr\"** to allow for **multiclass classification**."
      ],
      "metadata": {
        "id": "DCp0VnZo9p9j"
      }
    },
    {
      "cell_type": "markdown",
      "source": [
        "## **4b) Train the regression model.**"
      ],
      "metadata": {
        "id": "PQDUaYR8-EaK"
      }
    },
    {
      "cell_type": "code",
      "source": [
        "# Training the logistoc regression model\n",
        "r_model.fit(x_train, formatted_y_train)"
      ],
      "metadata": {
        "colab": {
          "base_uri": "https://localhost:8080/",
          "height": 75
        },
        "id": "TgRlmKIH1mty",
        "outputId": "94e9e9fd-a054-45d8-f2d9-793e0719a3da"
      },
      "execution_count": 115,
      "outputs": [
        {
          "output_type": "display_data",
          "data": {
            "text/plain": [
              "<IPython.core.display.HTML object>"
            ],
            "text/html": [
              "\n",
              "  <Style>\n",
              "    pre{\n",
              "      white-space: pre-wrapped;\n",
              "    }\n",
              "  </Style>\n",
              "  "
            ]
          },
          "metadata": {}
        },
        {
          "output_type": "execute_result",
          "data": {
            "text/plain": [
              "LogisticRegression(multi_class='ovr')"
            ],
            "text/html": [
              "<style>#sk-container-id-1 {color: black;background-color: white;}#sk-container-id-1 pre{padding: 0;}#sk-container-id-1 div.sk-toggleable {background-color: white;}#sk-container-id-1 label.sk-toggleable__label {cursor: pointer;display: block;width: 100%;margin-bottom: 0;padding: 0.3em;box-sizing: border-box;text-align: center;}#sk-container-id-1 label.sk-toggleable__label-arrow:before {content: \"▸\";float: left;margin-right: 0.25em;color: #696969;}#sk-container-id-1 label.sk-toggleable__label-arrow:hover:before {color: black;}#sk-container-id-1 div.sk-estimator:hover label.sk-toggleable__label-arrow:before {color: black;}#sk-container-id-1 div.sk-toggleable__content {max-height: 0;max-width: 0;overflow: hidden;text-align: left;background-color: #f0f8ff;}#sk-container-id-1 div.sk-toggleable__content pre {margin: 0.2em;color: black;border-radius: 0.25em;background-color: #f0f8ff;}#sk-container-id-1 input.sk-toggleable__control:checked~div.sk-toggleable__content {max-height: 200px;max-width: 100%;overflow: auto;}#sk-container-id-1 input.sk-toggleable__control:checked~label.sk-toggleable__label-arrow:before {content: \"▾\";}#sk-container-id-1 div.sk-estimator input.sk-toggleable__control:checked~label.sk-toggleable__label {background-color: #d4ebff;}#sk-container-id-1 div.sk-label input.sk-toggleable__control:checked~label.sk-toggleable__label {background-color: #d4ebff;}#sk-container-id-1 input.sk-hidden--visually {border: 0;clip: rect(1px 1px 1px 1px);clip: rect(1px, 1px, 1px, 1px);height: 1px;margin: -1px;overflow: hidden;padding: 0;position: absolute;width: 1px;}#sk-container-id-1 div.sk-estimator {font-family: monospace;background-color: #f0f8ff;border: 1px dotted black;border-radius: 0.25em;box-sizing: border-box;margin-bottom: 0.5em;}#sk-container-id-1 div.sk-estimator:hover {background-color: #d4ebff;}#sk-container-id-1 div.sk-parallel-item::after {content: \"\";width: 100%;border-bottom: 1px solid gray;flex-grow: 1;}#sk-container-id-1 div.sk-label:hover label.sk-toggleable__label {background-color: #d4ebff;}#sk-container-id-1 div.sk-serial::before {content: \"\";position: absolute;border-left: 1px solid gray;box-sizing: border-box;top: 0;bottom: 0;left: 50%;z-index: 0;}#sk-container-id-1 div.sk-serial {display: flex;flex-direction: column;align-items: center;background-color: white;padding-right: 0.2em;padding-left: 0.2em;position: relative;}#sk-container-id-1 div.sk-item {position: relative;z-index: 1;}#sk-container-id-1 div.sk-parallel {display: flex;align-items: stretch;justify-content: center;background-color: white;position: relative;}#sk-container-id-1 div.sk-item::before, #sk-container-id-1 div.sk-parallel-item::before {content: \"\";position: absolute;border-left: 1px solid gray;box-sizing: border-box;top: 0;bottom: 0;left: 50%;z-index: -1;}#sk-container-id-1 div.sk-parallel-item {display: flex;flex-direction: column;z-index: 1;position: relative;background-color: white;}#sk-container-id-1 div.sk-parallel-item:first-child::after {align-self: flex-end;width: 50%;}#sk-container-id-1 div.sk-parallel-item:last-child::after {align-self: flex-start;width: 50%;}#sk-container-id-1 div.sk-parallel-item:only-child::after {width: 0;}#sk-container-id-1 div.sk-dashed-wrapped {border: 1px dashed gray;margin: 0 0.4em 0.5em 0.4em;box-sizing: border-box;padding-bottom: 0.4em;background-color: white;}#sk-container-id-1 div.sk-label label {font-family: monospace;font-weight: bold;display: inline-block;line-height: 1.2em;}#sk-container-id-1 div.sk-label-container {text-align: center;}#sk-container-id-1 div.sk-container {/* jupyter's `normalize.less` sets `[hidden] { display: none; }` but bootstrap.min.css set `[hidden] { display: none !important; }` so we also need the `!important` here to be able to override the default hidden behavior on the sphinx rendered scikit-learn.org. See: https://github.com/scikit-learn/scikit-learn/issues/21755 */display: inline-block !important;position: relative;}#sk-container-id-1 div.sk-text-repr-fallback {display: none;}</style><div id=\"sk-container-id-1\" class=\"sk-top-container\"><div class=\"sk-text-repr-fallback\"><pre>LogisticRegression(multi_class=&#x27;ovr&#x27;)</pre><b>In a Jupyter environment, please rerun this cell to show the HTML representation or trust the notebook. <br />On GitHub, the HTML representation is unable to render, please try loading this page with nbviewer.org.</b></div><div class=\"sk-container\" hidden><div class=\"sk-item\"><div class=\"sk-estimator sk-toggleable\"><input class=\"sk-toggleable__control sk-hidden--visually\" id=\"sk-estimator-id-1\" type=\"checkbox\" checked><label for=\"sk-estimator-id-1\" class=\"sk-toggleable__label sk-toggleable__label-arrow\">LogisticRegression</label><div class=\"sk-toggleable__content\"><pre>LogisticRegression(multi_class=&#x27;ovr&#x27;)</pre></div></div></div></div></div>"
            ]
          },
          "metadata": {},
          "execution_count": 115
        }
      ]
    },
    {
      "cell_type": "markdown",
      "source": [
        "The regression model is trained by fitting the feature training set (x_train) and the formatted outcome training set (formatted_y_train) to the model using the LogisticRegression's fit() function."
      ],
      "metadata": {
        "id": "5ee6CQDv-CsK"
      }
    },
    {
      "cell_type": "markdown",
      "source": [
        "## **4c) Regression model prediction.**"
      ],
      "metadata": {
        "id": "02yx9MZb-pBI"
      }
    },
    {
      "cell_type": "code",
      "source": [
        "# Computing predictions using the logistic regression model\n",
        "r_train_preds = model.predict(x_train)\n",
        "r_test_preds = model.predict(x_test)"
      ],
      "metadata": {
        "colab": {
          "base_uri": "https://localhost:8080/",
          "height": 52
        },
        "id": "aCxu49ps1wyJ",
        "outputId": "250c4005-03ff-461b-f083-822a510279bb"
      },
      "execution_count": 118,
      "outputs": [
        {
          "output_type": "display_data",
          "data": {
            "text/plain": [
              "<IPython.core.display.HTML object>"
            ],
            "text/html": [
              "\n",
              "  <Style>\n",
              "    pre{\n",
              "      white-space: pre-wrapped;\n",
              "    }\n",
              "  </Style>\n",
              "  "
            ]
          },
          "metadata": {}
        },
        {
          "output_type": "stream",
          "name": "stdout",
          "text": [
            "37/37 [==============================] - 0s 2ms/step\n",
            "10/10 [==============================] - 0s 3ms/step\n"
          ]
        }
      ]
    },
    {
      "cell_type": "markdown",
      "source": [
        "The predictions of the regression model are computed using the predict() method and the training and testing predictions are each stored in r_train_preds and r_test_preds respectively."
      ],
      "metadata": {
        "id": "17NBtf3p-ymf"
      }
    },
    {
      "cell_type": "code",
      "source": [
        "print(\"Logistic regression training predictions: \\n\")\n",
        "r_train_set_preds = np.argmax(r_train_preds, axis=1)\n",
        "print(r_train_set_preds)"
      ],
      "metadata": {
        "colab": {
          "base_uri": "https://localhost:8080/",
          "height": 69
        },
        "id": "hwIpKZ_97LsA",
        "outputId": "000f41e7-0b14-4720-d8f1-561cde75eb2a"
      },
      "execution_count": 121,
      "outputs": [
        {
          "output_type": "display_data",
          "data": {
            "text/plain": [
              "<IPython.core.display.HTML object>"
            ],
            "text/html": [
              "\n",
              "  <Style>\n",
              "    pre{\n",
              "      white-space: pre-wrapped;\n",
              "    }\n",
              "  </Style>\n",
              "  "
            ]
          },
          "metadata": {}
        },
        {
          "output_type": "stream",
          "name": "stdout",
          "text": [
            "Logistic regression training predictions: \n",
            "\n",
            "[0 0 0 ... 0 0 0]\n"
          ]
        }
      ]
    },
    {
      "cell_type": "code",
      "source": [
        "print(\"Logistic regression testing predictions: \\n\")\n",
        "r_test_set_preds = np.argmax(r_test_preds, axis=1)\n",
        "print(r_test_set_preds)"
      ],
      "metadata": {
        "colab": {
          "base_uri": "https://localhost:8080/",
          "height": 191
        },
        "id": "GDCRZvtq7NzR",
        "outputId": "4b3d03ce-74b7-4bd4-f515-a92f06b51741"
      },
      "execution_count": 122,
      "outputs": [
        {
          "output_type": "display_data",
          "data": {
            "text/plain": [
              "<IPython.core.display.HTML object>"
            ],
            "text/html": [
              "\n",
              "  <Style>\n",
              "    pre{\n",
              "      white-space: pre-wrapped;\n",
              "    }\n",
              "  </Style>\n",
              "  "
            ]
          },
          "metadata": {}
        },
        {
          "output_type": "stream",
          "name": "stdout",
          "text": [
            "Logistic regression testing predictions: \n",
            "\n",
            "[0 2 2 0 0 0 2 0 0 2 0 0 0 0 0 2 0 0 0 0 0 0 0 0 0 0 0 0 0 0 0 0 0 0 0 0 0\n",
            " 0 0 0 0 0 0 0 0 0 0 0 0 0 2 0 0 0 0 0 0 0 2 2 0 0 2 2 0 0 0 0 0 0 0 2 0 0\n",
            " 0 0 0 0 0 0 2 0 2 0 0 0 0 0 2 0 0 0 0 0 0 2 0 0 0 2 0 0 0 0 2 0 0 0 0 0 0\n",
            " 0 2 0 2 0 0 2 0 0 0 2 0 2 0 0 0 0 0 0 0 0 0 0 0 0 0 0 0 0 0 0 0 0 0 2 0 0\n",
            " 0 0 0 0 0 0 0 0 2 0 0 0 0 0 0 0 0 0 0 0 0 2 0 0 0 0 0 0 0 0 0 0 0 0 0 0 0\n",
            " 0 0 0 0 0 0 0 0 0 2 0 0 2 0 0 0 0 0 2 0 0 0 0 0 2 2 2 0 2 0 0 0 2 0 0 0 0\n",
            " 0 2 0 0 0 0 0 0 0 0 0 0 0 2 0 0 2 0 0 0 0 0 0 0 0 0 0 0 0 0 0 0 0 0 0 0 2\n",
            " 0 0 0 0 0 2 2 0 0 0 0 0 0 0 0 2 0 0 0 2 0 0 2 0 0 0 0 2 0 0 0 0]\n"
          ]
        }
      ]
    },
    {
      "cell_type": "markdown",
      "source": [
        "Both predictions set are then formatted to a 1D array using the numpy funtion argmax() with the predictions taking the form of 0,1 or 2 where each digit corresponds to minor, severe or significant respectively."
      ],
      "metadata": {
        "id": "BYzPWbIc_Dkb"
      }
    },
    {
      "cell_type": "code",
      "source": [
        "print('Accuracy for test set: %0.4f' % accuracy_score(formatted_y_test, r_test_set_preds))\n",
        "print('Accuracy for train set: %0.4f' % accuracy_score(formatted_y_train, r_train_set_preds))\n"
      ],
      "metadata": {
        "colab": {
          "base_uri": "https://localhost:8080/",
          "height": 52
        },
        "id": "3O73H5409RD_",
        "outputId": "e117fbc5-44c3-424d-c286-126d09c8153a"
      },
      "execution_count": 127,
      "outputs": [
        {
          "output_type": "display_data",
          "data": {
            "text/plain": [
              "<IPython.core.display.HTML object>"
            ],
            "text/html": [
              "\n",
              "  <Style>\n",
              "    pre{\n",
              "      white-space: pre-wrapped;\n",
              "    }\n",
              "  </Style>\n",
              "  "
            ]
          },
          "metadata": {}
        },
        {
          "output_type": "stream",
          "name": "stdout",
          "text": [
            "Accuracy for test set: 0.9863\n",
            "Accuracy for train set: 0.9793\n"
          ]
        }
      ]
    },
    {
      "cell_type": "markdown",
      "source": [
        "As shown above, the accuracy of the training and testing predictions are computed using the accuracy_score() function and it can be observed that both accuracy values are above 97%."
      ],
      "metadata": {
        "id": "b2FYy5p-AEnH"
      }
    }
  ]
}
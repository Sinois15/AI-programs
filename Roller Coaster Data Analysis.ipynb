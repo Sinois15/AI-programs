{
  "nbformat": 4,
  "nbformat_minor": 0,
  "metadata": {
    "colab": {
      "provenance": []
    },
    "kernelspec": {
      "name": "python3",
      "display_name": "Python 3"
    },
    "language_info": {
      "name": "python"
    }
  },
  "cells": [
    {
      "cell_type": "code",
      "source": [
        "# Implement line wrapping\n",
        "from IPython.display import HTML, display\n",
        "def set_css():\n",
        "  display(HTML('''\n",
        "  <Style>\n",
        "    pre{\n",
        "      white-space: pre-wrapped;\n",
        "    }\n",
        "  </Style>\n",
        "  '''))\n",
        "get_ipython().events.register('pre_run_cell', set_css)"
      ],
      "metadata": {
        "id": "AmW5HzD4dMTE"
      },
      "execution_count": 1,
      "outputs": []
    },
    {
      "cell_type": "markdown",
      "source": [
        "# **1. Loading the Dataset.**"
      ],
      "metadata": {
        "id": "0YTxd3d4U2KV"
      }
    },
    {
      "cell_type": "code",
      "source": [
        "#Importing Libraries\n",
        "import pandas as pd\n",
        "import numpy as np\n",
        "import matplotlib.pyplot as plt"
      ],
      "metadata": {
        "id": "aEjBpa_jVBrR"
      },
      "execution_count": 1,
      "outputs": []
    },
    {
      "cell_type": "markdown",
      "source": [
        "The above libraries are imported for the follwing reasons:\n",
        "\n",
        "\n",
        "*   **Pandas**: For formatting and manipulating datasets. \n",
        "*   **Numpy**: For performing scientific mathematical opreations.\n",
        "*   **Matplotlib**: For data visualization as charts.\n",
        "\n"
      ],
      "metadata": {
        "id": "pCaDZA1GVY2z"
      }
    },
    {
      "cell_type": "code",
      "execution_count": 9,
      "metadata": {
        "id": "ioJn4yrdC3Tc",
        "colab": {
          "base_uri": "https://localhost:8080/",
          "height": 473
        },
        "outputId": "be244866-0199-4fe5-ae4e-1778d0b0d908"
      },
      "outputs": [
        {
          "output_type": "execute_result",
          "data": {
            "text/plain": [
              "                             coaster_name          Length             Speed  \\\n",
              "0                      Switchback Railway  600 ft (180 m)  6 mph (9.7 km/h)   \n",
              "1                       Flip Flap Railway             NaN               NaN   \n",
              "2  Switchback Railway (Euclid Beach Park)             NaN               NaN   \n",
              "3            Loop the Loop (Coney Island)             NaN               NaN   \n",
              "4            Loop the Loop (Young's Pier)             NaN               NaN   \n",
              "\n",
              "                         Location   Status   Opening date   Type  \\\n",
              "0                    Coney Island  Removed  June 16, 1884   Wood   \n",
              "1                   Sea Lion Park  Removed           1895   Wood   \n",
              "2  Cleveland, Ohio, United States   Closed            NaN  Other   \n",
              "3                           Other  Removed           1901  Steel   \n",
              "4                           Other  Removed           1901  Steel   \n",
              "\n",
              "             Manufacturer Height restriction        Model  ...  speed1  \\\n",
              "0  LaMarcus Adna Thompson                NaN  Lift Packed  ...  6 mph    \n",
              "1            Lina Beecher                NaN          NaN  ...     NaN   \n",
              "2                     NaN                NaN          NaN  ...     NaN   \n",
              "3          Edwin Prescott                NaN          NaN  ...     NaN   \n",
              "4          Edwin Prescott                NaN          NaN  ...     NaN   \n",
              "\n",
              "     speed2 speed1_value speed1_unit speed_mph height_value height_unit  \\\n",
              "0  9.7 km/h          6.0         mph       6.0         50.0          ft   \n",
              "1       NaN          NaN         NaN       NaN          NaN         NaN   \n",
              "2       NaN          NaN         NaN       NaN          NaN         NaN   \n",
              "3       NaN          NaN         NaN       NaN          NaN         NaN   \n",
              "4       NaN          NaN         NaN       NaN          NaN         NaN   \n",
              "\n",
              "  height_ft Inversions_clean Gforce_clean  \n",
              "0       NaN                0          2.9  \n",
              "1       NaN                1         12.0  \n",
              "2       NaN                0          NaN  \n",
              "3       NaN                1          NaN  \n",
              "4       NaN                1          NaN  \n",
              "\n",
              "[5 rows x 56 columns]"
            ],
            "text/html": [
              "\n",
              "  <div id=\"df-003decb4-5984-477c-a350-ed0f7433bb1c\">\n",
              "    <div class=\"colab-df-container\">\n",
              "      <div>\n",
              "<style scoped>\n",
              "    .dataframe tbody tr th:only-of-type {\n",
              "        vertical-align: middle;\n",
              "    }\n",
              "\n",
              "    .dataframe tbody tr th {\n",
              "        vertical-align: top;\n",
              "    }\n",
              "\n",
              "    .dataframe thead th {\n",
              "        text-align: right;\n",
              "    }\n",
              "</style>\n",
              "<table border=\"1\" class=\"dataframe\">\n",
              "  <thead>\n",
              "    <tr style=\"text-align: right;\">\n",
              "      <th></th>\n",
              "      <th>coaster_name</th>\n",
              "      <th>Length</th>\n",
              "      <th>Speed</th>\n",
              "      <th>Location</th>\n",
              "      <th>Status</th>\n",
              "      <th>Opening date</th>\n",
              "      <th>Type</th>\n",
              "      <th>Manufacturer</th>\n",
              "      <th>Height restriction</th>\n",
              "      <th>Model</th>\n",
              "      <th>...</th>\n",
              "      <th>speed1</th>\n",
              "      <th>speed2</th>\n",
              "      <th>speed1_value</th>\n",
              "      <th>speed1_unit</th>\n",
              "      <th>speed_mph</th>\n",
              "      <th>height_value</th>\n",
              "      <th>height_unit</th>\n",
              "      <th>height_ft</th>\n",
              "      <th>Inversions_clean</th>\n",
              "      <th>Gforce_clean</th>\n",
              "    </tr>\n",
              "  </thead>\n",
              "  <tbody>\n",
              "    <tr>\n",
              "      <th>0</th>\n",
              "      <td>Switchback Railway</td>\n",
              "      <td>600 ft (180 m)</td>\n",
              "      <td>6 mph (9.7 km/h)</td>\n",
              "      <td>Coney Island</td>\n",
              "      <td>Removed</td>\n",
              "      <td>June 16, 1884</td>\n",
              "      <td>Wood</td>\n",
              "      <td>LaMarcus Adna Thompson</td>\n",
              "      <td>NaN</td>\n",
              "      <td>Lift Packed</td>\n",
              "      <td>...</td>\n",
              "      <td>6 mph</td>\n",
              "      <td>9.7 km/h</td>\n",
              "      <td>6.0</td>\n",
              "      <td>mph</td>\n",
              "      <td>6.0</td>\n",
              "      <td>50.0</td>\n",
              "      <td>ft</td>\n",
              "      <td>NaN</td>\n",
              "      <td>0</td>\n",
              "      <td>2.9</td>\n",
              "    </tr>\n",
              "    <tr>\n",
              "      <th>1</th>\n",
              "      <td>Flip Flap Railway</td>\n",
              "      <td>NaN</td>\n",
              "      <td>NaN</td>\n",
              "      <td>Sea Lion Park</td>\n",
              "      <td>Removed</td>\n",
              "      <td>1895</td>\n",
              "      <td>Wood</td>\n",
              "      <td>Lina Beecher</td>\n",
              "      <td>NaN</td>\n",
              "      <td>NaN</td>\n",
              "      <td>...</td>\n",
              "      <td>NaN</td>\n",
              "      <td>NaN</td>\n",
              "      <td>NaN</td>\n",
              "      <td>NaN</td>\n",
              "      <td>NaN</td>\n",
              "      <td>NaN</td>\n",
              "      <td>NaN</td>\n",
              "      <td>NaN</td>\n",
              "      <td>1</td>\n",
              "      <td>12.0</td>\n",
              "    </tr>\n",
              "    <tr>\n",
              "      <th>2</th>\n",
              "      <td>Switchback Railway (Euclid Beach Park)</td>\n",
              "      <td>NaN</td>\n",
              "      <td>NaN</td>\n",
              "      <td>Cleveland, Ohio, United States</td>\n",
              "      <td>Closed</td>\n",
              "      <td>NaN</td>\n",
              "      <td>Other</td>\n",
              "      <td>NaN</td>\n",
              "      <td>NaN</td>\n",
              "      <td>NaN</td>\n",
              "      <td>...</td>\n",
              "      <td>NaN</td>\n",
              "      <td>NaN</td>\n",
              "      <td>NaN</td>\n",
              "      <td>NaN</td>\n",
              "      <td>NaN</td>\n",
              "      <td>NaN</td>\n",
              "      <td>NaN</td>\n",
              "      <td>NaN</td>\n",
              "      <td>0</td>\n",
              "      <td>NaN</td>\n",
              "    </tr>\n",
              "    <tr>\n",
              "      <th>3</th>\n",
              "      <td>Loop the Loop (Coney Island)</td>\n",
              "      <td>NaN</td>\n",
              "      <td>NaN</td>\n",
              "      <td>Other</td>\n",
              "      <td>Removed</td>\n",
              "      <td>1901</td>\n",
              "      <td>Steel</td>\n",
              "      <td>Edwin Prescott</td>\n",
              "      <td>NaN</td>\n",
              "      <td>NaN</td>\n",
              "      <td>...</td>\n",
              "      <td>NaN</td>\n",
              "      <td>NaN</td>\n",
              "      <td>NaN</td>\n",
              "      <td>NaN</td>\n",
              "      <td>NaN</td>\n",
              "      <td>NaN</td>\n",
              "      <td>NaN</td>\n",
              "      <td>NaN</td>\n",
              "      <td>1</td>\n",
              "      <td>NaN</td>\n",
              "    </tr>\n",
              "    <tr>\n",
              "      <th>4</th>\n",
              "      <td>Loop the Loop (Young's Pier)</td>\n",
              "      <td>NaN</td>\n",
              "      <td>NaN</td>\n",
              "      <td>Other</td>\n",
              "      <td>Removed</td>\n",
              "      <td>1901</td>\n",
              "      <td>Steel</td>\n",
              "      <td>Edwin Prescott</td>\n",
              "      <td>NaN</td>\n",
              "      <td>NaN</td>\n",
              "      <td>...</td>\n",
              "      <td>NaN</td>\n",
              "      <td>NaN</td>\n",
              "      <td>NaN</td>\n",
              "      <td>NaN</td>\n",
              "      <td>NaN</td>\n",
              "      <td>NaN</td>\n",
              "      <td>NaN</td>\n",
              "      <td>NaN</td>\n",
              "      <td>1</td>\n",
              "      <td>NaN</td>\n",
              "    </tr>\n",
              "  </tbody>\n",
              "</table>\n",
              "<p>5 rows × 56 columns</p>\n",
              "</div>\n",
              "      <button class=\"colab-df-convert\" onclick=\"convertToInteractive('df-003decb4-5984-477c-a350-ed0f7433bb1c')\"\n",
              "              title=\"Convert this dataframe to an interactive table.\"\n",
              "              style=\"display:none;\">\n",
              "        \n",
              "  <svg xmlns=\"http://www.w3.org/2000/svg\" height=\"24px\"viewBox=\"0 0 24 24\"\n",
              "       width=\"24px\">\n",
              "    <path d=\"M0 0h24v24H0V0z\" fill=\"none\"/>\n",
              "    <path d=\"M18.56 5.44l.94 2.06.94-2.06 2.06-.94-2.06-.94-.94-2.06-.94 2.06-2.06.94zm-11 1L8.5 8.5l.94-2.06 2.06-.94-2.06-.94L8.5 2.5l-.94 2.06-2.06.94zm10 10l.94 2.06.94-2.06 2.06-.94-2.06-.94-.94-2.06-.94 2.06-2.06.94z\"/><path d=\"M17.41 7.96l-1.37-1.37c-.4-.4-.92-.59-1.43-.59-.52 0-1.04.2-1.43.59L10.3 9.45l-7.72 7.72c-.78.78-.78 2.05 0 2.83L4 21.41c.39.39.9.59 1.41.59.51 0 1.02-.2 1.41-.59l7.78-7.78 2.81-2.81c.8-.78.8-2.07 0-2.86zM5.41 20L4 18.59l7.72-7.72 1.47 1.35L5.41 20z\"/>\n",
              "  </svg>\n",
              "      </button>\n",
              "      \n",
              "  <style>\n",
              "    .colab-df-container {\n",
              "      display:flex;\n",
              "      flex-wrap:wrap;\n",
              "      gap: 12px;\n",
              "    }\n",
              "\n",
              "    .colab-df-convert {\n",
              "      background-color: #E8F0FE;\n",
              "      border: none;\n",
              "      border-radius: 50%;\n",
              "      cursor: pointer;\n",
              "      display: none;\n",
              "      fill: #1967D2;\n",
              "      height: 32px;\n",
              "      padding: 0 0 0 0;\n",
              "      width: 32px;\n",
              "    }\n",
              "\n",
              "    .colab-df-convert:hover {\n",
              "      background-color: #E2EBFA;\n",
              "      box-shadow: 0px 1px 2px rgba(60, 64, 67, 0.3), 0px 1px 3px 1px rgba(60, 64, 67, 0.15);\n",
              "      fill: #174EA6;\n",
              "    }\n",
              "\n",
              "    [theme=dark] .colab-df-convert {\n",
              "      background-color: #3B4455;\n",
              "      fill: #D2E3FC;\n",
              "    }\n",
              "\n",
              "    [theme=dark] .colab-df-convert:hover {\n",
              "      background-color: #434B5C;\n",
              "      box-shadow: 0px 1px 3px 1px rgba(0, 0, 0, 0.15);\n",
              "      filter: drop-shadow(0px 1px 2px rgba(0, 0, 0, 0.3));\n",
              "      fill: #FFFFFF;\n",
              "    }\n",
              "  </style>\n",
              "\n",
              "      <script>\n",
              "        const buttonEl =\n",
              "          document.querySelector('#df-003decb4-5984-477c-a350-ed0f7433bb1c button.colab-df-convert');\n",
              "        buttonEl.style.display =\n",
              "          google.colab.kernel.accessAllowed ? 'block' : 'none';\n",
              "\n",
              "        async function convertToInteractive(key) {\n",
              "          const element = document.querySelector('#df-003decb4-5984-477c-a350-ed0f7433bb1c');\n",
              "          const dataTable =\n",
              "            await google.colab.kernel.invokeFunction('convertToInteractive',\n",
              "                                                     [key], {});\n",
              "          if (!dataTable) return;\n",
              "\n",
              "          const docLinkHtml = 'Like what you see? Visit the ' +\n",
              "            '<a target=\"_blank\" href=https://colab.research.google.com/notebooks/data_table.ipynb>data table notebook</a>'\n",
              "            + ' to learn more about interactive tables.';\n",
              "          element.innerHTML = '';\n",
              "          dataTable['output_type'] = 'display_data';\n",
              "          await google.colab.output.renderOutput(dataTable, element);\n",
              "          const docLink = document.createElement('div');\n",
              "          docLink.innerHTML = docLinkHtml;\n",
              "          element.appendChild(docLink);\n",
              "        }\n",
              "      </script>\n",
              "    </div>\n",
              "  </div>\n",
              "  "
            ]
          },
          "metadata": {},
          "execution_count": 9
        }
      ],
      "source": [
        "#Loading the dataset\n",
        "coaster_df = pd.read_csv(\"/content/coaster_db.csv\")\n",
        "coaster_df.head()"
      ]
    },
    {
      "cell_type": "code",
      "source": [
        "# Get number of rows and columns\n",
        "coaster_df.shape"
      ],
      "metadata": {
        "colab": {
          "base_uri": "https://localhost:8080/"
        },
        "id": "5Ttt3uVIgUcG",
        "outputId": "3c666b1e-2cf4-4be5-bf01-9a7be3ab2540"
      },
      "execution_count": 3,
      "outputs": [
        {
          "output_type": "execute_result",
          "data": {
            "text/plain": [
              "(1087, 56)"
            ]
          },
          "metadata": {},
          "execution_count": 3
        }
      ]
    },
    {
      "cell_type": "markdown",
      "source": [
        "As shown above, the pandas' **read_csv()** method is used to convert the **coaster_db.csv** file as a dataframe and it is then stored in the **coaster_df** variable.\n",
        "The head() function is then used to output the first 5 rows of the dataframe to ensure that the dataset has been properly imported. From the pandas shape attribute output, it can also be observed that the dataset has 1087 rows and 56 columns."
      ],
      "metadata": {
        "id": "xvIWXkuhV4MJ"
      }
    },
    {
      "cell_type": "markdown",
      "source": [
        "# **2. Data Cleaning.**"
      ],
      "metadata": {
        "id": "RBSF2ab-WXBt"
      }
    },
    {
      "cell_type": "code",
      "source": [
        "# Identify missing values\n",
        "print(coaster_df.isna().sum())"
      ],
      "metadata": {
        "colab": {
          "base_uri": "https://localhost:8080/"
        },
        "id": "mWmIPgaDWdA2",
        "outputId": "de62328b-fb85-42f9-cb97-2d88dc3bf26e"
      },
      "execution_count": 4,
      "outputs": [
        {
          "output_type": "stream",
          "name": "stdout",
          "text": [
            "coaster_name                        0\n",
            "Length                            134\n",
            "Speed                             150\n",
            "Location                            0\n",
            "Status                            213\n",
            "Opening date                      250\n",
            "Type                                0\n",
            "Manufacturer                       59\n",
            "Height restriction                256\n",
            "Model                             343\n",
            "Height                            122\n",
            "Inversions                        155\n",
            "Lift/launch system                292\n",
            "Cost                              705\n",
            "Trains                            369\n",
            "Park section                      600\n",
            "Duration                          322\n",
            "Capacity                          512\n",
            "G-force                           725\n",
            "Designer                          509\n",
            "Max vertical angle                730\n",
            "Drop                              593\n",
            "Soft opening date                 991\n",
            "Fast Lane available              1018\n",
            "Replaced                          914\n",
            "Track layout                      752\n",
            "Fastrack available               1068\n",
            "Soft opening date.1               991\n",
            "Closing date                      851\n",
            "Opened                           1060\n",
            "Replaced by                       999\n",
            "Website                          1000\n",
            "Flash Pass Available             1037\n",
            "Must transfer from wheelchair     981\n",
            "Theme                            1043\n",
            "Single rider line available      1006\n",
            "Restraint Style                  1065\n",
            "Flash Pass available             1041\n",
            "Acceleration                     1027\n",
            "Restraints                       1063\n",
            "Name                             1052\n",
            "year_introduced                     0\n",
            "latitude                          275\n",
            "longitude                         275\n",
            "Type_Main                           0\n",
            "opening_date_clean                250\n",
            "speed1                            150\n",
            "speed2                            152\n",
            "speed1_value                      150\n",
            "speed1_unit                       150\n",
            "speed_mph                         150\n",
            "height_value                      122\n",
            "height_unit                       122\n",
            "height_ft                         916\n",
            "Inversions_clean                    0\n",
            "Gforce_clean                      725\n",
            "dtype: int64\n"
          ]
        }
      ]
    },
    {
      "cell_type": "markdown",
      "source": [
        "As shown in the output above provided by the isna().sum() method call, the concerned dataset contains a lot of missing values.\n",
        "\n",
        "\n",
        "\n"
      ],
      "metadata": {
        "id": "BHRykAeaZP69"
      }
    },
    {
      "cell_type": "code",
      "source": [
        "# Determine the type of each column\n",
        "coaster_df.dtypes"
      ],
      "metadata": {
        "id": "msbQDiD4ZfYV",
        "colab": {
          "base_uri": "https://localhost:8080/"
        },
        "outputId": "31c2f1c5-4266-4956-9113-62b0571c44e7"
      },
      "execution_count": 5,
      "outputs": [
        {
          "output_type": "execute_result",
          "data": {
            "text/plain": [
              "coaster_name                      object\n",
              "Length                            object\n",
              "Speed                             object\n",
              "Location                          object\n",
              "Status                            object\n",
              "Opening date                      object\n",
              "Type                              object\n",
              "Manufacturer                      object\n",
              "Height restriction                object\n",
              "Model                             object\n",
              "Height                            object\n",
              "Inversions                       float64\n",
              "Lift/launch system                object\n",
              "Cost                              object\n",
              "Trains                            object\n",
              "Park section                      object\n",
              "Duration                          object\n",
              "Capacity                          object\n",
              "G-force                           object\n",
              "Designer                          object\n",
              "Max vertical angle                object\n",
              "Drop                              object\n",
              "Soft opening date                 object\n",
              "Fast Lane available               object\n",
              "Replaced                          object\n",
              "Track layout                      object\n",
              "Fastrack available                object\n",
              "Soft opening date.1               object\n",
              "Closing date                      object\n",
              "Opened                            object\n",
              "Replaced by                       object\n",
              "Website                           object\n",
              "Flash Pass Available              object\n",
              "Must transfer from wheelchair     object\n",
              "Theme                             object\n",
              "Single rider line available       object\n",
              "Restraint Style                   object\n",
              "Flash Pass available              object\n",
              "Acceleration                      object\n",
              "Restraints                        object\n",
              "Name                              object\n",
              "year_introduced                    int64\n",
              "latitude                         float64\n",
              "longitude                        float64\n",
              "Type_Main                         object\n",
              "opening_date_clean                object\n",
              "speed1                            object\n",
              "speed2                            object\n",
              "speed1_value                     float64\n",
              "speed1_unit                       object\n",
              "speed_mph                        float64\n",
              "height_value                     float64\n",
              "height_unit                       object\n",
              "height_ft                        float64\n",
              "Inversions_clean                   int64\n",
              "Gforce_clean                     float64\n",
              "dtype: object"
            ]
          },
          "metadata": {},
          "execution_count": 5
        }
      ]
    },
    {
      "cell_type": "markdown",
      "source": [
        "In order to know how to handle the missing values in each column, it is imperative that each of their data types are known as categorical columns should only be imputed with their mode while it is preferable to impute numerical columns with their mean or median value."
      ],
      "metadata": {
        "id": "Ehsr4nivaHxv"
      }
    },
    {
      "cell_type": "code",
      "source": [
        "#initializing arrays to store numerical and categorical columns with missing values\n",
        "missing_num_c = []\n",
        "missing_cat_c = []"
      ],
      "metadata": {
        "id": "Qkkj1hnocX4F"
      },
      "execution_count": 6,
      "outputs": []
    },
    {
      "cell_type": "code",
      "source": [
        "for c in coaster_df.columns:\n",
        "  if (coaster_df[c].isna().sum() > 0):\n",
        "    if (coaster_df[c].dtypes != \"object\"):\n",
        "      missing_num_c.append(c)\n",
        "    else:\n",
        "      missing_cat_c.append(c)\n",
        "print(\"Numerical columns with missing values:\", missing_num_c)\n",
        "print(\"Categorical columns with missing values:\", missing_cat_c)"
      ],
      "metadata": {
        "colab": {
          "base_uri": "https://localhost:8080/"
        },
        "id": "T6wfO3jMaiF2",
        "outputId": "9d10383d-5995-46f7-fc52-b93a500786e4"
      },
      "execution_count": 7,
      "outputs": [
        {
          "output_type": "stream",
          "name": "stdout",
          "text": [
            "Numerical columns with missing values: ['Inversions', 'latitude', 'longitude', 'speed1_value', 'speed_mph', 'height_value', 'height_ft', 'Gforce_clean']\n",
            "Categorical columns with missing values: ['Length', 'Speed', 'Status', 'Opening date', 'Manufacturer', 'Height restriction', 'Model', 'Height', 'Lift/launch system', 'Cost', 'Trains', 'Park section', 'Duration', 'Capacity', 'G-force', 'Designer', 'Max vertical angle', 'Drop', 'Soft opening date', 'Fast Lane available', 'Replaced', 'Track layout', 'Fastrack available', 'Soft opening date.1', 'Closing date', 'Opened', 'Replaced by', 'Website', 'Flash Pass Available', 'Must transfer from wheelchair', 'Theme', 'Single rider line available', 'Restraint Style', 'Flash Pass available', 'Acceleration', 'Restraints', 'Name', 'opening_date_clean', 'speed1', 'speed2', 'speed1_unit', 'height_unit']\n"
          ]
        }
      ]
    },
    {
      "cell_type": "markdown",
      "source": [
        "Since it was determined that the only data types other than \"object\" this dataset are \"int64\" and \"float64\", the numerical and categorical columns can be easily seperated into different arrays by iterating through all the columns with a for loop and append the current column to the categorical array if the data type is object or in the numerical array if it is not."
      ],
      "metadata": {
        "id": "7ajmpRnmdyW7"
      }
    },
    {
      "cell_type": "code",
      "source": [
        "# Compute the mean of each numerical column and impute them in their respective column\n",
        "for c in missing_num_c:\n",
        "  median = coaster_df[c].median()\n",
        "  print(\"Imputing\", c, \"column with value:\", median)\n",
        "  coaster_df[c].fillna(median, inplace=True)"
      ],
      "metadata": {
        "colab": {
          "base_uri": "https://localhost:8080/"
        },
        "id": "TRejxAz2ecU5",
        "outputId": "cae28fa9-82cb-4b06-941d-dceea30adbf0"
      },
      "execution_count": 13,
      "outputs": [
        {
          "output_type": "stream",
          "name": "stdout",
          "text": [
            "Imputing Inversions column with value: 0.0\n",
            "Imputing latitude column with value: 40.2898\n",
            "Imputing longitude column with value: -76.6536\n",
            "Imputing speed1_value column with value: 50.0\n",
            "Imputing speed_mph column with value: 49.7\n",
            "Imputing height_value column with value: 79.0\n",
            "Imputing height_ft column with value: 91.2\n",
            "Imputing Gforce_clean column with value: 4.0\n"
          ]
        }
      ]
    },
    {
      "cell_type": "markdown",
      "source": [
        "Each column in the array containing the numerical columns with missing values is iterated through, where their respective median value is calculated using the pandas median() function as contrarily to the numpy median() function, the pandas equivalent does not take into account missing values when computing the median value. Said median value is then imputed into its respective column at each row with missing values using the pandas fillna() function."
      ],
      "metadata": {
        "id": "W7lRa4dP0hNX"
      }
    },
    {
      "cell_type": "code",
      "source": [
        "# Compute the mode of each categorical column and impute them in their respective column\n",
        "for c in missing_cat_c:\n",
        "  mode = coaster_df[c].mode().values[0]\n",
        "  print(\"Imputing\", c, \"column with value:\", mode)\n",
        "  coaster_df[c].fillna(mode, inplace = True)"
      ],
      "metadata": {
        "colab": {
          "base_uri": "https://localhost:8080/"
        },
        "id": "tWO2u1gD3VmX",
        "outputId": "444df8b9-c233-43b2-fdd3-f9aee07f0b2d"
      },
      "execution_count": 14,
      "outputs": [
        {
          "output_type": "stream",
          "name": "stdout",
          "text": [
            "Imputing Length column with value: 935 ft (285 m)\n",
            "Imputing Speed column with value: 50 mph (80 km/h)\n",
            "Imputing Status column with value: Operating\n",
            "Imputing Opening date column with value: 1972\n",
            "Imputing Manufacturer column with value: Vekoma\n",
            "Imputing Height restriction column with value: 48 in (122 cm)\n",
            "Imputing Model column with value: Boomerang\n",
            "Imputing Height column with value: 70 ft (21 m)\n",
            "Imputing Lift/launch system column with value: Chain lift hill\n",
            "Imputing Cost column with value: $10 million\n",
            "Imputing Trains column with value: 2 trains with 6 cars. Riders are arranged 2 across in 2 rows for a total of 24 riders per train.\n",
            "Imputing Park section column with value: Planet Snoopy\n",
            "Imputing Duration column with value: 1:30\n",
            "Imputing Capacity column with value: 1200 riders per hour\n",
            "Imputing G-force column with value: 4\n",
            "Imputing Designer column with value: Werner Stengel\n",
            "Imputing Max vertical angle column with value: 90°\n",
            "Imputing Drop column with value: 100 ft (30 m)\n",
            "Imputing Soft opening date column with value: April 29, 2005\n",
            "Imputing Fast Lane available column with value: Fast Lane available\n",
            "Imputing Replaced column with value: Mine Train Through Nature's Wonderland\n",
            "Imputing Track layout column with value: Twister\n",
            "Imputing Fastrack available column with value: Fastrack available\n",
            "Imputing Soft opening date.1 column with value: April 29, 2005\n",
            "Imputing Closing date column with value: September 16, 2007\n",
            "Imputing Opened column with value: 1895\n",
            "Imputing Replaced by column with value: The Joker\n",
            "Imputing Website column with value: Official website\n",
            "Imputing Flash Pass Available column with value: Flash Pass Available\n",
            "Imputing Must transfer from wheelchair column with value: Must transfer from wheelchair\n",
            "Imputing Theme column with value: Toy Story\n",
            "Imputing Single rider line available column with value: Single rider line available\n",
            "Imputing Restraint Style column with value: Over-the-shoulder\n",
            "Imputing Flash Pass available column with value: Flash Pass available\n",
            "Imputing Acceleration column with value: 0 to 40 mph (0 to 64 km/h) in 3 seconds\n",
            "Imputing Restraints column with value: Single Lap Bar\n",
            "Imputing Name column with value: Das große LEGO-Rennen\n",
            "Imputing opening_date_clean column with value: 1999-01-01\n",
            "Imputing speed1 column with value: 50 mph \n",
            "Imputing speed2 column with value: 80 km/h\n",
            "Imputing speed1_unit column with value: mph\n",
            "Imputing height_unit column with value: ft\n"
          ]
        }
      ]
    },
    {
      "cell_type": "markdown",
      "source": [
        "The mode of each categorical column with missing values is calculated using the pandas mode() function and said mode value is then imputed in its respective column using the pandas fillna() function."
      ],
      "metadata": {
        "id": "-Ijz4u4_48hU"
      }
    },
    {
      "cell_type": "code",
      "source": [
        "# Checking for missing values after data imputation\n",
        "print(coaster_df.isna().sum())"
      ],
      "metadata": {
        "colab": {
          "base_uri": "https://localhost:8080/"
        },
        "id": "54QSw8Kq5P-H",
        "outputId": "f0aa2545-25a2-4527-98ee-1e8f4622eca9"
      },
      "execution_count": 15,
      "outputs": [
        {
          "output_type": "stream",
          "name": "stdout",
          "text": [
            "coaster_name                     0\n",
            "Length                           0\n",
            "Speed                            0\n",
            "Location                         0\n",
            "Status                           0\n",
            "Opening date                     0\n",
            "Type                             0\n",
            "Manufacturer                     0\n",
            "Height restriction               0\n",
            "Model                            0\n",
            "Height                           0\n",
            "Inversions                       0\n",
            "Lift/launch system               0\n",
            "Cost                             0\n",
            "Trains                           0\n",
            "Park section                     0\n",
            "Duration                         0\n",
            "Capacity                         0\n",
            "G-force                          0\n",
            "Designer                         0\n",
            "Max vertical angle               0\n",
            "Drop                             0\n",
            "Soft opening date                0\n",
            "Fast Lane available              0\n",
            "Replaced                         0\n",
            "Track layout                     0\n",
            "Fastrack available               0\n",
            "Soft opening date.1              0\n",
            "Closing date                     0\n",
            "Opened                           0\n",
            "Replaced by                      0\n",
            "Website                          0\n",
            "Flash Pass Available             0\n",
            "Must transfer from wheelchair    0\n",
            "Theme                            0\n",
            "Single rider line available      0\n",
            "Restraint Style                  0\n",
            "Flash Pass available             0\n",
            "Acceleration                     0\n",
            "Restraints                       0\n",
            "Name                             0\n",
            "year_introduced                  0\n",
            "latitude                         0\n",
            "longitude                        0\n",
            "Type_Main                        0\n",
            "opening_date_clean               0\n",
            "speed1                           0\n",
            "speed2                           0\n",
            "speed1_value                     0\n",
            "speed1_unit                      0\n",
            "speed_mph                        0\n",
            "height_value                     0\n",
            "height_unit                      0\n",
            "height_ft                        0\n",
            "Inversions_clean                 0\n",
            "Gforce_clean                     0\n",
            "dtype: int64\n"
          ]
        }
      ]
    },
    {
      "cell_type": "markdown",
      "source": [
        "As shown in the output above, there are no more missing values after imputing the numerical and categorical columns with their respective median and mode values."
      ],
      "metadata": {
        "id": "t24OcJ9g5b_D"
      }
    },
    {
      "cell_type": "markdown",
      "source": [
        "# **3. Historical Analysis**"
      ],
      "metadata": {
        "id": "LOEeURIr5mne"
      }
    },
    {
      "cell_type": "code",
      "source": [
        "# Determining number of coasters built before 1900\n",
        "count = len(coaster_df[coaster_df[\"year_introduced\"] < 1900])\n",
        "print(\"Number of roller coaster built before 1900: \", count)"
      ],
      "metadata": {
        "colab": {
          "base_uri": "https://localhost:8080/"
        },
        "id": "cZ7SQDSv5tO_",
        "outputId": "6ab0abd1-af4c-4e27-bbc3-97f57df50191"
      },
      "execution_count": 16,
      "outputs": [
        {
          "output_type": "stream",
          "name": "stdout",
          "text": [
            "Number of roller coaster built before 1900:  3\n"
          ]
        }
      ]
    },
    {
      "cell_type": "markdown",
      "source": [
        "A combination of the len() function and boolean indexing was used to determining the number of roller coasters built before 1900 as shown in the output above."
      ],
      "metadata": {
        "id": "rVemtQl190HJ"
      }
    },
    {
      "cell_type": "markdown",
      "source": [
        "# **4. Manufacturer Analysis.**"
      ],
      "metadata": {
        "id": "fG6TZdE3-A8M"
      }
    },
    {
      "cell_type": "code",
      "source": [
        "# Identify the manufacturer who has built the most roller coaster\n",
        "print(\"Number of roller coaster built per manufacturer:\")\n",
        "print(coaster_df[\"Manufacturer\"].value_counts())"
      ],
      "metadata": {
        "colab": {
          "base_uri": "https://localhost:8080/"
        },
        "id": "AoIcpb5o-IIr",
        "outputId": "10818b27-38a8-4528-a57c-b5b7a46967e7"
      },
      "execution_count": 17,
      "outputs": [
        {
          "output_type": "stream",
          "name": "stdout",
          "text": [
            "Number of roller coaster built per manufacturer:\n",
            "Vekoma                              194\n",
            "Bolliger & Mabillard                119\n",
            "Intamin                              99\n",
            "Mack Rides                           62\n",
            "Arrow Dynamics                       54\n",
            "                                   ... \n",
            "BHS                                   1\n",
            "British Rail Engineering Limited      1\n",
            "Bailey Rides, Inc.                    1\n",
            "Preston & Barbieri                    1\n",
            "Gravitykraft Corporation              1\n",
            "Name: Manufacturer, Length: 102, dtype: int64\n"
          ]
        }
      ]
    },
    {
      "cell_type": "markdown",
      "source": [
        "Using the value_counts() function, the instance of each manufacturer in the dataset can be counted, hence the number of roller coasters built by each manufacturer can be determined.\n",
        "\n",
        "From the output above, it can be observed that Vekoma has built the most roller coasters with a count of 194."
      ],
      "metadata": {
        "id": "_IQODZnf-68s"
      }
    },
    {
      "cell_type": "markdown",
      "source": [
        "# **5. Speed and Duration Analysis.**"
      ],
      "metadata": {
        "id": "-TKlxzkX_Xm2"
      }
    },
    {
      "cell_type": "code",
      "source": [
        "# Filtering out operating roller coasters\n",
        "operating_coasters = coaster_df[coaster_df[\"Status\"] == \"Operating\"]\n",
        "# Calculate the average speed and longest duration among operating roller coasters\n",
        "avg_speed = np.mean(operating_coasters[\"speed1_value\"])\n",
        "max_duration = np.max(operating_coasters[\"Duration\"])\n",
        "print(\"Average speed of operating roller coasters: %.2fmph\" %avg_speed)\n",
        "print(\"Longest duration of operating roller coasters:\", max_duration)"
      ],
      "metadata": {
        "colab": {
          "base_uri": "https://localhost:8080/"
        },
        "id": "XMQmlv-g_fM_",
        "outputId": "82b7cee3-f40c-4224-ed48-cccf2e678126"
      },
      "execution_count": 18,
      "outputs": [
        {
          "output_type": "stream",
          "name": "stdout",
          "text": [
            "Average speed of operating roller coasters: 53.30mph\n",
            "Longest duration of operating roller coasters: ~3:00\n"
          ]
        }
      ]
    },
    {
      "cell_type": "markdown",
      "source": [
        "In order to determine which roller coasters were still operating, the condition of whether their Status was equal to \"Operating\" was used and those data rows were then stored in the variable \"operating_coasters\". Using the numpy mean() function, the average speed of the operating roller coasters was calculated and the longest duration of the same set of roller coasters was determined using then numpy max() function."
      ],
      "metadata": {
        "id": "MOHEqnw6C8uP"
      }
    },
    {
      "cell_type": "markdown",
      "source": [
        "# **6. Data Exploration**"
      ],
      "metadata": {
        "id": "Mdxs0iV1DlbL"
      }
    },
    {
      "cell_type": "code",
      "source": [
        "# Getting unique number of inversions\n",
        "print(\"Different number of inversions:\")\n",
        "print(coaster_df[\"Inversions_clean\"].value_counts())"
      ],
      "metadata": {
        "colab": {
          "base_uri": "https://localhost:8080/"
        },
        "id": "S-7VeLCjDtyc",
        "outputId": "a14a225b-f4a0-4a28-ac0c-e6f3783776c1"
      },
      "execution_count": 19,
      "outputs": [
        {
          "output_type": "stream",
          "name": "stdout",
          "text": [
            "Different number of inversions:\n",
            "0     665\n",
            "3     100\n",
            "2      89\n",
            "5      63\n",
            "1      62\n",
            "4      52\n",
            "6      31\n",
            "7      18\n",
            "8       3\n",
            "10      2\n",
            "14      1\n",
            "9       1\n",
            "Name: Inversions_clean, dtype: int64\n"
          ]
        }
      ]
    },
    {
      "cell_type": "code",
      "source": [
        "# Getting number of roller coaster types\n",
        "print(\"Different number of roller coaster type:\")\n",
        "print(coaster_df[\"Type_Main\"].value_counts())"
      ],
      "metadata": {
        "colab": {
          "base_uri": "https://localhost:8080/"
        },
        "id": "7cBwhAO2l3QN",
        "outputId": "5973ee36-6efa-4ad6-e8bd-7a9c1e0683a7"
      },
      "execution_count": 20,
      "outputs": [
        {
          "output_type": "stream",
          "name": "stdout",
          "text": [
            "Different number of roller coaster type:\n",
            "Steel    816\n",
            "Wood     198\n",
            "Other     73\n",
            "Name: Type_Main, dtype: int64\n"
          ]
        }
      ]
    },
    {
      "cell_type": "markdown",
      "source": [
        "As shown above, the pandas value_counts() function was used to compute the number of each different Inversion amount and type of roller coaster in the \"Inversion\" and \"Type_Main\" columns respectively."
      ],
      "metadata": {
        "id": "rjoIZbh7IsiV"
      }
    },
    {
      "cell_type": "code",
      "source": [
        "coaster_copy = pd.read_csv(\"/content/coaster_db.csv\")\n",
        "coaster_copy.head()"
      ],
      "metadata": {
        "colab": {
          "base_uri": "https://localhost:8080/",
          "height": 473
        },
        "id": "QGHaqxJRKAxU",
        "outputId": "37d555e5-ff29-409f-8f5d-8d816cff7367"
      },
      "execution_count": 21,
      "outputs": [
        {
          "output_type": "execute_result",
          "data": {
            "text/plain": [
              "                             coaster_name          Length             Speed  \\\n",
              "0                      Switchback Railway  600 ft (180 m)  6 mph (9.7 km/h)   \n",
              "1                       Flip Flap Railway             NaN               NaN   \n",
              "2  Switchback Railway (Euclid Beach Park)             NaN               NaN   \n",
              "3            Loop the Loop (Coney Island)             NaN               NaN   \n",
              "4            Loop the Loop (Young's Pier)             NaN               NaN   \n",
              "\n",
              "                         Location   Status   Opening date   Type  \\\n",
              "0                    Coney Island  Removed  June 16, 1884   Wood   \n",
              "1                   Sea Lion Park  Removed           1895   Wood   \n",
              "2  Cleveland, Ohio, United States   Closed            NaN  Other   \n",
              "3                           Other  Removed           1901  Steel   \n",
              "4                           Other  Removed           1901  Steel   \n",
              "\n",
              "             Manufacturer Height restriction        Model  ...  speed1  \\\n",
              "0  LaMarcus Adna Thompson                NaN  Lift Packed  ...  6 mph    \n",
              "1            Lina Beecher                NaN          NaN  ...     NaN   \n",
              "2                     NaN                NaN          NaN  ...     NaN   \n",
              "3          Edwin Prescott                NaN          NaN  ...     NaN   \n",
              "4          Edwin Prescott                NaN          NaN  ...     NaN   \n",
              "\n",
              "     speed2 speed1_value speed1_unit speed_mph height_value height_unit  \\\n",
              "0  9.7 km/h          6.0         mph       6.0         50.0          ft   \n",
              "1       NaN          NaN         NaN       NaN          NaN         NaN   \n",
              "2       NaN          NaN         NaN       NaN          NaN         NaN   \n",
              "3       NaN          NaN         NaN       NaN          NaN         NaN   \n",
              "4       NaN          NaN         NaN       NaN          NaN         NaN   \n",
              "\n",
              "  height_ft Inversions_clean Gforce_clean  \n",
              "0       NaN                0          2.9  \n",
              "1       NaN                1         12.0  \n",
              "2       NaN                0          NaN  \n",
              "3       NaN                1          NaN  \n",
              "4       NaN                1          NaN  \n",
              "\n",
              "[5 rows x 56 columns]"
            ],
            "text/html": [
              "\n",
              "  <div id=\"df-3024ca1e-df3a-44bf-bb8b-2af3ea2f664d\">\n",
              "    <div class=\"colab-df-container\">\n",
              "      <div>\n",
              "<style scoped>\n",
              "    .dataframe tbody tr th:only-of-type {\n",
              "        vertical-align: middle;\n",
              "    }\n",
              "\n",
              "    .dataframe tbody tr th {\n",
              "        vertical-align: top;\n",
              "    }\n",
              "\n",
              "    .dataframe thead th {\n",
              "        text-align: right;\n",
              "    }\n",
              "</style>\n",
              "<table border=\"1\" class=\"dataframe\">\n",
              "  <thead>\n",
              "    <tr style=\"text-align: right;\">\n",
              "      <th></th>\n",
              "      <th>coaster_name</th>\n",
              "      <th>Length</th>\n",
              "      <th>Speed</th>\n",
              "      <th>Location</th>\n",
              "      <th>Status</th>\n",
              "      <th>Opening date</th>\n",
              "      <th>Type</th>\n",
              "      <th>Manufacturer</th>\n",
              "      <th>Height restriction</th>\n",
              "      <th>Model</th>\n",
              "      <th>...</th>\n",
              "      <th>speed1</th>\n",
              "      <th>speed2</th>\n",
              "      <th>speed1_value</th>\n",
              "      <th>speed1_unit</th>\n",
              "      <th>speed_mph</th>\n",
              "      <th>height_value</th>\n",
              "      <th>height_unit</th>\n",
              "      <th>height_ft</th>\n",
              "      <th>Inversions_clean</th>\n",
              "      <th>Gforce_clean</th>\n",
              "    </tr>\n",
              "  </thead>\n",
              "  <tbody>\n",
              "    <tr>\n",
              "      <th>0</th>\n",
              "      <td>Switchback Railway</td>\n",
              "      <td>600 ft (180 m)</td>\n",
              "      <td>6 mph (9.7 km/h)</td>\n",
              "      <td>Coney Island</td>\n",
              "      <td>Removed</td>\n",
              "      <td>June 16, 1884</td>\n",
              "      <td>Wood</td>\n",
              "      <td>LaMarcus Adna Thompson</td>\n",
              "      <td>NaN</td>\n",
              "      <td>Lift Packed</td>\n",
              "      <td>...</td>\n",
              "      <td>6 mph</td>\n",
              "      <td>9.7 km/h</td>\n",
              "      <td>6.0</td>\n",
              "      <td>mph</td>\n",
              "      <td>6.0</td>\n",
              "      <td>50.0</td>\n",
              "      <td>ft</td>\n",
              "      <td>NaN</td>\n",
              "      <td>0</td>\n",
              "      <td>2.9</td>\n",
              "    </tr>\n",
              "    <tr>\n",
              "      <th>1</th>\n",
              "      <td>Flip Flap Railway</td>\n",
              "      <td>NaN</td>\n",
              "      <td>NaN</td>\n",
              "      <td>Sea Lion Park</td>\n",
              "      <td>Removed</td>\n",
              "      <td>1895</td>\n",
              "      <td>Wood</td>\n",
              "      <td>Lina Beecher</td>\n",
              "      <td>NaN</td>\n",
              "      <td>NaN</td>\n",
              "      <td>...</td>\n",
              "      <td>NaN</td>\n",
              "      <td>NaN</td>\n",
              "      <td>NaN</td>\n",
              "      <td>NaN</td>\n",
              "      <td>NaN</td>\n",
              "      <td>NaN</td>\n",
              "      <td>NaN</td>\n",
              "      <td>NaN</td>\n",
              "      <td>1</td>\n",
              "      <td>12.0</td>\n",
              "    </tr>\n",
              "    <tr>\n",
              "      <th>2</th>\n",
              "      <td>Switchback Railway (Euclid Beach Park)</td>\n",
              "      <td>NaN</td>\n",
              "      <td>NaN</td>\n",
              "      <td>Cleveland, Ohio, United States</td>\n",
              "      <td>Closed</td>\n",
              "      <td>NaN</td>\n",
              "      <td>Other</td>\n",
              "      <td>NaN</td>\n",
              "      <td>NaN</td>\n",
              "      <td>NaN</td>\n",
              "      <td>...</td>\n",
              "      <td>NaN</td>\n",
              "      <td>NaN</td>\n",
              "      <td>NaN</td>\n",
              "      <td>NaN</td>\n",
              "      <td>NaN</td>\n",
              "      <td>NaN</td>\n",
              "      <td>NaN</td>\n",
              "      <td>NaN</td>\n",
              "      <td>0</td>\n",
              "      <td>NaN</td>\n",
              "    </tr>\n",
              "    <tr>\n",
              "      <th>3</th>\n",
              "      <td>Loop the Loop (Coney Island)</td>\n",
              "      <td>NaN</td>\n",
              "      <td>NaN</td>\n",
              "      <td>Other</td>\n",
              "      <td>Removed</td>\n",
              "      <td>1901</td>\n",
              "      <td>Steel</td>\n",
              "      <td>Edwin Prescott</td>\n",
              "      <td>NaN</td>\n",
              "      <td>NaN</td>\n",
              "      <td>...</td>\n",
              "      <td>NaN</td>\n",
              "      <td>NaN</td>\n",
              "      <td>NaN</td>\n",
              "      <td>NaN</td>\n",
              "      <td>NaN</td>\n",
              "      <td>NaN</td>\n",
              "      <td>NaN</td>\n",
              "      <td>NaN</td>\n",
              "      <td>1</td>\n",
              "      <td>NaN</td>\n",
              "    </tr>\n",
              "    <tr>\n",
              "      <th>4</th>\n",
              "      <td>Loop the Loop (Young's Pier)</td>\n",
              "      <td>NaN</td>\n",
              "      <td>NaN</td>\n",
              "      <td>Other</td>\n",
              "      <td>Removed</td>\n",
              "      <td>1901</td>\n",
              "      <td>Steel</td>\n",
              "      <td>Edwin Prescott</td>\n",
              "      <td>NaN</td>\n",
              "      <td>NaN</td>\n",
              "      <td>...</td>\n",
              "      <td>NaN</td>\n",
              "      <td>NaN</td>\n",
              "      <td>NaN</td>\n",
              "      <td>NaN</td>\n",
              "      <td>NaN</td>\n",
              "      <td>NaN</td>\n",
              "      <td>NaN</td>\n",
              "      <td>NaN</td>\n",
              "      <td>1</td>\n",
              "      <td>NaN</td>\n",
              "    </tr>\n",
              "  </tbody>\n",
              "</table>\n",
              "<p>5 rows × 56 columns</p>\n",
              "</div>\n",
              "      <button class=\"colab-df-convert\" onclick=\"convertToInteractive('df-3024ca1e-df3a-44bf-bb8b-2af3ea2f664d')\"\n",
              "              title=\"Convert this dataframe to an interactive table.\"\n",
              "              style=\"display:none;\">\n",
              "        \n",
              "  <svg xmlns=\"http://www.w3.org/2000/svg\" height=\"24px\"viewBox=\"0 0 24 24\"\n",
              "       width=\"24px\">\n",
              "    <path d=\"M0 0h24v24H0V0z\" fill=\"none\"/>\n",
              "    <path d=\"M18.56 5.44l.94 2.06.94-2.06 2.06-.94-2.06-.94-.94-2.06-.94 2.06-2.06.94zm-11 1L8.5 8.5l.94-2.06 2.06-.94-2.06-.94L8.5 2.5l-.94 2.06-2.06.94zm10 10l.94 2.06.94-2.06 2.06-.94-2.06-.94-.94-2.06-.94 2.06-2.06.94z\"/><path d=\"M17.41 7.96l-1.37-1.37c-.4-.4-.92-.59-1.43-.59-.52 0-1.04.2-1.43.59L10.3 9.45l-7.72 7.72c-.78.78-.78 2.05 0 2.83L4 21.41c.39.39.9.59 1.41.59.51 0 1.02-.2 1.41-.59l7.78-7.78 2.81-2.81c.8-.78.8-2.07 0-2.86zM5.41 20L4 18.59l7.72-7.72 1.47 1.35L5.41 20z\"/>\n",
              "  </svg>\n",
              "      </button>\n",
              "      \n",
              "  <style>\n",
              "    .colab-df-container {\n",
              "      display:flex;\n",
              "      flex-wrap:wrap;\n",
              "      gap: 12px;\n",
              "    }\n",
              "\n",
              "    .colab-df-convert {\n",
              "      background-color: #E8F0FE;\n",
              "      border: none;\n",
              "      border-radius: 50%;\n",
              "      cursor: pointer;\n",
              "      display: none;\n",
              "      fill: #1967D2;\n",
              "      height: 32px;\n",
              "      padding: 0 0 0 0;\n",
              "      width: 32px;\n",
              "    }\n",
              "\n",
              "    .colab-df-convert:hover {\n",
              "      background-color: #E2EBFA;\n",
              "      box-shadow: 0px 1px 2px rgba(60, 64, 67, 0.3), 0px 1px 3px 1px rgba(60, 64, 67, 0.15);\n",
              "      fill: #174EA6;\n",
              "    }\n",
              "\n",
              "    [theme=dark] .colab-df-convert {\n",
              "      background-color: #3B4455;\n",
              "      fill: #D2E3FC;\n",
              "    }\n",
              "\n",
              "    [theme=dark] .colab-df-convert:hover {\n",
              "      background-color: #434B5C;\n",
              "      box-shadow: 0px 1px 3px 1px rgba(0, 0, 0, 0.15);\n",
              "      filter: drop-shadow(0px 1px 2px rgba(0, 0, 0, 0.3));\n",
              "      fill: #FFFFFF;\n",
              "    }\n",
              "  </style>\n",
              "\n",
              "      <script>\n",
              "        const buttonEl =\n",
              "          document.querySelector('#df-3024ca1e-df3a-44bf-bb8b-2af3ea2f664d button.colab-df-convert');\n",
              "        buttonEl.style.display =\n",
              "          google.colab.kernel.accessAllowed ? 'block' : 'none';\n",
              "\n",
              "        async function convertToInteractive(key) {\n",
              "          const element = document.querySelector('#df-3024ca1e-df3a-44bf-bb8b-2af3ea2f664d');\n",
              "          const dataTable =\n",
              "            await google.colab.kernel.invokeFunction('convertToInteractive',\n",
              "                                                     [key], {});\n",
              "          if (!dataTable) return;\n",
              "\n",
              "          const docLinkHtml = 'Like what you see? Visit the ' +\n",
              "            '<a target=\"_blank\" href=https://colab.research.google.com/notebooks/data_table.ipynb>data table notebook</a>'\n",
              "            + ' to learn more about interactive tables.';\n",
              "          element.innerHTML = '';\n",
              "          dataTable['output_type'] = 'display_data';\n",
              "          await google.colab.output.renderOutput(dataTable, element);\n",
              "          const docLink = document.createElement('div');\n",
              "          docLink.innerHTML = docLinkHtml;\n",
              "          element.appendChild(docLink);\n",
              "        }\n",
              "      </script>\n",
              "    </div>\n",
              "  </div>\n",
              "  "
            ]
          },
          "metadata": {},
          "execution_count": 21
        }
      ]
    },
    {
      "cell_type": "markdown",
      "source": [
        "A copy of the original dataset is made by importing coaster_db.csv file once more using the pandas read_csv() method and storing it in \"coaster_copy\". \n",
        "\n",
        "A copy is made for analysis purposes as with the data imputation previously performed on the dataframe, using an unnedited dataset would provide a more accurate analysis for the availibility of features as it cannot be determined whether the missing values for those optional features such as soft opening dates and fast lane access were actually dirty data or were meant to indicate a lack of said feature."
      ],
      "metadata": {
        "id": "nAn9lYrzGSyh"
      }
    },
    {
      "cell_type": "code",
      "source": [
        "# Getting availability of features\n",
        "# soft opening dates\n",
        "soft_opening_num = coaster_copy[\"Soft opening date\"].count()\n",
        "print(\"Number of roller coasters with soft opening dates:\", soft_opening_num)"
      ],
      "metadata": {
        "colab": {
          "base_uri": "https://localhost:8080/"
        },
        "id": "GSj4EPUnnnAC",
        "outputId": "ef3b97d6-bdd4-44c2-c3f1-799c7b96e184"
      },
      "execution_count": 22,
      "outputs": [
        {
          "output_type": "stream",
          "name": "stdout",
          "text": [
            "Number of roller coasters with soft opening dates: 96\n"
          ]
        }
      ]
    },
    {
      "cell_type": "code",
      "source": [
        "# Number of roller coasters with fast lane access\n",
        "fast_lane_num = coaster_copy[\"Fast Lane available\"].count()\n",
        "print(\"Number of roller coasters with fast lane access:\", fast_lane_num)"
      ],
      "metadata": {
        "colab": {
          "base_uri": "https://localhost:8080/"
        },
        "id": "JPRWy0yIKTLu",
        "outputId": "dfdafe9d-f32b-4a2f-e3f2-6ae244218d36"
      },
      "execution_count": 23,
      "outputs": [
        {
          "output_type": "stream",
          "name": "stdout",
          "text": [
            "Number of roller coasters with fast lane access: 69\n"
          ]
        }
      ]
    },
    {
      "cell_type": "code",
      "source": [
        "# Number of roller coasters with Single rider line\n",
        "single_line_num = coaster_copy[\"Single rider line available\"].count()\n",
        "print(\"Number of roller coasters with single rider lines:\", single_line_num)"
      ],
      "metadata": {
        "colab": {
          "base_uri": "https://localhost:8080/"
        },
        "id": "EM80kPTzKr1u",
        "outputId": "1e39d486-12f7-44e1-892c-7bb102198c77"
      },
      "execution_count": 24,
      "outputs": [
        {
          "output_type": "stream",
          "name": "stdout",
          "text": [
            "Number of roller coasters with single rider lines: 81\n"
          ]
        }
      ]
    },
    {
      "cell_type": "markdown",
      "source": [
        "Assuming that the missing values in those the \"Soft opening date\", \"Fast Lane available\", \"Single rider line available\" columns indicate a lack of those features, the pandas count() function can be used to get the number of non-null values in those columns and hence get the number of roller coasters with soft opening dates, fast lane access and single rider lines."
      ],
      "metadata": {
        "id": "P1onf-C_NCBz"
      }
    },
    {
      "cell_type": "markdown",
      "source": [
        "# **7. Data Completeness.**"
      ],
      "metadata": {
        "id": "hJTWSxMEN8EL"
      }
    },
    {
      "cell_type": "markdown",
      "source": [
        "As shown in section \"2. Data Cleaning\", all the columns with missing values each had more than 100 missing values, hence dropping said rows is not recommended as it would affect the sample size of the dataset, thus consequently negatively affect the accuracy of any machine learning model using said dataset.\n",
        "\n",
        "As an alternative method to handle those missing values, data imputation using the median for numerical columns and mode for categorical columns was performed."
      ],
      "metadata": {
        "id": "k3uRg9xXONaY"
      }
    },
    {
      "cell_type": "markdown",
      "source": [
        "# **8. Data Visualization.**"
      ],
      "metadata": {
        "id": "XNgMkSxSPHLC"
      }
    },
    {
      "cell_type": "code",
      "source": [
        "# Visualize Inversions, Type_Main, Soft opening date, Fast Lane available \n",
        "#and Single rider line available columns\n",
        "\n",
        "# Create the figure and axes objects\n",
        "fig, axes = plt.subplots(nrows=2, ncols=3)\n",
        "\n",
        "# pLot Inversions column pie chart\n",
        "axes[0,0].pie(coaster_df[\"Inversions_clean\"].value_counts().values, \n",
        "              labels = coaster_df[\"Inversions_clean\"].unique())\n",
        "axes[0,0].set_title(\"Inversions Pie Chart\", fontsize = 10)\n",
        "\n",
        "# pLot Type_Main column pie chart\n",
        "axes[0,1].pie(coaster_df[\"Type_Main\"].value_counts().values, \n",
        "              labels = coaster_df[\"Type_Main\"].unique())\n",
        "axes[0,1].set_title(\"Type Pie Chart\", fontsize = 10)\n",
        "\n",
        "# pLot Soft opening date column bar chart\n",
        "values = [coaster_copy[\"Soft opening date\"].count(), \n",
        "          coaster_copy[\"Soft opening date\"].isna().sum()]\n",
        "labels = [\"Yes\", \"No\"]\n",
        "axes[1,0].bar(labels, values)\n",
        "axes[1,0].set_title(\"Soft Opening date Availability\", fontsize = 10)\n",
        "\n",
        "# pLot Fast Lane available column bar chart\n",
        "values = [coaster_copy[\"Fast Lane available\"].count(), \n",
        "          coaster_copy[\"Fast Lane available\"].isna().sum()]\n",
        "axes[1,1].bar(labels, values)\n",
        "axes[1,1].set_title(\"Fast Lane Access Availability\", fontsize = 10)\n",
        "\n",
        "# pLot Single rider line available column bar chart\n",
        "values = [coaster_copy[\"Single rider line available\"].count(), \n",
        "          coaster_copy[\"Single rider line available\"].isna().sum()]\n",
        "axes[1,2].bar(labels, values)\n",
        "axes[1,2].set_title(\"Single Rider Line Availability\", fontsize = 10)\n",
        "\n",
        "plt.tight_layout()\n",
        "plt.show()\n"
      ],
      "metadata": {
        "colab": {
          "base_uri": "https://localhost:8080/",
          "height": 484
        },
        "id": "IDaoAoQYXh-Q",
        "outputId": "22e4c4cb-3b13-4024-8e6c-6165fd480343"
      },
      "execution_count": 25,
      "outputs": [
        {
          "output_type": "display_data",
          "data": {
            "text/plain": [
              "<Figure size 640x480 with 6 Axes>"
            ],
            "image/png": "[encoded data removed]"
          },
          "metadata": {}
        }
      ]
    },
    {
      "cell_type": "markdown",
      "source": [
        "In order to visualize the key findings from the data exploration, the matplotlib subplots() function is first used to create a collection of graph, with 2 rows of graphs and 3 graphs on each row.\n",
        "\n",
        "The matplotlib pie() function is then used to create a pie chart for the \"Inversions_clean\" and \"Type_Main\" columns at the specified positions in the subplots, e.g. axes[0,0] for the 1st position on the 1st row. The matplotlib bar() function was then used to create bar charts for the \"Soft opening date\", \"Fast Lane available\" and \"Single rider line available\" columns. The matplotlib tight_layout() function is used to set the spacing between the graphs and the show() function is used to display all the graphs."
      ],
      "metadata": {
        "id": "mvEHOjdzZdR0"
      }
    },
    {
      "cell_type": "markdown",
      "source": [
        "# **9. Conclusion and Recommendation**"
      ],
      "metadata": {
        "id": "gg6q-O5vbntV"
      }
    },
    {
      "cell_type": "markdown",
      "source": [
        "From the analysis conducted on the coaster_db dataset, it can be concluded that this dataset is very much unsuitable as a basis for the park's management to make any decision as out of the 56 columns of said dataset, only 6 of them do not contain missing values and for those that do, the count of null values range from about 100 to 1000, where the maximum count almost makes up for the total number of rows in the dataset. \n",
        "\n",
        "Additionally, the dataset contains multiple instances of redundant/duplicate columns such as \"Soft opening date\" and \"Soft opening date.1\" or \"Opening Date\", \"Opened\" and \"opening_date_clean\", where the latter set of columns all serve the same purpose of indicating the date where the roller coaster opened but each columns contains different values. In addtion to the inconsistent naming conventions of columns, this redundancy causes confusion and makes the data analysis process much more complicated. Furthermore, the format of the data is inconsistent in some columns such as \"Duration\" where some values are in the format <x min y seconds> and others in the format <#.##>\n",
        "\n",
        "In conclusion, it is recommended to not refer to this specific dataset for decision making purposes as it contains too much redundancy and missing values to be a reliable source of information about the park's roller coasters. "
      ],
      "metadata": {
        "id": "9VXkGlWofdbX"
      }
    }
  ]
}
{
  "nbformat": 4,
  "nbformat_minor": 0,
  "metadata": {
    "colab": {
      "provenance": []
    },
    "kernelspec": {
      "name": "python3",
      "display_name": "Python 3"
    },
    "language_info": {
      "name": "python"
    }
  },
  "cells": [
    {
      "cell_type": "markdown",
      "source": [
        "# **Question 1: Data Pre-processing**"
      ],
      "metadata": {
        "id": "40I6kCseaLej"
      }
    },
    {
      "cell_type": "markdown",
      "source": [
        "## **1a) Loading the dataset**"
      ],
      "metadata": {
        "id": "CxU9udyJacmV"
      }
    },
    {
      "cell_type": "code",
      "execution_count": 1,
      "metadata": {
        "id": "DovQgP6haER2"
      },
      "outputs": [],
      "source": [
        "# Implement line wrapping\n",
        "from IPython.display import HTML, display\n",
        "def set_css():\n",
        "  display(HTML('''\n",
        "  <Style>\n",
        "    pre{\n",
        "      white-space: pre-wrapped;\n",
        "    }\n",
        "  </Style>\n",
        "  '''))\n",
        "get_ipython().events.register('pre_run_cell', set_css)"
      ]
    },
    {
      "cell_type": "code",
      "source": [
        "# Load dataset\n",
        "import pandas as pd\n",
        "DATA_DIR_1 = \"/content/CPA.csv\"\n",
        "cpa_df = pd.read_csv(DATA_DIR_1, header = 0)"
      ],
      "metadata": {
        "id": "ND3xm-pUb3yh",
        "colab": {
          "base_uri": "https://localhost:8080/",
          "height": 17
        },
        "outputId": "4b1df58b-5b0d-4903-f9ff-afbcfe5414ca"
      },
      "execution_count": 2,
      "outputs": [
        {
          "output_type": "display_data",
          "data": {
            "text/plain": [
              "<IPython.core.display.HTML object>"
            ],
            "text/html": [
              "\n",
              "  <Style>\n",
              "    pre{\n",
              "      white-space: pre-wrapped;\n",
              "    }\n",
              "  </Style>\n",
              "  "
            ]
          },
          "metadata": {}
        }
      ]
    },
    {
      "cell_type": "markdown",
      "source": [
        "Using the pandas library and its read_csv() function, the CPA dataset has been loaded, converted to a data frame and stored in **cpa_df**."
      ],
      "metadata": {
        "id": "H1rFI_q0gAKv"
      }
    },
    {
      "cell_type": "markdown",
      "source": [
        "## **1b) Importing libraries**"
      ],
      "metadata": {
        "id": "4jU1TsxIgWap"
      }
    },
    {
      "cell_type": "code",
      "source": [
        "# importing libraries\n",
        "import numpy as np\n",
        "import matplotlib.pyplot as plt\n",
        "from sklearn.preprocessing import LabelEncoder"
      ],
      "metadata": {
        "colab": {
          "base_uri": "https://localhost:8080/",
          "height": 17
        },
        "id": "J1Lnor5nga_e",
        "outputId": "f1a2791d-4667-4604-e5b8-7b49d54f0fe8"
      },
      "execution_count": 3,
      "outputs": [
        {
          "output_type": "display_data",
          "data": {
            "text/plain": [
              "<IPython.core.display.HTML object>"
            ],
            "text/html": [
              "\n",
              "  <Style>\n",
              "    pre{\n",
              "      white-space: pre-wrapped;\n",
              "    }\n",
              "  </Style>\n",
              "  "
            ]
          },
          "metadata": {}
        }
      ]
    },
    {
      "cell_type": "markdown",
      "source": [
        "Section 1a) shows the importation of the pandas library for the storage, manipulation and analysis of the dataset.\n",
        "\n",
        "Section 1b) displays the importation of the numpy, the pyplot package from matplotlib and LabelEncoder libraries to perform scientific calculations and data visualization as charts and label encoding respectively."
      ],
      "metadata": {
        "id": "O5kEBhfJg_TY"
      }
    },
    {
      "cell_type": "markdown",
      "source": [
        "# **Question 2: Identifying the number of columns by type.**"
      ],
      "metadata": {
        "id": "b78m0gHvlLGu"
      }
    },
    {
      "cell_type": "code",
      "source": [
        "from pandas.core.indexes.numeric import is_numeric_dtype\n",
        "from pandas.core.arrays import categorical\n",
        "# Finding out the number of numerical, discrete, categorical, continuous and binary columns\n",
        "numerical = 0\n",
        "discrete = 0\n",
        "continuous = 0\n",
        "categorical = 0\n",
        "binary = 0\n",
        "#iterate through each column\n",
        "for column in cpa_df:\n",
        "  if(not is_numeric_dtype(cpa_df[column])):\n",
        "    categorical += 1\n",
        "  match cpa_df[column].dtype:\n",
        "    case \"int\": \n",
        "      numerical += 1\n",
        "      discrete += 1\n",
        "    case \"float\": \n",
        "      numerical += 1\n",
        "      continuous += 1\n",
        "  if (len(cpa_df[column].unique()) == 2):\n",
        "    binary += 1\n",
        "print(\"\\nNumber of columns per type:-\")\n",
        "print(\"Numerical: %d\" %numerical)\n",
        "print(\"Discrete: %d\" %discrete)\n",
        "print(\"Continuous: %d\" %continuous)\n",
        "print(\"Categorical: %d\" %categorical)\n",
        "print(\"Binary: %d\" %binary)"
      ],
      "metadata": {
        "colab": {
          "base_uri": "https://localhost:8080/",
          "height": 138
        },
        "id": "yRV89N7Nld27",
        "outputId": "60946db3-af27-46ed-f8c6-771b0a41ef93"
      },
      "execution_count": 4,
      "outputs": [
        {
          "output_type": "display_data",
          "data": {
            "text/plain": [
              "<IPython.core.display.HTML object>"
            ],
            "text/html": [
              "\n",
              "  <Style>\n",
              "    pre{\n",
              "      white-space: pre-wrapped;\n",
              "    }\n",
              "  </Style>\n",
              "  "
            ]
          },
          "metadata": {}
        },
        {
          "output_type": "stream",
          "name": "stdout",
          "text": [
            "\n",
            "Number of columns per type:-\n",
            "Numerical: 26\n",
            "Discrete: 23\n",
            "Continuous: 3\n",
            "Categorical: 3\n",
            "Binary: 7\n"
          ]
        }
      ]
    },
    {
      "cell_type": "markdown",
      "source": [
        "The number of column of each type can be determined by iterating through each column using a for loop and check the column's datatype or amount of unique values by using if or match statements. The followings describes the condition to be recognised as that specific type and its respective number of columns:\n",
        "\n",
        "* Numerical (int or float data type): **26**\n",
        "* Discrete (int data type): **23**\n",
        "* Continuous (float data type): **3**\n",
        "* Categorical (object data type): **3**\n",
        "* Binary (contains exactly 2 unique values): **7**\n"
      ],
      "metadata": {
        "id": "u-VN_tAtuefV"
      }
    },
    {
      "cell_type": "markdown",
      "source": [
        "# **Question 3: Handling Missing Values**"
      ],
      "metadata": {
        "id": "Vxq4eQcNwuYZ"
      }
    },
    {
      "cell_type": "markdown",
      "source": [
        "## **Step 1: Find the number of missing values in each column**"
      ],
      "metadata": {
        "id": "1H8Z2vGJw-Qa"
      }
    },
    {
      "cell_type": "code",
      "source": [
        "# Output the number of missing values per column\n",
        "print(cpa_df.isna().sum())"
      ],
      "metadata": {
        "colab": {
          "base_uri": "https://localhost:8080/",
          "height": 538
        },
        "id": "5WT-ptNDwmoF",
        "outputId": "622da44c-3e3b-42f5-8be9-2b0c2b9e858f"
      },
      "execution_count": 5,
      "outputs": [
        {
          "output_type": "display_data",
          "data": {
            "text/plain": [
              "<IPython.core.display.HTML object>"
            ],
            "text/html": [
              "\n",
              "  <Style>\n",
              "    pre{\n",
              "      white-space: pre-wrapped;\n",
              "    }\n",
              "  </Style>\n",
              "  "
            ]
          },
          "metadata": {}
        },
        {
          "output_type": "stream",
          "name": "stdout",
          "text": [
            "ID                      0\n",
            "Year_Birth              0\n",
            "Education               0\n",
            "Marital_Status         22\n",
            "Income                 24\n",
            "Kidhome                 0\n",
            "Teenhome                0\n",
            "Dt_Customer             0\n",
            "Recency                 0\n",
            "MntWines                0\n",
            "MntFruits               0\n",
            "MntMeatProducts         0\n",
            "MntFishProducts         0\n",
            "MntSweetProducts        0\n",
            "MntGoldProds            0\n",
            "NumDealsPurchases      14\n",
            "NumWebPurchases        15\n",
            "NumCatalogPurchases     0\n",
            "NumStorePurchases       0\n",
            "NumWebVisitsMonth       0\n",
            "AcceptedCmp3            0\n",
            "AcceptedCmp4            0\n",
            "AcceptedCmp5            0\n",
            "AcceptedCmp1            0\n",
            "AcceptedCmp2            0\n",
            "Complain                0\n",
            "Z_CostContact           0\n",
            "Z_Revenue               0\n",
            "Response                0\n",
            "dtype: int64\n"
          ]
        }
      ]
    },
    {
      "cell_type": "markdown",
      "source": [
        "The number of missing values per column are found using the isna() and sum() functions. As shown in the output above, there are 4 columns with missing values, namely\n",
        "\n",
        "* Marital_Status: **22** missing values\n",
        "* Income: **22** missing values\n",
        "* NumDealsPurchases: **14** missing values\n",
        "* NumWebPurchases: **15** missing values"
      ],
      "metadata": {
        "id": "OxTnP-ckxkz5"
      }
    },
    {
      "cell_type": "markdown",
      "source": [
        "## **Step 2: Calculate a value for each column for data imputation.**"
      ],
      "metadata": {
        "id": "zzU1psjlcFJX"
      }
    },
    {
      "cell_type": "code",
      "source": [
        "# Calculate mode of Marital Status column.\n",
        "marital_mode = cpa_df.Marital_Status.mode()[0]\n",
        "print(\"Marital_Status Mode:\", marital_mode)\n",
        "# Calculate the mean of Income, NumDealsPurchases, NumWebPurchases\n",
        "mean_columns = [\"Income\", \"NumDealsPurchases\", \"NumWebPurchases\"]\n",
        "mean_income = mean_dealsP = mean_webP = i = 0\n",
        "mean_values = [mean_income, mean_dealsP, mean_webP]\n",
        "for c in mean_columns:\n",
        "  mean_values[i] = cpa_df[c].mean()\n",
        "  print(\"%s mean: %.2f\" %(c, mean_values[i]))\n",
        "  i += 1"
      ],
      "metadata": {
        "id": "eXqenOqecjgy",
        "colab": {
          "base_uri": "https://localhost:8080/",
          "height": 86
        },
        "outputId": "61aaa3d5-b12c-4d70-f2b5-18fdf4e1cde1"
      },
      "execution_count": 6,
      "outputs": [
        {
          "output_type": "display_data",
          "data": {
            "text/plain": [
              "<IPython.core.display.HTML object>"
            ],
            "text/html": [
              "\n",
              "  <Style>\n",
              "    pre{\n",
              "      white-space: pre-wrapped;\n",
              "    }\n",
              "  </Style>\n",
              "  "
            ]
          },
          "metadata": {}
        },
        {
          "output_type": "stream",
          "name": "stdout",
          "text": [
            "Marital_Status Mode: Married\n",
            "Income mean: 52247.25\n",
            "NumDealsPurchases mean: 2.32\n",
            "NumWebPurchases mean: 4.08\n"
          ]
        }
      ]
    },
    {
      "cell_type": "markdown",
      "source": [
        "In order to resolve the missing values issue, other values can be used to replace said missing values. The mode has been calcuated for the Marital_Status column since it is a categorical column and since any among mean, mode or median can be used for numerical columns, the mean has been calculated for Income, NumDealsPurchases and NumWebPurchases."
      ],
      "metadata": {
        "id": "z10yiqD9fjgv"
      }
    },
    {
      "cell_type": "markdown",
      "source": [
        "## **Step 3: Data Imputation**"
      ],
      "metadata": {
        "id": "Dsrn6W8sgLOv"
      }
    },
    {
      "cell_type": "code",
      "source": [
        "# Replace the missing values of Marital_StaTus with its mode\n",
        "cpa_df[\"Marital_Status\"].fillna(marital_mode, inplace = True)\n",
        "print(\"Replacing missing values with %s in Marital_Status column\" %marital_mode)\n",
        "i = 0\n",
        "# Replace the missing values of Income, NumDealsPurchases and NumWebPurchases \n",
        "# with their mean\n",
        "for c in mean_columns:\n",
        "  cpa_df[c].fillna(mean_values[i], inplace = True)\n",
        "  print(\"Replacing missing values with %.2f in %s column\" %(mean_values[i], c))\n",
        "  i += 1"
      ],
      "metadata": {
        "colab": {
          "base_uri": "https://localhost:8080/",
          "height": 86
        },
        "id": "zhsRw56mgRTF",
        "outputId": "a0d6a6c1-d6cf-431a-b9d1-1e4652f5890c"
      },
      "execution_count": 7,
      "outputs": [
        {
          "output_type": "display_data",
          "data": {
            "text/plain": [
              "<IPython.core.display.HTML object>"
            ],
            "text/html": [
              "\n",
              "  <Style>\n",
              "    pre{\n",
              "      white-space: pre-wrapped;\n",
              "    }\n",
              "  </Style>\n",
              "  "
            ]
          },
          "metadata": {}
        },
        {
          "output_type": "stream",
          "name": "stdout",
          "text": [
            "Replacing missing values with Married in Marital_Status column\n",
            "Replacing missing values with 52247.25 in Income column\n",
            "Replacing missing values with 2.32 in NumDealsPurchases column\n",
            "Replacing missing values with 4.08 in NumWebPurchases column\n"
          ]
        }
      ]
    },
    {
      "cell_type": "markdown",
      "source": [
        "Using the fillna() method, each column has been imputed with their respective replacement value."
      ],
      "metadata": {
        "id": "Ak1J_GfkkUJy"
      }
    },
    {
      "cell_type": "markdown",
      "source": [
        "## **Step 4: Verify that all missing values have been handled**"
      ],
      "metadata": {
        "id": "V4qyEca4ko_j"
      }
    },
    {
      "cell_type": "code",
      "source": [
        "print(cpa_df.isna().sum())"
      ],
      "metadata": {
        "colab": {
          "base_uri": "https://localhost:8080/",
          "height": 538
        },
        "id": "jyU70KTokvVJ",
        "outputId": "f45dc9c8-6d6e-43ae-eb7f-7f17ab5d05a5"
      },
      "execution_count": 8,
      "outputs": [
        {
          "output_type": "display_data",
          "data": {
            "text/plain": [
              "<IPython.core.display.HTML object>"
            ],
            "text/html": [
              "\n",
              "  <Style>\n",
              "    pre{\n",
              "      white-space: pre-wrapped;\n",
              "    }\n",
              "  </Style>\n",
              "  "
            ]
          },
          "metadata": {}
        },
        {
          "output_type": "stream",
          "name": "stdout",
          "text": [
            "ID                     0\n",
            "Year_Birth             0\n",
            "Education              0\n",
            "Marital_Status         0\n",
            "Income                 0\n",
            "Kidhome                0\n",
            "Teenhome               0\n",
            "Dt_Customer            0\n",
            "Recency                0\n",
            "MntWines               0\n",
            "MntFruits              0\n",
            "MntMeatProducts        0\n",
            "MntFishProducts        0\n",
            "MntSweetProducts       0\n",
            "MntGoldProds           0\n",
            "NumDealsPurchases      0\n",
            "NumWebPurchases        0\n",
            "NumCatalogPurchases    0\n",
            "NumStorePurchases      0\n",
            "NumWebVisitsMonth      0\n",
            "AcceptedCmp3           0\n",
            "AcceptedCmp4           0\n",
            "AcceptedCmp5           0\n",
            "AcceptedCmp1           0\n",
            "AcceptedCmp2           0\n",
            "Complain               0\n",
            "Z_CostContact          0\n",
            "Z_Revenue              0\n",
            "Response               0\n",
            "dtype: int64\n"
          ]
        }
      ]
    },
    {
      "cell_type": "markdown",
      "source": [
        "As shown in the output above, there are no missing values in any of the columns, hence all missing values have been handled."
      ],
      "metadata": {
        "id": "zhGEMIVnljZU"
      }
    },
    {
      "cell_type": "markdown",
      "source": [
        "# **Question 4: Is encoding required for this dataset?**"
      ],
      "metadata": {
        "id": "grUTlr-8zB-y"
      }
    },
    {
      "cell_type": "markdown",
      "source": [
        "Yes, encoding is required as CPA.csv contains categorical data columns, as shown in section \"Question 2\". Some machine learning algoritms cannot process categorical or text data properly, hence said data are converted to a processable form i.e. numerical data, using encoding."
      ],
      "metadata": {
        "id": "jZ_2JeDWzayZ"
      }
    },
    {
      "cell_type": "markdown",
      "source": [
        "For this CPA.csv dataset, we can use label encoding to convert the Education, Marital_Status and Dt_Customer data to numerical data.."
      ],
      "metadata": {
        "id": "QpLgT99W6Jso"
      }
    },
    {
      "cell_type": "code",
      "source": [
        "# Show categorical data before encoding\n",
        "print(\"Pre encoding data:\\n\")\n",
        "print(cpa_df.Education.head())\n",
        "print(cpa_df.Marital_Status.head())\n",
        "print(cpa_df.Dt_Customer.head())\n",
        "# Instantiate label encoder\n",
        "lab = LabelEncoder()\n",
        "# perform label encoding on Education, Marital_Status and Dt_Customer columns\n",
        "cpa_df.Education = lab.fit_transform(cpa_df.Education)\n",
        "cpa_df.Marital_Status = lab.fit_transform(cpa_df.Marital_Status)\n",
        "cpa_df.Dt_Customer = lab.fit_transform(cpa_df.Dt_Customer)\n",
        "# show data after label encoding\n",
        "print(\"\\nPost encoding data:\\n\")\n",
        "print(cpa_df.Education.head())\n",
        "print(cpa_df.Marital_Status.head())\n",
        "print(cpa_df.Dt_Customer.head())\n"
      ],
      "metadata": {
        "colab": {
          "base_uri": "https://localhost:8080/",
          "height": 728
        },
        "id": "UjLuxtUr6mXv",
        "outputId": "1d213f1f-78be-4f25-9bcb-abc22e2ab9c5"
      },
      "execution_count": 9,
      "outputs": [
        {
          "output_type": "display_data",
          "data": {
            "text/plain": [
              "<IPython.core.display.HTML object>"
            ],
            "text/html": [
              "\n",
              "  <Style>\n",
              "    pre{\n",
              "      white-space: pre-wrapped;\n",
              "    }\n",
              "  </Style>\n",
              "  "
            ]
          },
          "metadata": {}
        },
        {
          "output_type": "stream",
          "name": "stdout",
          "text": [
            "Pre encoding data:\n",
            "\n",
            "0    Graduation\n",
            "1    Graduation\n",
            "2    Graduation\n",
            "3    Graduation\n",
            "4           PhD\n",
            "Name: Education, dtype: object\n",
            "0      Single\n",
            "1      Single\n",
            "2    Together\n",
            "3    Together\n",
            "4     Married\n",
            "Name: Marital_Status, dtype: object\n",
            "0    04/09/2012\n",
            "1    08/03/2014\n",
            "2    21/08/2013\n",
            "3    10/02/2014\n",
            "4    19/01/2014\n",
            "Name: Dt_Customer, dtype: object\n",
            "\n",
            "Post encoding data:\n",
            "\n",
            "0    2\n",
            "1    2\n",
            "2    2\n",
            "3    2\n",
            "4    4\n",
            "Name: Education, dtype: int64\n",
            "0    4\n",
            "1    4\n",
            "2    5\n",
            "3    5\n",
            "4    3\n",
            "Name: Marital_Status, dtype: int64\n",
            "0     80\n",
            "1    157\n",
            "2    444\n",
            "3    199\n",
            "4    390\n",
            "Name: Dt_Customer, dtype: int64\n"
          ]
        }
      ]
    },
    {
      "cell_type": "markdown",
      "source": [
        "As shown in output above, the categorical data from Education, Marital_Status and Dt_Customer columns were converted to numerical values using the fit_transform() method of the LabEncoder() instance, namely \"lab\"."
      ],
      "metadata": {
        "id": "JhWpJI6FXb6l"
      }
    },
    {
      "cell_type": "markdown",
      "source": [
        "# **Question 5: Perform EDA and Visualize the Education and Marital_Status columns.**"
      ],
      "metadata": {
        "id": "L4Mj6O9oa4id"
      }
    },
    {
      "cell_type": "code",
      "source": [
        "# Find Interquartile range of Education and Marital_Status column\n",
        "cur_columns = [\"Education\", \"Marital_Status\"]\n",
        "for c in cur_columns:\n",
        "    Q1 = cpa_df[c].quantile(0.25)\n",
        "    Q3 = cpa_df[c].quantile(0.75)\n",
        "    IQR = Q3 - Q1\n",
        "    print(\"%s Inter-quartile range: %.2f\" %(c, IQR))\n",
        "    # Calculate Lower and Upper fences\n",
        "    lf = Q1 - (1.5 * IQR)\n",
        "    uf = Q3 + (1.5 * IQR)\n",
        "    median = cpa_df[c].median()\n",
        "    print(\"%s Lower fence: %.2f \" %(c, lf))\n",
        "    print(\"%s Upper fence: %.2f \" %(c, uf))\n",
        "    print(\"%s Q1: %.2f \" %(c, Q1))\n",
        "    print(\"%s Q3: %.2f \" %(c, Q3))\n",
        "    print(\"%s Median: %.2f \" %(c, median))\n",
        "    print(\"%s Outliers: \" %c)\n",
        "    print(cpa_df[((cpa_df[c] < lf) | (cpa_df[c] > uf))])\n",
        "    print()"
      ],
      "metadata": {
        "colab": {
          "base_uri": "https://localhost:8080/",
          "height": 1000
        },
        "id": "6NvKNuhNbVRp",
        "outputId": "464bfd76-334d-40a7-abf1-b2ba432e5c24"
      },
      "execution_count": 10,
      "outputs": [
        {
          "output_type": "display_data",
          "data": {
            "text/plain": [
              "<IPython.core.display.HTML object>"
            ],
            "text/html": [
              "\n",
              "  <Style>\n",
              "    pre{\n",
              "      white-space: pre-wrapped;\n",
              "    }\n",
              "  </Style>\n",
              "  "
            ]
          },
          "metadata": {}
        },
        {
          "output_type": "stream",
          "name": "stdout",
          "text": [
            "Education Inter-quartile range: 1.00\n",
            "Education Lower fence: 0.50 \n",
            "Education Upper fence: 4.50 \n",
            "Education Q1: 2.00 \n",
            "Education Q3: 3.00 \n",
            "Education Median: 2.00 \n",
            "Education Outliers: \n",
            "         ID  Year_Birth  Education  Marital_Status        Income  Kidhome  \\\n",
            "19     2278        1985          0               4  33812.000000        1   \n",
            "37    10755        1976          0               3  23718.000000        1   \n",
            "46     9909        1996          0               3   7500.000000        0   \n",
            "67     9369        1979          0               4  88194.000000        0   \n",
            "71    10629        1973          0               3  52247.251354        1   \n",
            "...     ...         ...        ...             ...           ...      ...   \n",
            "2193   8722        1957          0               3  82347.000000        0   \n",
            "2210    607        1955          0               2  41769.000000        0   \n",
            "2213   3661        1995          0               4  80617.000000        0   \n",
            "2222  10659        1979          0               5   7500.000000        1   \n",
            "2228   8720        1978          0               5  52247.251354        0   \n",
            "\n",
            "      Teenhome  Dt_Customer  Recency  MntWines  ...  NumWebVisitsMonth  \\\n",
            "19           0           62       86         4  ...                  6   \n",
            "37           0           38       76         6  ...                  7   \n",
            "46           0          192       24         3  ...                  9   \n",
            "67           1          394       19       688  ...                  5   \n",
            "71           0          296       25        25  ...                  8   \n",
            "...        ...          ...      ...       ...  ...                ...   \n",
            "2193         0          128       38       556  ...                  3   \n",
            "2210         1          265       31       302  ...                  8   \n",
            "2213         0          257       42       594  ...                  2   \n",
            "2222         0          140        7         2  ...                  7   \n",
            "2228         0          253       53        32  ...                  0   \n",
            "\n",
            "      AcceptedCmp3  AcceptedCmp4  AcceptedCmp5  AcceptedCmp1  AcceptedCmp2  \\\n",
            "19               0             0             0             0             0   \n",
            "37               0             0             0             0             0   \n",
            "46               0             0             0             0             0   \n",
            "67               1             0             0             1             0   \n",
            "71               0             0             0             0             0   \n",
            "...            ...           ...           ...           ...           ...   \n",
            "2193             1             0             0             1             0   \n",
            "2210             0             0             0             0             0   \n",
            "2213             0             0             0             0             0   \n",
            "2222             0             0             0             0             0   \n",
            "2228             0             1             0             0             0   \n",
            "\n",
            "      Complain  Z_CostContact  Z_Revenue  Response  \n",
            "19           0              3         11         0  \n",
            "37           0              3         11         0  \n",
            "46           0              3         11         1  \n",
            "67           0              3         11         1  \n",
            "71           0              3         11         0  \n",
            "...        ...            ...        ...       ...  \n",
            "2193         0              3         11         1  \n",
            "2210         0              3         11         0  \n",
            "2213         0              3         11         0  \n",
            "2222         0              3         11         0  \n",
            "2228         0              3         11         0  \n",
            "\n",
            "[203 rows x 29 columns]\n",
            "\n",
            "Marital_Status Inter-quartile range: 2.00\n",
            "Marital_Status Lower fence: 0.00 \n",
            "Marital_Status Upper fence: 8.00 \n",
            "Marital_Status Q1: 3.00 \n",
            "Marital_Status Q3: 5.00 \n",
            "Marital_Status Median: 4.00 \n",
            "Marital_Status Outliers: \n",
            "Empty DataFrame\n",
            "Columns: [ID, Year_Birth, Education, Marital_Status, Income, Kidhome, Teenhome, Dt_Customer, Recency, MntWines, MntFruits, MntMeatProducts, MntFishProducts, MntSweetProducts, MntGoldProds, NumDealsPurchases, NumWebPurchases, NumCatalogPurchases, NumStorePurchases, NumWebVisitsMonth, AcceptedCmp3, AcceptedCmp4, AcceptedCmp5, AcceptedCmp1, AcceptedCmp2, Complain, Z_CostContact, Z_Revenue, Response]\n",
            "Index: []\n",
            "\n",
            "[0 rows x 29 columns]\n",
            "\n"
          ]
        }
      ]
    },
    {
      "cell_type": "markdown",
      "source": [
        "As shown in the output provided above, the quantiles of both Education and Marital_Status were calculated using the quantile() function and those values were then used to calculate the inter-quartile in range and consequently the lower and upper fences. Using said fences, the outliers of each column can be identified.\n",
        "\n",
        "The condition of any value in Education and Marital_Status being lower/greater than their lower/upper fences respectively is used to output the outliers of each of those 2 columns. \n",
        "\n",
        "As shown above, education contains outliers but on the other hand, an empty data frame was outputted for the Marital_Status column's outlier variable, meaning that there is no outlier."
      ],
      "metadata": {
        "id": "wQ2ZbefQDrY6"
      }
    },
    {
      "cell_type": "code",
      "source": [
        "# Visualize Education and Marital_Status columns\n",
        "plt.boxplot(cpa_df[\"Education\"])"
      ],
      "metadata": {
        "colab": {
          "base_uri": "https://localhost:8080/",
          "height": 569
        },
        "id": "Uyr7vay2Tgo2",
        "outputId": "2d081377-ef3b-4c1e-eb12-1ddcfec952a6"
      },
      "execution_count": 11,
      "outputs": [
        {
          "output_type": "display_data",
          "data": {
            "text/plain": [
              "<IPython.core.display.HTML object>"
            ],
            "text/html": [
              "\n",
              "  <Style>\n",
              "    pre{\n",
              "      white-space: pre-wrapped;\n",
              "    }\n",
              "  </Style>\n",
              "  "
            ]
          },
          "metadata": {}
        },
        {
          "output_type": "execute_result",
          "data": {
            "text/plain": [
              "{'whiskers': [<matplotlib.lines.Line2D at 0x7fa8543477c0>,\n",
              "  <matplotlib.lines.Line2D at 0x7fa854347a60>],\n",
              " 'caps': [<matplotlib.lines.Line2D at 0x7fa854347d00>,\n",
              "  <matplotlib.lines.Line2D at 0x7fa854347fa0>],\n",
              " 'boxes': [<matplotlib.lines.Line2D at 0x7fa854347640>],\n",
              " 'medians': [<matplotlib.lines.Line2D at 0x7fa854198280>],\n",
              " 'fliers': [<matplotlib.lines.Line2D at 0x7fa854198520>],\n",
              " 'means': []}"
            ]
          },
          "metadata": {},
          "execution_count": 11
        },
        {
          "output_type": "display_data",
          "data": {
            "text/plain": [
              "<Figure size 640x480 with 1 Axes>"
            ],
            "image/png": "[encoded data removed]"
          },
          "metadata": {}
        }
      ]
    },
    {
      "cell_type": "markdown",
      "source": [
        "Further proved by the chart above, the whiskers are of equal length, hence the values are symmetrically distributed around the median but since the median is on the bottom edge of the box, this means that the distribution is positively skewed. It also be seen that the distribution contains outliers of the value 0.0 as shown by the dot below the lower whisker."
      ],
      "metadata": {
        "id": "lK05sAAM_qYP"
      }
    },
    {
      "cell_type": "code",
      "source": [
        "# Visualize Education and Marital_Status columns\n",
        "plt.boxplot(cpa_df[\"Marital_Status\"])"
      ],
      "metadata": {
        "colab": {
          "base_uri": "https://localhost:8080/",
          "height": 569
        },
        "id": "oS76no4K6HkK",
        "outputId": "262a838c-105b-45b8-e93f-5e5557383daa"
      },
      "execution_count": 24,
      "outputs": [
        {
          "output_type": "display_data",
          "data": {
            "text/plain": [
              "<IPython.core.display.HTML object>"
            ],
            "text/html": [
              "\n",
              "  <Style>\n",
              "    pre{\n",
              "      white-space: pre-wrapped;\n",
              "    }\n",
              "  </Style>\n",
              "  "
            ]
          },
          "metadata": {}
        },
        {
          "output_type": "execute_result",
          "data": {
            "text/plain": [
              "{'whiskers': [<matplotlib.lines.Line2D at 0x7ff986f3c1f0>,\n",
              "  <matplotlib.lines.Line2D at 0x7ff986f3c490>],\n",
              " 'caps': [<matplotlib.lines.Line2D at 0x7ff986f3c730>,\n",
              "  <matplotlib.lines.Line2D at 0x7ff986f3c9d0>],\n",
              " 'boxes': [<matplotlib.lines.Line2D at 0x7ff986f0bf10>],\n",
              " 'medians': [<matplotlib.lines.Line2D at 0x7ff986f3cc70>],\n",
              " 'fliers': [<matplotlib.lines.Line2D at 0x7ff986f3cf10>],\n",
              " 'means': []}"
            ]
          },
          "metadata": {},
          "execution_count": 24
        },
        {
          "output_type": "display_data",
          "data": {
            "text/plain": [
              "<Figure size 640x480 with 1 Axes>"
            ],
            "image/png": "[encoded data removed]"
          },
          "metadata": {}
        }
      ]
    },
    {
      "cell_type": "markdown",
      "source": [
        "As shown in the box plot above, the whiskers are of equal length, indicating a symmetrical data distribution around the median in the Marital_Status column and the median is also in the middle of the box, thus proving that the distribution is not skewed. Furthermore, there are no outliers in the Marital_Status column, proved by the absence of dots beyond the whiskers."
      ],
      "metadata": {
        "id": "OV_fh8jNDf_d"
      }
    },
    {
      "cell_type": "markdown",
      "source": [
        "# **Question 6**"
      ],
      "metadata": {
        "id": "0-ieWX24EKAy"
      }
    },
    {
      "cell_type": "markdown",
      "source": [
        "## **Scaling the dataset.**"
      ],
      "metadata": {
        "id": "kcAsEizklc0f"
      }
    },
    {
      "cell_type": "code",
      "source": [
        "# Scaling the dataset using Standard Scaler\n",
        "from sklearn import preprocessing\n",
        "std_scale = preprocessing.StandardScaler().fit_transform(cpa_df)\n",
        "scaled_frame = pd.DataFrame(std_scale, columns = cpa_df.columns)\n",
        "print(\"Scaled Dataset:\")\n",
        "print(scaled_frame.head())"
      ],
      "metadata": {
        "colab": {
          "base_uri": "https://localhost:8080/",
          "height": 538
        },
        "id": "Dou4sIRHlhQ-",
        "outputId": "efade49b-7cb2-4385-bfa1-7f1ccdb014bf"
      },
      "execution_count": 12,
      "outputs": [
        {
          "output_type": "display_data",
          "data": {
            "text/plain": [
              "<IPython.core.display.HTML object>"
            ],
            "text/html": [
              "\n",
              "  <Style>\n",
              "    pre{\n",
              "      white-space: pre-wrapped;\n",
              "    }\n",
              "  </Style>\n",
              "  "
            ]
          },
          "metadata": {}
        },
        {
          "output_type": "stream",
          "name": "stdout",
          "text": [
            "Scaled Dataset:\n",
            "         ID  Year_Birth  Education  Marital_Status    Income   Kidhome  \\\n",
            "0 -0.020999   -0.985345  -0.350141        0.257102  0.235327 -0.825218   \n",
            "1 -1.053058   -1.235733  -0.350141        0.257102 -0.235826  1.032559   \n",
            "2 -0.447070   -0.317643  -0.350141        1.190504  0.773633 -0.825218   \n",
            "3  0.181716    1.268149  -0.350141        1.190504 -1.022732  1.032559   \n",
            "4 -0.082614    1.017761   1.428354       -0.676300  0.241519  1.032559   \n",
            "\n",
            "   Teenhome  Dt_Customer   Recency  MntWines  ...  NumWebVisitsMonth  \\\n",
            "0 -0.929894    -1.303763  0.307039  0.983781  ...           0.693904   \n",
            "1  0.906934    -0.898762 -0.383664 -0.870479  ...          -0.130463   \n",
            "2 -0.929894     0.610786 -0.798086  0.362723  ...          -0.542647   \n",
            "3 -0.929894    -0.677853 -0.798086 -0.870479  ...           0.281720   \n",
            "4 -0.929894     0.326760  1.550305 -0.389085  ...          -0.130463   \n",
            "\n",
            "   AcceptedCmp3  AcceptedCmp4  AcceptedCmp5  AcceptedCmp1  AcceptedCmp2  \\\n",
            "0      -0.28014      -0.28383      -0.28014     -0.262111      -0.11651   \n",
            "1      -0.28014      -0.28383      -0.28014     -0.262111      -0.11651   \n",
            "2      -0.28014      -0.28383      -0.28014     -0.262111      -0.11651   \n",
            "3      -0.28014      -0.28383      -0.28014     -0.262111      -0.11651   \n",
            "4      -0.28014      -0.28383      -0.28014     -0.262111      -0.11651   \n",
            "\n",
            "   Complain  Z_CostContact  Z_Revenue  Response  \n",
            "0 -0.097282            0.0        0.0  2.388846  \n",
            "1 -0.097282            0.0        0.0 -0.418612  \n",
            "2 -0.097282            0.0        0.0 -0.418612  \n",
            "3 -0.097282            0.0        0.0 -0.418612  \n",
            "4 -0.097282            0.0        0.0 -0.418612  \n",
            "\n",
            "[5 rows x 29 columns]\n"
          ]
        }
      ]
    },
    {
      "cell_type": "markdown",
      "source": [
        "The dataset is scaled through the standard scaling method by using the StandardScaler() method and is transformed using the fit_transform() method. It can be observed in the output above that all column values have been scaled to the same range, thus preventing data dominance."
      ],
      "metadata": {
        "id": "gE7RU9otqmbk"
      }
    },
    {
      "cell_type": "markdown",
      "source": [
        "## **Splitting the dataset.**"
      ],
      "metadata": {
        "id": "oqO3LhJ7iFBD"
      }
    },
    {
      "cell_type": "code",
      "source": [
        "from sklearn.utils import shuffle\n",
        "from sklearn.model_selection import train_test_split\n",
        "# Shuffling rows \n",
        "df_shuffled = shuffle (cpa_df, random_state=42)\n",
        "# Setting the dependent variable\n",
        "DV = \"Response\"\n",
        "# Splitting the dataset into a 80/20 training and testing set respectively\n",
        "x = df_shuffled.drop (DV, axis=1) \n",
        "y = df_shuffled [DV] \n",
        "x_train, x_test, y_train, y_test = train_test_split (x, y, test_size=0.20, random_state=42)\n",
        "print(\"Features:\")\n",
        "print (x_train.head ())\n",
        "print(\"Outcome:\")\n",
        "print (y_train.head ())"
      ],
      "metadata": {
        "colab": {
          "base_uri": "https://localhost:8080/",
          "height": 659
        },
        "id": "xKAVgvwUiMOn",
        "outputId": "89ad0b12-a929-4370-a5a6-77c5d556784b"
      },
      "execution_count": 13,
      "outputs": [
        {
          "output_type": "display_data",
          "data": {
            "text/plain": [
              "<IPython.core.display.HTML object>"
            ],
            "text/html": [
              "\n",
              "  <Style>\n",
              "    pre{\n",
              "      white-space: pre-wrapped;\n",
              "    }\n",
              "  </Style>\n",
              "  "
            ]
          },
          "metadata": {}
        },
        {
          "output_type": "stream",
          "name": "stdout",
          "text": [
            "Features:\n",
            "         ID  Year_Birth  Education  Marital_Status   Income  Kidhome  \\\n",
            "1723   4686        1962          4               6  82571.0        0   \n",
            "691     143        1970          2               4  61209.0        0   \n",
            "79     1618        1965          2               5  56046.0        0   \n",
            "1735  10092        1954          2               2  70044.0        0   \n",
            "1045   5985        1965          3               4  33168.0        0   \n",
            "\n",
            "      Teenhome  Dt_Customer  Recency  MntWines  ...  NumStorePurchases  \\\n",
            "1723         0           29       28       861  ...                 13   \n",
            "691          0          534       73       466  ...                  4   \n",
            "79           0           22        9       577  ...                  8   \n",
            "1735         1          368       46      1073  ...                  5   \n",
            "1045         1          278        0        80  ...                  4   \n",
            "\n",
            "      NumWebVisitsMonth  AcceptedCmp3  AcceptedCmp4  AcceptedCmp5  \\\n",
            "1723                  2             0             0             1   \n",
            "691                   2             0             0             0   \n",
            "79                    8             1             0             0   \n",
            "1735                  5             0             0             0   \n",
            "1045                  7             0             0             0   \n",
            "\n",
            "      AcceptedCmp1  AcceptedCmp2  Complain  Z_CostContact  Z_Revenue  \n",
            "1723             0             0         0              3         11  \n",
            "691              0             0         0              3         11  \n",
            "79               0             0         0              3         11  \n",
            "1735             0             0         0              3         11  \n",
            "1045             0             0         0              3         11  \n",
            "\n",
            "[5 rows x 28 columns]\n",
            "Outcome:\n",
            "1723    0\n",
            "691     0\n",
            "79      1\n",
            "1735    0\n",
            "1045    0\n",
            "Name: Response, dtype: int64\n"
          ]
        }
      ]
    },
    {
      "cell_type": "markdown",
      "source": [
        "The dataset is first shuffled with the shuffle() function to avoid order related biasness and the shuffled dataset is stored as a seperate dataframe.\n",
        "\n",
        "The shuffled dataset is then split in a proportion of 80% for training and 20% for testing using the train_test_split() method, with the \"Response\" as dependent variable."
      ],
      "metadata": {
        "id": "aX43x7bBnXYK"
      }
    },
    {
      "cell_type": "markdown",
      "source": [
        "## **Model 1: Decision Tree**"
      ],
      "metadata": {
        "id": "7tv132aroSKQ"
      }
    },
    {
      "cell_type": "markdown",
      "source": [
        "### **Model Fitting and Training**"
      ],
      "metadata": {
        "id": "8QZE_o4h97Qj"
      }
    },
    {
      "cell_type": "code",
      "source": [
        "from sklearn.tree import DecisionTreeClassifier\n",
        "\n",
        "# Instantiating the decision tree model\n",
        "tree = DecisionTreeClassifier()\n",
        "# Fitting the data to the decision tree model\n",
        "tree.fit(x_train, y_train)\n",
        "# Make prediction\n",
        "train_set_pred = tree.predict(x_train)\n",
        "test_set_pred = tree.predict(x_test)"
      ],
      "metadata": {
        "colab": {
          "base_uri": "https://localhost:8080/",
          "height": 17
        },
        "id": "_feUnT-4oXmf",
        "outputId": "8f14daf0-2723-4156-fb93-15b719431e00"
      },
      "execution_count": 14,
      "outputs": [
        {
          "output_type": "display_data",
          "data": {
            "text/plain": [
              "<IPython.core.display.HTML object>"
            ],
            "text/html": [
              "\n",
              "  <Style>\n",
              "    pre{\n",
              "      white-space: pre-wrapped;\n",
              "    }\n",
              "  </Style>\n",
              "  "
            ]
          },
          "metadata": {}
        }
      ]
    },
    {
      "cell_type": "markdown",
      "source": [
        "As shown above, the DecisionTreeClassifier class was imported from the sci-kit learn library and both the features and outcome training sets were fit to the decision tree model using the fit() method. The training set predictions were then calculated using the predict() method."
      ],
      "metadata": {
        "id": "hi739Ih5_Y5t"
      }
    },
    {
      "cell_type": "markdown",
      "source": [
        "### **Model Analysis**"
      ],
      "metadata": {
        "id": "g3rfbJUM-ECL"
      }
    },
    {
      "cell_type": "code",
      "source": [
        "from sklearn.metrics import accuracy_score, precision_score, recall_score, f1_score\n",
        "from sklearn.metrics import confusion_matrix\n",
        "# Decision tree model performance metrics analysis\n",
        "print(\"DECISION TREE METRICS: \\n\")\n",
        "print('Confusion Matrix for test set:\\n', confusion_matrix(y_test, test_set_pred))\n",
        "print('Confusion Matrix for train set:\\n', confusion_matrix(y_train, train_set_pred))\n",
        "print('\\nAccuracy for test set: %0.4f' % accuracy_score(y_test, test_set_pred))\n",
        "print('Accuracy for train set: %0.4f\\n' % accuracy_score(y_train, train_set_pred))\n",
        "print('Precision for test set: %0.4f' % precision_score(y_test, test_set_pred))\n",
        "print('Precision for train set: %0.4f\\n' % precision_score(y_train, train_set_pred))\n",
        "print('Recall for test set: %0.4f' % recall_score(y_test, test_set_pred))\n",
        "print('Recall for train set: %0.4f\\n' % recall_score(y_train, train_set_pred))\n",
        "print('F1 for test set: %0.4f' % f1_score(y_test, test_set_pred))\n",
        "print('F1 for train set: %0.4f' % f1_score(y_train, train_set_pred))\n"
      ],
      "metadata": {
        "colab": {
          "base_uri": "https://localhost:8080/",
          "height": 364
        },
        "id": "lZfG_wOguki1",
        "outputId": "7f2eff57-2a97-4bb9-de72-29d6159dcf94"
      },
      "execution_count": 19,
      "outputs": [
        {
          "output_type": "display_data",
          "data": {
            "text/plain": [
              "<IPython.core.display.HTML object>"
            ],
            "text/html": [
              "\n",
              "  <Style>\n",
              "    pre{\n",
              "      white-space: pre-wrapped;\n",
              "    }\n",
              "  </Style>\n",
              "  "
            ]
          },
          "metadata": {}
        },
        {
          "output_type": "stream",
          "name": "stdout",
          "text": [
            "DECISION TREE METRICS: \n",
            "\n",
            "Confusion Matrix for test set:\n",
            " [[344  37]\n",
            " [ 37  30]]\n",
            "Confusion Matrix for train set:\n",
            " [[1525    0]\n",
            " [   0  267]]\n",
            "\n",
            "Accuracy for test set: 0.8348\n",
            "Accuracy for train set: 1.0000\n",
            "\n",
            "Precision for test set: 0.4478\n",
            "Precision for train set: 1.0000\n",
            "\n",
            "Recall for test set: 0.4478\n",
            "Recall for train set: 1.0000\n",
            "\n",
            "F1 for test set: 0.4478\n",
            "F1 for train set: 1.0000\n"
          ]
        }
      ]
    },
    {
      "cell_type": "markdown",
      "source": [
        "As shown above, the confusion_matrix(), accuracy_score(), precision(), recall_score() and f1_score() methods were imported from the sci-kit learn library. Those methods were then used to calculate their respective performance metric."
      ],
      "metadata": {
        "id": "3KVccQ69BjVR"
      }
    },
    {
      "cell_type": "markdown",
      "source": [
        "## **Model 2: Logistic Regression**"
      ],
      "metadata": {
        "id": "hZVqv5VKEpk0"
      }
    },
    {
      "cell_type": "markdown",
      "source": [
        "### **Model Fitting and Training**"
      ],
      "metadata": {
        "id": "ZnzKgSz9Ezmo"
      }
    },
    {
      "cell_type": "code",
      "source": [
        "from sklearn.linear_model import LogisticRegression\n",
        "# Instantiating Logistic Regression model\n",
        "LR_model = LogisticRegression()\n",
        "# Fitting training data set to the model\n",
        "LR_model.fit(x_train, y_train)\n",
        "# Make Predictions\n",
        "LR_train_set_pred = LR_model.predict(x_train)\n",
        "LR_test_set_pred = LR_model.predict(x_test)"
      ],
      "metadata": {
        "colab": {
          "base_uri": "https://localhost:8080/",
          "height": 156
        },
        "id": "TcZE5P0cE73C",
        "outputId": "509f93fa-2b68-4275-f9e2-c90c40ff1ce2"
      },
      "execution_count": 16,
      "outputs": [
        {
          "output_type": "display_data",
          "data": {
            "text/plain": [
              "<IPython.core.display.HTML object>"
            ],
            "text/html": [
              "\n",
              "  <Style>\n",
              "    pre{\n",
              "      white-space: pre-wrapped;\n",
              "    }\n",
              "  </Style>\n",
              "  "
            ]
          },
          "metadata": {}
        },
        {
          "output_type": "stream",
          "name": "stderr",
          "text": [
            "/usr/local/lib/python3.10/dist-packages/sklearn/linear_model/_logistic.py:458: ConvergenceWarning: lbfgs failed to converge (status=1):\n",
            "STOP: TOTAL NO. of ITERATIONS REACHED LIMIT.\n",
            "\n",
            "Increase the number of iterations (max_iter) or scale the data as shown in:\n",
            "    https://scikit-learn.org/stable/modules/preprocessing.html\n",
            "Please also refer to the documentation for alternative solver options:\n",
            "    https://scikit-learn.org/stable/modules/linear_model.html#logistic-regression\n",
            "  n_iter_i = _check_optimize_result(\n"
          ]
        }
      ]
    },
    {
      "cell_type": "markdown",
      "source": [
        "For the logistic regression model, the building and fitting process are the same as for the decision tree model, with the only exception that the LogisticRegrssion class is import from the sci-kit learn library and its instance is used to build the model."
      ],
      "metadata": {
        "id": "2poeZxX8Gys-"
      }
    },
    {
      "cell_type": "markdown",
      "source": [
        "### **Analysis**"
      ],
      "metadata": {
        "id": "l8BI0EEZHR_m"
      }
    },
    {
      "cell_type": "code",
      "source": [
        "# Logistic Regression model performance metrics analysis\n",
        "print(\"LOGISTIC REGRESSION METRICS: \\n\")\n",
        "print('Confusion Matrix for test set:\\n', confusion_matrix(y_test, LR_test_set_pred))\n",
        "print('Confusion Matrix for train set:\\n', confusion_matrix(y_train, LR_train_set_pred))\n",
        "print('\\nAccuracy for test set: %0.4f' % accuracy_score(y_test, LR_test_set_pred))\n",
        "print('Accuracy for train set: %0.4f\\n' % accuracy_score(y_train, LR_train_set_pred))\n",
        "print('Precision for test set: %0.4f' % precision_score(y_test, LR_test_set_pred))\n",
        "print('Precision for train set: %0.4f\\n' % precision_score(y_train, LR_train_set_pred))\n",
        "print('Recall for test set: %0.4f' % recall_score(y_test, LR_test_set_pred))\n",
        "print('Recall for train set: %0.4f\\n' % recall_score(y_train, LR_train_set_pred))\n",
        "print('F1 for test set: %0.4f' % f1_score(y_test, LR_test_set_pred))\n",
        "print('F1 for train set: %0.4f' % f1_score(y_train, LR_train_set_pred))"
      ],
      "metadata": {
        "colab": {
          "base_uri": "https://localhost:8080/",
          "height": 364
        },
        "id": "RcqMskotHRV-",
        "outputId": "f63cfec2-64a1-4194-f939-2109d0b54dbd"
      },
      "execution_count": 20,
      "outputs": [
        {
          "output_type": "display_data",
          "data": {
            "text/plain": [
              "<IPython.core.display.HTML object>"
            ],
            "text/html": [
              "\n",
              "  <Style>\n",
              "    pre{\n",
              "      white-space: pre-wrapped;\n",
              "    }\n",
              "  </Style>\n",
              "  "
            ]
          },
          "metadata": {}
        },
        {
          "output_type": "stream",
          "name": "stdout",
          "text": [
            "LOGISTIC REGRESSION METRICS: \n",
            "\n",
            "Confusion Matrix for test set:\n",
            " [[372   9]\n",
            " [ 54  13]]\n",
            "Confusion Matrix for train set:\n",
            " [[1496   29]\n",
            " [ 230   37]]\n",
            "\n",
            "Accuracy for test set: 0.8594\n",
            "Accuracy for train set: 0.8555\n",
            "\n",
            "Precision for test set: 0.5909\n",
            "Precision for train set: 0.5606\n",
            "\n",
            "Recall for test set: 0.1940\n",
            "Recall for train set: 0.1386\n",
            "\n",
            "F1 for test set: 0.2921\n",
            "F1 for train set: 0.2222\n"
          ]
        }
      ]
    },
    {
      "cell_type": "markdown",
      "source": [
        "Shown in the output above are the confusion matrix and performance metrics of the logistic regression model. The calculation was done in a similar fashion to that of the decision tree model."
      ],
      "metadata": {
        "id": "RvGu7ild3r74"
      }
    },
    {
      "cell_type": "markdown",
      "source": [
        "## **Model Comparison**"
      ],
      "metadata": {
        "id": "s0mVJenP3-2y"
      }
    },
    {
      "cell_type": "markdown",
      "source": [
        "while the decision tree model has a higher f1 and recall value for the test set and the logistic regression model has a better accuracy and precision value for the same test set, the accuracy and precision values' difference (0.0246 and 0.1431 respectively) is lesser than the the recall and f1 values' difference (0.2538 and 0.1557 respectively), thus we can conclude that the decision tree model is better due to its higher recall and f1 metric values and less significant difference for its lower metric compared to the logistic regression model.\n",
        "\n",
        "\n",
        "\n"
      ],
      "metadata": {
        "id": "Gw0GKyhe7K3D"
      }
    }
  ]
}